{
 "cells": [
  {
   "cell_type": "code",
   "execution_count": 1,
   "id": "c53ccd02-5651-40de-bb16-e22108c631c4",
   "metadata": {},
   "outputs": [],
   "source": [
    "import sys\n",
    "import os\n",
    "import json\n",
    "import pandas as pd\n",
    "import numpy as np\n",
    "import random\n",
    "import copy\n",
    "import ast\n",
    "from datetime import datetime\n",
    "from collections import Counter, defaultdict\n",
    "\n",
    "\n",
    "# Visualization packages\n",
    "import altair as alt\n",
    "import matplotlib.pyplot as plt\n",
    "import seaborn as sns\n",
    "from matplotlib.patches import Patch\n",
    "\n",
    "# Append system path\n",
    "sys.path = [p for p in sys.path if not p.endswith('../..')]  # Cleans duplicated '../..'\n",
    "sys.path.insert(0, '../')  # This adds `src` to the path\n",
    "\n",
    "from helpers import io, filters, constants\n",
    "from analysis import analysis_util, analysis_constants, visualization_util\n",
    "from web_analysis import parse_robots\n",
    "from web_analysis import robots_util\n",
    "\n",
    "\n",
    "%load_ext autoreload\n",
    "%autoreload 2"
   ]
  },
  {
   "cell_type": "code",
   "execution_count": 2,
   "id": "641190df-d54c-47c0-a0bf-09107119f192",
   "metadata": {},
   "outputs": [],
   "source": [
    "FPATH_TO_RELEVANT_URL_TOKENS = 'pretrain_data/relevant_url_token_counts.csv'\n",
    "FPATH_TO_ALL_URL_TOKENS = 'pretrain_data/all_url_token_counts.csv'\n",
    "FPATH_to_HEAD_ROBOTS = \"robots_data/temporal_robots_head.json\"\n",
    "FPATH_TO_RAND_ROBOTS = \"robots_data/temporal_robots_rand_10k.json\"\n",
    "FPATH_TO_TOS_DATA = \"robots_data/tos_ai_scraping_policies.json\"\n",
    "DIRPATHS_TO_ANNOTATED_TASKS = [\"annotated_websites/Task 1\", \"annotated_websites/Task 2\"]\n",
    "FPATH_SNAPSHOT_DATA = \"robots_data/temporal_main_sites_current.json\"\n",
    "\n",
    "COMPANIES_TO_ANALYZE = [\"Google\", \"OpenAI\", \"Anthropic\", \"Cohere\", \"Common Crawl\", \"Meta\"]\n",
    "TEMPORAL_ANALYSIS_START_DATE = '2016-01-01'\n",
    "TEMPORAL_ANALYSIS_END_DATE = '2024-04-30'"
   ]
  },
  {
   "cell_type": "code",
   "execution_count": 3,
   "id": "c838df1f-315b-47c2-b834-15b4932691b0",
   "metadata": {},
   "outputs": [],
   "source": [
    "agent_groups_to_track = robots_util.get_bot_groups(COMPANIES_TO_ANALYZE)\n",
    "agents_to_track = robots_util.get_bots()"
   ]
  },
  {
   "cell_type": "code",
   "execution_count": 4,
   "id": "d2478fc6-70af-4b04-b410-46448293724e",
   "metadata": {},
   "outputs": [
    {
     "name": "stdout",
     "output_type": "stream",
     "text": [
      "Number of tokens in 2000 URLs: 18447797380 | 10.85% of c4\n",
      "Number of tokens in 2000 URLs: 67098747294 | 15.56% of rf\n",
      "Number of tokens in 2000 URLs: 429152555144 | 21.74% of dolma\n"
     ]
    }
   ],
   "source": [
    "url_token_lookup = robots_util.URLTokenLookup(FPATH_TO_RELEVANT_URL_TOKENS) # 'c4', 'rf', 'dolma'\n",
    "c4_url_to_counts = url_token_lookup.get_url_to_token_map(\"c4\")\n",
    "rf_url_to_counts = url_token_lookup.get_url_to_token_map(\"rf\")\n",
    "dolma_url_to_counts = url_token_lookup.get_url_to_token_map(\"dolma\")\n",
    "top_c4_urls = url_token_lookup.top_k_urls(\"c4\", 2000)\n",
    "top_rf_urls = url_token_lookup.top_k_urls(\"rf\", 2000)\n",
    "top_dolma_urls = url_token_lookup.top_k_urls(\"dolma\", 2000)\n",
    "random_10k_urls = url_token_lookup.get_10k_random_sample()\n",
    "all_urls = set(random_10k_urls + top_c4_urls + top_rf_urls + top_dolma_urls)\n",
    "\n",
    "# Load website snapshots for relevant URLs\n",
    "website_snapshots = robots_util.read_snapshots(FPATH_SNAPSHOT_DATA, all_urls)"
   ]
  },
  {
   "cell_type": "code",
   "execution_count": null,
   "id": "ef95e17a-7c93-4256-86e8-a29ecd7b6f6e",
   "metadata": {},
   "outputs": [],
   "source": []
  },
  {
   "cell_type": "code",
   "execution_count": 5,
   "id": "14b5d6d8-d3e5-461e-8349-944915dc31b2",
   "metadata": {},
   "outputs": [
    {
     "name": "stdout",
     "output_type": "stream",
     "text": [
      "Num robot URLs loaded: 830\n",
      "Earliest time: 2016-01-01\n",
      "Last time: 2024-04-19\n",
      "Num robot URLs loaded: 6230\n",
      "Earliest time: 2016-01-01\n",
      "Last time: 2024-04-19\n"
     ]
    }
   ],
   "source": [
    "# URL -> Date -> Robots.txt raw text\n",
    "head_robots = io.read_json(FPATH_to_HEAD_ROBOTS)\n",
    "random_10k_robots = io.read_json(FPATH_TO_RAND_ROBOTS)\n",
    "joined_robots = copy.deepcopy(head_robots)\n",
    "joined_robots.update(random_10k_robots)\n",
    "robots_util.print_out_robots_info(head_robots)\n",
    "robots_util.print_out_robots_info(random_10k_robots)\n",
    "\n",
    "# {URL --> Date --> Agent --> Status}\n",
    "url_robots_summary = robots_util.compute_url_date_agent_status(\n",
    "    data=joined_robots, \n",
    "    # relevant_agents=agents_to_track)\n",
    "    relevant_agents=[v for vs in agent_groups_to_track.values() for v in vs])"
   ]
  },
  {
   "cell_type": "code",
   "execution_count": 6,
   "id": "80f765bd-e39b-4c3f-bc07-b62b9868a242",
   "metadata": {},
   "outputs": [
    {
     "name": "stdout",
     "output_type": "stream",
     "text": [
      "Num ToS URLs: 3068\n"
     ]
    }
   ],
   "source": [
    "# URL --> Date --> ToS-suburl --> {\"verdict\": X, \"evidence\": Y}\n",
    "tos_policies = io.read_json(FPATH_TO_TOS_DATA)\n",
    "print(f\"Num ToS URLs: {len(tos_policies)}\")"
   ]
  },
  {
   "cell_type": "code",
   "execution_count": 39,
   "id": "6a1ae3f0-3342-40d4-8fd3-6742ab9c5a8e",
   "metadata": {},
   "outputs": [
    {
     "name": "stdout",
     "output_type": "stream",
     "text": [
      "6663 rows before filtering.\n",
      "3017 rows after filtering. 1550 issues, 2096 unannotated.\n",
      "7059\n"
     ]
    }
   ],
   "source": [
    "url_to_info = analysis_util.extract_url_annotations(DIRPATHS_TO_ANNOTATED_TASKS)\n",
    "url_results_df = analysis_util.process_url_annotations(url_to_info)\n",
    "url_results_df = analysis_util.encode_size_columns(url_results_df, url_token_lookup)\n",
    "url_results_df = robots_util.encode_latest_tos_robots_into_df(\n",
    "    url_results_df, tos_policies, url_robots_summary,\n",
    "    COMPANIES_TO_ANALYZE\n",
    ")"
   ]
  },
  {
   "cell_type": "code",
   "execution_count": null,
   "id": "5fbe534e-43d1-4d60-ae52-06b625d9411a",
   "metadata": {},
   "outputs": [],
   "source": []
  },
  {
   "cell_type": "code",
   "execution_count": null,
   "id": "1c964990-8a31-4ad1-a0e0-e173c8d9e7b5",
   "metadata": {},
   "outputs": [],
   "source": []
  },
  {
   "cell_type": "code",
   "execution_count": 48,
   "id": "66fa9c7f-68bd-4790-bd62-19e81b7019ab",
   "metadata": {},
   "outputs": [],
   "source": [
    "\n",
    "    "
   ]
  },
  {
   "cell_type": "code",
   "execution_count": 56,
   "id": "e99e7d42-d8dd-4f6a-b5e7-53d6abc31e11",
   "metadata": {},
   "outputs": [
    {
     "name": "stdout",
     "output_type": "stream",
     "text": [
      "Head sample size: 1241\n",
      "Rand sample size: 1056\n",
      "Head sample size: 1155\n",
      "Rand sample size: 1056\n",
      "Head sample size: 1013\n",
      "Rand sample size: 1056\n"
     ]
    }
   ],
   "source": [
    "c4_estimates = analysis_util.run_population_analysis(\n",
    "    url_results_df, \n",
    "    top_c4_urls, \n",
    "    \"c4\", \n",
    "    \"pretrain_data/corpus_token_bucket_counts/c4_buckets.csv\",\n",
    "    url_token_lookup,\n",
    "    verbose=False\n",
    ")\n",
    "rf_estimates = analysis_util.run_population_analysis(\n",
    "    url_results_df, \n",
    "    top_rf_urls, \n",
    "    \"rf\", \n",
    "    \"pretrain_data/corpus_token_bucket_counts/rf_buckets.csv\",\n",
    "    url_token_lookup,\n",
    "    verbose=False\n",
    ")\n",
    "dolma_estimates = analysis_util.run_population_analysis(\n",
    "    url_results_df, \n",
    "    top_dolma_urls, \n",
    "    \"dolma\", \n",
    "    \"pretrain_data/corpus_token_bucket_counts/dolma_buckets.csv\",\n",
    "    url_token_lookup,\n",
    "    verbose=False\n",
    ")"
   ]
  },
  {
   "cell_type": "code",
   "execution_count": 58,
   "id": "2bb684d2-344d-4af7-a2da-4fbc743dfbd4",
   "metadata": {},
   "outputs": [
    {
     "name": "stdout",
     "output_type": "stream",
     "text": [
      "Num URLs in random sample: 1056\n",
      "\\begin{tabular}{lrrrrlll}\n",
      "\\toprule\n",
      " & Top 100 & Top 500 & Top 1000 & Random & C4 & RW & Dolma \\\\\n",
      "\\midrule\n",
      "User Content & 20.4 & 16.2 & 17.1 & 19.1 & 31.1 & 58.0 & 28.7 \\\\\n",
      "Paywall & 36.4 & 38.6 & 35.9 & 1.8 & 3.5 & 4.0 & 2.5 \\\\\n",
      "Ads & 58.0 & 60.6 & 55.4 & 5.8 & 34.2 & 60.2 & 24.9 \\\\\n",
      "Modality: Image & 98.9 & 99.2 & 99.6 & 94.0 & 101.5 & 124.0 & 113.3 \\\\\n",
      "Modality: Video & 96.6 & 96.1 & 96.3 & 19.9 & 34.4 & 34.5 & 25.2 \\\\\n",
      "Modality: Audio & 93.2 & 95.3 & 95.2 & 3.2 & 33.0 & 12.0 & 12.8 \\\\\n",
      "Sensitive Content & 0.0 & 0.3 & 0.4 & 0.6 & 1.6 & 0.2 & 5.2 \\\\\n",
      "services\\_Academic & 8.0 & 8.0 & 10.5 & 4.8 & 3.1 & 2.8 & 1.8 \\\\\n",
      "services\\_Blogs & 3.4 & 4.4 & 3.6 & 16.5 & 29.5 & 25.3 & 17.6 \\\\\n",
      "services\\_E-Commerce & 9.1 & 11.6 & 10.6 & 12.9 & 34.1 & 49.9 & 18.8 \\\\\n",
      "services\\_Encyclopedia/Database & 17.1 & 11.8 & 10.6 & 0.8 & 10.4 & 4.3 & 48.8 \\\\\n",
      "services\\_Government & 2.3 & 3.3 & 2.8 & 0.8 & 0.8 & 0.9 & 0.6 \\\\\n",
      "services\\_News/Periodicals & 48.9 & 52.6 & 50.5 & 6.8 & 14.8 & 22.0 & 22.7 \\\\\n",
      "services\\_Organization/Personal Website & 18.2 & 16.0 & 16.2 & 66.6 & 54.3 & 78.2 & 82.8 \\\\\n",
      "services\\_Other & 20.4 & 14.1 & 14.1 & 17.4 & 12.1 & 9.9 & 11.5 \\\\\n",
      "services\\_Social Media/Forums & 12.5 & 7.4 & 7.7 & 2.6 & 10.8 & 5.3 & 9.8 \\\\\n",
      "Restrictive Robots.txt & 27.3 & 21.5 & 18.6 & 1.1 & 1.8 & 1.7 & 1.7 \\\\\n",
      "Restrictive Terms & 22.7 & 19.0 & 16.7 & 3.9 & 26.7 & 48.5 & 20.3 \\\\\n",
      "\\bottomrule\n",
      "\\end{tabular}\n",
      "\n"
     ]
    }
   ],
   "source": [
    "results_df = analysis_util.analyze_url_variable_correlations(\n",
    "    url_results_df, [100, 500, 1000], \n",
    "    c4_estimates,\n",
    "    rf_estimates,\n",
    "    dolma_estimates,\n",
    ")\n",
    "\n",
    "# Convert the dataframe to a LaTeX table\n",
    "latex_table = results_df.to_latex(index=True, escape=True, float_format=\"{:.1f}\".format)\n",
    "print(latex_table)"
   ]
  },
  {
   "cell_type": "code",
   "execution_count": null,
   "id": "36d11e3f-0a9a-4ef1-a478-521a988a0d89",
   "metadata": {},
   "outputs": [],
   "source": []
  },
  {
   "cell_type": "code",
   "execution_count": null,
   "id": "c5491e10-b3bf-4ef7-871e-6ee989157a1b",
   "metadata": {},
   "outputs": [],
   "source": [
    "# clean up and review tokens vs URLs."
   ]
  },
  {
   "cell_type": "code",
   "execution_count": 147,
   "id": "15da710d-2b33-4a04-be4b-3639e1d88869",
   "metadata": {},
   "outputs": [],
   "source": [
    "def prepare_altair_stacked_services_paywall(\n",
    "    df,\n",
    "    x_value='instance_count', \n",
    "    token_key='c4 tokens',\n",
    "    width=800, \n",
    "    height=400,\n",
    "):\n",
    "    # Create a new column for the paywall/ads combination with custom labels\n",
    "    df['paywall_ads'] = df.apply(lambda row: 'Base' if not row['Paywall'] and not row['Ads'] else\n",
    "                                             'Ads' if not row['Paywall'] and row['Ads'] else\n",
    "                                             'Paywall' if row['Paywall'] and not row['Ads'] else\n",
    "                                             'Both Paywall & Ads', axis=1)\n",
    "\n",
    "    # Explode the 'services' column to create a row for each service\n",
    "    df = df.explode('Services')\n",
    "\n",
    "    # Calculate the instance rate and total tokens\n",
    "    instance_counts = df.groupby(['Services', 'paywall_ads']).size().reset_index(name='instance_count')\n",
    "    total_tokens = df.groupby(['Services', 'paywall_ads'])[token_key].sum().reset_index(name='total_tokens')\n",
    "\n",
    "    # Merge the instance counts and total tokens\n",
    "    merged_df = instance_counts.merge(total_tokens, on=['Services', 'paywall_ads'])\n",
    "\n",
    "    merged_df['percent'] = merged_df.groupby(['Services', 'paywall_ads'])[x_value].transform('sum') / merged_df.groupby('Services')[x_value].transform('sum') * 100\n",
    "    services_ordered = merged_df.groupby('Services')[x_value].sum().sort_values(ascending=False).index.tolist()\n",
    "\n",
    "    paywall_ads_order = ['Base', 'Ads', 'Paywall', 'Both Paywall & Ads']\n",
    "    paywall_ads_colors = ['#8dd3c7', '#fb8072', '#ffffb3', '#bebada']\n",
    "\n",
    "    return plot_altair_stacked_services_paywall(\n",
    "        merged_df, x_axis=x_value, y_axis=\"Services\", stack_axis=\"paywall_ads\", stack_order=paywall_ads_order, stack_colors=paywall_ads_colors, width=width, height=height)\n",
    "\n",
    "def plot_altair_stacked_services_paywall(\n",
    "    merged_df, \n",
    "    x_axis, \n",
    "    y_axis,\n",
    "    stack_axis,\n",
    "    stack_order,\n",
    "    stack_colors,\n",
    "    width=400, \n",
    "    height=400,\n",
    "):\n",
    "    \"\"\"\n",
    "    Plots a horizontal stacked bar chart with service categories on the y-axis\n",
    "    and the specified x-value (instance rate or total tokens) on the x-axis.\n",
    "    The bars are stacked based on the paywall and ads values.\n",
    "\n",
    "    Args:\n",
    "        df (pandas.DataFrame): The input dataframe with columns 'url', 'tokens',\n",
    "            'services', 'paywall', and 'ads'.\n",
    "        x_value (str, optional): The value to use for the x-axis. Can be 'instance_rate'\n",
    "            or 'total_tokens'. Defaults to 'instance_rate'.\n",
    "        width (int, optional): The width of the chart. Defaults to 800.\n",
    "        height (int, optional): The height of the chart. Defaults to 400.\n",
    "\n",
    "    Returns:\n",
    "        altair.Chart: The stacked bar chart.\n",
    "    \"\"\"\n",
    "    # Create a categorical data type with the desired ordering\n",
    "    merged_df[stack_axis] = pd.Categorical(\n",
    "        merged_df[stack_axis],\n",
    "        categories=stack_order,\n",
    "        ordered=True\n",
    "    )\n",
    "    merged_df = merged_df.sort_values(by=stack_axis)\n",
    "    \n",
    "    # Create the chart\n",
    "    chart = alt.Chart(merged_df).mark_bar().encode(\n",
    "        x=alt.X(f\"{x_axis}:Q\", title=x_axis.replace('_', ' ').title()),\n",
    "        y=alt.Y(\n",
    "            f'{y_axis}:N', \n",
    "            sort='-x',\n",
    "            # sort=services_ordered,\n",
    "            title='Service Categories'\n",
    "        ),\n",
    "        color=alt.Color(f'{stack_axis}:N', title=None,\n",
    "                        sort=stack_order,\n",
    "                        scale=alt.Scale(\n",
    "                            domain=stack_order,\n",
    "                            range=stack_colors,\n",
    "                        ),\n",
    "                        legend=alt.Legend(\n",
    "                            orient='top',\n",
    "                            title=None,\n",
    "                            labelFontSize=12,\n",
    "                            labelPadding=5,\n",
    "                            labelColor='black',\n",
    "                            labelFontWeight='bold'\n",
    "                        )\n",
    "                        ),\n",
    "        order=\"order:Q\",\n",
    "        # tooltip=['Services', 'paywall_ads', f\"{x_value}:Q\"]\n",
    "    ).properties(\n",
    "        width=width,\n",
    "        height=height\n",
    "    )\n",
    "\n",
    "    return chart"
   ]
  },
  {
   "cell_type": "code",
   "execution_count": 148,
   "id": "9a3a58bd-17ad-4994-9774-00899c956194",
   "metadata": {},
   "outputs": [
    {
     "data": {
      "text/html": [
       "\n",
       "<style>\n",
       "  #altair-viz-1820349590ee451a905d9e28897a4b0f.vega-embed {\n",
       "    width: 100%;\n",
       "    display: flex;\n",
       "  }\n",
       "\n",
       "  #altair-viz-1820349590ee451a905d9e28897a4b0f.vega-embed details,\n",
       "  #altair-viz-1820349590ee451a905d9e28897a4b0f.vega-embed details summary {\n",
       "    position: relative;\n",
       "  }\n",
       "</style>\n",
       "<div id=\"altair-viz-1820349590ee451a905d9e28897a4b0f\"></div>\n",
       "<script type=\"text/javascript\">\n",
       "  var VEGA_DEBUG = (typeof VEGA_DEBUG == \"undefined\") ? {} : VEGA_DEBUG;\n",
       "  (function(spec, embedOpt){\n",
       "    let outputDiv = document.currentScript.previousElementSibling;\n",
       "    if (outputDiv.id !== \"altair-viz-1820349590ee451a905d9e28897a4b0f\") {\n",
       "      outputDiv = document.getElementById(\"altair-viz-1820349590ee451a905d9e28897a4b0f\");\n",
       "    }\n",
       "    const paths = {\n",
       "      \"vega\": \"https://cdn.jsdelivr.net/npm/vega@5?noext\",\n",
       "      \"vega-lib\": \"https://cdn.jsdelivr.net/npm/vega-lib?noext\",\n",
       "      \"vega-lite\": \"https://cdn.jsdelivr.net/npm/vega-lite@5.17.0?noext\",\n",
       "      \"vega-embed\": \"https://cdn.jsdelivr.net/npm/vega-embed@6?noext\",\n",
       "    };\n",
       "\n",
       "    function maybeLoadScript(lib, version) {\n",
       "      var key = `${lib.replace(\"-\", \"\")}_version`;\n",
       "      return (VEGA_DEBUG[key] == version) ?\n",
       "        Promise.resolve(paths[lib]) :\n",
       "        new Promise(function(resolve, reject) {\n",
       "          var s = document.createElement('script');\n",
       "          document.getElementsByTagName(\"head\")[0].appendChild(s);\n",
       "          s.async = true;\n",
       "          s.onload = () => {\n",
       "            VEGA_DEBUG[key] = version;\n",
       "            return resolve(paths[lib]);\n",
       "          };\n",
       "          s.onerror = () => reject(`Error loading script: ${paths[lib]}`);\n",
       "          s.src = paths[lib];\n",
       "        });\n",
       "    }\n",
       "\n",
       "    function showError(err) {\n",
       "      outputDiv.innerHTML = `<div class=\"error\" style=\"color:red;\">${err}</div>`;\n",
       "      throw err;\n",
       "    }\n",
       "\n",
       "    function displayChart(vegaEmbed) {\n",
       "      vegaEmbed(outputDiv, spec, embedOpt)\n",
       "        .catch(err => showError(`Javascript Error: ${err.message}<br>This usually means there's a typo in your chart specification. See the javascript console for the full traceback.`));\n",
       "    }\n",
       "\n",
       "    if(typeof define === \"function\" && define.amd) {\n",
       "      requirejs.config({paths});\n",
       "      require([\"vega-embed\"], displayChart, err => showError(`Error loading script: ${err.message}`));\n",
       "    } else {\n",
       "      maybeLoadScript(\"vega\", \"5\")\n",
       "        .then(() => maybeLoadScript(\"vega-lite\", \"5.17.0\"))\n",
       "        .then(() => maybeLoadScript(\"vega-embed\", \"6\"))\n",
       "        .catch(showError)\n",
       "        .then(() => displayChart(vegaEmbed));\n",
       "    }\n",
       "  })({\"config\": {\"view\": {\"continuousWidth\": 300, \"continuousHeight\": 300}}, \"data\": {\"name\": \"data-dd51fe37bb6e3640b2662ca6ac9d5558\"}, \"mark\": {\"type\": \"bar\"}, \"encoding\": {\"color\": {\"field\": \"paywall_ads\", \"legend\": {\"labelColor\": \"black\", \"labelFontSize\": 12, \"labelFontWeight\": \"bold\", \"labelPadding\": 5, \"orient\": \"top\", \"title\": null}, \"scale\": {\"domain\": [\"Base\", \"Ads\", \"Paywall\", \"Both Paywall & Ads\"], \"range\": [\"#8dd3c7\", \"#fb8072\", \"#ffffb3\", \"#bebada\"]}, \"sort\": [\"Base\", \"Ads\", \"Paywall\", \"Both Paywall & Ads\"], \"title\": null, \"type\": \"nominal\"}, \"order\": {\"field\": \"order\", \"type\": \"quantitative\"}, \"x\": {\"field\": \"total_tokens\", \"title\": \"Total Tokens\", \"type\": \"quantitative\"}, \"y\": {\"field\": \"Services\", \"sort\": \"-x\", \"title\": \"Service Categories\", \"type\": \"nominal\"}}, \"height\": 400, \"width\": 800, \"$schema\": \"https://vega.github.io/schema/vega-lite/v5.17.0.json\", \"datasets\": {\"data-dd51fe37bb6e3640b2662ca6ac9d5558\": [{\"Services\": \"Government\", \"paywall_ads\": \"Base\", \"instance_count\": 61, \"total_tokens\": 353227106, \"percent\": 91.20949566927709}, {\"Services\": \"Academic\", \"paywall_ads\": \"Base\", \"instance_count\": 139, \"total_tokens\": 652694941, \"percent\": 51.740065090505205}, {\"Services\": \"Social Media/Forums\", \"paywall_ads\": \"Base\", \"instance_count\": 114, \"total_tokens\": 449587636, \"percent\": 33.110421478100335}, {\"Services\": \"Other\", \"paywall_ads\": \"Base\", \"instance_count\": 335, \"total_tokens\": 895348938, \"percent\": 38.3811693572995}, {\"Services\": \"Blogs\", \"paywall_ads\": \"Base\", \"instance_count\": 200, \"total_tokens\": 269380103, \"percent\": 49.24687303956597}, {\"Services\": \"Organization/personal website\", \"paywall_ads\": \"Base\", \"instance_count\": 724, \"total_tokens\": 591735301, \"percent\": 45.09090647042105}, {\"Services\": \"E-Commerce\", \"paywall_ads\": \"Base\", \"instance_count\": 251, \"total_tokens\": 479263377, \"percent\": 36.6556563363404}, {\"Services\": \"News/Periodicals\", \"paywall_ads\": \"Base\", \"instance_count\": 285, \"total_tokens\": 1314331232, \"percent\": 19.480332482348743}, {\"Services\": \"Encyclopedia/Database\", \"paywall_ads\": \"Base\", \"instance_count\": 134, \"total_tokens\": 1609071986, \"percent\": 67.25662514130099}, {\"Services\": \"Social Media/Forums\", \"paywall_ads\": \"Ads\", \"instance_count\": 101, \"total_tokens\": 598913804, \"percent\": 44.107726484480935}, {\"Services\": \"Other\", \"paywall_ads\": \"Ads\", \"instance_count\": 92, \"total_tokens\": 827684173, \"percent\": 35.48056525228087}, {\"Services\": \"Organization/personal website\", \"paywall_ads\": \"Ads\", \"instance_count\": 62, \"total_tokens\": 261130653, \"percent\": 19.898454310710413}, {\"Services\": \"News/Periodicals\", \"paywall_ads\": \"Ads\", \"instance_count\": 374, \"total_tokens\": 2496588819, \"percent\": 37.00313823618732}, {\"Services\": \"Government\", \"paywall_ads\": \"Ads\", \"instance_count\": 2, \"total_tokens\": 21489258, \"percent\": 5.548907066285501}, {\"Services\": \"Academic\", \"paywall_ads\": \"Ads\", \"instance_count\": 48, \"total_tokens\": 247183003, \"percent\": 19.594551544848795}, {\"Services\": \"Encyclopedia/Database\", \"paywall_ads\": \"Ads\", \"instance_count\": 65, \"total_tokens\": 548399035, \"percent\": 22.922199035069273}, {\"Services\": \"Blogs\", \"paywall_ads\": \"Ads\", \"instance_count\": 42, \"total_tokens\": 150750388, \"percent\": 27.55951585073568}, {\"Services\": \"E-Commerce\", \"paywall_ads\": \"Ads\", \"instance_count\": 40, \"total_tokens\": 248086036, \"percent\": 18.974444770606734}, {\"Services\": \"Encyclopedia/Database\", \"paywall_ads\": \"Paywall\", \"instance_count\": 17, \"total_tokens\": 179279960, \"percent\": 7.4936144373763485}, {\"Services\": \"Academic\", \"paywall_ads\": \"Paywall\", \"instance_count\": 29, \"total_tokens\": 171242851, \"percent\": 13.574666663493694}, {\"Services\": \"Other\", \"paywall_ads\": \"Paywall\", \"instance_count\": 27, \"total_tokens\": 385123332, \"percent\": 16.509187872560453}, {\"Services\": \"Organization/personal website\", \"paywall_ads\": \"Paywall\", \"instance_count\": 60, \"total_tokens\": 305776981, \"percent\": 23.300555548702533}, {\"Services\": \"Blogs\", \"paywall_ads\": \"Paywall\", \"instance_count\": 3, \"total_tokens\": 57917810, \"percent\": 10.588276580322283}, {\"Services\": \"E-Commerce\", \"paywall_ads\": \"Paywall\", \"instance_count\": 62, \"total_tokens\": 460303943, \"percent\": 35.20557579526971}, {\"Services\": \"Government\", \"paywall_ads\": \"Paywall\", \"instance_count\": 2, \"total_tokens\": 12553737, \"percent\": 3.241597264437411}, {\"Services\": \"News/Periodicals\", \"paywall_ads\": \"Paywall\", \"instance_count\": 61, \"total_tokens\": 502559692, \"percent\": 7.44867781730289}, {\"Services\": \"Social Media/Forums\", \"paywall_ads\": \"Paywall\", \"instance_count\": 19, \"total_tokens\": 214318662, \"percent\": 15.783755293133831}, {\"Services\": \"News/Periodicals\", \"paywall_ads\": \"Both Paywall & Ads\", \"instance_count\": 271, \"total_tokens\": 2433485347, \"percent\": 36.06785146416105}, {\"Services\": \"Encyclopedia/Database\", \"paywall_ads\": \"Both Paywall & Ads\", \"instance_count\": 10, \"total_tokens\": 55685426, \"percent\": 2.3275613862533904}, {\"Services\": \"Organization/personal website\", \"paywall_ads\": \"Both Paywall & Ads\", \"instance_count\": 16, \"total_tokens\": 153673333, \"percent\": 11.710083670166009}, {\"Services\": \"E-Commerce\", \"paywall_ads\": \"Both Paywall & Ads\", \"instance_count\": 17, \"total_tokens\": 119821192, \"percent\": 9.164323097783162}, {\"Services\": \"Blogs\", \"paywall_ads\": \"Both Paywall & Ads\", \"instance_count\": 7, \"total_tokens\": 68951105, \"percent\": 12.60533452937607}, {\"Services\": \"Other\", \"paywall_ads\": \"Both Paywall & Ads\", \"instance_count\": 21, \"total_tokens\": 224625369, \"percent\": 9.62907751785918}, {\"Services\": \"Social Media/Forums\", \"paywall_ads\": \"Both Paywall & Ads\", \"instance_count\": 16, \"total_tokens\": 95023187, \"percent\": 6.9980967442849}, {\"Services\": \"Academic\", \"paywall_ads\": \"Both Paywall & Ads\", \"instance_count\": 17, \"total_tokens\": 190367647, \"percent\": 15.090716701152305}]}}, {\"mode\": \"vega-lite\"});\n",
       "</script>"
      ],
      "text/plain": [
       "alt.Chart(...)"
      ]
     },
     "metadata": {},
     "output_type": "display_data"
    }
   ],
   "source": [
    "chart = prepare_altair_stacked_services_paywall(df, x_value='total_tokens')\n",
    "chart.show()"
   ]
  },
  {
   "cell_type": "code",
   "execution_count": null,
   "id": "dd7370c7-4639-45f3-ba8a-d7f15825ab4b",
   "metadata": {},
   "outputs": [],
   "source": []
  },
  {
   "cell_type": "code",
   "execution_count": 219,
   "id": "5d024f76-9823-4d2b-bfd5-a7e3fd8fbd7f",
   "metadata": {},
   "outputs": [],
   "source": [
    "def prepare_altair_wildchat(fpath):\n",
    "    df = pd.read_csv(fpath)\n",
    "    category_map = {\n",
    "        'Coding Composition': [\n",
    "            'Coding composition (fixing, debugging, or help)',\n",
    "            'Coding composition',\n",
    "        ],\n",
    "        'Explanation and Reasoning': [\n",
    "            'Asking for an explanation, reasoning, or help solving a puzzle, or math problem',\n",
    "            'Asking for an explanation, reasoning, or help solving a puzzle or math problem',\n",
    "        ],\n",
    "        'Creative Composition': [\n",
    "            'Creative composition',\n",
    "            'Creative composition (such as role-playing, fictional story writing or continuation)'\n",
    "        ],\n",
    "        'Academic Composition': [\n",
    "            'Academic composition (such as non-fiction essay writing, continuation, or fixing)',\n",
    "            'Academic composition'\n",
    "        ],\n",
    "        'General Information': ['General informational requests'],\n",
    "        'Sexual/Illegal Content': ['Sexual or illegal content requests'],\n",
    "        'Translation': ['Translation'],\n",
    "        'Brainstorming and Planning': ['Brainstorming, planning, or ideation'],\n",
    "        'Self-help & welf-harm': [\n",
    "            'Self-help, advice seeking, or self-harm',\n",
    "            'Self-help, advice seeking'\n",
    "        ],\n",
    "        'Organization Information': [\n",
    "            'Information requests specifically about organizations, companies, or persons'\n",
    "        ],\n",
    "        'E-commerce Information': [\n",
    "            'E-commerce or information requests about products and purchasing'\n",
    "        ],\n",
    "        'News': [\n",
    "            'News or recent events informational requests',\n",
    "        ],\n",
    "        'Other': ['Other', np.nan],\n",
    "    }\n",
    "    RELEVANT_CATEGORIES = {\n",
    "        \"News\": \"Relevance to Websites\",\n",
    "        \"E-commerce Information\": \"Relevance to Websites\",\n",
    "        \"Organization Information\": \"Relevance to Websites\",\n",
    "        \"Academic Composition\": \"Relevance to Websites\",\n",
    "        \"Sexual/Illegal Content\": \"NSFW Content\",\n",
    "    }\n",
    "    \n",
    "    inverse_mapper = {v: k for k, vs in category_map.items() for v in vs}\n",
    "\n",
    "    def safe_literal_eval(val):\n",
    "        if \"[\" not in val:\n",
    "            return [val]\n",
    "        else:\n",
    "            try:\n",
    "                return ast.literal_eval(val)\n",
    "            except (ValueError, SyntaxError):\n",
    "                print(val)\n",
    "                return None  # or some other default value or handling mechanism\n",
    "    \n",
    "    df['Types of Service'] = df['Types of Service'].apply(safe_literal_eval)\n",
    "\n",
    "    # df['Types of Service'] = df['Types of Service'].apply(ast.literal_eval)\n",
    "    df = wildchat_df.explode('Types of Service')\n",
    "    print(len(df))\n",
    "\n",
    "    cat_df = []\n",
    "    for category, count in Counter(df['Types of Service'].tolist()).most_common():\n",
    "        cat_df.append({\n",
    "            \"category\": inverse_mapper[category],\n",
    "            \"count\": count,\n",
    "            \"stack\": RELEVANT_CATEGORIES.get(inverse_mapper[category], \"Less Relevant to Websites\"),\n",
    "        })\n",
    "        \n",
    "    return plot_altair_stacked_services_paywall(\n",
    "        pd.DataFrame(cat_df), \n",
    "        x_axis=\"count\", \n",
    "        y_axis=\"category\", \n",
    "        stack_axis=\"stack\", \n",
    "        stack_order=[\"Relevance to Websites\", \"Less Relevant to Websites\", \"NSFW Content\"], \n",
    "        stack_colors=['#fb8072', '#8dd3c7', '#ffffb3'] #, '#bebada'], \n",
    "    )\n"
   ]
  },
  {
   "cell_type": "code",
   "execution_count": 220,
   "id": "e0c7943d-b804-4ef4-93f6-593b5d5fba6f",
   "metadata": {},
   "outputs": [
    {
     "name": "stdout",
     "output_type": "stream",
     "text": [
      "1323\n"
     ]
    },
    {
     "data": {
      "text/html": [
       "\n",
       "<style>\n",
       "  #altair-viz-452fab543afc468699fa680f49579844.vega-embed {\n",
       "    width: 100%;\n",
       "    display: flex;\n",
       "  }\n",
       "\n",
       "  #altair-viz-452fab543afc468699fa680f49579844.vega-embed details,\n",
       "  #altair-viz-452fab543afc468699fa680f49579844.vega-embed details summary {\n",
       "    position: relative;\n",
       "  }\n",
       "</style>\n",
       "<div id=\"altair-viz-452fab543afc468699fa680f49579844\"></div>\n",
       "<script type=\"text/javascript\">\n",
       "  var VEGA_DEBUG = (typeof VEGA_DEBUG == \"undefined\") ? {} : VEGA_DEBUG;\n",
       "  (function(spec, embedOpt){\n",
       "    let outputDiv = document.currentScript.previousElementSibling;\n",
       "    if (outputDiv.id !== \"altair-viz-452fab543afc468699fa680f49579844\") {\n",
       "      outputDiv = document.getElementById(\"altair-viz-452fab543afc468699fa680f49579844\");\n",
       "    }\n",
       "    const paths = {\n",
       "      \"vega\": \"https://cdn.jsdelivr.net/npm/vega@5?noext\",\n",
       "      \"vega-lib\": \"https://cdn.jsdelivr.net/npm/vega-lib?noext\",\n",
       "      \"vega-lite\": \"https://cdn.jsdelivr.net/npm/vega-lite@5.17.0?noext\",\n",
       "      \"vega-embed\": \"https://cdn.jsdelivr.net/npm/vega-embed@6?noext\",\n",
       "    };\n",
       "\n",
       "    function maybeLoadScript(lib, version) {\n",
       "      var key = `${lib.replace(\"-\", \"\")}_version`;\n",
       "      return (VEGA_DEBUG[key] == version) ?\n",
       "        Promise.resolve(paths[lib]) :\n",
       "        new Promise(function(resolve, reject) {\n",
       "          var s = document.createElement('script');\n",
       "          document.getElementsByTagName(\"head\")[0].appendChild(s);\n",
       "          s.async = true;\n",
       "          s.onload = () => {\n",
       "            VEGA_DEBUG[key] = version;\n",
       "            return resolve(paths[lib]);\n",
       "          };\n",
       "          s.onerror = () => reject(`Error loading script: ${paths[lib]}`);\n",
       "          s.src = paths[lib];\n",
       "        });\n",
       "    }\n",
       "\n",
       "    function showError(err) {\n",
       "      outputDiv.innerHTML = `<div class=\"error\" style=\"color:red;\">${err}</div>`;\n",
       "      throw err;\n",
       "    }\n",
       "\n",
       "    function displayChart(vegaEmbed) {\n",
       "      vegaEmbed(outputDiv, spec, embedOpt)\n",
       "        .catch(err => showError(`Javascript Error: ${err.message}<br>This usually means there's a typo in your chart specification. See the javascript console for the full traceback.`));\n",
       "    }\n",
       "\n",
       "    if(typeof define === \"function\" && define.amd) {\n",
       "      requirejs.config({paths});\n",
       "      require([\"vega-embed\"], displayChart, err => showError(`Error loading script: ${err.message}`));\n",
       "    } else {\n",
       "      maybeLoadScript(\"vega\", \"5\")\n",
       "        .then(() => maybeLoadScript(\"vega-lite\", \"5.17.0\"))\n",
       "        .then(() => maybeLoadScript(\"vega-embed\", \"6\"))\n",
       "        .catch(showError)\n",
       "        .then(() => displayChart(vegaEmbed));\n",
       "    }\n",
       "  })({\"config\": {\"view\": {\"continuousWidth\": 300, \"continuousHeight\": 300}}, \"data\": {\"name\": \"data-b6ecc1633872bf43d0c70fa84d44ae12\"}, \"mark\": {\"type\": \"bar\"}, \"encoding\": {\"color\": {\"field\": \"stack\", \"legend\": {\"labelColor\": \"black\", \"labelFontSize\": 12, \"labelFontWeight\": \"bold\", \"labelPadding\": 5, \"orient\": \"top\", \"title\": null}, \"scale\": {\"domain\": [\"Relevance to Websites\", \"Less Relevant to Websites\", \"NSFW Content\"], \"range\": [\"#fb8072\", \"#8dd3c7\", \"#ffffb3\"]}, \"sort\": [\"Relevance to Websites\", \"Less Relevant to Websites\", \"NSFW Content\"], \"title\": null, \"type\": \"nominal\"}, \"order\": {\"field\": \"order\", \"type\": \"quantitative\"}, \"x\": {\"field\": \"count\", \"title\": \"Count\", \"type\": \"quantitative\"}, \"y\": {\"field\": \"category\", \"sort\": \"-x\", \"title\": \"Service Categories\", \"type\": \"nominal\"}}, \"height\": 400, \"width\": 400, \"$schema\": \"https://vega.github.io/schema/vega-lite/v5.17.0.json\", \"datasets\": {\"data-b6ecc1633872bf43d0c70fa84d44ae12\": [{\"category\": \"Academic Composition\", \"count\": 92, \"stack\": \"Relevance to Websites\"}, {\"category\": \"Organization Information\", \"count\": 49, \"stack\": \"Relevance to Websites\"}, {\"category\": \"E-commerce Information\", \"count\": 31, \"stack\": \"Relevance to Websites\"}, {\"category\": \"News\", \"count\": 6, \"stack\": \"Relevance to Websites\"}, {\"category\": \"Creative Composition\", \"count\": 365, \"stack\": \"Less Relevant to Websites\"}, {\"category\": \"Brainstorming and Planning\", \"count\": 144, \"stack\": \"Less Relevant to Websites\"}, {\"category\": \"Explanation and Reasoning\", \"count\": 133, \"stack\": \"Less Relevant to Websites\"}, {\"category\": \"General Information\", \"count\": 99, \"stack\": \"Less Relevant to Websites\"}, {\"category\": \"Coding Composition\", \"count\": 94, \"stack\": \"Less Relevant to Websites\"}, {\"category\": \"Translation\", \"count\": 77, \"stack\": \"Less Relevant to Websites\"}, {\"category\": \"Other\", \"count\": 28, \"stack\": \"Less Relevant to Websites\"}, {\"category\": \"Self-help & welf-harm\", \"count\": 23, \"stack\": \"Less Relevant to Websites\"}, {\"category\": \"Other\", \"count\": 16, \"stack\": \"Less Relevant to Websites\"}, {\"category\": \"Self-help & welf-harm\", \"count\": 1, \"stack\": \"Less Relevant to Websites\"}, {\"category\": \"Sexual/Illegal Content\", \"count\": 165, \"stack\": \"NSFW Content\"}]}}, {\"mode\": \"vega-lite\"});\n",
       "</script>"
      ],
      "text/plain": [
       "alt.Chart(...)"
      ]
     },
     "execution_count": 220,
     "metadata": {},
     "output_type": "execute_result"
    }
   ],
   "source": [
    "prepare_altair_wildchat(\"test_data/wildchat_annotations.csv\")"
   ]
  },
  {
   "cell_type": "code",
   "execution_count": null,
   "id": "75009509-a224-4f9f-a1ea-1810df81ca67",
   "metadata": {},
   "outputs": [],
   "source": []
  },
  {
   "cell_type": "code",
   "execution_count": null,
   "id": "d97d8a2d-c4a9-4223-8011-af21d26baad2",
   "metadata": {},
   "outputs": [],
   "source": []
  },
  {
   "cell_type": "code",
   "execution_count": null,
   "id": "fd30bb26-9ba5-4bd2-9f29-6458b18bbd7d",
   "metadata": {},
   "outputs": [],
   "source": [
    "# Calculate underlying percents. Look at random/head, dolma/rf/c4."
   ]
  },
  {
   "cell_type": "code",
   "execution_count": null,
   "id": "b379c4da-bba9-4668-b21a-5dd152be5daf",
   "metadata": {},
   "outputs": [],
   "source": []
  },
  {
   "cell_type": "code",
   "execution_count": 59,
   "id": "12669a66-4f3d-4397-9d9d-0b2bdcb1497b",
   "metadata": {},
   "outputs": [],
   "source": [
    "# df_uc = df[df[\"sample\"] != \"random\"]"
   ]
  },
  {
   "cell_type": "code",
   "execution_count": 60,
   "id": "9717283e-c1b9-4e13-9727-2977e1d3c612",
   "metadata": {},
   "outputs": [],
   "source": [
    "# # Normalize by token count\n",
    "# # ax = plot_modality_stacked_bar(df, normalize_by='token_count')\n",
    "\n",
    "# # Normalize by URL count\n",
    "# ax = plot_modality_stacked_bar(df_uc, normalize_by='url_count')"
   ]
  },
  {
   "cell_type": "code",
   "execution_count": 452,
   "id": "9e90b511-051a-4767-a2d9-8850798710a0",
   "metadata": {},
   "outputs": [
    {
     "name": "stdout",
     "output_type": "stream",
     "text": [
      "Entertainment & Culture: 20.21%\n",
      "News: 29.28%\n",
      "Legal & Policy: 4.30%\n",
      "Science, Academia, & Technology: 11.14%\n",
      "General Information & Education: 11.22%\n",
      "Books: 1.94%\n",
      "Business & E-Commerce: 11.65%\n",
      "Social Media/Forums: 4.18%\n",
      "Other: 3.08%\n",
      "Blogs: 3.00%\n",
      "nan: 0.00%\n"
     ]
    }
   ],
   "source": [
    "import pandas as pd\n",
    "\n",
    "# Explode the 'domains' column\n",
    "dfx = df.explode('Domains')\n",
    "\n",
    "# Get the unique domain categories\n",
    "domain_categories = dfx['Domains'].unique()\n",
    "\n",
    "# Create a new column for each domain category with True/False values\n",
    "for category in domain_categories:\n",
    "    df[f'domain_{category}'] = df['Domains'].apply(lambda x: category in x)\n",
    "\n",
    "# Filter the DataFrame to only include rows with video modality\n",
    "df_with_videos = df[df['Modality: Video']]\n",
    "\n",
    "# Calculate the portion of URLs with videos for each domain category\n",
    "portions_by_category = {}\n",
    "for category in domain_categories:\n",
    "    category_col = f'domain_{category}'\n",
    "    total_videos = len(df_with_videos)\n",
    "    videos_in_category = df_with_videos[category_col].sum()\n",
    "    portion = videos_in_category / total_videos\n",
    "    portions_by_category[category] = portion\n",
    "\n",
    "# Print the results\n",
    "tot_portions = sum(portions_by_category.values())\n",
    "for category, portion in portions_by_category.items():\n",
    "    print(f\"{category}: {100 * portion / tot_portions :.2f}%\")\n",
    "# print(sum(tot_portions))"
   ]
  },
  {
   "cell_type": "code",
   "execution_count": null,
   "id": "95656882-ef40-4af0-b61b-3a7a4e499bd2",
   "metadata": {},
   "outputs": [],
   "source": []
  },
  {
   "cell_type": "code",
   "execution_count": null,
   "id": "ec54172f-d48a-4ebd-8162-946e3363c53c",
   "metadata": {},
   "outputs": [],
   "source": []
  }
 ],
 "metadata": {
  "kernelspec": {
   "display_name": "Python 3 (ipykernel)",
   "language": "python",
   "name": "python3"
  },
  "language_info": {
   "codemirror_mode": {
    "name": "ipython",
    "version": 3
   },
   "file_extension": ".py",
   "mimetype": "text/x-python",
   "name": "python",
   "nbconvert_exporter": "python",
   "pygments_lexer": "ipython3",
   "version": "3.8.9"
  }
 },
 "nbformat": 4,
 "nbformat_minor": 5
}
