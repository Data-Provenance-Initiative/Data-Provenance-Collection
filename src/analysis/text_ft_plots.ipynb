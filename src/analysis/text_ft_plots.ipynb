{
 "cells": [
  {
   "cell_type": "code",
   "execution_count": null,
   "id": "e53ae3ba-661b-4a29-ab36-aafce92b9fa2",
   "metadata": {},
   "outputs": [],
   "source": [
    "import sys\n",
    "import os\n",
    "import json\n",
    "import pandas as pd\n",
    "import numpy as np\n",
    "import random\n",
    "import copy\n",
    "from collections import Counter, defaultdict\n",
    "\n",
    "# Visualization packages\n",
    "import altair as alt\n",
    "import matplotlib.pyplot as plt\n",
    "import seaborn as sns\n",
    "from matplotlib.patches import Patch\n",
    "\n",
    "# Append system path\n",
    "sys.path = [p for p in sys.path if not p.endswith('../..')]  # Cleans duplicated '../..'\n",
    "sys.path.insert(0, '../')  # This adds `src` to the path\n",
    "\n",
    "from helpers import io, filters, constants\n",
    "from analysis import analysis_util as util\n",
    "from analysis import visualization_util as viz_util\n",
    "\n",
    "\n",
    "%load_ext autoreload\n",
    "%autoreload 2"
   ]
  },
  {
   "cell_type": "markdown",
   "id": "a0f329f0-1e66-4d6d-8ea4-8e484691abf9",
   "metadata": {},
   "source": [
    "# Data Loading"
   ]
  },
  {
   "cell_type": "code",
   "execution_count": null,
   "id": "9af4b502-1b87-401a-bd90-03cc38815879",
   "metadata": {},
   "outputs": [],
   "source": [
    "data_summary_json = io.read_data_summary_json(\"../../data_summaries/\")\n",
    "all_constants = io.read_all_constants(\"../../constants/\")\n",
    "data_summary = filters.map_license_criteria(data_summary_json, all_constants)\n",
    "print(len(data_summary_json))"
   ]
  },
  {
   "cell_type": "markdown",
   "id": "096dcbaf-6b9f-4efd-bfea-f34442ca464a",
   "metadata": {},
   "source": [
    "# Test Data"
   ]
  },
  {
   "cell_type": "markdown",
   "id": "491eeb6a-cf51-4690-8eed-8a92536f758f",
   "metadata": {},
   "source": [
    "Tests your data summary rows to see if all the values are in the constants. If not, it will print out the missing values, and which data collections they came from."
   ]
  },
  {
   "cell_type": "code",
   "execution_count": null,
   "id": "599019a0-3853-4339-861e-d044682b3f33",
   "metadata": {},
   "outputs": [],
   "source": [
    "util.check_datasummary_in_constants(data_summary, all_constants)"
   ]
  },
  {
   "cell_type": "markdown",
   "id": "a8e75146-03f1-4868-a325-3fb9eb93fc9a",
   "metadata": {},
   "source": [
    "# Extract & Categorize Data"
   ]
  },
  {
   "cell_type": "markdown",
   "id": "d7daa342-5072-426b-8ddb-ccf6054fe480",
   "metadata": {},
   "source": [
    "Runs through all rows of the data summary, and applies the constants files to categorize the licenses, creators, tasks, sources, languages, and other metadata, so it is ready for plotting."
   ]
  },
  {
   "cell_type": "code",
   "execution_count": null,
   "id": "572340e5-d067-4773-b40d-59af7f99c3ff",
   "metadata": {},
   "outputs": [],
   "source": [
    "all_info = util.extract_info(data_summary, all_constants)\n",
    "commercial_info = {k: v for k, v in all_info.items() if v[\"License Use (DataProvenance)\"] in [\"commercial\"]}\n",
    "unspecified_info = {k: v for k, v in all_info.items() if v[\"License Use (DataProvenance)\"] in [\"unspecified\"]}\n",
    "ncao_info = {k: v for k, v in all_info.items() if v[\"License Use (DataProvenance)\"] in [\"non-commercial\", \"academic-only\"]}\n",
    "\n",
    "print(f\"Total Rows = {len(all_info)}\")\n",
    "print(f\"Total Rows w/ Commercially permissible licenses (according to DPI) = {len(commercial_info)}\")\n",
    "print(f\"Total Rows w/ Unspecified licenses (according to DPI) = {len(unspecified_info)}\")\n",
    "print(f\"Total Rows w/ Non-Commercial/Academic-Only licenses (according to DPI) = {len(ncao_info)}\")"
   ]
  },
  {
   "cell_type": "markdown",
   "id": "849347e0-f025-4c3b-99bc-b972e647efae",
   "metadata": {},
   "source": [
    "# Plot License Breakdowns, by different Categories"
   ]
  },
  {
   "cell_type": "code",
   "execution_count": null,
   "id": "3b688fe1-df61-48f3-93e3-45824167019a",
   "metadata": {},
   "outputs": [],
   "source": [
    "viz_util.plot_grouped_chart(\n",
    "    {\"Non-Commercial/\\nAcademic\": ncao_info, \"Unspecified\": unspecified_info, \"Commercial\": commercial_info},\n",
    "    all_constants[\"LANGUAGE_GROUPS\"],\n",
    "    \"Language Groups\",\n",
    "    name_remapper=None,\n",
    "    exclude_groups={},\n",
    "    savename=\"langs_stacked-altair.json\"\n",
    ")"
   ]
  },
  {
   "cell_type": "code",
   "execution_count": null,
   "id": "cb91b2bc-1331-4057-ace8-6f9c4f1c32e3",
   "metadata": {},
   "outputs": [],
   "source": [
    "task_name_remapper = {\n",
    "    \"Short Text Generation\": \"Short Text Gen\",\n",
    "    \"Bias & Toxicity Detection\": \"Bias/Toxic Detect\",\n",
    "    \"Bias & Toxicicity Detection\": \"Bias/Toxic Detect\",\n",
    "    \"Natural Language Inference\": \"NLI\",\n",
    "    \"Commonsense Reasoning\": \"Commonsense Reas.\",\n",
    "    \"Logical and Mathematical Reasoning\": \"Logic & Math\",\n",
    "}\n",
    "viz_util.plot_grouped_chart(\n",
    "    {\"Non-Commercial/\\nAcademic\": ncao_info, \"Unspecified\": unspecified_info, \"Commercial\": commercial_info},\n",
    "    all_constants[\"TASK_GROUPS\"],\n",
    "    \"Task Groups\",\n",
    "    name_remapper=task_name_remapper,\n",
    "    exclude_groups={},\n",
    "    savename=\"tasks_stacked-altair.json\"\n",
    ")"
   ]
  },
  {
   "cell_type": "code",
   "execution_count": null,
   "id": "37c02d40-64c6-4a4b-9357-9a36c0a6f237",
   "metadata": {},
   "outputs": [],
   "source": [
    "excludes = [\"Other\", \"Others\", \"Unsure\", \"Template Gen\", \"Human\",\"Reviews\", \"Unknown\", \"ML Datasets\", \"Conversations\", \"Search Queries\"]\n",
    "viz_util.plot_grouped_chart(\n",
    "    {\"Non-Commercial/\\nAcademic\": ncao_info, \"Unspecified\": unspecified_info, \"Commercial\": commercial_info},\n",
    "    all_constants[\"DOMAIN_GROUPS\"],\n",
    "    \"Domains\",\n",
    "    name_remapper=None,\n",
    "    exclude_groups=excludes,\n",
    "    savename=\"sources_stacked-altair.json\"\n",
    ")"
   ]
  },
  {
   "cell_type": "code",
   "execution_count": null,
   "id": "d727ea95-a998-44dc-b1a9-ba6af3841cf1",
   "metadata": {},
   "outputs": [],
   "source": [
    "viz_util.plot_grouped_time_chart(\n",
    "    {\"Non-Commercial/\\nAcademic\": ncao_info, \"Unspecified\": unspecified_info, \"Commercial\": commercial_info},\n",
    "    \"Preparation Times\",\n",
    "    disallow_repeat_dsetnames=True,\n",
    "    savename=\"times_stacked-altair.json\"\n",
    ")"
   ]
  },
  {
   "cell_type": "code",
   "execution_count": null,
   "id": "07de24b1-6937-4632-982e-56d5c5ebf6d2",
   "metadata": {},
   "outputs": [],
   "source": [
    "viz_util.plot_license_breakdown(\n",
    "    all_info, \n",
    "    all_constants[\"LICENSE_CLASSES\"],\n",
    "    disallow_repeat_dsetnames=True,\n",
    "    savename=\"license_dist.pdf\"\n",
    ")"
   ]
  },
  {
   "cell_type": "code",
   "execution_count": null,
   "id": "bf78706e-4f8d-4f6b-867f-c33e74095743",
   "metadata": {},
   "outputs": [],
   "source": []
  },
  {
   "cell_type": "code",
   "execution_count": null,
   "id": "0b6fd0e3-f7a9-4abd-91a0-9033917c495e",
   "metadata": {},
   "outputs": [],
   "source": []
  }
 ],
 "metadata": {
  "kernelspec": {
   "display_name": "Python 3 (ipykernel)",
   "language": "python",
   "name": "python3"
  },
  "language_info": {
   "codemirror_mode": {
    "name": "ipython",
    "version": 3
   },
   "file_extension": ".py",
   "mimetype": "text/x-python",
   "name": "python",
   "nbconvert_exporter": "python",
   "pygments_lexer": "ipython3",
   "version": "3.8.9"
  }
 },
 "nbformat": 4,
 "nbformat_minor": 5
}
