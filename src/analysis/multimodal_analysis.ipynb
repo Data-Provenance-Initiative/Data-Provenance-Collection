{
 "cells": [
  {
   "cell_type": "code",
   "execution_count": 108,
   "metadata": {},
   "outputs": [
    {
     "name": "stdout",
     "output_type": "stream",
     "text": [
      "\n",
      "\u001b[1m[\u001b[0m\u001b[34;49mnotice\u001b[0m\u001b[1;39;49m]\u001b[0m\u001b[39;49m A new release of pip is available: \u001b[0m\u001b[31;49m23.2.1\u001b[0m\u001b[39;49m -> \u001b[0m\u001b[32;49m24.2\u001b[0m\n",
      "\u001b[1m[\u001b[0m\u001b[34;49mnotice\u001b[0m\u001b[1;39;49m]\u001b[0m\u001b[39;49m To update, run: \u001b[0m\u001b[32;49mpip install --upgrade pip\u001b[0m\n"
     ]
    }
   ],
   "source": [
    "!pip3 install -q -U pandas altair vega_datasets iso3166 vl-convert-python matplotlib seaborn scipy scikit-learn langcodes"
   ]
  },
  {
   "cell_type": "code",
   "execution_count": 7,
   "metadata": {},
   "outputs": [
    {
     "name": "stdout",
     "output_type": "stream",
     "text": [
      "The autoreload extension is already loaded. To reload it, use:\n",
      "  %reload_ext autoreload\n"
     ]
    }
   ],
   "source": [
    "import sys\n",
    "# Append system path\n",
    "sys.path = [p for p in sys.path if not p.endswith(\"../..\")]  # Cleans duplicated '../..\"\n",
    "sys.path.insert(0, \"../\")  # This adds `src` to the path\n",
    "import os\n",
    "import logging\n",
    "import pandas as pd\n",
    "import altair as alt\n",
    "import langcodes\n",
    "from collections import Counter, defaultdict\n",
    "alt.data_transformers.disable_max_rows() # Allow using more than 5000 rows, for now\n",
    "logging.basicConfig(level=logging.DEBUG, handlers=[logging.StreamHandler(stream=sys.stdout)])\n",
    "from vega_datasets import data\n",
    "from helpers import io\n",
    "from analysis import multimodal_util\n",
    "\n",
    "\n",
    "%load_ext autoreload\n",
    "%autoreload 2"
   ]
  },
  {
   "cell_type": "markdown",
   "metadata": {},
   "source": [
    "# Plotting Constants (All Plots)"
   ]
  },
  {
   "cell_type": "code",
   "execution_count": 8,
   "metadata": {},
   "outputs": [
    {
     "data": {
      "text/plain": [
       "ThemeRegistry.enable('times_newroman')"
      ]
     },
     "execution_count": 8,
     "metadata": {},
     "output_type": "execute_result"
    }
   ],
   "source": [
    "def times_newroman():\n",
    "    font = \"Times New Roman\"\n",
    "\n",
    "    return {\n",
    "          \"config\" : {\n",
    "               \"title\": {\"font\": font},\n",
    "               \"axis\": {\n",
    "               \"labelFont\": font,\n",
    "               \"titleFont\": font\n",
    "          },\n",
    "          \"header\": {\n",
    "               \"labelFont\": font,\n",
    "               \"titleFont\": font\n",
    "          },\n",
    "          \"legend\": {\n",
    "               \"labelFont\": font,\n",
    "               \"titleFont\": font\n",
    "          },\n",
    "          \"text\": {\n",
    "               \"font\": font\n",
    "          }\n",
    "     }\n",
    "}\n",
    "\n",
    "alt.themes.register(\"times_newroman\", times_newroman)\n",
    "alt.themes.enable(\"times_newroman\")"
   ]
  },
  {
   "cell_type": "code",
   "execution_count": 9,
   "metadata": {},
   "outputs": [],
   "source": [
    "FONT_SIZE = 16\n",
    "LEGEND_POSITION = \"bottom\"\n",
    "PLOT_TOFILE = True # Whether and where to output plots\n",
    "PLOT_DIR = \"~/dpi-plotsmultimodal/\"\n",
    "PLOT_PPI = 300\n",
    "MAX_LABELLIMIT = 400 # Large number to avoid label summarization in plots\n",
    "\n",
    "PLOT_DIR = os.path.expanduser(PLOT_DIR)\n",
    "\n",
    "# Create directory if needed\n",
    "if PLOT_TOFILE:\n",
    "    os.makedirs(PLOT_DIR, exist_ok=True)"
   ]
  },
  {
   "cell_type": "markdown",
   "metadata": {},
   "source": [
    "## Read Constants and Summaries\n",
    "\n",
    "Load constants and data summaries from JSON files. Constants provide mappings and criteria for licenses, creator groups, various other categories. Data summaries contain modality-specific information about datasets.\n",
    "\n",
    "- `all_constants`: Dictionary containing all predefined constants.\n",
    "- `{text/speech/video}_summaries`: Data summaries by modality."
   ]
  },
  {
   "cell_type": "code",
   "execution_count": 10,
   "metadata": {},
   "outputs": [
    {
     "name": "stdout",
     "output_type": "stream",
     "text": [
      "INFO:root:Checking Text Data Summaries against Constants\n",
      "INFO:root:Checking Speech Data Summaries against Constants\n",
      "INFO:root:Checking Video Data Summaries against Constants\n"
     ]
    }
   ],
   "source": [
    "# Whether and where to output plots\n",
    "PLOT_TOFILE = True\n",
    "PLOT_DIR = \"~/dpi-plotsmultimodal/\"\n",
    "PLOT_PPI = 300\n",
    "MAX_LABELLIMIT = 400 # Large number to avoid label summarization in plots\n",
    "\n",
    "PLOT_DIR = os.path.expanduser(PLOT_DIR)\n",
    "\n",
    "# Create directory if needed\n",
    "if PLOT_TOFILE:\n",
    "    os.makedirs(PLOT_DIR, exist_ok=True)\n",
    "\n",
    "# Plotting constants\n",
    "LICENSE_ORDER = [\"NC/Acad\", \"Unspecified\", \"Commercial\"]\n",
    "LICENSE_PALETTE = [\"#e04c71\", \"#e0cd92\", \"#82b5cf\"]\n",
    "LICENSE_TERMS_ORDER = [\n",
    "    \"NC/Acad | Model Closed\", \"NC/Acad | Source Closed\", \"NC/Acad | Unspecified\", \"NC/Acad | Unrestricted\",\n",
    "    \"Unspecified | Model Closed\", \"Unspecified | Source Closed\", \"Unspecified | Unspecified\", \"Unspecified | Unrestricted\",\n",
    "    \"Commercial | Model Closed\", \"Commercial | Source Closed\", \"Commercial | Unspecified\", \"Commercial | Unrestricted\",\n",
    "]\n",
    "LICENSE_TERMS_ORDER_VARIANT = [\n",
    "    \"NC/Acad | Restricted\", \"NC/Acad | Unspecified\", \"NC/Acad | Unrestricted\",\n",
    "    \"Unspecified | Restricted\", \"Unspecified | Unspecified\", \"Unspecified | Unrestricted\",\n",
    "    \"Commercial | Restricted\", \"Commercial | Unspecified\", \"Commercial | Unrestricted\"\n",
    "]\n",
    "LICENSE_TERMS_PALETTE = [\n",
    "    '#9d354f', '#c24262', '#e04c71',\n",
    "    '#9d9066', '#c2b27f', '#e0cd92',\n",
    "    '#5b7f91', '#719db3', '#82b5cf',\n",
    "]\n",
    "\n",
    "LICENSE_PLOTW = 400\n",
    "LICENSE_PLOTH = 100\n",
    "YEAR_CATEGORIES = [\"Unknown\", \"<2013\", *list(map(str, range(2013, 2025)))]\n",
    "\n",
    "# Read constants\n",
    "all_constants = io.read_all_constants(\"../../constants/\")\n",
    "\n",
    "# Read Terms data\n",
    "collection_to_terms_mapper = multimodal_util.load_terms_metadata(\"data/multimodal_terms_data\")\n",
    "\n",
    "# Read individual modality summaries\n",
    "text_summaries = io.read_data_summary_json(\"../../data_summaries/\")\n",
    "logging.info(\"Checking Text Data Summaries against Constants\")\n",
    "# analysis_util.check_datasummary_in_constants(text_summaries, all_constants)\n",
    "\n",
    "speech_summaries = io.read_data_summary_json(\"../../data_summaries-speech/\")\n",
    "logging.info(\"Checking Speech Data Summaries against Constants\")\n",
    "# analysis_util.check_datasummary_in_constants(speech_summaries, all_constants)\n",
    "\n",
    "video_summaries = io.read_data_summary_json(\"../../data_summaries-video/\")\n",
    "logging.info(\"Checking Video Data Summaries against Constants\")\n",
    "# analysis_util.check_datasummary_in_constants(video_summaries, all_constants)\n"
   ]
  },
  {
   "cell_type": "code",
   "execution_count": 13,
   "metadata": {},
   "outputs": [],
   "source": [
    "collection_to_terms_mapper.get(\"Glaive Code Assistant v3\")"
   ]
  },
  {
   "cell_type": "code",
   "execution_count": 17,
   "metadata": {},
   "outputs": [],
   "source": [
    "# Prep dataframes\n",
    "df = multimodal_util.prep_summaries_for_visualization(\n",
    "    text_summaries,\n",
    "    speech_summaries,\n",
    "    video_summaries,\n",
    "    all_constants,\n",
    "    collection_to_terms_mapper,\n",
    "    YEAR_CATEGORIES,\n",
    "    LICENSE_ORDER,\n",
    ")"
   ]
  },
  {
   "cell_type": "code",
   "execution_count": 435,
   "metadata": {},
   "outputs": [],
   "source": [
    "# df_text = df[df[\"Modality\"] == \"Text\"]\n",
    "# nan_rows = df_text[df_text[\"Total Tokens\"].isna()]\n",
    "# print(nan_rows[[\"Collection\", \"Total Tokens\"]])\n",
    "# print(nan_rows[\"Collection\"].unique())"
   ]
  },
  {
   "cell_type": "code",
   "execution_count": 26,
   "metadata": {},
   "outputs": [
    {
     "data": {
      "text/plain": [
       "Data Terms\n",
       "Source Closed    3132\n",
       "Unspecified       310\n",
       "Unrestricted      256\n",
       "Model Closed      184\n",
       "Name: count, dtype: int64"
      ]
     },
     "execution_count": 26,
     "metadata": {},
     "output_type": "execute_result"
    }
   ],
   "source": [
    "df[\"Data Terms\"].value_counts()"
   ]
  },
  {
   "cell_type": "markdown",
   "metadata": {},
   "source": [
    "## License Use by Modality\n",
    "\n",
    "Show the proportion of license types by modality using a stacked bar chart (normalized). Licenses are mapped to a higher-level categorization: either **Non-Commercial/Academic**, **Unspecified**, or **Commercial** depending on the permisiveness of the original license."
   ]
  },
  {
   "cell_type": "code",
   "execution_count": 13,
   "metadata": {},
   "outputs": [],
   "source": [
    "# license_chart = multimodal_util.plot_license_terms_stacked_bar_chart_collections(\n",
    "#     df, \"License Type\", LICENSE_PALETTE, LICENSE_ORDER, LICENSE_PLOTW, LICENSE_PLOTH, PLOT_DIR, PLOT_PPI, return_license_table=False, configure_chart=True\n",
    "# )\n",
    "\n",
    "# license_chart"
   ]
  },
  {
   "cell_type": "code",
   "execution_count": 14,
   "metadata": {},
   "outputs": [],
   "source": [
    "# license_chart = multimodal_util.plot_license_terms_stacked_bar_chart_collections(\n",
    "#     df, \"License Type\", LICENSE_PALETTE, LICENSE_ORDER, LICENSE_PLOTW, LICENSE_PLOTH, PLOT_DIR, PLOT_PPI, return_license_table=False, configure_chart=False\n",
    "# )\n",
    "\n",
    "# license_chart"
   ]
  },
  {
   "cell_type": "code",
   "execution_count": 48,
   "metadata": {},
   "outputs": [
    {
     "name": "stderr",
     "output_type": "stream",
     "text": [
      "/home/vumichien/Detomo/Data-Provenance-Collection/src/analysis/../analysis/multimodal_util.py:1057: FutureWarning: The default of observed=False is deprecated and will be changed to True in a future version of pandas. Pass observed=False to retain current behavior or observed=True to adopt the future default and silence this warning.\n",
      "  df_grouped = df.groupby(['Modality', license_key]).size().reset_index(name='count')\n",
      "/home/vumichien/Detomo/Data-Provenance-Collection/src/analysis/../analysis/multimodal_util.py:1059: FutureWarning: The default of observed=False is deprecated and will be changed to True in a future version of pandas. Pass observed=False to retain current behavior or observed=True to adopt the future default and silence this warning.\n",
      "  # Add percentage column based on counts\n",
      "/home/vumichien/Detomo/Data-Provenance-Collection/src/analysis/../analysis/multimodal_util.py:1071: FutureWarning: The default of observed=False is deprecated and will be changed to True in a future version of pandas. Pass observed=False to retain current behavior or observed=True to adopt the future default and silence this warning.\n",
      "  \n",
      "/home/vumichien/Detomo/Data-Provenance-Collection/src/analysis/../analysis/multimodal_util.py:1253: FutureWarning: The default of observed=False is deprecated and will be changed to True in a future version of pandas. Pass observed=False to retain current behavior or observed=True to adopt the future default and silence this warning.\n",
      "  \n"
     ]
    },
    {
     "data": {
      "text/html": [
       "\n",
       "<style>\n",
       "  #altair-viz-8b4751be0041488b96f84c88564d2fd6.vega-embed {\n",
       "    width: 100%;\n",
       "    display: flex;\n",
       "  }\n",
       "\n",
       "  #altair-viz-8b4751be0041488b96f84c88564d2fd6.vega-embed details,\n",
       "  #altair-viz-8b4751be0041488b96f84c88564d2fd6.vega-embed details summary {\n",
       "    position: relative;\n",
       "  }\n",
       "</style>\n",
       "<div id=\"altair-viz-8b4751be0041488b96f84c88564d2fd6\"></div>\n",
       "<script type=\"text/javascript\">\n",
       "  var VEGA_DEBUG = (typeof VEGA_DEBUG == \"undefined\") ? {} : VEGA_DEBUG;\n",
       "  (function(spec, embedOpt){\n",
       "    let outputDiv = document.currentScript.previousElementSibling;\n",
       "    if (outputDiv.id !== \"altair-viz-8b4751be0041488b96f84c88564d2fd6\") {\n",
       "      outputDiv = document.getElementById(\"altair-viz-8b4751be0041488b96f84c88564d2fd6\");\n",
       "    }\n",
       "    const paths = {\n",
       "      \"vega\": \"https://cdn.jsdelivr.net/npm/vega@5?noext\",\n",
       "      \"vega-lib\": \"https://cdn.jsdelivr.net/npm/vega-lib?noext\",\n",
       "      \"vega-lite\": \"https://cdn.jsdelivr.net/npm/vega-lite@5.20.1?noext\",\n",
       "      \"vega-embed\": \"https://cdn.jsdelivr.net/npm/vega-embed@6?noext\",\n",
       "    };\n",
       "\n",
       "    function maybeLoadScript(lib, version) {\n",
       "      var key = `${lib.replace(\"-\", \"\")}_version`;\n",
       "      return (VEGA_DEBUG[key] == version) ?\n",
       "        Promise.resolve(paths[lib]) :\n",
       "        new Promise(function(resolve, reject) {\n",
       "          var s = document.createElement('script');\n",
       "          document.getElementsByTagName(\"head\")[0].appendChild(s);\n",
       "          s.async = true;\n",
       "          s.onload = () => {\n",
       "            VEGA_DEBUG[key] = version;\n",
       "            return resolve(paths[lib]);\n",
       "          };\n",
       "          s.onerror = () => reject(`Error loading script: ${paths[lib]}`);\n",
       "          s.src = paths[lib];\n",
       "        });\n",
       "    }\n",
       "\n",
       "    function showError(err) {\n",
       "      outputDiv.innerHTML = `<div class=\"error\" style=\"color:red;\">${err}</div>`;\n",
       "      throw err;\n",
       "    }\n",
       "\n",
       "    function displayChart(vegaEmbed) {\n",
       "      vegaEmbed(outputDiv, spec, embedOpt)\n",
       "        .catch(err => showError(`Javascript Error: ${err.message}<br>This usually means there's a typo in your chart specification. See the javascript console for the full traceback.`));\n",
       "    }\n",
       "\n",
       "    if(typeof define === \"function\" && define.amd) {\n",
       "      requirejs.config({paths});\n",
       "      require([\"vega-embed\"], displayChart, err => showError(`Error loading script: ${err.message}`));\n",
       "    } else {\n",
       "      maybeLoadScript(\"vega\", \"5\")\n",
       "        .then(() => maybeLoadScript(\"vega-lite\", \"5.20.1\"))\n",
       "        .then(() => maybeLoadScript(\"vega-embed\", \"6\"))\n",
       "        .catch(showError)\n",
       "        .then(() => displayChart(vegaEmbed));\n",
       "    }\n",
       "  })({\"config\": {\"title\": {\"font\": \"Times New Roman\"}, \"axis\": {\"labelFont\": \"Times New Roman\", \"titleFont\": \"Times New Roman\", \"labelFontSize\": 15, \"titleFontSize\": 15}, \"header\": {\"labelFont\": \"Times New Roman\", \"titleFont\": \"Times New Roman\"}, \"legend\": {\"labelFont\": \"Times New Roman\", \"titleFont\": \"Times New Roman\", \"columns\": 3, \"labelFontSize\": 15, \"labelLimit\": 400, \"orient\": \"bottom\", \"titleFontSize\": 15}, \"text\": {\"font\": \"Times New Roman\"}}, \"layer\": [{\"mark\": {\"type\": \"bar\"}, \"encoding\": {\"color\": {\"field\": \"License | Terms\", \"scale\": {\"domain\": [\"NC/Acad | Restricted\", \"NC/Acad | Unspecified\", \"NC/Acad | Unrestricted\", \"Unspecified | Restricted\", \"Unspecified | Unspecified\", \"Unspecified | Unrestricted\", \"Commercial | Restricted\", \"Commercial | Unspecified\", \"Commercial | Unrestricted\"], \"range\": [\"#9d354f\", \"#c24262\", \"#e04c71\", \"#9d9066\", \"#c2b27f\", \"#e0cd92\", \"#5b7f91\", \"#719db3\", \"#82b5cf\"]}, \"title\": \"License | Terms\", \"type\": \"nominal\"}, \"order\": {\"field\": \"order\", \"sort\": \"ascending\", \"type\": \"quantitative\"}, \"x\": {\"axis\": {\"format\": \"%\"}, \"field\": \"percentage\", \"stack\": \"normalize\", \"title\": \"\", \"type\": \"quantitative\"}, \"y\": {\"field\": \"Modality\", \"sort\": [\"Text\", \"Speech\", \"Video\"], \"title\": \"\", \"type\": \"nominal\"}}, \"title\": \"License Terms by Modality\"}, {\"mark\": {\"type\": \"text\", \"align\": \"center\", \"fontSize\": 15}, \"encoding\": {\"color\": {\"value\": \"white\"}, \"order\": {\"field\": \"order\", \"sort\": \"ascending\", \"type\": \"quantitative\"}, \"text\": {\"condition\": {\"test\": \"(datum.percentage > 10)\", \"field\": \"percentage\", \"format\": \".1f\", \"type\": \"quantitative\"}, \"value\": \"\"}, \"x\": {\"field\": \"midpoints\", \"type\": \"quantitative\"}, \"y\": {\"field\": \"Modality\", \"sort\": [\"Text\", \"Speech\", \"Video\"], \"title\": \"\", \"type\": \"nominal\"}}, \"title\": \"License Terms by Modality\"}], \"data\": {\"name\": \"data-99ce20aff82e403f3b17cb0de85ae186\"}, \"height\": 120, \"width\": 800, \"$schema\": \"https://vega.github.io/schema/vega-lite/v5.20.1.json\", \"datasets\": {\"data-99ce20aff82e403f3b17cb0de85ae186\": [{\"Modality\": \"Text\", \"License | Terms\": \"NC/Acad | Restricted\", \"percentage\": 45.09803921568628, \"metric\": \"count\", \"value\": 46, \"midpoints\": 0.22549019607843138}, {\"Modality\": \"Text\", \"License | Terms\": \"NC/Acad | Unspecified\", \"percentage\": 0.9803921568627451, \"metric\": \"count\", \"value\": 1, \"midpoints\": 0.4558823529411765}, {\"Modality\": \"Text\", \"License | Terms\": \"NC/Acad | Unrestricted\", \"percentage\": 3.9215686274509802, \"metric\": \"count\", \"value\": 4, \"midpoints\": 0.4803921568627451}, {\"Modality\": \"Text\", \"License | Terms\": \"Unspecified | Restricted\", \"percentage\": 11.76470588235294, \"metric\": \"count\", \"value\": 12, \"midpoints\": 0.5588235294117647}, {\"Modality\": \"Text\", \"License | Terms\": \"Unspecified | Unspecified\", \"percentage\": 0.9803921568627451, \"metric\": \"count\", \"value\": 1, \"midpoints\": 0.6225490196078431}, {\"Modality\": \"Text\", \"License | Terms\": \"Unspecified | Unrestricted\", \"percentage\": 0.0, \"metric\": \"count\", \"value\": 0, \"midpoints\": 0.6274509803921569}, {\"Modality\": \"Text\", \"License | Terms\": \"Commercial | Restricted\", \"percentage\": 25.49019607843137, \"metric\": \"count\", \"value\": 26, \"midpoints\": 0.7549019607843137}, {\"Modality\": \"Text\", \"License | Terms\": \"Commercial | Unspecified\", \"percentage\": 3.9215686274509802, \"metric\": \"count\", \"value\": 4, \"midpoints\": 0.9019607843137254}, {\"Modality\": \"Text\", \"License | Terms\": \"Commercial | Unrestricted\", \"percentage\": 7.8431372549019605, \"metric\": \"count\", \"value\": 8, \"midpoints\": 0.9607843137254902}, {\"Modality\": \"Speech\", \"License | Terms\": \"NC/Acad | Restricted\", \"percentage\": 9.473684210526317, \"metric\": \"count\", \"value\": 9, \"midpoints\": 0.04736842105263159}, {\"Modality\": \"Speech\", \"License | Terms\": \"NC/Acad | Unspecified\", \"percentage\": 9.473684210526317, \"metric\": \"count\", \"value\": 9, \"midpoints\": 0.14210526315789476}, {\"Modality\": \"Speech\", \"License | Terms\": \"NC/Acad | Unrestricted\", \"percentage\": 13.684210526315791, \"metric\": \"count\", \"value\": 13, \"midpoints\": 0.2578947368421053}, {\"Modality\": \"Speech\", \"License | Terms\": \"Unspecified | Restricted\", \"percentage\": 6.315789473684211, \"metric\": \"count\", \"value\": 6, \"midpoints\": 0.35789473684210527}, {\"Modality\": \"Speech\", \"License | Terms\": \"Unspecified | Unspecified\", \"percentage\": 0.0, \"metric\": \"count\", \"value\": 0, \"midpoints\": 0.38947368421052636}, {\"Modality\": \"Speech\", \"License | Terms\": \"Unspecified | Unrestricted\", \"percentage\": 7.368421052631578, \"metric\": \"count\", \"value\": 7, \"midpoints\": 0.42631578947368426}, {\"Modality\": \"Speech\", \"License | Terms\": \"Commercial | Restricted\", \"percentage\": 7.368421052631578, \"metric\": \"count\", \"value\": 7, \"midpoints\": 0.5}, {\"Modality\": \"Speech\", \"License | Terms\": \"Commercial | Unspecified\", \"percentage\": 18.947368421052634, \"metric\": \"count\", \"value\": 18, \"midpoints\": 0.631578947368421}, {\"Modality\": \"Speech\", \"License | Terms\": \"Commercial | Unrestricted\", \"percentage\": 27.368421052631582, \"metric\": \"count\", \"value\": 26, \"midpoints\": 0.8631578947368422}, {\"Modality\": \"Video\", \"License | Terms\": \"NC/Acad | Restricted\", \"percentage\": 21.428571428571427, \"metric\": \"count\", \"value\": 21, \"midpoints\": 0.10714285714285714}, {\"Modality\": \"Video\", \"License | Terms\": \"NC/Acad | Unspecified\", \"percentage\": 0.0, \"metric\": \"count\", \"value\": 0, \"midpoints\": 0.21428571428571427}, {\"Modality\": \"Video\", \"License | Terms\": \"NC/Acad | Unrestricted\", \"percentage\": 10.204081632653061, \"metric\": \"count\", \"value\": 10, \"midpoints\": 0.2653061224489796}, {\"Modality\": \"Video\", \"License | Terms\": \"Unspecified | Restricted\", \"percentage\": 24.489795918367346, \"metric\": \"count\", \"value\": 24, \"midpoints\": 0.4387755102040816}, {\"Modality\": \"Video\", \"License | Terms\": \"Unspecified | Unspecified\", \"percentage\": 1.0204081632653061, \"metric\": \"count\", \"value\": 1, \"midpoints\": 0.5663265306122449}, {\"Modality\": \"Video\", \"License | Terms\": \"Unspecified | Unrestricted\", \"percentage\": 12.244897959183673, \"metric\": \"count\", \"value\": 12, \"midpoints\": 0.6326530612244898}, {\"Modality\": \"Video\", \"License | Terms\": \"Commercial | Restricted\", \"percentage\": 22.448979591836736, \"metric\": \"count\", \"value\": 22, \"midpoints\": 0.8061224489795918}, {\"Modality\": \"Video\", \"License | Terms\": \"Commercial | Unspecified\", \"percentage\": 0.0, \"metric\": \"count\", \"value\": 0, \"midpoints\": 0.9183673469387754}, {\"Modality\": \"Video\", \"License | Terms\": \"Commercial | Unrestricted\", \"percentage\": 8.16326530612245, \"metric\": \"count\", \"value\": 8, \"midpoints\": 0.9591836734693877}]}}, {\"mode\": \"vega-lite\"});\n",
       "</script>"
      ],
      "text/plain": [
       "alt.LayerChart(...)"
      ]
     },
     "execution_count": 48,
     "metadata": {},
     "output_type": "execute_result"
    }
   ],
   "source": [
    "LICENSE_TERMS_MODALITY_ORDER = [\"Text\", \"Speech\", \"Video\"]\n",
    "\n",
    "license_terms_chart, license_terms_table = multimodal_util.plot_license_terms_stacked_bar_chart_collections(\n",
    "    df, \"License | Terms\", LICENSE_TERMS_PALETTE, LICENSE_TERMS_ORDER_VARIANT, LICENSE_TERMS_MODALITY_ORDER, 800, 120, PLOT_DIR, PLOT_PPI\n",
    ")\n",
    "\n",
    "license_terms_chart"
   ]
  },
  {
   "cell_type": "code",
   "execution_count": 996,
   "metadata": {},
   "outputs": [
    {
     "name": "stdout",
     "output_type": "stream",
     "text": [
      "\\begin{table*}[t!]\n",
      "\\centering\n",
      "\\begin{adjustbox}{width=0.98\\textwidth}\n",
      "\\begin{tabular}{l|rrrr|r}\n",
      "\\toprule\n",
      "\\textsc{License / Terms} & \\textsc{Model Closed} & \\textsc{Source Closed} & \\textsc{Unspecified} & \\textsc{Unrestricted} & \\textsc{Total} \\\\\n",
      "\\midrule\n",
      "\\textsc{NC/Acad} & 0.0 & 21.4 & 0.0 & 10.2 & 31.6 \\\\\n",
      "\\textsc{Unspecified} & 0.0 & 24.5 & 1.0 & 12.2 & 37.8 \\\\\n",
      "\\textsc{Commercial} & 0.0 & 22.4 & 0.0 & 8.2 & 30.6 \\\\\n",
      "\\midrule\n",
      "\\textsc{Total} & 0.0 & 68.4 & 1.0 & 30.6 & 100.0 \\\\\n",
      "\\bottomrule\n",
      "\\end{tabular}\n",
      "\\end{adjustbox}\n",
      "\\caption{\\textbf{A breakdown of Video Dataset licenses, and the Terms attached to their sources.} Among Video datasets, while only 31.6\\% are Non-Commerically licensed, or have 68.4\\% have restrictive terms, a full 78.6\\% of datasets have either a restrictive license or terms.}\n",
      "\\label{tab:video_license_terms_breakdown}\n",
      "\\end{table*}\n",
      "\n"
     ]
    }
   ],
   "source": [
    "# import json\n",
    "print(license_terms_table[\"Video\"])"
   ]
  },
  {
   "cell_type": "code",
   "execution_count": null,
   "metadata": {},
   "outputs": [],
   "source": [
    "# print(license_terms_table[\"Video\"])"
   ]
  },
  {
   "cell_type": "markdown",
   "metadata": {},
   "source": [
    "## Visualize Creator Categories (e.g. Academic, Industry) by Modality\n",
    "\n",
    "Show the distribution of creator categories across modalities. Plots a normalized stacked bar chart, and also donut/pie for comparison (for now).\n",
    "\n",
    "- `df_categories`: DataFrame unlisted to handle multiple creator categories."
   ]
  },
  {
   "cell_type": "code",
   "execution_count": 13,
   "metadata": {},
   "outputs": [],
   "source": [
    "# Plotting constants\n",
    "CREATORCATEGORY_ORDER = [\"Academic\", \"Research Group\", \"Industry Lab\", \"Corporation\", \"Startup\", \"Other\", \"Government\", \"Unspecified\"]\n",
    "CREATORCATEGORY_MODALITY_ORDER = [\"Text\", \"Speech\", \"Video\"]\n",
    "CREATORCATEGORY_PALETTE = [\"#CF4E9CFF\", \"#8C57A2FF\", \"#358DB9FF\", \"#82581FFF\", \"#2F509EFF\", \"#E5614CFF\", \"#97A1A7FF\", \"#2E2A2BFF\"]\n",
    "CREATORCATEGORY_PLOTW = 800\n",
    "CREATORCATEGORY_PLOTH = 120"
   ]
  },
  {
   "cell_type": "code",
   "execution_count": 20,
   "metadata": {},
   "outputs": [
    {
     "name": "stderr",
     "output_type": "stream",
     "text": [
      "/home/vumichien/Detomo/Data-Provenance-Collection/src/analysis/../analysis/multimodal_util.py:548: FutureWarning: The default of observed=False is deprecated and will be changed to True in a future version of pandas. Pass observed=False to retain current behavior or observed=True to adopt the future default and silence this warning.\n",
      "  df_grouped = df_categories.groupby(['Modality', \"Creator Categories\"]).size().reset_index(name='count')\n"
     ]
    },
    {
     "data": {
      "text/html": [
       "\n",
       "<style>\n",
       "  #altair-viz-8d1a50669fbb474ea4d3e84fee7edcad.vega-embed {\n",
       "    width: 100%;\n",
       "    display: flex;\n",
       "  }\n",
       "\n",
       "  #altair-viz-8d1a50669fbb474ea4d3e84fee7edcad.vega-embed details,\n",
       "  #altair-viz-8d1a50669fbb474ea4d3e84fee7edcad.vega-embed details summary {\n",
       "    position: relative;\n",
       "  }\n",
       "</style>\n",
       "<div id=\"altair-viz-8d1a50669fbb474ea4d3e84fee7edcad\"></div>\n",
       "<script type=\"text/javascript\">\n",
       "  var VEGA_DEBUG = (typeof VEGA_DEBUG == \"undefined\") ? {} : VEGA_DEBUG;\n",
       "  (function(spec, embedOpt){\n",
       "    let outputDiv = document.currentScript.previousElementSibling;\n",
       "    if (outputDiv.id !== \"altair-viz-8d1a50669fbb474ea4d3e84fee7edcad\") {\n",
       "      outputDiv = document.getElementById(\"altair-viz-8d1a50669fbb474ea4d3e84fee7edcad\");\n",
       "    }\n",
       "    const paths = {\n",
       "      \"vega\": \"https://cdn.jsdelivr.net/npm/vega@5?noext\",\n",
       "      \"vega-lib\": \"https://cdn.jsdelivr.net/npm/vega-lib?noext\",\n",
       "      \"vega-lite\": \"https://cdn.jsdelivr.net/npm/vega-lite@5.20.1?noext\",\n",
       "      \"vega-embed\": \"https://cdn.jsdelivr.net/npm/vega-embed@6?noext\",\n",
       "    };\n",
       "\n",
       "    function maybeLoadScript(lib, version) {\n",
       "      var key = `${lib.replace(\"-\", \"\")}_version`;\n",
       "      return (VEGA_DEBUG[key] == version) ?\n",
       "        Promise.resolve(paths[lib]) :\n",
       "        new Promise(function(resolve, reject) {\n",
       "          var s = document.createElement('script');\n",
       "          document.getElementsByTagName(\"head\")[0].appendChild(s);\n",
       "          s.async = true;\n",
       "          s.onload = () => {\n",
       "            VEGA_DEBUG[key] = version;\n",
       "            return resolve(paths[lib]);\n",
       "          };\n",
       "          s.onerror = () => reject(`Error loading script: ${paths[lib]}`);\n",
       "          s.src = paths[lib];\n",
       "        });\n",
       "    }\n",
       "\n",
       "    function showError(err) {\n",
       "      outputDiv.innerHTML = `<div class=\"error\" style=\"color:red;\">${err}</div>`;\n",
       "      throw err;\n",
       "    }\n",
       "\n",
       "    function displayChart(vegaEmbed) {\n",
       "      vegaEmbed(outputDiv, spec, embedOpt)\n",
       "        .catch(err => showError(`Javascript Error: ${err.message}<br>This usually means there's a typo in your chart specification. See the javascript console for the full traceback.`));\n",
       "    }\n",
       "\n",
       "    if(typeof define === \"function\" && define.amd) {\n",
       "      requirejs.config({paths});\n",
       "      require([\"vega-embed\"], displayChart, err => showError(`Error loading script: ${err.message}`));\n",
       "    } else {\n",
       "      maybeLoadScript(\"vega\", \"5\")\n",
       "        .then(() => maybeLoadScript(\"vega-lite\", \"5.20.1\"))\n",
       "        .then(() => maybeLoadScript(\"vega-embed\", \"6\"))\n",
       "        .catch(showError)\n",
       "        .then(() => displayChart(vegaEmbed));\n",
       "    }\n",
       "  })({\"config\": {\"title\": {\"font\": \"Times New Roman\"}, \"axis\": {\"labelFont\": \"Times New Roman\", \"titleFont\": \"Times New Roman\", \"labelFontSize\": 15, \"titleFontSize\": 15}, \"header\": {\"labelFont\": \"Times New Roman\", \"titleFont\": \"Times New Roman\"}, \"legend\": {\"labelFont\": \"Times New Roman\", \"titleFont\": \"Times New Roman\", \"columns\": 8, \"labelFontSize\": 14, \"labelLimit\": 200, \"orient\": \"bottom\", \"titleFontSize\": 15}, \"text\": {\"font\": \"Times New Roman\"}}, \"layer\": [{\"mark\": {\"type\": \"bar\"}, \"encoding\": {\"color\": {\"field\": \"Creator Categories\", \"sort\": [\"Academic\", \"Research Group\", \"Industry Lab\", \"Corporation\", \"Startup\", \"Other\", \"Government\", \"Unspecified\"], \"title\": \"Creator Category\", \"type\": \"nominal\"}, \"order\": {\"field\": \"order\", \"type\": \"quantitative\"}, \"x\": {\"axis\": {\"format\": \"%\"}, \"field\": \"percentage\", \"stack\": \"normalize\", \"title\": \"\", \"type\": \"quantitative\"}, \"y\": {\"field\": \"Modality\", \"sort\": [\"Text\", \"Speech\", \"Video\"], \"title\": \"\", \"type\": \"nominal\"}}}, {\"mark\": {\"type\": \"text\", \"align\": \"center\", \"fontSize\": 14}, \"encoding\": {\"color\": {\"value\": \"white\"}, \"order\": {\"field\": \"order\", \"type\": \"quantitative\"}, \"text\": {\"condition\": {\"test\": \"(datum.percentage > 10)\", \"field\": \"percentage\", \"format\": \".1f\", \"type\": \"quantitative\"}, \"value\": \"\"}, \"x\": {\"field\": \"midpoints\", \"type\": \"quantitative\"}, \"y\": {\"field\": \"Modality\", \"sort\": [\"Text\", \"Speech\", \"Video\"], \"title\": \"\", \"type\": \"nominal\"}}}], \"data\": {\"name\": \"data-dc1347b64f8df2ee41bd27ad3c671736\"}, \"height\": 120, \"width\": 800, \"$schema\": \"https://vega.github.io/schema/vega-lite/v5.20.1.json\", \"datasets\": {\"data-dc1347b64f8df2ee41bd27ad3c671736\": [{\"Modality\": \"Speech\", \"Creator Categories\": \"Academic\", \"count\": 87, \"percentage\": 47.28260869565217, \"midpoints\": 0.23641304347826086}, {\"Modality\": \"Speech\", \"Creator Categories\": \"Research Group\", \"count\": 11, \"percentage\": 5.978260869565218, \"midpoints\": 0.5027173913043478}, {\"Modality\": \"Speech\", \"Creator Categories\": \"Industry Lab\", \"count\": 13, \"percentage\": 7.065217391304348, \"midpoints\": 0.5679347826086957}, {\"Modality\": \"Speech\", \"Creator Categories\": \"Corporation\", \"count\": 28, \"percentage\": 15.217391304347828, \"midpoints\": 0.6793478260869565}, {\"Modality\": \"Speech\", \"Creator Categories\": \"Startup\", \"count\": 19, \"percentage\": 10.326086956521738, \"midpoints\": 0.8070652173913043}, {\"Modality\": \"Speech\", \"Creator Categories\": \"Other\", \"count\": 15, \"percentage\": 8.152173913043478, \"midpoints\": 0.8994565217391304}, {\"Modality\": \"Speech\", \"Creator Categories\": \"Government\", \"count\": 11, \"percentage\": 5.978260869565218, \"midpoints\": 0.970108695652174}, {\"Modality\": \"Speech\", \"Creator Categories\": \"Unspecified\", \"count\": 0, \"percentage\": 0.0, \"midpoints\": 1.0}, {\"Modality\": \"Text\", \"Creator Categories\": \"Academic\", \"count\": 62, \"percentage\": 34.25414364640884, \"midpoints\": 0.1712707182320442}, {\"Modality\": \"Text\", \"Creator Categories\": \"Research Group\", \"count\": 24, \"percentage\": 13.259668508287293, \"midpoints\": 0.4088397790055249}, {\"Modality\": \"Text\", \"Creator Categories\": \"Industry Lab\", \"count\": 28, \"percentage\": 15.469613259668508, \"midpoints\": 0.5524861878453039}, {\"Modality\": \"Text\", \"Creator Categories\": \"Corporation\", \"count\": 21, \"percentage\": 11.602209944751381, \"midpoints\": 0.6878453038674033}, {\"Modality\": \"Text\", \"Creator Categories\": \"Startup\", \"count\": 25, \"percentage\": 13.812154696132598, \"midpoints\": 0.8149171270718233}, {\"Modality\": \"Text\", \"Creator Categories\": \"Other\", \"count\": 4, \"percentage\": 2.209944751381215, \"midpoints\": 0.8950276243093923}, {\"Modality\": \"Text\", \"Creator Categories\": \"Government\", \"count\": 4, \"percentage\": 2.209944751381215, \"midpoints\": 0.9171270718232044}, {\"Modality\": \"Text\", \"Creator Categories\": \"Unspecified\", \"count\": 13, \"percentage\": 7.18232044198895, \"midpoints\": 0.9640883977900553}, {\"Modality\": \"Video\", \"Creator Categories\": \"Academic\", \"count\": 129, \"percentage\": 70.1086956521739, \"midpoints\": 0.3505434782608695}, {\"Modality\": \"Video\", \"Creator Categories\": \"Research Group\", \"count\": 11, \"percentage\": 5.978260869565218, \"midpoints\": 0.7309782608695652}, {\"Modality\": \"Video\", \"Creator Categories\": \"Industry Lab\", \"count\": 17, \"percentage\": 9.239130434782608, \"midpoints\": 0.8070652173913042}, {\"Modality\": \"Video\", \"Creator Categories\": \"Corporation\", \"count\": 20, \"percentage\": 10.869565217391305, \"midpoints\": 0.907608695652174}, {\"Modality\": \"Video\", \"Creator Categories\": \"Startup\", \"count\": 1, \"percentage\": 0.5434782608695652, \"midpoints\": 0.9646739130434782}, {\"Modality\": \"Video\", \"Creator Categories\": \"Other\", \"count\": 5, \"percentage\": 2.717391304347826, \"midpoints\": 0.980978260869565}, {\"Modality\": \"Video\", \"Creator Categories\": \"Government\", \"count\": 1, \"percentage\": 0.5434782608695652, \"midpoints\": 0.997282608695652}, {\"Modality\": \"Video\", \"Creator Categories\": \"Unspecified\", \"count\": 0, \"percentage\": 0.0, \"midpoints\": 0.9999999999999999}]}}, {\"mode\": \"vega-lite\"});\n",
       "</script>"
      ],
      "text/plain": [
       "alt.LayerChart(...)"
      ]
     },
     "execution_count": 20,
     "metadata": {},
     "output_type": "execute_result"
    }
   ],
   "source": [
    "creator_chart = multimodal_util.plot_stacked_creator_categories(\n",
    "    df, CREATORCATEGORY_ORDER, CREATORCATEGORY_MODALITY_ORDER, CREATORCATEGORY_PALETTE, CREATORCATEGORY_PLOTW, CREATORCATEGORY_PLOTH, PLOT_DIR, collection_level=True\n",
    ")\n",
    "\n",
    "creator_chart"
   ]
  },
  {
   "cell_type": "code",
   "execution_count": 17,
   "metadata": {},
   "outputs": [],
   "source": [
    "# multimodal_util.plot_donut_creator_categories(\n",
    "#     df, CREATORCATEGORY_ORDER, CREATORCATEGORY_PALETTE, CREATORCATEGORY_PLOTH, PLOT_DIR\n",
    "# )"
   ]
  },
  {
   "cell_type": "markdown",
   "metadata": {},
   "source": [
    "## Visualize Dataset Count by Creator Country/Region and Modality\n",
    "\n",
    "Global distribution of datasets by modality. Uses a world map with color-coded regions to indicate the count of datasets from different regions.\n",
    "\n",
    "- `df_countries`: DataFrame with country codes for plotting.\n",
    "- `base`: Base map (shared across all modalities).\n",
    "- `charts`: List of modality-specific maps (to concatenate into facets)."
   ]
  },
  {
   "cell_type": "code",
   "execution_count": 677,
   "metadata": {},
   "outputs": [],
   "source": [
    "# Plotting constants\n",
    "CREATORCOUNTRY_PLOTDIM = 400\n",
    "MODALITY_COLORS = {\n",
    "    \"Text\": \"reds\",\n",
    "    \"Speech\": \"blues\",\n",
    "    \"Video\": \"greens\"\n",
    "}"
   ]
  },
  {
   "cell_type": "code",
   "execution_count": 858,
   "metadata": {},
   "outputs": [
    {
     "name": "stdout",
     "output_type": "stream",
     "text": [
      "WARNING:root:Could not find country for International/Other/Unknown\n"
     ]
    },
    {
     "data": {
      "text/html": [
       "\n",
       "<style>\n",
       "  #altair-viz-fe20d1aa0ae9486684dc5cdaa28f8932.vega-embed {\n",
       "    width: 100%;\n",
       "    display: flex;\n",
       "  }\n",
       "\n",
       "  #altair-viz-fe20d1aa0ae9486684dc5cdaa28f8932.vega-embed details,\n",
       "  #altair-viz-fe20d1aa0ae9486684dc5cdaa28f8932.vega-embed details summary {\n",
       "    position: relative;\n",
       "  }\n",
       "</style>\n",
       "<div id=\"altair-viz-fe20d1aa0ae9486684dc5cdaa28f8932\"></div>\n",
       "<script type=\"text/javascript\">\n",
       "  var VEGA_DEBUG = (typeof VEGA_DEBUG == \"undefined\") ? {} : VEGA_DEBUG;\n",
       "  (function(spec, embedOpt){\n",
       "    let outputDiv = document.currentScript.previousElementSibling;\n",
       "    if (outputDiv.id !== \"altair-viz-fe20d1aa0ae9486684dc5cdaa28f8932\") {\n",
       "      outputDiv = document.getElementById(\"altair-viz-fe20d1aa0ae9486684dc5cdaa28f8932\");\n",
       "    }\n",
       "    const paths = {\n",
       "      \"vega\": \"https://cdn.jsdelivr.net/npm/vega@5?noext\",\n",
       "      \"vega-lib\": \"https://cdn.jsdelivr.net/npm/vega-lib?noext\",\n",
       "      \"vega-lite\": \"https://cdn.jsdelivr.net/npm/vega-lite@5.20.1?noext\",\n",
       "      \"vega-embed\": \"https://cdn.jsdelivr.net/npm/vega-embed@6?noext\",\n",
       "    };\n",
       "\n",
       "    function maybeLoadScript(lib, version) {\n",
       "      var key = `${lib.replace(\"-\", \"\")}_version`;\n",
       "      return (VEGA_DEBUG[key] == version) ?\n",
       "        Promise.resolve(paths[lib]) :\n",
       "        new Promise(function(resolve, reject) {\n",
       "          var s = document.createElement('script');\n",
       "          document.getElementsByTagName(\"head\")[0].appendChild(s);\n",
       "          s.async = true;\n",
       "          s.onload = () => {\n",
       "            VEGA_DEBUG[key] = version;\n",
       "            return resolve(paths[lib]);\n",
       "          };\n",
       "          s.onerror = () => reject(`Error loading script: ${paths[lib]}`);\n",
       "          s.src = paths[lib];\n",
       "        });\n",
       "    }\n",
       "\n",
       "    function showError(err) {\n",
       "      outputDiv.innerHTML = `<div class=\"error\" style=\"color:red;\">${err}</div>`;\n",
       "      throw err;\n",
       "    }\n",
       "\n",
       "    function displayChart(vegaEmbed) {\n",
       "      vegaEmbed(outputDiv, spec, embedOpt)\n",
       "        .catch(err => showError(`Javascript Error: ${err.message}<br>This usually means there's a typo in your chart specification. See the javascript console for the full traceback.`));\n",
       "    }\n",
       "\n",
       "    if(typeof define === \"function\" && define.amd) {\n",
       "      requirejs.config({paths});\n",
       "      require([\"vega-embed\"], displayChart, err => showError(`Error loading script: ${err.message}`));\n",
       "    } else {\n",
       "      maybeLoadScript(\"vega\", \"5\")\n",
       "        .then(() => maybeLoadScript(\"vega-lite\", \"5.20.1\"))\n",
       "        .then(() => maybeLoadScript(\"vega-embed\", \"6\"))\n",
       "        .catch(showError)\n",
       "        .then(() => displayChart(vegaEmbed));\n",
       "    }\n",
       "  })({\"config\": {\"title\": {\"font\": \"Times New Roman\"}, \"axis\": {\"labelFont\": \"Times New Roman\", \"titleFont\": \"Times New Roman\"}, \"header\": {\"labelFont\": \"Times New Roman\", \"titleFont\": \"Times New Roman\"}, \"legend\": {\"labelFont\": \"Times New Roman\", \"titleFont\": \"Times New Roman\"}, \"text\": {\"font\": \"Times New Roman\"}}, \"hconcat\": [{\"mark\": {\"type\": \"geoshape\", \"stroke\": \"white\"}, \"encoding\": {\"color\": {\"field\": \"Count\", \"legend\": null, \"scale\": {\"scheme\": \"reds\", \"type\": \"symlog\"}, \"title\": \"Datasets\", \"type\": \"quantitative\"}, \"tooltip\": [{\"field\": \"Countries\", \"type\": \"nominal\"}, {\"field\": \"Count\", \"type\": \"quantitative\"}, {\"field\": \"Modality\", \"type\": \"nominal\"}]}, \"height\": 200, \"projection\": {\"type\": \"equalEarth\"}, \"title\": \"Text\", \"transform\": [{\"lookup\": \"id\", \"from\": {\"data\": {\"name\": \"data-1321a573e677a82dae10ce47aa6568db\"}, \"key\": \"Country ID\", \"fields\": [\"Count\", \"Modality\", \"Countries\"]}}, {\"calculate\": \"isValid(datum.Count) ? datum.Count : 0\", \"as\": \"Count\"}, {\"calculate\": \"isValid(datum.Modality) ? datum.Modality : ''\", \"as\": \"Modality\"}, {\"calculate\": \"isValid(datum.Countries) ? datum.Countries : ''\", \"as\": \"Countries\"}], \"width\": 400}, {\"mark\": {\"type\": \"geoshape\", \"stroke\": \"white\"}, \"encoding\": {\"color\": {\"field\": \"Count\", \"legend\": null, \"scale\": {\"scheme\": \"blues\", \"type\": \"symlog\"}, \"title\": \"Datasets\", \"type\": \"quantitative\"}, \"tooltip\": [{\"field\": \"Countries\", \"type\": \"nominal\"}, {\"field\": \"Count\", \"type\": \"quantitative\"}, {\"field\": \"Modality\", \"type\": \"nominal\"}]}, \"height\": 200, \"projection\": {\"type\": \"equalEarth\"}, \"title\": \"Speech\", \"transform\": [{\"lookup\": \"id\", \"from\": {\"data\": {\"name\": \"data-1560a692d03b5a67806ad43f3596d477\"}, \"key\": \"Country ID\", \"fields\": [\"Count\", \"Modality\", \"Countries\"]}}, {\"calculate\": \"isValid(datum.Count) ? datum.Count : 0\", \"as\": \"Count\"}, {\"calculate\": \"isValid(datum.Modality) ? datum.Modality : ''\", \"as\": \"Modality\"}, {\"calculate\": \"isValid(datum.Countries) ? datum.Countries : ''\", \"as\": \"Countries\"}], \"width\": 400}, {\"mark\": {\"type\": \"geoshape\", \"stroke\": \"white\"}, \"encoding\": {\"color\": {\"field\": \"Count\", \"legend\": null, \"scale\": {\"scheme\": \"greens\", \"type\": \"symlog\"}, \"title\": \"Datasets\", \"type\": \"quantitative\"}, \"tooltip\": [{\"field\": \"Countries\", \"type\": \"nominal\"}, {\"field\": \"Count\", \"type\": \"quantitative\"}, {\"field\": \"Modality\", \"type\": \"nominal\"}]}, \"height\": 200, \"projection\": {\"type\": \"equalEarth\"}, \"title\": \"Video\", \"transform\": [{\"lookup\": \"id\", \"from\": {\"data\": {\"name\": \"data-7e5e21c068a4c7fe1fb89fae2daf380c\"}, \"key\": \"Country ID\", \"fields\": [\"Count\", \"Modality\", \"Countries\"]}}, {\"calculate\": \"isValid(datum.Count) ? datum.Count : 0\", \"as\": \"Count\"}, {\"calculate\": \"isValid(datum.Modality) ? datum.Modality : ''\", \"as\": \"Modality\"}, {\"calculate\": \"isValid(datum.Countries) ? datum.Countries : ''\", \"as\": \"Countries\"}], \"width\": 400}], \"data\": {\"url\": \"https://cdn.jsdelivr.net/npm/vega-datasets@v1.29.0/data/world-110m.json\", \"format\": {\"feature\": \"countries\", \"type\": \"topojson\"}}, \"resolve\": {\"scale\": {\"color\": \"independent\"}}, \"spacing\": -400, \"$schema\": \"https://vega.github.io/schema/vega-lite/v5.20.1.json\", \"datasets\": {\"data-1321a573e677a82dae10ce47aa6568db\": [{\"Countries\": \"United States of America\", \"Modality\": \"Text\", \"Count\": 4027, \"Country ID\": \"840\"}, {\"Countries\": \"United Kingdom\", \"Modality\": \"Text\", \"Count\": 529, \"Country ID\": \"826\"}, {\"Countries\": \"China\", \"Modality\": \"Text\", \"Count\": 321, \"Country ID\": \"156\"}, {\"Countries\": \"Germany\", \"Modality\": \"Text\", \"Count\": 194, \"Country ID\": \"276\"}, {\"Countries\": \"Canada\", \"Modality\": \"Text\", \"Count\": 153, \"Country ID\": \"124\"}, {\"Countries\": \"France\", \"Modality\": \"Text\", \"Count\": 151, \"Country ID\": \"250\"}, {\"Countries\": \"Finland\", \"Modality\": \"Text\", \"Count\": 120, \"Country ID\": \"246\"}, {\"Countries\": \"India\", \"Modality\": \"Text\", \"Count\": 93, \"Country ID\": \"356\"}, {\"Countries\": \"Singapore\", \"Modality\": \"Text\", \"Count\": 76, \"Country ID\": \"702\"}, {\"Countries\": \"Japan\", \"Modality\": \"Text\", \"Count\": 73, \"Country ID\": \"392\"}, {\"Countries\": \"South Korea\", \"Modality\": \"Text\", \"Count\": 61, \"Country ID\": \"410\"}, {\"Countries\": \"Italy\", \"Modality\": \"Text\", \"Count\": 57, \"Country ID\": \"380\"}, {\"Countries\": \"Bangladesh\", \"Modality\": \"Text\", \"Count\": 47, \"Country ID\": \"050\"}, {\"Countries\": \"Netherlands\", \"Modality\": \"Text\", \"Count\": 46, \"Country ID\": \"528\"}, {\"Countries\": \"Israel\", \"Modality\": \"Text\", \"Count\": 42, \"Country ID\": \"376\"}, {\"Countries\": \"Spain\", \"Modality\": \"Text\", \"Count\": 41, \"Country ID\": \"724\"}, {\"Countries\": \"Saudi Arabia\", \"Modality\": \"Text\", \"Count\": 39, \"Country ID\": \"682\"}, {\"Countries\": \"Greece\", \"Modality\": \"Text\", \"Count\": 39, \"Country ID\": \"300\"}, {\"Countries\": \"Denmark\", \"Modality\": \"Text\", \"Count\": 39, \"Country ID\": \"208\"}, {\"Countries\": \"Hong Kong\", \"Modality\": \"Text\", \"Count\": 38, \"Country ID\": \"344\"}, {\"Countries\": \"Switzerland\", \"Modality\": \"Text\", \"Count\": 37, \"Country ID\": \"756\"}, {\"Countries\": \"Czech Republic\", \"Modality\": \"Text\", \"Count\": 36, \"Country ID\": \"203\"}, {\"Countries\": \"Belgium\", \"Modality\": \"Text\", \"Count\": 33, \"Country ID\": \"056\"}, {\"Countries\": \"Iran\", \"Modality\": \"Text\", \"Count\": 26, \"Country ID\": \"364\"}, {\"Countries\": \"Taiwan\", \"Modality\": \"Text\", \"Count\": 25, \"Country ID\": \"158\"}, {\"Countries\": \"Australia\", \"Modality\": \"Text\", \"Count\": 20, \"Country ID\": \"036\"}, {\"Countries\": \"Indonesia\", \"Modality\": \"Text\", \"Count\": 13, \"Country ID\": \"360\"}, {\"Countries\": \"UAE\", \"Modality\": \"Text\", \"Count\": 12, \"Country ID\": \"784\"}, {\"Countries\": \"Ireland\", \"Modality\": \"Text\", \"Count\": 12, \"Country ID\": \"372\"}, {\"Countries\": \"Sweden\", \"Modality\": \"Text\", \"Count\": 11, \"Country ID\": \"752\"}, {\"Countries\": \"Poland\", \"Modality\": \"Text\", \"Count\": 10, \"Country ID\": \"616\"}, {\"Countries\": \"Philippines\", \"Modality\": \"Text\", \"Count\": 9, \"Country ID\": \"608\"}, {\"Countries\": \"Thailand\", \"Modality\": \"Text\", \"Count\": 7, \"Country ID\": \"764\"}, {\"Countries\": \"Qatar\", \"Modality\": \"Text\", \"Count\": 5, \"Country ID\": \"634\"}, {\"Countries\": \"Vietnam\", \"Modality\": \"Text\", \"Count\": 5, \"Country ID\": \"704\"}, {\"Countries\": \"Russia\", \"Modality\": \"Text\", \"Count\": 5, \"Country ID\": \"643\"}, {\"Countries\": \"Nigeria\", \"Modality\": \"Text\", \"Count\": 5, \"Country ID\": \"566\"}, {\"Countries\": \"New Zealand\", \"Modality\": \"Text\", \"Count\": 5, \"Country ID\": \"554\"}, {\"Countries\": \"Portugal\", \"Modality\": \"Text\", \"Count\": 3, \"Country ID\": \"620\"}, {\"Countries\": \"African Continent\", \"Modality\": \"Text\", \"Count\": 3, \"Country ID\": 12}, {\"Countries\": \"African Continent\", \"Modality\": \"Text\", \"Count\": 3, \"Country ID\": 24}, {\"Countries\": \"African Continent\", \"Modality\": \"Text\", \"Count\": 3, \"Country ID\": 204}, {\"Countries\": \"African Continent\", \"Modality\": \"Text\", \"Count\": 3, \"Country ID\": 72}, {\"Countries\": \"African Continent\", \"Modality\": \"Text\", \"Count\": 3, \"Country ID\": 86}, {\"Countries\": \"African Continent\", \"Modality\": \"Text\", \"Count\": 3, \"Country ID\": 854}, {\"Countries\": \"African Continent\", \"Modality\": \"Text\", \"Count\": 3, \"Country ID\": 108}, {\"Countries\": \"African Continent\", \"Modality\": \"Text\", \"Count\": 3, \"Country ID\": 132}, {\"Countries\": \"African Continent\", \"Modality\": \"Text\", \"Count\": 3, \"Country ID\": 120}, {\"Countries\": \"African Continent\", \"Modality\": \"Text\", \"Count\": 3, \"Country ID\": 140}, {\"Countries\": \"African Continent\", \"Modality\": \"Text\", \"Count\": 3, \"Country ID\": 148}, {\"Countries\": \"African Continent\", \"Modality\": \"Text\", \"Count\": 3, \"Country ID\": 174}, {\"Countries\": \"African Continent\", \"Modality\": \"Text\", \"Count\": 3, \"Country ID\": 178}, {\"Countries\": \"African Continent\", \"Modality\": \"Text\", \"Count\": 3, \"Country ID\": 180}, {\"Countries\": \"African Continent\", \"Modality\": \"Text\", \"Count\": 3, \"Country ID\": 384}, {\"Countries\": \"African Continent\", \"Modality\": \"Text\", \"Count\": 3, \"Country ID\": 262}, {\"Countries\": \"African Continent\", \"Modality\": \"Text\", \"Count\": 3, \"Country ID\": 818}, {\"Countries\": \"African Continent\", \"Modality\": \"Text\", \"Count\": 3, \"Country ID\": 226}, {\"Countries\": \"African Continent\", \"Modality\": \"Text\", \"Count\": 3, \"Country ID\": 232}, {\"Countries\": \"African Continent\", \"Modality\": \"Text\", \"Count\": 3, \"Country ID\": 748}, {\"Countries\": \"African Continent\", \"Modality\": \"Text\", \"Count\": 3, \"Country ID\": 231}, {\"Countries\": \"African Continent\", \"Modality\": \"Text\", \"Count\": 3, \"Country ID\": 260}, {\"Countries\": \"African Continent\", \"Modality\": \"Text\", \"Count\": 3, \"Country ID\": 266}, {\"Countries\": \"African Continent\", \"Modality\": \"Text\", \"Count\": 3, \"Country ID\": 270}, {\"Countries\": \"African Continent\", \"Modality\": \"Text\", \"Count\": 3, \"Country ID\": 288}, {\"Countries\": \"African Continent\", \"Modality\": \"Text\", \"Count\": 3, \"Country ID\": 324}, {\"Countries\": \"African Continent\", \"Modality\": \"Text\", \"Count\": 3, \"Country ID\": 624}, {\"Countries\": \"African Continent\", \"Modality\": \"Text\", \"Count\": 3, \"Country ID\": 404}, {\"Countries\": \"African Continent\", \"Modality\": \"Text\", \"Count\": 3, \"Country ID\": 426}, {\"Countries\": \"African Continent\", \"Modality\": \"Text\", \"Count\": 3, \"Country ID\": 430}, {\"Countries\": \"African Continent\", \"Modality\": \"Text\", \"Count\": 3, \"Country ID\": 434}, {\"Countries\": \"African Continent\", \"Modality\": \"Text\", \"Count\": 3, \"Country ID\": 450}, {\"Countries\": \"African Continent\", \"Modality\": \"Text\", \"Count\": 3, \"Country ID\": 454}, {\"Countries\": \"African Continent\", \"Modality\": \"Text\", \"Count\": 3, \"Country ID\": 466}, {\"Countries\": \"African Continent\", \"Modality\": \"Text\", \"Count\": 3, \"Country ID\": 478}, {\"Countries\": \"African Continent\", \"Modality\": \"Text\", \"Count\": 3, \"Country ID\": 480}, {\"Countries\": \"African Continent\", \"Modality\": \"Text\", \"Count\": 3, \"Country ID\": 175}, {\"Countries\": \"African Continent\", \"Modality\": \"Text\", \"Count\": 3, \"Country ID\": 504}, {\"Countries\": \"African Continent\", \"Modality\": \"Text\", \"Count\": 3, \"Country ID\": 508}, {\"Countries\": \"African Continent\", \"Modality\": \"Text\", \"Count\": 3, \"Country ID\": 516}, {\"Countries\": \"African Continent\", \"Modality\": \"Text\", \"Count\": 3, \"Country ID\": 562}, {\"Countries\": \"African Continent\", \"Modality\": \"Text\", \"Count\": 3, \"Country ID\": 566}, {\"Countries\": \"African Continent\", \"Modality\": \"Text\", \"Count\": 3, \"Country ID\": 638}, {\"Countries\": \"African Continent\", \"Modality\": \"Text\", \"Count\": 3, \"Country ID\": 646}, {\"Countries\": \"African Continent\", \"Modality\": \"Text\", \"Count\": 3, \"Country ID\": 654}, {\"Countries\": \"African Continent\", \"Modality\": \"Text\", \"Count\": 3, \"Country ID\": 678}, {\"Countries\": \"African Continent\", \"Modality\": \"Text\", \"Count\": 3, \"Country ID\": 686}, {\"Countries\": \"African Continent\", \"Modality\": \"Text\", \"Count\": 3, \"Country ID\": 690}, {\"Countries\": \"African Continent\", \"Modality\": \"Text\", \"Count\": 3, \"Country ID\": 694}, {\"Countries\": \"African Continent\", \"Modality\": \"Text\", \"Count\": 3, \"Country ID\": 706}, {\"Countries\": \"African Continent\", \"Modality\": \"Text\", \"Count\": 3, \"Country ID\": 710}, {\"Countries\": \"African Continent\", \"Modality\": \"Text\", \"Count\": 3, \"Country ID\": 728}, {\"Countries\": \"African Continent\", \"Modality\": \"Text\", \"Count\": 3, \"Country ID\": 729}, {\"Countries\": \"African Continent\", \"Modality\": \"Text\", \"Count\": 3, \"Country ID\": 834}, {\"Countries\": \"African Continent\", \"Modality\": \"Text\", \"Count\": 3, \"Country ID\": 768}, {\"Countries\": \"African Continent\", \"Modality\": \"Text\", \"Count\": 3, \"Country ID\": 788}, {\"Countries\": \"African Continent\", \"Modality\": \"Text\", \"Count\": 3, \"Country ID\": 800}, {\"Countries\": \"African Continent\", \"Modality\": \"Text\", \"Count\": 3, \"Country ID\": 732}, {\"Countries\": \"African Continent\", \"Modality\": \"Text\", \"Count\": 3, \"Country ID\": 894}, {\"Countries\": \"African Continent\", \"Modality\": \"Text\", \"Count\": 3, \"Country ID\": 716}, {\"Countries\": \"Brazil\", \"Modality\": \"Text\", \"Count\": 3, \"Country ID\": \"076\"}, {\"Countries\": \"Chile\", \"Modality\": \"Text\", \"Count\": 2, \"Country ID\": \"152\"}, {\"Countries\": \"Turkey\", \"Modality\": \"Text\", \"Count\": 2, \"Country ID\": \"792\"}, {\"Countries\": \"Romania\", \"Modality\": \"Text\", \"Count\": 2, \"Country ID\": \"642\"}, {\"Countries\": \"Austria\", \"Modality\": \"Text\", \"Count\": 2, \"Country ID\": \"040\"}, {\"Countries\": \"Myanmar\", \"Modality\": \"Text\", \"Count\": 2, \"Country ID\": \"104\"}, {\"Countries\": \"Norway\", \"Modality\": \"Text\", \"Count\": 2, \"Country ID\": \"578\"}, {\"Countries\": \"Cambodia\", \"Modality\": \"Text\", \"Count\": 1, \"Country ID\": \"116\"}, {\"Countries\": \"Ukraine\", \"Modality\": \"Text\", \"Count\": 1, \"Country ID\": \"804\"}, {\"Countries\": \"Bulgaria\", \"Modality\": \"Text\", \"Count\": 1, \"Country ID\": \"100\"}, {\"Countries\": \"Croatia\", \"Modality\": \"Text\", \"Count\": 1, \"Country ID\": \"191\"}, {\"Countries\": \"Czechia\", \"Modality\": \"Text\", \"Count\": 1, \"Country ID\": \"203\"}, {\"Countries\": \"Slovenia\", \"Modality\": \"Text\", \"Count\": 1, \"Country ID\": \"705\"}, {\"Countries\": \"Scotland\", \"Modality\": \"Text\", \"Count\": 1, \"Country ID\": \"826\"}], \"data-1560a692d03b5a67806ad43f3596d477\": [{\"Countries\": \"United States\", \"Modality\": \"Speech\", \"Count\": 34, \"Country ID\": \"840\"}, {\"Countries\": \"China\", \"Modality\": \"Speech\", \"Count\": 16, \"Country ID\": \"156\"}, {\"Countries\": \"Japan\", \"Modality\": \"Speech\", \"Count\": 6, \"Country ID\": \"392\"}, {\"Countries\": \"United Kingdom\", \"Modality\": \"Speech\", \"Count\": 6, \"Country ID\": \"826\"}, {\"Countries\": \"Norway\", \"Modality\": \"Speech\", \"Count\": 5, \"Country ID\": \"578\"}, {\"Countries\": \"India\", \"Modality\": \"Speech\", \"Count\": 5, \"Country ID\": \"356\"}, {\"Countries\": \"Germany\", \"Modality\": \"Speech\", \"Count\": 5, \"Country ID\": \"276\"}, {\"Countries\": \"France\", \"Modality\": \"Speech\", \"Count\": 4, \"Country ID\": \"250\"}, {\"Countries\": \"Russia\", \"Modality\": \"Speech\", \"Count\": 3, \"Country ID\": \"643\"}, {\"Countries\": \"South Korea\", \"Modality\": \"Speech\", \"Count\": 3, \"Country ID\": \"410\"}, {\"Countries\": \"Spain\", \"Modality\": \"Speech\", \"Count\": 3, \"Country ID\": \"724\"}, {\"Countries\": \"Iceland\", \"Modality\": \"Speech\", \"Count\": 3, \"Country ID\": \"352\"}, {\"Countries\": \"Nigeria\", \"Modality\": \"Speech\", \"Count\": 2, \"Country ID\": \"566\"}, {\"Countries\": \"Finland\", \"Modality\": \"Speech\", \"Count\": 2, \"Country ID\": \"246\"}, {\"Countries\": \"Guinea\", \"Modality\": \"Speech\", \"Count\": 2, \"Country ID\": \"324\"}, {\"Countries\": \"Czech Republic\", \"Modality\": \"Speech\", \"Count\": 2, \"Country ID\": \"203\"}, {\"Countries\": \"Israel\", \"Modality\": \"Speech\", \"Count\": 2, \"Country ID\": \"376\"}, {\"Countries\": \"Qatar\", \"Modality\": \"Speech\", \"Count\": 2, \"Country ID\": \"634\"}, {\"Countries\": \"Vietnam\", \"Modality\": \"Speech\", \"Count\": 2, \"Country ID\": \"704\"}, {\"Countries\": \"Canada\", \"Modality\": \"Speech\", \"Count\": 1, \"Country ID\": \"124\"}, {\"Countries\": \"Denmark\", \"Modality\": \"Speech\", \"Count\": 1, \"Country ID\": \"208\"}, {\"Countries\": \"Switzerland\", \"Modality\": \"Speech\", \"Count\": 1, \"Country ID\": \"756\"}, {\"Countries\": \"Sweden\", \"Modality\": \"Speech\", \"Count\": 1, \"Country ID\": \"752\"}, {\"Countries\": \"South Africa\", \"Modality\": \"Speech\", \"Count\": 1, \"Country ID\": \"710\"}, {\"Countries\": \"Italy\", \"Modality\": \"Speech\", \"Count\": 1, \"Country ID\": \"380\"}, {\"Countries\": \"Jordan\", \"Modality\": \"Speech\", \"Count\": 1, \"Country ID\": \"400\"}, {\"Countries\": \"Mexico\", \"Modality\": \"Speech\", \"Count\": 1, \"Country ID\": \"484\"}, {\"Countries\": \"Poland\", \"Modality\": \"Speech\", \"Count\": 1, \"Country ID\": \"616\"}, {\"Countries\": \"Kazakhstan\", \"Modality\": \"Speech\", \"Count\": 1, \"Country ID\": \"398\"}], \"data-7e5e21c068a4c7fe1fb89fae2daf380c\": [{\"Countries\": \"United States of America\", \"Modality\": \"Video\", \"Count\": 57, \"Country ID\": \"840\"}, {\"Countries\": \"China\", \"Modality\": \"Video\", \"Count\": 17, \"Country ID\": \"156\"}, {\"Countries\": \"Germany\", \"Modality\": \"Video\", \"Count\": 11, \"Country ID\": \"276\"}, {\"Countries\": \"United Kingdom\", \"Modality\": \"Video\", \"Count\": 10, \"Country ID\": \"826\"}, {\"Countries\": \"France\", \"Modality\": \"Video\", \"Count\": 9, \"Country ID\": \"250\"}, {\"Countries\": \"Canada\", \"Modality\": \"Video\", \"Count\": 7, \"Country ID\": \"124\"}, {\"Countries\": \"Saudi Arabia\", \"Modality\": \"Video\", \"Count\": 3, \"Country ID\": \"682\"}, {\"Countries\": \"Switzerland\", \"Modality\": \"Video\", \"Count\": 3, \"Country ID\": \"756\"}, {\"Countries\": \"Czech Republic\", \"Modality\": \"Video\", \"Count\": 3, \"Country ID\": \"203\"}, {\"Countries\": \"Singapore\", \"Modality\": \"Video\", \"Count\": 2, \"Country ID\": \"702\"}, {\"Countries\": \"Israel\", \"Modality\": \"Video\", \"Count\": 2, \"Country ID\": \"376\"}, {\"Countries\": \"Belgium\", \"Modality\": \"Video\", \"Count\": 2, \"Country ID\": \"056\"}, {\"Countries\": \"South Korea\", \"Modality\": \"Video\", \"Count\": 2, \"Country ID\": \"410\"}, {\"Countries\": \"Turkey\", \"Modality\": \"Video\", \"Count\": 1, \"Country ID\": \"792\"}, {\"Countries\": \"Colombia\", \"Modality\": \"Video\", \"Count\": 1, \"Country ID\": \"170\"}, {\"Countries\": \"Chile\", \"Modality\": \"Video\", \"Count\": 1, \"Country ID\": \"152\"}, {\"Countries\": \"UAE\", \"Modality\": \"Video\", \"Count\": 1, \"Country ID\": \"784\"}, {\"Countries\": \"Spain\", \"Modality\": \"Video\", \"Count\": 1, \"Country ID\": \"724\"}, {\"Countries\": \"Netherlands\", \"Modality\": \"Video\", \"Count\": 1, \"Country ID\": \"528\"}, {\"Countries\": \"Hong Kong\", \"Modality\": \"Video\", \"Count\": 1, \"Country ID\": \"344\"}, {\"Countries\": \"Scotland\", \"Modality\": \"Video\", \"Count\": 1, \"Country ID\": \"826\"}, {\"Countries\": \"India\", \"Modality\": \"Video\", \"Count\": 1, \"Country ID\": \"356\"}]}}, {\"mode\": \"vega-lite\"});\n",
       "</script>"
      ],
      "text/plain": [
       "alt.HConcatChart(...)"
      ]
     },
     "execution_count": 858,
     "metadata": {},
     "output_type": "execute_result"
    }
   ],
   "source": [
    "map_charts = multimodal_util.plot_altair_worldmap_country(\n",
    "    df,\n",
    "    data.world_110m.url, # World map for plotting\n",
    "    MODALITY_COLORS,\n",
    "    CREATORCOUNTRY_PLOTDIM,\n",
    "    PLOT_DIR\n",
    ")\n",
    "\n",
    "map_charts"
   ]
  },
  {
   "cell_type": "code",
   "execution_count": null,
   "metadata": {},
   "outputs": [],
   "source": [
    "# map_charts = multimodal_util.plot_altair_worldmap_continent(\n",
    "#     df,\n",
    "#     data.world_110m.url, # World map for plotting\n",
    "#     MODALITY_COLORS,\n",
    "#     CREATORCOUNTRY_PLOTDIM,\n",
    "#     PLOT_DIR\n",
    "# )\n",
    "\n",
    "# map_charts"
   ]
  },
  {
   "cell_type": "markdown",
   "metadata": {},
   "source": [
    "## Visualize Data Source Categories by Modality\n",
    "\n",
    "Distribution of source categories, mapped to higher-level groups in `domain_types.json`, across modalities.\n",
    "\n",
    "- `df_sources`: DataFrame with grouped sources."
   ]
  },
  {
   "cell_type": "code",
   "execution_count": null,
   "metadata": {},
   "outputs": [],
   "source": [
    "# Plotting constants\n",
    "DOMAIN_TYPEMAP = multimodal_util.invert_dict_of_lists(all_constants[\"DOMAIN_TYPES\"])\n",
    "SOURCECATEGORY_PLOTW = 400\n",
    "SOURCECATEGORY_PLOTH = 100\n",
    "SOURCECATEGORY_ORDER = sorted(set(DOMAIN_TYPEMAP.values()) - {\"Other\"}) + [\"Other\", \"Unspecified\"]"
   ]
  },
  {
   "cell_type": "code",
   "execution_count": null,
   "metadata": {},
   "outputs": [],
   "source": [
    "multimodal_util.plot_source_domain_stacked_chart(\n",
    "    df, DOMAIN_TYPEMAP, SOURCECATEGORY_ORDER, SOURCECATEGORY_PLOTW, SOURCECATEGORY_PLOTH, PLOT_DIR\n",
    ")"
   ]
  },
  {
   "cell_type": "markdown",
   "metadata": {},
   "source": [
    "Here, we plot source/domain type distributions by year and modality."
   ]
  },
  {
   "cell_type": "markdown",
   "metadata": {},
   "source": [
    "Here, we re-plot the source category distributions, but aggregating within collections for text data (i.e. we use the majority source within collections). For possible ToS mapping (since those annotations are collection level)."
   ]
  },
  {
   "cell_type": "code",
   "execution_count": null,
   "metadata": {},
   "outputs": [],
   "source": [
    "source_chart = multimodal_util.plot_source_domain_stacked_chart_collections(\n",
    "    df, DOMAIN_TYPEMAP, SOURCECATEGORY_ORDER, SOURCECATEGORY_PLOTW, SOURCECATEGORY_PLOTH, PLOT_DIR\n",
    ")\n",
    "\n",
    "source_chart"
   ]
  },
  {
   "cell_type": "markdown",
   "metadata": {},
   "source": [
    "## Combined Plots"
   ]
  },
  {
   "cell_type": "code",
   "execution_count": null,
   "metadata": {},
   "outputs": [],
   "source": [
    "combined_chart = alt.hconcat(\n",
    "    license_chart,\n",
    "    creator_chart,\n",
    "    source_chart\n",
    ").configure_axis(\n",
    "    labelFontSize=FONT_SIZE,\n",
    "    titleFontSize=FONT_SIZE\n",
    ").configure_legend(\n",
    "    titleFontSize=FONT_SIZE,\n",
    "    labelFontSize=FONT_SIZE,\n",
    "    orient=\"bottom\",\n",
    "    columns=2,\n",
    "    labelLimit=MAX_LABELLIMIT\n",
    ").configure_title(\n",
    "    fontSize=FONT_SIZE\n",
    ").resolve_scale(\n",
    "    color=\"independent\",\n",
    "    x=\"shared\",\n",
    "    y=\"shared\"\n",
    ").resolve_axis(\n",
    "    x=\"shared\",\n",
    "    y=\"shared\"\n",
    ")\n",
    "\n",
    "combined_chart_json = combined_chart.to_dict()\n",
    "\n",
    "combined_chart_json[\"hconcat\"][0][\"encoding\"][\"x\"][\"axis\"] = {\"title\": \"\\n\"} # For alignment\n",
    "combined_chart_json[\"hconcat\"][2][\"encoding\"][\"x\"][\"axis\"] = {\"title\": \"\\n\"}\n",
    "combined_chart_json[\"hconcat\"][1][\"encoding\"][\"y\"][\"axis\"] = {\"title\": None, \"ticks\": False, \"labels\": False}\n",
    "combined_chart_json[\"hconcat\"][2][\"encoding\"][\"y\"][\"axis\"] = {\"title\": None, \"ticks\": False, \"labels\": False}\n",
    "\n",
    "combined_chart = alt.Chart.from_dict(combined_chart_json)\n",
    "\n",
    "# Save the chart if required\n",
    "if PLOT_TOFILE:\n",
    "    combined_chart.save(\n",
    "        os.path.join(PLOT_DIR, \"multimodal-combined_chart.png\"),\n",
    "        ppi=300\n",
    "    )\n",
    "\n",
    "combined_chart"
   ]
  },
  {
   "cell_type": "markdown",
   "metadata": {},
   "source": [
    "### Task Categorization"
   ]
  },
  {
   "cell_type": "code",
   "execution_count": 725,
   "metadata": {},
   "outputs": [],
   "source": [
    "TASK_TYPEMAP = multimodal_util.invert_dict_of_lists(all_constants[\"TASK_GROUPS\"])\n",
    "TASKCATEGORY_PLOTW = 280\n",
    "TASKCATEGORY_PLOTH = 200\n",
    "TASKCATEGORY_FONT_SIZE = 16\n",
    "TASKCATEGORY_ORDER = sorted(set(TASK_TYPEMAP.values()) - {\"null\"})\n",
    "PLOT_TOFILE_TASKS = True"
   ]
  },
  {
   "cell_type": "code",
   "execution_count": 726,
   "metadata": {},
   "outputs": [],
   "source": [
    "speech_task_chart_datasets = multimodal_util.plot_tasks_chart(\n",
    "    df, TASK_TYPEMAP, TASKCATEGORY_ORDER, TASKCATEGORY_PLOTW, TASKCATEGORY_PLOTH, PLOT_DIR, TASKCATEGORY_FONT_SIZE, \"Speech\", \"Tasks\", \"Datasets\"\n",
    ")\n",
    "\n",
    "# speech_task_chart_datasets"
   ]
  },
  {
   "cell_type": "code",
   "execution_count": 727,
   "metadata": {
    "scrolled": true
   },
   "outputs": [],
   "source": [
    "task_chart_text_collections = multimodal_util.plot_tasks_chart(\n",
    "    # df, TASK_TYPEMAP, TASKCATEGORY_ORDER, TASKCATEGORY_PLOTW, TASKCATEGORY_PLOTH, PLOT_DIR, TASKCATEGORY_FONT_SIZE, \"Text\", \"Task Categories\", \"Datasets\"\n",
    "    df, TASK_TYPEMAP, TASKCATEGORY_ORDER, TASKCATEGORY_PLOTW, TASKCATEGORY_PLOTH, PLOT_DIR, TASKCATEGORY_FONT_SIZE, \"Text\", \"Task Categories\", \"Collections\"\n",
    ")\n",
    "\n",
    "# task_chart_text_collections"
   ]
  },
  {
   "cell_type": "code",
   "execution_count": 728,
   "metadata": {},
   "outputs": [],
   "source": [
    "video_task_chart_collections = multimodal_util.plot_tasks_chart(\n",
    "    df, TASK_TYPEMAP, TASKCATEGORY_ORDER, TASKCATEGORY_PLOTW, TASKCATEGORY_PLOTH, PLOT_DIR, TASKCATEGORY_FONT_SIZE, \"Video\", \"Task Categories\", \"Datasets\"\n",
    ")\n",
    "\n",
    "# video_task_chart_collections"
   ]
  },
  {
   "cell_type": "code",
   "execution_count": 729,
   "metadata": {},
   "outputs": [],
   "source": [
    "combined_tasks_chart = multimodal_util.concatenate_task_charts(task_chart_text_collections, speech_task_chart_datasets, video_task_chart_collections, 14)\n",
    "\n",
    "if PLOT_TOFILE_TASKS:\n",
    "    combined_tasks_chart.save(\n",
    "        os.path.join(PLOT_DIR, \"multimodal-combined_tasks_chart.png\"),\n",
    "        ppi=300\n",
    "    )"
   ]
  },
  {
   "cell_type": "code",
   "execution_count": 730,
   "metadata": {},
   "outputs": [
    {
     "data": {
      "text/html": [
       "\n",
       "<style>\n",
       "  #altair-viz-18c611f3f6b24d928814bf8c0cbbec72.vega-embed {\n",
       "    width: 100%;\n",
       "    display: flex;\n",
       "  }\n",
       "\n",
       "  #altair-viz-18c611f3f6b24d928814bf8c0cbbec72.vega-embed details,\n",
       "  #altair-viz-18c611f3f6b24d928814bf8c0cbbec72.vega-embed details summary {\n",
       "    position: relative;\n",
       "  }\n",
       "</style>\n",
       "<div id=\"altair-viz-18c611f3f6b24d928814bf8c0cbbec72\"></div>\n",
       "<script type=\"text/javascript\">\n",
       "  var VEGA_DEBUG = (typeof VEGA_DEBUG == \"undefined\") ? {} : VEGA_DEBUG;\n",
       "  (function(spec, embedOpt){\n",
       "    let outputDiv = document.currentScript.previousElementSibling;\n",
       "    if (outputDiv.id !== \"altair-viz-18c611f3f6b24d928814bf8c0cbbec72\") {\n",
       "      outputDiv = document.getElementById(\"altair-viz-18c611f3f6b24d928814bf8c0cbbec72\");\n",
       "    }\n",
       "    const paths = {\n",
       "      \"vega\": \"https://cdn.jsdelivr.net/npm/vega@5?noext\",\n",
       "      \"vega-lib\": \"https://cdn.jsdelivr.net/npm/vega-lib?noext\",\n",
       "      \"vega-lite\": \"https://cdn.jsdelivr.net/npm/vega-lite@5.20.1?noext\",\n",
       "      \"vega-embed\": \"https://cdn.jsdelivr.net/npm/vega-embed@6?noext\",\n",
       "    };\n",
       "\n",
       "    function maybeLoadScript(lib, version) {\n",
       "      var key = `${lib.replace(\"-\", \"\")}_version`;\n",
       "      return (VEGA_DEBUG[key] == version) ?\n",
       "        Promise.resolve(paths[lib]) :\n",
       "        new Promise(function(resolve, reject) {\n",
       "          var s = document.createElement('script');\n",
       "          document.getElementsByTagName(\"head\")[0].appendChild(s);\n",
       "          s.async = true;\n",
       "          s.onload = () => {\n",
       "            VEGA_DEBUG[key] = version;\n",
       "            return resolve(paths[lib]);\n",
       "          };\n",
       "          s.onerror = () => reject(`Error loading script: ${paths[lib]}`);\n",
       "          s.src = paths[lib];\n",
       "        });\n",
       "    }\n",
       "\n",
       "    function showError(err) {\n",
       "      outputDiv.innerHTML = `<div class=\"error\" style=\"color:red;\">${err}</div>`;\n",
       "      throw err;\n",
       "    }\n",
       "\n",
       "    function displayChart(vegaEmbed) {\n",
       "      vegaEmbed(outputDiv, spec, embedOpt)\n",
       "        .catch(err => showError(`Javascript Error: ${err.message}<br>This usually means there's a typo in your chart specification. See the javascript console for the full traceback.`));\n",
       "    }\n",
       "\n",
       "    if(typeof define === \"function\" && define.amd) {\n",
       "      requirejs.config({paths});\n",
       "      require([\"vega-embed\"], displayChart, err => showError(`Error loading script: ${err.message}`));\n",
       "    } else {\n",
       "      maybeLoadScript(\"vega\", \"5\")\n",
       "        .then(() => maybeLoadScript(\"vega-lite\", \"5.20.1\"))\n",
       "        .then(() => maybeLoadScript(\"vega-embed\", \"6\"))\n",
       "        .catch(showError)\n",
       "        .then(() => displayChart(vegaEmbed));\n",
       "    }\n",
       "  })({\"config\": {\"title\": {\"font\": \"Times New Roman\", \"anchor\": \"start\", \"fontSize\": 16}, \"axis\": {\"labelFont\": \"Times New Roman\", \"titleFont\": \"Times New Roman\", \"domain\": false, \"grid\": false}, \"header\": {\"labelFont\": \"Times New Roman\", \"titleFont\": \"Times New Roman\"}, \"legend\": {\"labelFont\": \"Times New Roman\", \"titleFont\": \"Times New Roman\", \"labelFontSize\": 14, \"symbolSize\": 100, \"titleFontSize\": 16}, \"text\": {\"font\": \"Times New Roman\"}, \"view\": {\"strokeOpacity\": 0}}, \"hconcat\": [{\"data\": {\"name\": \"data-a4dfe4e30b38ec4683fbb1a0dacee33c\"}, \"mark\": {\"type\": \"bar\", \"size\": 12}, \"encoding\": {\"color\": {\"field\": \"position\", \"legend\": null, \"scale\": {\"domain\": [0, 1, 2, 3, 4, 5, 6, 7, 8, 9], \"scheme\": \"tableau20\"}, \"title\": null, \"type\": \"ordinal\"}, \"tooltip\": [{\"field\": \"Task Categories\", \"title\": \"Task Categories\", \"type\": \"nominal\"}, {\"field\": \"count\", \"title\": \"Count\", \"type\": \"quantitative\"}, {\"field\": \"percentage\", \"format\": \".2f\", \"title\": \"Percentage\", \"type\": \"quantitative\"}], \"x\": {\"axis\": {\"format\": \".0f\", \"labelExpr\": \"datum.value + '%'\", \"labelFontSize\": 16, \"titleFontSize\": 18}, \"field\": \"percentage\", \"title\": null, \"type\": \"quantitative\"}, \"y\": {\"axis\": {\"labelFontSize\": 16, \"titleFontSize\": 18}, \"field\": \"Task Categories\", \"sort\": [\"Classification\", \"Q&A\", \"Generation\", \"Reasoning\", \"Creativity\", \"Code\", \"Summarization\", \"Bias Detection\", \"Translation\", \"Resp. Ranking\"], \"title\": null, \"type\": \"nominal\"}}, \"height\": 200, \"title\": {\"text\": [\"Text\"], \"align\": \"center\", \"anchor\": \"middle\"}, \"width\": 280}, {\"data\": {\"name\": \"data-b3cbf00b1339a636a19ad4c740e24dc8\"}, \"mark\": {\"type\": \"bar\", \"size\": 12}, \"encoding\": {\"color\": {\"field\": \"position\", \"legend\": null, \"scale\": {\"domain\": [0, 1, 2, 3, 4, 5, 6, 7, 8], \"scheme\": \"tableau20\"}, \"title\": null, \"type\": \"ordinal\"}, \"tooltip\": [{\"field\": \"Tasks\", \"title\": \"Tasks\", \"type\": \"nominal\"}, {\"field\": \"count\", \"title\": \"Count\", \"type\": \"quantitative\"}, {\"field\": \"percentage\", \"format\": \".2f\", \"title\": \"Percentage\", \"type\": \"quantitative\"}], \"x\": {\"axis\": {\"format\": \".0f\", \"labelExpr\": \"datum.value + '%'\", \"labelFontSize\": 16, \"titleFontSize\": 18}, \"field\": \"percentage\", \"title\": null, \"type\": \"quantitative\"}, \"y\": {\"axis\": {\"labelFontSize\": 16, \"titleFontSize\": 18}, \"field\": \"Tasks\", \"sort\": [\"Recognition\", \"Speaker ID\", \"Translation\", \"Language ID\", \"Text-To-Speech\", \"Bias Detection\", \"Keyword Spotting\", \"Query by Ex\", \"Speech Synthesis\"], \"title\": null, \"type\": \"nominal\"}}, \"height\": 200, \"title\": {\"text\": [\"Speech\"], \"align\": \"center\", \"anchor\": \"middle\"}, \"width\": 280}, {\"data\": {\"name\": \"data-880bcd27f164b8d70c91166334ec0aab\"}, \"mark\": {\"type\": \"bar\", \"size\": 12}, \"encoding\": {\"color\": {\"field\": \"position\", \"legend\": null, \"scale\": {\"domain\": [0, 1, 2, 3, 4, 5, 6, 7, 8, 9], \"scheme\": \"tableau20\"}, \"title\": null, \"type\": \"ordinal\"}, \"tooltip\": [{\"field\": \"Task Categories\", \"title\": \"Task Categories\", \"type\": \"nominal\"}, {\"field\": \"count\", \"title\": \"Count\", \"type\": \"quantitative\"}, {\"field\": \"percentage\", \"format\": \".2f\", \"title\": \"Percentage\", \"type\": \"quantitative\"}], \"x\": {\"axis\": {\"format\": \".0f\", \"labelExpr\": \"datum.value + '%'\", \"labelFontSize\": 16, \"titleFontSize\": 18}, \"field\": \"percentage\", \"title\": null, \"type\": \"quantitative\"}, \"y\": {\"axis\": {\"labelFontSize\": 16, \"titleFontSize\": 18}, \"field\": \"Task Categories\", \"sort\": [\"Classification\", \"Captioning\", \"Segmentation\", \"Summarization\", \"Localization\", \"Action Recognition\", \"Q&A\", \"Action Detection\", \"Pose Estimation\", \"Object Detection\"], \"title\": null, \"type\": \"nominal\"}}, \"height\": 200, \"title\": {\"text\": [\"Video\"], \"align\": \"center\", \"anchor\": \"middle\"}, \"width\": 280}], \"$schema\": \"https://vega.github.io/schema/vega-lite/v5.20.1.json\", \"datasets\": {\"data-a4dfe4e30b38ec4683fbb1a0dacee33c\": [{\"Task Categories\": \"Classification\", \"count\": 98695, \"percentage\": 26, \"position\": 0}, {\"Task Categories\": \"Q&A\", \"count\": 80104, \"percentage\": 21, \"position\": 1}, {\"Task Categories\": \"Generation\", \"count\": 63128, \"percentage\": 17, \"position\": 2}, {\"Task Categories\": \"Reasoning\", \"count\": 47296, \"percentage\": 12, \"position\": 3}, {\"Task Categories\": \"Creativity\", \"count\": 31555, \"percentage\": 8, \"position\": 4}, {\"Task Categories\": \"Code\", \"count\": 24834, \"percentage\": 7, \"position\": 5}, {\"Task Categories\": \"Summarization\", \"count\": 15280, \"percentage\": 4, \"position\": 6}, {\"Task Categories\": \"Bias Detection\", \"count\": 12364, \"percentage\": 3, \"position\": 7}, {\"Task Categories\": \"Translation\", \"count\": 3939, \"percentage\": 1, \"position\": 8}, {\"Task Categories\": \"Resp. Ranking\", \"count\": 2861, \"percentage\": 1, \"position\": 9}], \"data-b3cbf00b1339a636a19ad4c740e24dc8\": [{\"Tasks\": \"Recognition\", \"count\": 35, \"percentage\": 100, \"position\": 0}, {\"Tasks\": \"Speaker ID\", \"count\": 14, \"percentage\": 40, \"position\": 1}, {\"Tasks\": \"Translation\", \"count\": 9, \"percentage\": 26, \"position\": 2}, {\"Tasks\": \"Language ID\", \"count\": 5, \"percentage\": 14, \"position\": 3}, {\"Tasks\": \"Text-To-Speech\", \"count\": 3, \"percentage\": 9, \"position\": 4}, {\"Tasks\": \"Bias Detection\", \"count\": 1, \"percentage\": 3, \"position\": 5}, {\"Tasks\": \"Keyword Spotting\", \"count\": 1, \"percentage\": 3, \"position\": 6}, {\"Tasks\": \"Query by Ex\", \"count\": 1, \"percentage\": 3, \"position\": 7}, {\"Tasks\": \"Speech Synthesis\", \"count\": 1, \"percentage\": 3, \"position\": 8}], \"data-880bcd27f164b8d70c91166334ec0aab\": [{\"Task Categories\": \"Classification\", \"count\": 51, \"percentage\": 47, \"position\": 0}, {\"Task Categories\": \"Captioning\", \"count\": 24, \"percentage\": 22, \"position\": 1}, {\"Task Categories\": \"Segmentation\", \"count\": 7, \"percentage\": 6, \"position\": 2}, {\"Task Categories\": \"Summarization\", \"count\": 7, \"percentage\": 6, \"position\": 3}, {\"Task Categories\": \"Localization\", \"count\": 6, \"percentage\": 6, \"position\": 4}, {\"Task Categories\": \"Action Recognition\", \"count\": 5, \"percentage\": 5, \"position\": 5}, {\"Task Categories\": \"Q&A\", \"count\": 5, \"percentage\": 5, \"position\": 6}, {\"Task Categories\": \"Action Detection\", \"count\": 2, \"percentage\": 2, \"position\": 7}, {\"Task Categories\": \"Pose Estimation\", \"count\": 1, \"percentage\": 1, \"position\": 8}, {\"Task Categories\": \"Object Detection\", \"count\": 1, \"percentage\": 1, \"position\": 9}]}}, {\"mode\": \"vega-lite\"});\n",
       "</script>"
      ],
      "text/plain": [
       "alt.HConcatChart(...)"
      ]
     },
     "execution_count": 730,
     "metadata": {},
     "output_type": "execute_result"
    }
   ],
   "source": [
    "combined_tasks_chart"
   ]
  },
  {
   "cell_type": "markdown",
   "metadata": {},
   "source": [
    "### Visualize Dataset dimensions by tokens (Datasets and Collections)\n",
    "Tokens calculation"
   ]
  },
  {
   "cell_type": "markdown",
   "metadata": {},
   "source": [
    "#### Datasets split by tokens bins\n"
   ]
  },
  {
   "cell_type": "code",
   "execution_count": 735,
   "metadata": {},
   "outputs": [],
   "source": [
    "# df_tokens.columns"
   ]
  },
  {
   "cell_type": "markdown",
   "metadata": {},
   "source": [
    "#### Collections split by tokens bins\n"
   ]
  },
  {
   "cell_type": "code",
   "execution_count": 739,
   "metadata": {},
   "outputs": [
    {
     "name": "stderr",
     "output_type": "stream",
     "text": [
      "../analysis/multimodal_util.py:1539: SettingWithCopyWarning: \n",
      "A value is trying to be set on a copy of a slice from a DataFrame.\n",
      "Try using .loc[row_indexer,col_indexer] = value instead\n",
      "\n",
      "See the caveats in the documentation: https://pandas.pydata.org/pandas-docs/stable/user_guide/indexing.html#returning-a-view-versus-a-copy\n",
      "  df_modality[group_column] = pd.cut(df_modality[measure_column], bins=bins, labels=labels, right=False)\n",
      "../analysis/multimodal_util.py:1539: SettingWithCopyWarning: \n",
      "A value is trying to be set on a copy of a slice from a DataFrame.\n",
      "Try using .loc[row_indexer,col_indexer] = value instead\n",
      "\n",
      "See the caveats in the documentation: https://pandas.pydata.org/pandas-docs/stable/user_guide/indexing.html#returning-a-view-versus-a-copy\n",
      "  df_modality[group_column] = pd.cut(df_modality[measure_column], bins=bins, labels=labels, right=False)\n"
     ]
    }
   ],
   "source": [
    "# bins_collection = [0, 1000000, 50000000,100000000, 500000000, 1000000000, float('inf')]\n",
    "# labels_collection = ['0-1M', '1M-50M', '50M-100M', '100M-500M', '500m-1B', '1B+']\n",
    "text_bins_collection = [0, 1000000, 10000000,100000000, 1000000000, 10000000000, float('inf')]\n",
    "text_labels_collection = ['0-1M', '1M-10M', '10M-100M', '100M-1B', '1B-10B', '10B+']\n",
    "\n",
    "# df_tokens = multimodal_util.tokens_calculation(df)\n",
    "text_collection_chart, text_max_count_collection = multimodal_util.data_aggregation_for_chart(\n",
    "    df,'Text', text_bins_collection, text_labels_collection, by_collection=True, measure_column='Total Tokens', group_column='Tokens')\n",
    "\n",
    "speech_bins_collection = [0, 100, 1000,10000, 100000, float('inf')]\n",
    "speech_labels_collection = ['0-100', '100-1K', '1K-10K', '10K-100K', '100K+']\n",
    "speech_collection_chart, speech_max_count_collection = multimodal_util.data_aggregation_for_chart(\n",
    "    df,'Speech', speech_bins_collection, speech_labels_collection, by_collection=False, measure_column='Hours', group_column='Hours')\n",
    "\n",
    "video_bins_collection = [0, 100, 1000,10000, 100000, float('inf')]\n",
    "video_labels_collection = ['0-100', '100-1K', '1K-10K', '10K-100K', '100K+']\n",
    "video_collection_chart, video_max_count_collection = multimodal_util.data_aggregation_for_chart(\n",
    "    df,'Video', speech_bins_collection, speech_labels_collection, by_collection=False, measure_column='Hours', group_column='Hours')"
   ]
  },
  {
   "cell_type": "markdown",
   "metadata": {},
   "source": [
    "#### Combine graphs for dataset and collections split\n"
   ]
  },
  {
   "cell_type": "code",
   "execution_count": 857,
   "metadata": {},
   "outputs": [
    {
     "data": {
      "text/html": [
       "\n",
       "<style>\n",
       "  #altair-viz-2dac748ed0ee4dc68dbf6c71a1e557dc.vega-embed {\n",
       "    width: 100%;\n",
       "    display: flex;\n",
       "  }\n",
       "\n",
       "  #altair-viz-2dac748ed0ee4dc68dbf6c71a1e557dc.vega-embed details,\n",
       "  #altair-viz-2dac748ed0ee4dc68dbf6c71a1e557dc.vega-embed details summary {\n",
       "    position: relative;\n",
       "  }\n",
       "</style>\n",
       "<div id=\"altair-viz-2dac748ed0ee4dc68dbf6c71a1e557dc\"></div>\n",
       "<script type=\"text/javascript\">\n",
       "  var VEGA_DEBUG = (typeof VEGA_DEBUG == \"undefined\") ? {} : VEGA_DEBUG;\n",
       "  (function(spec, embedOpt){\n",
       "    let outputDiv = document.currentScript.previousElementSibling;\n",
       "    if (outputDiv.id !== \"altair-viz-2dac748ed0ee4dc68dbf6c71a1e557dc\") {\n",
       "      outputDiv = document.getElementById(\"altair-viz-2dac748ed0ee4dc68dbf6c71a1e557dc\");\n",
       "    }\n",
       "    const paths = {\n",
       "      \"vega\": \"https://cdn.jsdelivr.net/npm/vega@5?noext\",\n",
       "      \"vega-lib\": \"https://cdn.jsdelivr.net/npm/vega-lib?noext\",\n",
       "      \"vega-lite\": \"https://cdn.jsdelivr.net/npm/vega-lite@5.20.1?noext\",\n",
       "      \"vega-embed\": \"https://cdn.jsdelivr.net/npm/vega-embed@6?noext\",\n",
       "    };\n",
       "\n",
       "    function maybeLoadScript(lib, version) {\n",
       "      var key = `${lib.replace(\"-\", \"\")}_version`;\n",
       "      return (VEGA_DEBUG[key] == version) ?\n",
       "        Promise.resolve(paths[lib]) :\n",
       "        new Promise(function(resolve, reject) {\n",
       "          var s = document.createElement('script');\n",
       "          document.getElementsByTagName(\"head\")[0].appendChild(s);\n",
       "          s.async = true;\n",
       "          s.onload = () => {\n",
       "            VEGA_DEBUG[key] = version;\n",
       "            return resolve(paths[lib]);\n",
       "          };\n",
       "          s.onerror = () => reject(`Error loading script: ${paths[lib]}`);\n",
       "          s.src = paths[lib];\n",
       "        });\n",
       "    }\n",
       "\n",
       "    function showError(err) {\n",
       "      outputDiv.innerHTML = `<div class=\"error\" style=\"color:red;\">${err}</div>`;\n",
       "      throw err;\n",
       "    }\n",
       "\n",
       "    function displayChart(vegaEmbed) {\n",
       "      vegaEmbed(outputDiv, spec, embedOpt)\n",
       "        .catch(err => showError(`Javascript Error: ${err.message}<br>This usually means there's a typo in your chart specification. See the javascript console for the full traceback.`));\n",
       "    }\n",
       "\n",
       "    if(typeof define === \"function\" && define.amd) {\n",
       "      requirejs.config({paths});\n",
       "      require([\"vega-embed\"], displayChart, err => showError(`Error loading script: ${err.message}`));\n",
       "    } else {\n",
       "      maybeLoadScript(\"vega\", \"5\")\n",
       "        .then(() => maybeLoadScript(\"vega-lite\", \"5.20.1\"))\n",
       "        .then(() => maybeLoadScript(\"vega-embed\", \"6\"))\n",
       "        .catch(showError)\n",
       "        .then(() => displayChart(vegaEmbed));\n",
       "    }\n",
       "  })({\"config\": {\"title\": {\"font\": \"Times New Roman\", \"fontSize\": 16}, \"axis\": {\"labelFont\": \"Times New Roman\", \"titleFont\": \"Times New Roman\", \"labelFontSize\": 14, \"titleFontSize\": 14, \"labelAngle\": 0, \"grid\": true, \"gridOpacity\": 0.7, \"tickColor\": \"grey\", \"tickSize\": 10, \"tickWidth\": 2, \"tickOpacity\": 0.8}, \"header\": {\"labelFont\": \"Times New Roman\", \"titleFont\": \"Times New Roman\"}, \"legend\": {\"labelFont\": \"Times New Roman\", \"titleFont\": \"Times New Roman\", \"titleFontSize\": 16, \"labelFontSize\": 16}, \"text\": {\"font\": \"Times New Roman\"}, \"view\": {\"strokeOpacity\": 0}}, \"hconcat\": [{\"data\": {\"name\": \"data-997d7d94c132f6ec0bf246266cbae846\"}, \"mark\": {\"type\": \"bar\", \"color\": \"salmon\"}, \"encoding\": {\"tooltip\": [{\"field\": \"Tokens\", \"type\": \"nominal\"}, {\"field\": \"Number of datasets\", \"type\": \"quantitative\"}], \"x\": {\"axis\": {\"domain\": false, \"grid\": false, \"tickCount\": 5}, \"field\": \"Number of datasets\", \"scale\": {\"domain\": [0, 40.25]}, \"type\": \"quantitative\"}, \"y\": {\"axis\": {\"domain\": false, \"grid\": false, \"ticks\": false, \"title\": null}, \"field\": \"Tokens\", \"sort\": [\"0-1M\", \"1M-10M\", \"10M-100M\", \"100M-1B\", \"1B-10B\", \"10B+\"], \"type\": \"nominal\"}}, \"height\": 200, \"title\": \"Text (Tokens)\", \"width\": 300}, {\"data\": {\"name\": \"data-856e0155a8941ae0b2c51219f1c4e8fd\"}, \"mark\": {\"type\": \"bar\", \"color\": \"skyblue\"}, \"encoding\": {\"tooltip\": [{\"field\": \"Hours\", \"type\": \"nominal\"}, {\"field\": \"Number of datasets\", \"type\": \"quantitative\"}], \"x\": {\"axis\": {\"domain\": false, \"grid\": false, \"tickCount\": 5}, \"field\": \"Number of datasets\", \"scale\": {\"domain\": [0, 44.849999999999994]}, \"type\": \"quantitative\"}, \"y\": {\"axis\": {\"domain\": false, \"grid\": false, \"ticks\": false, \"title\": null}, \"field\": \"Hours\", \"sort\": [\"0-100\", \"100-1K\", \"1K-10K\", \"10K-100K\", \"100K+\"], \"type\": \"nominal\"}}, \"height\": 200, \"title\": \"Speech (Hours)\", \"width\": 300}, {\"data\": {\"name\": \"data-079fb97486722195748a70e4cf35a104\"}, \"mark\": {\"type\": \"bar\", \"color\": \"forestgreen\"}, \"encoding\": {\"tooltip\": [{\"field\": \"Hours\", \"type\": \"nominal\"}, {\"field\": \"Number of datasets\", \"type\": \"quantitative\"}], \"x\": {\"axis\": {\"domain\": false, \"grid\": false, \"tickCount\": 5}, \"field\": \"Number of datasets\", \"scale\": {\"domain\": [0, 47.15]}, \"type\": \"quantitative\"}, \"y\": {\"axis\": {\"domain\": false, \"grid\": false, \"ticks\": false, \"title\": null}, \"field\": \"Hours\", \"sort\": [\"0-100\", \"100-1K\", \"1K-10K\", \"10K-100K\", \"100K+\"], \"type\": \"nominal\"}}, \"height\": 200, \"title\": \"Video (Hours)\", \"width\": 300}], \"resolve\": {\"legend\": {\"color\": \"independent\", \"shape\": \"independent\", \"size\": \"independent\"}, \"scale\": {\"color\": \"independent\", \"shape\": \"independent\", \"size\": \"independent\"}}, \"spacing\": 1, \"$schema\": \"https://vega.github.io/schema/vega-lite/v5.20.1.json\", \"datasets\": {\"data-997d7d94c132f6ec0bf246266cbae846\": [{\"Tokens\": \"0-1M\", \"Count\": 11, \"Number of datasets\": 11}, {\"Tokens\": \"1M-10M\", \"Count\": 12, \"Number of datasets\": 12}, {\"Tokens\": \"10M-100M\", \"Count\": 19, \"Number of datasets\": 19}, {\"Tokens\": \"100M-1B\", \"Count\": 35, \"Number of datasets\": 35}, {\"Tokens\": \"1B-10B\", \"Count\": 18, \"Number of datasets\": 18}, {\"Tokens\": \"10B+\", \"Count\": 7, \"Number of datasets\": 7}], \"data-856e0155a8941ae0b2c51219f1c4e8fd\": [{\"Hours\": \"0-100\", \"Count\": 24, \"Number of datasets\": 24}, {\"Hours\": \"100-1K\", \"Count\": 39, \"Number of datasets\": 39}, {\"Hours\": \"1K-10K\", \"Count\": 24, \"Number of datasets\": 24}, {\"Hours\": \"10K-100K\", \"Count\": 6, \"Number of datasets\": 6}, {\"Hours\": \"100K+\", \"Count\": 2, \"Number of datasets\": 2}], \"data-079fb97486722195748a70e4cf35a104\": [{\"Hours\": \"0-100\", \"Count\": 41, \"Number of datasets\": 41}, {\"Hours\": \"100-1K\", \"Count\": 33, \"Number of datasets\": 33}, {\"Hours\": \"1K-10K\", \"Count\": 16, \"Number of datasets\": 16}, {\"Hours\": \"10K-100K\", \"Count\": 5, \"Number of datasets\": 5}, {\"Hours\": \"100K+\", \"Count\": 3, \"Number of datasets\": 3}]}}, {\"mode\": \"vega-lite\"});\n",
       "</script>"
      ],
      "text/plain": [
       "alt.HConcatChart(...)"
      ]
     },
     "metadata": {},
     "output_type": "display_data"
    }
   ],
   "source": [
    "# chart1 = multimodal_util.chart_creation(\n",
    "#     dataset_chart, \n",
    "#     max_count_dataset, \n",
    "#     x_field='Token Groups',  \n",
    "#     labels=labels_dataset,\n",
    "#     ratio=1.15,\n",
    "#     title='Token distributions by Datasets',\n",
    "#     width=400,\n",
    "#     height=300,\n",
    "#     color='skyblue'\n",
    "# )\n",
    "\n",
    "DIM_CHART_WIDTH = 300\n",
    "DIM_CHART_HEIGHT = 200\n",
    "\n",
    "\n",
    "text_dim_chart = multimodal_util.chart_creation(\n",
    "    text_collection_chart, \n",
    "    text_max_count_collection, \n",
    "    x_field='Tokens',  \n",
    "    labels=text_labels_collection,\n",
    "    ratio=1.15,\n",
    "    title='Text (Tokens)',\n",
    "    width=DIM_CHART_WIDTH,\n",
    "    height=DIM_CHART_HEIGHT,\n",
    "    color='salmon'\n",
    ")\n",
    "\n",
    "speech_dim_chart = multimodal_util.chart_creation(\n",
    "    speech_collection_chart, \n",
    "    speech_max_count_collection, \n",
    "    x_field='Hours',  \n",
    "    labels=speech_labels_collection,\n",
    "    ratio=1.15,\n",
    "    title='Speech (Hours)',\n",
    "    width=DIM_CHART_WIDTH,\n",
    "    height=DIM_CHART_HEIGHT,\n",
    "    color='skyblue'\n",
    ")\n",
    "\n",
    "video_dim_chart = multimodal_util.chart_creation(\n",
    "    video_collection_chart, \n",
    "    video_max_count_collection, \n",
    "    x_field='Hours',  \n",
    "    labels=video_labels_collection,\n",
    "    ratio=1.15,\n",
    "    title='Video (Hours)',\n",
    "    width=DIM_CHART_WIDTH,\n",
    "    height=DIM_CHART_HEIGHT,\n",
    "    color='forestgreen'\n",
    ")\n",
    "\n",
    "\n",
    "# Concatenate the two charts horizontally with different scales for the y-axes\n",
    "combined_chart = multimodal_util.combined_dim_charts(text_dim_chart, speech_dim_chart, video_dim_chart)\n",
    "combined_chart = combined_chart.configure_view(strokeOpacity=0)\n",
    "\n",
    "# Save the plot if PLOT_TOFILE is True\n",
    "if PLOT_TOFILE:\n",
    "    output_file = os.path.join(PLOT_DIR, \"Token_&_collection.png\")\n",
    "    combined_chart.save(output_file, scale_factor=PLOT_PPI/100)\n",
    "\n",
    "# Display the chart\n",
    "combined_chart.display()"
   ]
  },
  {
   "cell_type": "code",
   "execution_count": null,
   "metadata": {},
   "outputs": [],
   "source": [
    "# df.columns"
   ]
  },
  {
   "cell_type": "markdown",
   "metadata": {},
   "source": [
    "### Source Categories by Hours/Tokens"
   ]
  },
  {
   "cell_type": "code",
   "execution_count": 998,
   "metadata": {},
   "outputs": [],
   "source": [
    "INCLUDE_TOP_N_CATEGORIES = 8\n",
    "SRC_CAT_CUMULATIVE_PLOTW = 380\n",
    "SRC_CAT_CUMULATIVE_PLOTH = 140\n",
    "EARLIEST_YEAR = 2013"
   ]
  },
  {
   "cell_type": "code",
   "execution_count": 999,
   "metadata": {},
   "outputs": [],
   "source": [
    "speech_chart_sourceyearhours = multimodal_util.plot_temporal_cumulative_sources(\n",
    "    df, \"Speech\", INCLUDE_TOP_N_CATEGORIES, \"Hours\", EARLIEST_YEAR, SRC_CAT_CUMULATIVE_PLOTW, SRC_CAT_CUMULATIVE_PLOTH)"
   ]
  },
  {
   "cell_type": "code",
   "execution_count": 1000,
   "metadata": {},
   "outputs": [],
   "source": [
    "video_chart_sourceyearhours = multimodal_util.plot_temporal_cumulative_sources(\n",
    "    df, \"Video\", INCLUDE_TOP_N_CATEGORIES, \"Hours\", EARLIEST_YEAR, SRC_CAT_CUMULATIVE_PLOTW, SRC_CAT_CUMULATIVE_PLOTH)"
   ]
  },
  {
   "cell_type": "code",
   "execution_count": 1001,
   "metadata": {},
   "outputs": [],
   "source": [
    "text_chart_sourceyearhours = multimodal_util.plot_temporal_cumulative_sources(\n",
    "    df, \"Text\", 14, \"Total Tokens\", EARLIEST_YEAR, SRC_CAT_CUMULATIVE_PLOTW, SRC_CAT_CUMULATIVE_PLOTH)"
   ]
  },
  {
   "cell_type": "code",
   "execution_count": 1002,
   "metadata": {},
   "outputs": [],
   "source": [
    "combined_cumulative_source_chart = multimodal_util.combined_dim_charts(text_chart_sourceyearhours, speech_chart_sourceyearhours, video_chart_sourceyearhours)"
   ]
  },
  {
   "cell_type": "code",
   "execution_count": null,
   "metadata": {},
   "outputs": [],
   "source": [
    "def post_process_combined_chart(hconchart):\n",
    "    return hconchart.configure_axis(\n",
    "        grid=False,\n",
    "        labelFontSize=12,\n",
    "        titleFontSize=14\n",
    "    ).configure_axisX(\n",
    "        labelExpr=\"datum.value == '<2013' || datum.value == '2014' || (year(datum.value) % 2 == 0 && datum.value != '<2013' && datum.value != '2014') ? datum.label : ''\",\n",
    "        labelAngle=0\n",
    "    )\n",
    "\n",
    "combined_cumulative_source_chart = post_process_combined_chart(combined_cumulative_source_chart)"
   ]
  },
  {
   "cell_type": "code",
   "execution_count": 1003,
   "metadata": {},
   "outputs": [
    {
     "data": {
      "text/html": [
       "\n",
       "<style>\n",
       "  #altair-viz-b5bf8246ad4c4cf5b9da2c02f97c70ae.vega-embed {\n",
       "    width: 100%;\n",
       "    display: flex;\n",
       "  }\n",
       "\n",
       "  #altair-viz-b5bf8246ad4c4cf5b9da2c02f97c70ae.vega-embed details,\n",
       "  #altair-viz-b5bf8246ad4c4cf5b9da2c02f97c70ae.vega-embed details summary {\n",
       "    position: relative;\n",
       "  }\n",
       "</style>\n",
       "<div id=\"altair-viz-b5bf8246ad4c4cf5b9da2c02f97c70ae\"></div>\n",
       "<script type=\"text/javascript\">\n",
       "  var VEGA_DEBUG = (typeof VEGA_DEBUG == \"undefined\") ? {} : VEGA_DEBUG;\n",
       "  (function(spec, embedOpt){\n",
       "    let outputDiv = document.currentScript.previousElementSibling;\n",
       "    if (outputDiv.id !== \"altair-viz-b5bf8246ad4c4cf5b9da2c02f97c70ae\") {\n",
       "      outputDiv = document.getElementById(\"altair-viz-b5bf8246ad4c4cf5b9da2c02f97c70ae\");\n",
       "    }\n",
       "    const paths = {\n",
       "      \"vega\": \"https://cdn.jsdelivr.net/npm/vega@5?noext\",\n",
       "      \"vega-lib\": \"https://cdn.jsdelivr.net/npm/vega-lib?noext\",\n",
       "      \"vega-lite\": \"https://cdn.jsdelivr.net/npm/vega-lite@5.20.1?noext\",\n",
       "      \"vega-embed\": \"https://cdn.jsdelivr.net/npm/vega-embed@6?noext\",\n",
       "    };\n",
       "\n",
       "    function maybeLoadScript(lib, version) {\n",
       "      var key = `${lib.replace(\"-\", \"\")}_version`;\n",
       "      return (VEGA_DEBUG[key] == version) ?\n",
       "        Promise.resolve(paths[lib]) :\n",
       "        new Promise(function(resolve, reject) {\n",
       "          var s = document.createElement('script');\n",
       "          document.getElementsByTagName(\"head\")[0].appendChild(s);\n",
       "          s.async = true;\n",
       "          s.onload = () => {\n",
       "            VEGA_DEBUG[key] = version;\n",
       "            return resolve(paths[lib]);\n",
       "          };\n",
       "          s.onerror = () => reject(`Error loading script: ${paths[lib]}`);\n",
       "          s.src = paths[lib];\n",
       "        });\n",
       "    }\n",
       "\n",
       "    function showError(err) {\n",
       "      outputDiv.innerHTML = `<div class=\"error\" style=\"color:red;\">${err}</div>`;\n",
       "      throw err;\n",
       "    }\n",
       "\n",
       "    function displayChart(vegaEmbed) {\n",
       "      vegaEmbed(outputDiv, spec, embedOpt)\n",
       "        .catch(err => showError(`Javascript Error: ${err.message}<br>This usually means there's a typo in your chart specification. See the javascript console for the full traceback.`));\n",
       "    }\n",
       "\n",
       "    if(typeof define === \"function\" && define.amd) {\n",
       "      requirejs.config({paths});\n",
       "      require([\"vega-embed\"], displayChart, err => showError(`Error loading script: ${err.message}`));\n",
       "    } else {\n",
       "      maybeLoadScript(\"vega\", \"5\")\n",
       "        .then(() => maybeLoadScript(\"vega-lite\", \"5.20.1\"))\n",
       "        .then(() => maybeLoadScript(\"vega-embed\", \"6\"))\n",
       "        .catch(showError)\n",
       "        .then(() => displayChart(vegaEmbed));\n",
       "    }\n",
       "  })({\"config\": {\"title\": {\"font\": \"Times New Roman\", \"fontSize\": 16}, \"axis\": {\"labelFont\": \"Times New Roman\", \"titleFont\": \"Times New Roman\", \"labelFontSize\": 14, \"titleFontSize\": 14, \"labelAngle\": 0, \"grid\": true, \"gridOpacity\": 0.7, \"tickColor\": \"grey\", \"tickSize\": 10, \"tickWidth\": 2, \"tickOpacity\": 0.8}, \"header\": {\"labelFont\": \"Times New Roman\", \"titleFont\": \"Times New Roman\"}, \"legend\": {\"labelFont\": \"Times New Roman\", \"titleFont\": \"Times New Roman\", \"titleFontSize\": 16, \"labelFontSize\": 16}, \"text\": {\"font\": \"Times New Roman\"}}, \"hconcat\": [{\"data\": {\"name\": \"data-e727f3a63543d4afdd44f8d6fabc77fa\"}, \"mark\": {\"type\": \"line\"}, \"encoding\": {\"color\": {\"field\": \"Source Category\", \"legend\": {\"columns\": 4, \"labelFontSize\": 12, \"orient\": \"bottom\"}, \"sort\": [\"Encyclopedias\", \"News Sites\", \"General Web\", \"Code\", \"Books\", \"Government\", \"Social Media\", \"Human Partic.\", \"Exams\", \"Academic Papers\"], \"title\": \"Source Category\", \"type\": \"nominal\"}, \"x\": {\"axis\": {\"labelAngle\": 0}, \"field\": \"Year Released\", \"sort\": [\"<2013\", \"2013\", \"2014\", \"2015\", \"2016\", \"2017\", \"2018\", \"2019\", \"2020\", \"2021\", \"2022\", \"2023\", \"2024\"], \"title\": \"\", \"type\": \"nominal\"}, \"y\": {\"axis\": {\"labelExpr\": \"datum.value >= 1000000000000 ? datum.value / 1000000000000 + 'T' : datum.value >= 1000000000 ? datum.value / 1000000000 + 'B' : datum.value >= 1000000 ? datum.value / 1000000 + 'M' : datum.value >= 1000 ? datum.value / 1000 + 'K' : datum.value\", \"values\": [10000000.0, 1000000000.0, 10000000000.0, 100000000000.0, 1000000000000.0, 10000000000000.0]}, \"field\": \"Cumulative Hours\", \"scale\": {\"constant\": 10000000.0, \"domain\": [1, 10000000000000.0], \"type\": \"symlog\"}, \"title\": \"\", \"type\": \"quantitative\"}}, \"height\": 140, \"title\": \"Text\", \"width\": 380}, {\"data\": {\"name\": \"data-4e4b8eb6da00e85ac0d0f235f82398ca\"}, \"mark\": {\"type\": \"line\"}, \"encoding\": {\"color\": {\"field\": \"Source Category\", \"legend\": {\"columns\": 4, \"labelFontSize\": 12, \"orient\": \"bottom\"}, \"sort\": [\"Internet Video\", \"Audiobooks\", \"Crowd-Sourcing\", \"Radio\", \"Parliament\", \"Human Partic.\", \"Ted Talks\", \"Calling Plat.\"], \"title\": \"Source Category\", \"type\": \"nominal\"}, \"x\": {\"axis\": {\"labelAngle\": 0}, \"field\": \"Year Released\", \"sort\": [\"<2013\", \"2013\", \"2014\", \"2015\", \"2016\", \"2017\", \"2018\", \"2019\", \"2020\", \"2021\", \"2022\", \"2023\", \"2024\"], \"title\": \"\", \"type\": \"nominal\"}, \"y\": {\"axis\": {\"labelExpr\": \"datum.value >= 1000000000000 ? datum.value / 1000000000000 + 'T' : datum.value >= 1000000000 ? datum.value / 1000000000 + 'B' : datum.value >= 1000000 ? datum.value / 1000000 + 'M' : datum.value >= 1000 ? datum.value / 1000 + 'K' : datum.value\", \"values\": [0, 1, 1000, 10000, 100000, 1000000]}, \"field\": \"Cumulative Hours\", \"scale\": {\"constant\": 1000, \"domain\": [1, 1000000], \"type\": \"symlog\"}, \"title\": \"\", \"type\": \"quantitative\"}}, \"height\": 140, \"title\": \"Speech\", \"width\": 380}, {\"data\": {\"name\": \"data-4df38712c1f1587ee467b1691b4700f1\"}, \"mark\": {\"type\": \"line\"}, \"encoding\": {\"color\": {\"field\": \"Source Category\", \"legend\": {\"columns\": 4, \"labelFontSize\": 12, \"orient\": \"bottom\"}, \"sort\": [\"Youtube\", \"General Web\", \"Google Videos\", \"Movies\", \"Human Partic.\", \"Flickr\", \"Crowd-Sourced\", \"Getty Images\"], \"title\": \"Source Category\", \"type\": \"nominal\"}, \"x\": {\"axis\": {\"labelAngle\": 0}, \"field\": \"Year Released\", \"sort\": [\"<2013\", \"2013\", \"2014\", \"2015\", \"2016\", \"2017\", \"2018\", \"2019\", \"2020\", \"2021\", \"2022\", \"2023\", \"2024\"], \"title\": \"\", \"type\": \"nominal\"}, \"y\": {\"axis\": {\"labelExpr\": \"datum.value >= 1000000000000 ? datum.value / 1000000000000 + 'T' : datum.value >= 1000000000 ? datum.value / 1000000000 + 'B' : datum.value >= 1000000 ? datum.value / 1000000 + 'M' : datum.value >= 1000 ? datum.value / 1000 + 'K' : datum.value\", \"values\": [0, 1, 1000, 10000, 100000, 1000000]}, \"field\": \"Cumulative Hours\", \"scale\": {\"constant\": 1000, \"domain\": [1, 1000000], \"type\": \"symlog\"}, \"title\": \"\", \"type\": \"quantitative\"}}, \"height\": 140, \"title\": \"Video\", \"width\": 380}], \"resolve\": {\"legend\": {\"color\": \"independent\", \"shape\": \"independent\", \"size\": \"independent\"}, \"scale\": {\"color\": \"independent\", \"shape\": \"independent\", \"size\": \"independent\"}}, \"spacing\": 1, \"$schema\": \"https://vega.github.io/schema/vega-lite/v5.20.1.json\", \"datasets\": {\"data-e727f3a63543d4afdd44f8d6fabc77fa\": [{\"Year Released\": \"<2013\", \"Source Category\": \"Social Media\", \"Cumulative Hours\": 513217340.5695362}, {\"Year Released\": \"<2013\", \"Source Category\": \"News Sites\", \"Cumulative Hours\": 220166831.57000002}, {\"Year Released\": \"<2013\", \"Source Category\": \"Government\", \"Cumulative Hours\": 59694525.2508}, {\"Year Released\": \"<2013\", \"Source Category\": \"General Web\", \"Cumulative Hours\": 824218889.6118001}, {\"Year Released\": \"<2013\", \"Source Category\": \"Human Partic.\", \"Cumulative Hours\": 209281683.06820002}, {\"Year Released\": \"<2013\", \"Source Category\": \"Encyclopedias\", \"Cumulative Hours\": 207030530.64940003}, {\"Year Released\": \"<2013\", \"Source Category\": \"Code\", \"Cumulative Hours\": 1918441810.719136}, {\"Year Released\": \"<2013\", \"Source Category\": \"Books\", \"Cumulative Hours\": 0.0}, {\"Year Released\": \"<2013\", \"Source Category\": \"Academic Papers\", \"Cumulative Hours\": 0.0}, {\"Year Released\": \"<2013\", \"Source Category\": \"Exams\", \"Cumulative Hours\": 0.0}, {\"Year Released\": \"2013\", \"Source Category\": \"Social Media\", \"Cumulative Hours\": 513217340.5695362}, {\"Year Released\": \"2013\", \"Source Category\": \"News Sites\", \"Cumulative Hours\": 243915935.57000002}, {\"Year Released\": \"2013\", \"Source Category\": \"Human Partic.\", \"Cumulative Hours\": 220347829.28660002}, {\"Year Released\": \"2013\", \"Source Category\": \"Government\", \"Cumulative Hours\": 59694525.2508}, {\"Year Released\": \"2013\", \"Source Category\": \"General Web\", \"Cumulative Hours\": 850721281.9350001}, {\"Year Released\": \"2013\", \"Source Category\": \"Encyclopedias\", \"Cumulative Hours\": 207030530.64940003}, {\"Year Released\": \"2013\", \"Source Category\": \"Code\", \"Cumulative Hours\": 1918441810.719136}, {\"Year Released\": \"2013\", \"Source Category\": \"Books\", \"Cumulative Hours\": 0.0}, {\"Year Released\": \"2013\", \"Source Category\": \"Academic Papers\", \"Cumulative Hours\": 0.0}, {\"Year Released\": \"2013\", \"Source Category\": \"Exams\", \"Cumulative Hours\": 0.0}, {\"Year Released\": \"2014\", \"Source Category\": \"Human Partic.\", \"Cumulative Hours\": 225024217.01540002}, {\"Year Released\": \"2014\", \"Source Category\": \"Social Media\", \"Cumulative Hours\": 517893728.2983362}, {\"Year Released\": \"2014\", \"Source Category\": \"News Sites\", \"Cumulative Hours\": 444981301.4438}, {\"Year Released\": \"2014\", \"Source Category\": \"Government\", \"Cumulative Hours\": 460317832.8936}, {\"Year Released\": \"2014\", \"Source Category\": \"Code\", \"Cumulative Hours\": 1918441810.719136}, {\"Year Released\": \"2014\", \"Source Category\": \"Exams\", \"Cumulative Hours\": 0.0}, {\"Year Released\": \"2014\", \"Source Category\": \"Encyclopedias\", \"Cumulative Hours\": 408095896.52320004}, {\"Year Released\": \"2014\", \"Source Category\": \"General Web\", \"Cumulative Hours\": 1252852013.6826}, {\"Year Released\": \"2014\", \"Source Category\": \"Books\", \"Cumulative Hours\": 0.0}, {\"Year Released\": \"2014\", \"Source Category\": \"Academic Papers\", \"Cumulative Hours\": 0.0}, {\"Year Released\": \"2015\", \"Source Category\": \"Social Media\", \"Cumulative Hours\": 1516698747.9133363}, {\"Year Released\": \"2015\", \"Source Category\": \"News Sites\", \"Cumulative Hours\": 3419752787.2330003}, {\"Year Released\": \"2015\", \"Source Category\": \"Human Partic.\", \"Cumulative Hours\": 358887205.8398}, {\"Year Released\": \"2015\", \"Source Category\": \"Government\", \"Cumulative Hours\": 460317832.8936}, {\"Year Released\": \"2015\", \"Source Category\": \"General Web\", \"Cumulative Hours\": 2124271753.4492002}, {\"Year Released\": \"2015\", \"Source Category\": \"Encyclopedias\", \"Cumulative Hours\": 1393151211.8012}, {\"Year Released\": \"2015\", \"Source Category\": \"Code\", \"Cumulative Hours\": 1918441810.719136}, {\"Year Released\": \"2015\", \"Source Category\": \"Books\", \"Cumulative Hours\": 0.0}, {\"Year Released\": \"2015\", \"Source Category\": \"Academic Papers\", \"Cumulative Hours\": 0.0}, {\"Year Released\": \"2015\", \"Source Category\": \"Exams\", \"Cumulative Hours\": 0.0}, {\"Year Released\": \"2016\", \"Source Category\": \"Social Media\", \"Cumulative Hours\": 1517013387.9019363}, {\"Year Released\": \"2016\", \"Source Category\": \"News Sites\", \"Cumulative Hours\": 6876182803.178801}, {\"Year Released\": \"2016\", \"Source Category\": \"Human Partic.\", \"Cumulative Hours\": 1497551124.6861248}, {\"Year Released\": \"2016\", \"Source Category\": \"Government\", \"Cumulative Hours\": 2252668040.9628}, {\"Year Released\": \"2016\", \"Source Category\": \"General Web\", \"Cumulative Hours\": 3986453136.1766}, {\"Year Released\": \"2016\", \"Source Category\": \"Encyclopedias\", \"Cumulative Hours\": 4063117461.791}, {\"Year Released\": \"2016\", \"Source Category\": \"Code\", \"Cumulative Hours\": 1918441810.719136}, {\"Year Released\": \"2016\", \"Source Category\": \"Books\", \"Cumulative Hours\": 0.0}, {\"Year Released\": \"2016\", \"Source Category\": \"Academic Papers\", \"Cumulative Hours\": 0.0}, {\"Year Released\": \"2016\", \"Source Category\": \"Exams\", \"Cumulative Hours\": 0.0}, {\"Year Released\": \"2017\", \"Source Category\": \"Government\", \"Cumulative Hours\": 2252668040.9628}, {\"Year Released\": \"2017\", \"Source Category\": \"Social Media\", \"Cumulative Hours\": 1552696496.0803363}, {\"Year Released\": \"2017\", \"Source Category\": \"News Sites\", \"Cumulative Hours\": 6896116302.7636}, {\"Year Released\": \"2017\", \"Source Category\": \"Human Partic.\", \"Cumulative Hours\": 1753324670.2361248}, {\"Year Released\": \"2017\", \"Source Category\": \"General Web\", \"Cumulative Hours\": 4096796328.792}, {\"Year Released\": \"2017\", \"Source Category\": \"Encyclopedias\", \"Cumulative Hours\": 4244932825.3115997}, {\"Year Released\": \"2017\", \"Source Category\": \"Code\", \"Cumulative Hours\": 2851283987.272136}, {\"Year Released\": \"2017\", \"Source Category\": \"Books\", \"Cumulative Hours\": 134571548.08479998}, {\"Year Released\": \"2017\", \"Source Category\": \"Academic Papers\", \"Cumulative Hours\": 324685781.38079995}, {\"Year Released\": \"2017\", \"Source Category\": \"Exams\", \"Cumulative Hours\": 1719404049.5154002}, {\"Year Released\": \"2018\", \"Source Category\": \"Social Media\", \"Cumulative Hours\": 2399770770.431136}, {\"Year Released\": \"2018\", \"Source Category\": \"News Sites\", \"Cumulative Hours\": 12540639521.792202}, {\"Year Released\": \"2018\", \"Source Category\": \"Human Partic.\", \"Cumulative Hours\": 3951174369.8883247}, {\"Year Released\": \"2018\", \"Source Category\": \"Government\", \"Cumulative Hours\": 2253646097.006}, {\"Year Released\": \"2018\", \"Source Category\": \"General Web\", \"Cumulative Hours\": 9811005847.5686}, {\"Year Released\": \"2018\", \"Source Category\": \"Exams\", \"Cumulative Hours\": 2243136140.9656}, {\"Year Released\": \"2018\", \"Source Category\": \"Encyclopedias\", \"Cumulative Hours\": 7966143226.056999}, {\"Year Released\": \"2018\", \"Source Category\": \"Code\", \"Cumulative Hours\": 2856961582.8041363}, {\"Year Released\": \"2018\", \"Source Category\": \"Books\", \"Cumulative Hours\": 1177342731.3064}, {\"Year Released\": \"2018\", \"Source Category\": \"Academic Papers\", \"Cumulative Hours\": 359471171.78499997}, {\"Year Released\": \"2019\", \"Source Category\": \"Social Media\", \"Cumulative Hours\": 7067370598.924336}, {\"Year Released\": \"2019\", \"Source Category\": \"News Sites\", \"Cumulative Hours\": 16518712404.911201}, {\"Year Released\": \"2019\", \"Source Category\": \"Human Partic.\", \"Cumulative Hours\": 7758119658.055672}, {\"Year Released\": \"2019\", \"Source Category\": \"Government\", \"Cumulative Hours\": 2580684920.4684}, {\"Year Released\": \"2019\", \"Source Category\": \"General Web\", \"Cumulative Hours\": 12013403806.5684}, {\"Year Released\": \"2019\", \"Source Category\": \"Exams\", \"Cumulative Hours\": 2539924847.967092}, {\"Year Released\": \"2019\", \"Source Category\": \"Encyclopedias\", \"Cumulative Hours\": 355359910348.0848}, {\"Year Released\": \"2019\", \"Source Category\": \"Code\", \"Cumulative Hours\": 2859877206.788936}, {\"Year Released\": \"2019\", \"Source Category\": \"Books\", \"Cumulative Hours\": 2552072944.6292}, {\"Year Released\": \"2019\", \"Source Category\": \"Academic Papers\", \"Cumulative Hours\": 639139482.6417999}, {\"Year Released\": \"2020\", \"Source Category\": \"Social Media\", \"Cumulative Hours\": 8773310093.307337}, {\"Year Released\": \"2020\", \"Source Category\": \"News Sites\", \"Cumulative Hours\": 49239389947.3256}, {\"Year Released\": \"2020\", \"Source Category\": \"Human Partic.\", \"Cumulative Hours\": 9413273570.054272}, {\"Year Released\": \"2020\", \"Source Category\": \"Government\", \"Cumulative Hours\": 34856541719.4392}, {\"Year Released\": \"2020\", \"Source Category\": \"General Web\", \"Cumulative Hours\": 66501888255.9376}, {\"Year Released\": \"2020\", \"Source Category\": \"Exams\", \"Cumulative Hours\": 2786184191.332292}, {\"Year Released\": \"2020\", \"Source Category\": \"Encyclopedias\", \"Cumulative Hours\": 692112046923.1921}, {\"Year Released\": \"2020\", \"Source Category\": \"Code\", \"Cumulative Hours\": 35186458536.39813}, {\"Year Released\": \"2020\", \"Source Category\": \"Books\", \"Cumulative Hours\": 34885128703.1022}, {\"Year Released\": \"2020\", \"Source Category\": \"Academic Papers\", \"Cumulative Hours\": 14218227661.12}, {\"Year Released\": \"2021\", \"Source Category\": \"Social Media\", \"Cumulative Hours\": 10551632281.163837}, {\"Year Released\": \"2021\", \"Source Category\": \"News Sites\", \"Cumulative Hours\": 114824793166.48279}, {\"Year Released\": \"2021\", \"Source Category\": \"Human Partic.\", \"Cumulative Hours\": 10292766030.570671}, {\"Year Released\": \"2021\", \"Source Category\": \"Government\", \"Cumulative Hours\": 35272857218.9668}, {\"Year Released\": \"2021\", \"Source Category\": \"Code\", \"Cumulative Hours\": 35921524061.909134}, {\"Year Released\": \"2021\", \"Source Category\": \"Exams\", \"Cumulative Hours\": 2830298490.892292}, {\"Year Released\": \"2021\", \"Source Category\": \"Encyclopedias\", \"Cumulative Hours\": 693025028069.9408}, {\"Year Released\": \"2021\", \"Source Category\": \"Books\", \"Cumulative Hours\": 35938883248.0926}, {\"Year Released\": \"2021\", \"Source Category\": \"Academic Papers\", \"Cumulative Hours\": 14231985507.721}, {\"Year Released\": \"2021\", \"Source Category\": \"General Web\", \"Cumulative Hours\": 69646676353.9402}, {\"Year Released\": \"2022\", \"Source Category\": \"Social Media\", \"Cumulative Hours\": 60546019006.62663}, {\"Year Released\": \"2022\", \"Source Category\": \"News Sites\", \"Cumulative Hours\": 246269224588.0158}, {\"Year Released\": \"2022\", \"Source Category\": \"Human Partic.\", \"Cumulative Hours\": 42026297049.91835}, {\"Year Released\": \"2022\", \"Source Category\": \"Government\", \"Cumulative Hours\": 62194877417.9258}, {\"Year Released\": \"2022\", \"Source Category\": \"General Web\", \"Cumulative Hours\": 161302337655.20892}, {\"Year Released\": \"2022\", \"Source Category\": \"Exams\", \"Cumulative Hours\": 31031330604.97509}, {\"Year Released\": \"2022\", \"Source Category\": \"Encyclopedias\", \"Cumulative Hours\": 763099681399.4578}, {\"Year Released\": \"2022\", \"Source Category\": \"Code\", \"Cumulative Hours\": 103157839191.81754}, {\"Year Released\": \"2022\", \"Source Category\": \"Books\", \"Cumulative Hours\": 76495902104.67459}, {\"Year Released\": \"2022\", \"Source Category\": \"Academic Papers\", \"Cumulative Hours\": 29474295700.406998}, {\"Year Released\": \"2023\", \"Source Category\": \"Social Media\", \"Cumulative Hours\": 61210573496.8303}, {\"Year Released\": \"2023\", \"Source Category\": \"News Sites\", \"Cumulative Hours\": 247321212701.60046}, {\"Year Released\": \"2023\", \"Source Category\": \"Human Partic.\", \"Cumulative Hours\": 50606935409.3319}, {\"Year Released\": \"2023\", \"Source Category\": \"Government\", \"Cumulative Hours\": 62367928118.4038}, {\"Year Released\": \"2023\", \"Source Category\": \"Code\", \"Cumulative Hours\": 149788372855.38773}, {\"Year Released\": \"2023\", \"Source Category\": \"Exams\", \"Cumulative Hours\": 31555517452.74872}, {\"Year Released\": \"2023\", \"Source Category\": \"Encyclopedias\", \"Cumulative Hours\": 800614470184.6898}, {\"Year Released\": \"2023\", \"Source Category\": \"Books\", \"Cumulative Hours\": 76662009063.6208}, {\"Year Released\": \"2023\", \"Source Category\": \"Academic Papers\", \"Cumulative Hours\": 29600200701.9232}, {\"Year Released\": \"2023\", \"Source Category\": \"General Web\", \"Cumulative Hours\": 183920873929.70822}, {\"Year Released\": \"2024\", \"Source Category\": \"Social Media\", \"Cumulative Hours\": 61210573496.8303}, {\"Year Released\": \"2024\", \"Source Category\": \"Academic Papers\", \"Cumulative Hours\": 29600200701.9232}, {\"Year Released\": \"2024\", \"Source Category\": \"Books\", \"Cumulative Hours\": 76662009063.6208}, {\"Year Released\": \"2024\", \"Source Category\": \"Code\", \"Cumulative Hours\": 149788372855.38773}, {\"Year Released\": \"2024\", \"Source Category\": \"Encyclopedias\", \"Cumulative Hours\": 801237680024.3644}, {\"Year Released\": \"2024\", \"Source Category\": \"Exams\", \"Cumulative Hours\": 34793803363.617516}, {\"Year Released\": \"2024\", \"Source Category\": \"General Web\", \"Cumulative Hours\": 184092461071.7687}, {\"Year Released\": \"2024\", \"Source Category\": \"Government\", \"Cumulative Hours\": 62375479107.8487}, {\"Year Released\": \"2024\", \"Source Category\": \"Human Partic.\", \"Cumulative Hours\": 52144275980.666725}, {\"Year Released\": \"2024\", \"Source Category\": \"News Sites\", \"Cumulative Hours\": 247321212701.60046}], \"data-4e4b8eb6da00e85ac0d0f235f82398ca\": [{\"Year Released\": \"<2013\", \"Source Category\": \"Ted Talks\", \"Cumulative Hours\": 452.0}, {\"Year Released\": \"<2013\", \"Source Category\": \"Parliament\", \"Cumulative Hours\": 0.0}, {\"Year Released\": \"<2013\", \"Source Category\": \"Internet Video\", \"Cumulative Hours\": 0.0}, {\"Year Released\": \"<2013\", \"Source Category\": \"Radio\", \"Cumulative Hours\": 0.0}, {\"Year Released\": \"<2013\", \"Source Category\": \"Crowd-Sourcing\", \"Cumulative Hours\": 0.0}, {\"Year Released\": \"<2013\", \"Source Category\": \"Calling Plat.\", \"Cumulative Hours\": 2319.0}, {\"Year Released\": \"<2013\", \"Source Category\": \"Audiobooks\", \"Cumulative Hours\": 0.0}, {\"Year Released\": \"<2013\", \"Source Category\": \"Human Partic.\", \"Cumulative Hours\": 874.0}, {\"Year Released\": \"2013\", \"Source Category\": \"Ted Talks\", \"Cumulative Hours\": 452.0}, {\"Year Released\": \"2013\", \"Source Category\": \"Radio\", \"Cumulative Hours\": 0.0}, {\"Year Released\": \"2013\", \"Source Category\": \"Parliament\", \"Cumulative Hours\": 0.0}, {\"Year Released\": \"2013\", \"Source Category\": \"Internet Video\", \"Cumulative Hours\": 0.0}, {\"Year Released\": \"2013\", \"Source Category\": \"Crowd-Sourcing\", \"Cumulative Hours\": 0.0}, {\"Year Released\": \"2013\", \"Source Category\": \"Calling Plat.\", \"Cumulative Hours\": 2319.0}, {\"Year Released\": \"2013\", \"Source Category\": \"Audiobooks\", \"Cumulative Hours\": 0.0}, {\"Year Released\": \"2013\", \"Source Category\": \"Human Partic.\", \"Cumulative Hours\": 874.0}, {\"Year Released\": \"2014\", \"Source Category\": \"Radio\", \"Cumulative Hours\": 0.0}, {\"Year Released\": \"2014\", \"Source Category\": \"Ted Talks\", \"Cumulative Hours\": 452.0}, {\"Year Released\": \"2014\", \"Source Category\": \"Parliament\", \"Cumulative Hours\": 0.0}, {\"Year Released\": \"2014\", \"Source Category\": \"Calling Plat.\", \"Cumulative Hours\": 2375.0}, {\"Year Released\": \"2014\", \"Source Category\": \"Human Partic.\", \"Cumulative Hours\": 874.0}, {\"Year Released\": \"2014\", \"Source Category\": \"Crowd-Sourcing\", \"Cumulative Hours\": 56.0}, {\"Year Released\": \"2014\", \"Source Category\": \"Internet Video\", \"Cumulative Hours\": 0.0}, {\"Year Released\": \"2014\", \"Source Category\": \"Audiobooks\", \"Cumulative Hours\": 0.0}, {\"Year Released\": \"2015\", \"Source Category\": \"Ted Talks\", \"Cumulative Hours\": 452.0}, {\"Year Released\": \"2015\", \"Source Category\": \"Radio\", \"Cumulative Hours\": 0.0}, {\"Year Released\": \"2015\", \"Source Category\": \"Parliament\", \"Cumulative Hours\": 0.0}, {\"Year Released\": \"2015\", \"Source Category\": \"Internet Video\", \"Cumulative Hours\": 0.0}, {\"Year Released\": \"2015\", \"Source Category\": \"Crowd-Sourcing\", \"Cumulative Hours\": 56.0}, {\"Year Released\": \"2015\", \"Source Category\": \"Calling Plat.\", \"Cumulative Hours\": 2375.0}, {\"Year Released\": \"2015\", \"Source Category\": \"Audiobooks\", \"Cumulative Hours\": 1000.0}, {\"Year Released\": \"2015\", \"Source Category\": \"Human Partic.\", \"Cumulative Hours\": 929.0}, {\"Year Released\": \"2016\", \"Source Category\": \"Ted Talks\", \"Cumulative Hours\": 452.0}, {\"Year Released\": \"2016\", \"Source Category\": \"Radio\", \"Cumulative Hours\": 0.0}, {\"Year Released\": \"2016\", \"Source Category\": \"Parliament\", \"Cumulative Hours\": 0.0}, {\"Year Released\": \"2016\", \"Source Category\": \"Internet Video\", \"Cumulative Hours\": 0.0}, {\"Year Released\": \"2016\", \"Source Category\": \"Crowd-Sourcing\", \"Cumulative Hours\": 1061.0}, {\"Year Released\": \"2016\", \"Source Category\": \"Calling Plat.\", \"Cumulative Hours\": 2375.0}, {\"Year Released\": \"2016\", \"Source Category\": \"Audiobooks\", \"Cumulative Hours\": 1000.0}, {\"Year Released\": \"2016\", \"Source Category\": \"Human Partic.\", \"Cumulative Hours\": 973.0}, {\"Year Released\": \"2017\", \"Source Category\": \"Parliament\", \"Cumulative Hours\": 0.0}, {\"Year Released\": \"2017\", \"Source Category\": \"Ted Talks\", \"Cumulative Hours\": 452.0}, {\"Year Released\": \"2017\", \"Source Category\": \"Radio\", \"Cumulative Hours\": 0.0}, {\"Year Released\": \"2017\", \"Source Category\": \"Internet Video\", \"Cumulative Hours\": 0.0}, {\"Year Released\": \"2017\", \"Source Category\": \"Crowd-Sourcing\", \"Cumulative Hours\": 1061.0}, {\"Year Released\": \"2017\", \"Source Category\": \"Audiobooks\", \"Cumulative Hours\": 1024.0}, {\"Year Released\": \"2017\", \"Source Category\": \"Human Partic.\", \"Cumulative Hours\": 1699.0}, {\"Year Released\": \"2017\", \"Source Category\": \"Calling Plat.\", \"Cumulative Hours\": 2431.0}, {\"Year Released\": \"2018\", \"Source Category\": \"Audiobooks\", \"Cumulative Hours\": 1024.0}, {\"Year Released\": \"2018\", \"Source Category\": \"Calling Plat.\", \"Cumulative Hours\": 2431.0}, {\"Year Released\": \"2018\", \"Source Category\": \"Crowd-Sourcing\", \"Cumulative Hours\": 2403.7}, {\"Year Released\": \"2018\", \"Source Category\": \"Human Partic.\", \"Cumulative Hours\": 2858.49}, {\"Year Released\": \"2018\", \"Source Category\": \"Parliament\", \"Cumulative Hours\": 0.0}, {\"Year Released\": \"2018\", \"Source Category\": \"Radio\", \"Cumulative Hours\": 691.0}, {\"Year Released\": \"2018\", \"Source Category\": \"Ted Talks\", \"Cumulative Hours\": 452.0}, {\"Year Released\": \"2018\", \"Source Category\": \"Internet Video\", \"Cumulative Hours\": 0.0}, {\"Year Released\": \"2019\", \"Source Category\": \"Parliament\", \"Cumulative Hours\": 140.3}, {\"Year Released\": \"2019\", \"Source Category\": \"Ted Talks\", \"Cumulative Hours\": 4069.0}, {\"Year Released\": \"2019\", \"Source Category\": \"Radio\", \"Cumulative Hours\": 20691.0}, {\"Year Released\": \"2019\", \"Source Category\": \"Internet Video\", \"Cumulative Hours\": 174041.0}, {\"Year Released\": \"2019\", \"Source Category\": \"Crowd-Sourcing\", \"Cumulative Hours\": 33585.47}, {\"Year Released\": \"2019\", \"Source Category\": \"Calling Plat.\", \"Cumulative Hours\": 2431.0}, {\"Year Released\": \"2019\", \"Source Category\": \"Audiobooks\", \"Cumulative Hours\": 22144.0}, {\"Year Released\": \"2019\", \"Source Category\": \"Human Partic.\", \"Cumulative Hours\": 3613.49}, {\"Year Released\": \"2020\", \"Source Category\": \"Ted Talks\", \"Cumulative Hours\": 4069.0}, {\"Year Released\": \"2020\", \"Source Category\": \"Radio\", \"Cumulative Hours\": 20691.0}, {\"Year Released\": \"2020\", \"Source Category\": \"Parliament\", \"Cumulative Hours\": 2441.3}, {\"Year Released\": \"2020\", \"Source Category\": \"Internet Video\", \"Cumulative Hours\": 174041.0}, {\"Year Released\": \"2020\", \"Source Category\": \"Crowd-Sourcing\", \"Cumulative Hours\": 36976.07}, {\"Year Released\": \"2020\", \"Source Category\": \"Calling Plat.\", \"Cumulative Hours\": 2431.0}, {\"Year Released\": \"2020\", \"Source Category\": \"Audiobooks\", \"Cumulative Hours\": 72804.0}, {\"Year Released\": \"2020\", \"Source Category\": \"Human Partic.\", \"Cumulative Hours\": 5413.49}, {\"Year Released\": \"2021\", \"Source Category\": \"Ted Talks\", \"Cumulative Hours\": 4834.0}, {\"Year Released\": \"2021\", \"Source Category\": \"Radio\", \"Cumulative Hours\": 20833.0}, {\"Year Released\": \"2021\", \"Source Category\": \"Parliament\", \"Cumulative Hours\": 4232.3}, {\"Year Released\": \"2021\", \"Source Category\": \"Crowd-Sourcing\", \"Cumulative Hours\": 39782.67}, {\"Year Released\": \"2021\", \"Source Category\": \"Human Partic.\", \"Cumulative Hours\": 5862.01}, {\"Year Released\": \"2021\", \"Source Category\": \"Calling Plat.\", \"Cumulative Hours\": 2455.6}, {\"Year Released\": \"2021\", \"Source Category\": \"Audiobooks\", \"Cumulative Hours\": 82802.0}, {\"Year Released\": \"2021\", \"Source Category\": \"Internet Video\", \"Cumulative Hours\": 216422.0}, {\"Year Released\": \"2022\", \"Source Category\": \"Ted Talks\", \"Cumulative Hours\": 5342.0}, {\"Year Released\": \"2022\", \"Source Category\": \"Radio\", \"Cumulative Hours\": 27290.0}, {\"Year Released\": \"2022\", \"Source Category\": \"Parliament\", \"Cumulative Hours\": 4372.3}, {\"Year Released\": \"2022\", \"Source Category\": \"Internet Video\", \"Cumulative Hours\": 226471.76}, {\"Year Released\": \"2022\", \"Source Category\": \"Crowd-Sourcing\", \"Cumulative Hours\": 42997.67}, {\"Year Released\": \"2022\", \"Source Category\": \"Calling Plat.\", \"Cumulative Hours\": 2563.6}, {\"Year Released\": \"2022\", \"Source Category\": \"Audiobooks\", \"Cumulative Hours\": 83230.0}, {\"Year Released\": \"2022\", \"Source Category\": \"Human Partic.\", \"Cumulative Hours\": 7592.01}, {\"Year Released\": \"2023\", \"Source Category\": \"Ted Talks\", \"Cumulative Hours\": 5342.0}, {\"Year Released\": \"2023\", \"Source Category\": \"Radio\", \"Cumulative Hours\": 27290.0}, {\"Year Released\": \"2023\", \"Source Category\": \"Parliament\", \"Cumulative Hours\": 12952.3}, {\"Year Released\": \"2023\", \"Source Category\": \"Crowd-Sourcing\", \"Cumulative Hours\": 44164.67}, {\"Year Released\": \"2023\", \"Source Category\": \"Human Partic.\", \"Cumulative Hours\": 7760.01}, {\"Year Released\": \"2023\", \"Source Category\": \"Calling Plat.\", \"Cumulative Hours\": 2563.6}, {\"Year Released\": \"2023\", \"Source Category\": \"Audiobooks\", \"Cumulative Hours\": 83502.92}, {\"Year Released\": \"2023\", \"Source Category\": \"Internet Video\", \"Cumulative Hours\": 595981.76}, {\"Year Released\": \"2024\", \"Source Category\": \"Ted Talks\", \"Cumulative Hours\": 5342.0}, {\"Year Released\": \"2024\", \"Source Category\": \"Audiobooks\", \"Cumulative Hours\": 84002.92}, {\"Year Released\": \"2024\", \"Source Category\": \"Calling Plat.\", \"Cumulative Hours\": 2563.6}, {\"Year Released\": \"2024\", \"Source Category\": \"Crowd-Sourcing\", \"Cumulative Hours\": 44164.67}, {\"Year Released\": \"2024\", \"Source Category\": \"Human Partic.\", \"Cumulative Hours\": 7777.86}, {\"Year Released\": \"2024\", \"Source Category\": \"Internet Video\", \"Cumulative Hours\": 595981.76}, {\"Year Released\": \"2024\", \"Source Category\": \"Parliament\", \"Cumulative Hours\": 12952.3}, {\"Year Released\": \"2024\", \"Source Category\": \"Radio\", \"Cumulative Hours\": 27290.0}], \"data-4df38712c1f1587ee467b1691b4700f1\": [{\"Year Released\": \"<2013\", \"Source Category\": \"Youtube\", \"Cumulative Hours\": 7026.0}, {\"Year Released\": \"<2013\", \"Source Category\": \"Human Partic.\", \"Cumulative Hours\": 0.1}, {\"Year Released\": \"<2013\", \"Source Category\": \"Google Videos\", \"Cumulative Hours\": 7000.0}, {\"Year Released\": \"<2013\", \"Source Category\": \"Movies\", \"Cumulative Hours\": 7020.1}, {\"Year Released\": \"<2013\", \"Source Category\": \"General Web\", \"Cumulative Hours\": 7000.0}, {\"Year Released\": \"<2013\", \"Source Category\": \"Flickr\", \"Cumulative Hours\": 0.0}, {\"Year Released\": \"<2013\", \"Source Category\": \"Crowd-Sourced\", \"Cumulative Hours\": 0.0}, {\"Year Released\": \"<2013\", \"Source Category\": \"Getty Images\", \"Cumulative Hours\": 0.0}, {\"Year Released\": \"2013\", \"Source Category\": \"Youtube\", \"Cumulative Hours\": 8026.0}, {\"Year Released\": \"2013\", \"Source Category\": \"Movies\", \"Cumulative Hours\": 7020.1}, {\"Year Released\": \"2013\", \"Source Category\": \"Human Partic.\", \"Cumulative Hours\": 40.1}, {\"Year Released\": \"2013\", \"Source Category\": \"Google Videos\", \"Cumulative Hours\": 7000.0}, {\"Year Released\": \"2013\", \"Source Category\": \"General Web\", \"Cumulative Hours\": 7000.0}, {\"Year Released\": \"2013\", \"Source Category\": \"Flickr\", \"Cumulative Hours\": 0.0}, {\"Year Released\": \"2013\", \"Source Category\": \"Crowd-Sourced\", \"Cumulative Hours\": 0.0}, {\"Year Released\": \"2013\", \"Source Category\": \"Getty Images\", \"Cumulative Hours\": 0.0}, {\"Year Released\": \"2014\", \"Source Category\": \"Movies\", \"Cumulative Hours\": 7036.150000000001}, {\"Year Released\": \"2014\", \"Source Category\": \"Youtube\", \"Cumulative Hours\": 114784.41}, {\"Year Released\": \"2014\", \"Source Category\": \"Human Partic.\", \"Cumulative Hours\": 117.1}, {\"Year Released\": \"2014\", \"Source Category\": \"Flickr\", \"Cumulative Hours\": 0.0}, {\"Year Released\": \"2014\", \"Source Category\": \"Getty Images\", \"Cumulative Hours\": 0.0}, {\"Year Released\": \"2014\", \"Source Category\": \"General Web\", \"Cumulative Hours\": 7000.0}, {\"Year Released\": \"2014\", \"Source Category\": \"Google Videos\", \"Cumulative Hours\": 7000.0}, {\"Year Released\": \"2014\", \"Source Category\": \"Crowd-Sourced\", \"Cumulative Hours\": 1.11}, {\"Year Released\": \"2015\", \"Source Category\": \"Movies\", \"Cumulative Hours\": 7417.150000000001}, {\"Year Released\": \"2015\", \"Source Category\": \"Human Partic.\", \"Cumulative Hours\": 144.1}, {\"Year Released\": \"2015\", \"Source Category\": \"Google Videos\", \"Cumulative Hours\": 7000.0}, {\"Year Released\": \"2015\", \"Source Category\": \"Youtube\", \"Cumulative Hours\": 114788.01000000001}, {\"Year Released\": \"2015\", \"Source Category\": \"General Web\", \"Cumulative Hours\": 7849.0}, {\"Year Released\": \"2015\", \"Source Category\": \"Flickr\", \"Cumulative Hours\": 0.0}, {\"Year Released\": \"2015\", \"Source Category\": \"Crowd-Sourced\", \"Cumulative Hours\": 1.11}, {\"Year Released\": \"2015\", \"Source Category\": \"Getty Images\", \"Cumulative Hours\": 0.0}, {\"Year Released\": \"2016\", \"Source Category\": \"Youtube\", \"Cumulative Hours\": 464795.01}, {\"Year Released\": \"2016\", \"Source Category\": \"Movies\", \"Cumulative Hours\": 7417.150000000001}, {\"Year Released\": \"2016\", \"Source Category\": \"Human Partic.\", \"Cumulative Hours\": 253.64}, {\"Year Released\": \"2016\", \"Source Category\": \"Google Videos\", \"Cumulative Hours\": 7000.0}, {\"Year Released\": \"2016\", \"Source Category\": \"General Web\", \"Cumulative Hours\": 8103.4}, {\"Year Released\": \"2016\", \"Source Category\": \"Flickr\", \"Cumulative Hours\": 0.0}, {\"Year Released\": \"2016\", \"Source Category\": \"Crowd-Sourced\", \"Cumulative Hours\": 75.21}, {\"Year Released\": \"2016\", \"Source Category\": \"Getty Images\", \"Cumulative Hours\": 0.0}, {\"Year Released\": \"2017\", \"Source Category\": \"Human Partic.\", \"Cumulative Hours\": 1104.32}, {\"Year Released\": \"2017\", \"Source Category\": \"Movies\", \"Cumulative Hours\": 7631.650000000001}, {\"Year Released\": \"2017\", \"Source Category\": \"Google Videos\", \"Cumulative Hours\": 7000.0}, {\"Year Released\": \"2017\", \"Source Category\": \"Youtube\", \"Cumulative Hours\": 467108.11}, {\"Year Released\": \"2017\", \"Source Category\": \"General Web\", \"Cumulative Hours\": 8112.7}, {\"Year Released\": \"2017\", \"Source Category\": \"Crowd-Sourced\", \"Cumulative Hours\": 266.66999999999996}, {\"Year Released\": \"2017\", \"Source Category\": \"Getty Images\", \"Cumulative Hours\": 0.0}, {\"Year Released\": \"2017\", \"Source Category\": \"Flickr\", \"Cumulative Hours\": 0.0}, {\"Year Released\": \"2018\", \"Source Category\": \"Crowd-Sourced\", \"Cumulative Hours\": 266.66999999999996}, {\"Year Released\": \"2018\", \"Source Category\": \"Flickr\", \"Cumulative Hours\": 275.0}, {\"Year Released\": \"2018\", \"Source Category\": \"General Web\", \"Cumulative Hours\": 8112.7}, {\"Year Released\": \"2018\", \"Source Category\": \"Getty Images\", \"Cumulative Hours\": 0.0}, {\"Year Released\": \"2018\", \"Source Category\": \"Human Partic.\", \"Cumulative Hours\": 1273.6499999999999}, {\"Year Released\": \"2018\", \"Source Category\": \"Movies\", \"Cumulative Hours\": 7725.55}, {\"Year Released\": \"2018\", \"Source Category\": \"Youtube\", \"Cumulative Hours\": 471120.63}, {\"Year Released\": \"2018\", \"Source Category\": \"Google Videos\", \"Cumulative Hours\": 7000.0}, {\"Year Released\": \"2019\", \"Source Category\": \"Youtube\", \"Cumulative Hours\": 608225.21}, {\"Year Released\": \"2019\", \"Source Category\": \"Human Partic.\", \"Cumulative Hours\": 1642.23}, {\"Year Released\": \"2019\", \"Source Category\": \"Movies\", \"Cumulative Hours\": 8241.550000000001}, {\"Year Released\": \"2019\", \"Source Category\": \"Google Videos\", \"Cumulative Hours\": 7000.0}, {\"Year Released\": \"2019\", \"Source Category\": \"General Web\", \"Cumulative Hours\": 9112.7}, {\"Year Released\": \"2019\", \"Source Category\": \"Flickr\", \"Cumulative Hours\": 1108.0}, {\"Year Released\": \"2019\", \"Source Category\": \"Crowd-Sourced\", \"Cumulative Hours\": 279.66999999999996}, {\"Year Released\": \"2019\", \"Source Category\": \"Getty Images\", \"Cumulative Hours\": 833.0}, {\"Year Released\": \"2020\", \"Source Category\": \"Youtube\", \"Cumulative Hours\": 724739.74}, {\"Year Released\": \"2020\", \"Source Category\": \"Movies\", \"Cumulative Hours\": 12919.55}, {\"Year Released\": \"2020\", \"Source Category\": \"Human Partic.\", \"Cumulative Hours\": 1658.51}, {\"Year Released\": \"2020\", \"Source Category\": \"Google Videos\", \"Cumulative Hours\": 20333.0}, {\"Year Released\": \"2020\", \"Source Category\": \"General Web\", \"Cumulative Hours\": 10211.83}, {\"Year Released\": \"2020\", \"Source Category\": \"Flickr\", \"Cumulative Hours\": 1108.0}, {\"Year Released\": \"2020\", \"Source Category\": \"Crowd-Sourced\", \"Cumulative Hours\": 304.21}, {\"Year Released\": \"2020\", \"Source Category\": \"Getty Images\", \"Cumulative Hours\": 833.0}, {\"Year Released\": \"2021\", \"Source Category\": \"Youtube\", \"Cumulative Hours\": 740915.86}, {\"Year Released\": \"2021\", \"Source Category\": \"Movies\", \"Cumulative Hours\": 12955.55}, {\"Year Released\": \"2021\", \"Source Category\": \"Human Partic.\", \"Cumulative Hours\": 1706.85}, {\"Year Released\": \"2021\", \"Source Category\": \"General Web\", \"Cumulative Hours\": 24044.83}, {\"Year Released\": \"2021\", \"Source Category\": \"Getty Images\", \"Cumulative Hours\": 1249.67}, {\"Year Released\": \"2021\", \"Source Category\": \"Flickr\", \"Cumulative Hours\": 1524.67}, {\"Year Released\": \"2021\", \"Source Category\": \"Crowd-Sourced\", \"Cumulative Hours\": 1137.21}, {\"Year Released\": \"2021\", \"Source Category\": \"Google Videos\", \"Cumulative Hours\": 20333.0}, {\"Year Released\": \"2022\", \"Source Category\": \"Youtube\", \"Cumulative Hours\": 796470.86}, {\"Year Released\": \"2022\", \"Source Category\": \"Movies\", \"Cumulative Hours\": 12955.55}, {\"Year Released\": \"2022\", \"Source Category\": \"Human Partic.\", \"Cumulative Hours\": 5376.85}, {\"Year Released\": \"2022\", \"Source Category\": \"Google Videos\", \"Cumulative Hours\": 20333.0}, {\"Year Released\": \"2022\", \"Source Category\": \"General Web\", \"Cumulative Hours\": 25268.6}, {\"Year Released\": \"2022\", \"Source Category\": \"Flickr\", \"Cumulative Hours\": 1524.67}, {\"Year Released\": \"2022\", \"Source Category\": \"Crowd-Sourced\", \"Cumulative Hours\": 1352.21}, {\"Year Released\": \"2022\", \"Source Category\": \"Getty Images\", \"Cumulative Hours\": 1249.67}, {\"Year Released\": \"2023\", \"Source Category\": \"Youtube\", \"Cumulative Hours\": 796470.86}, {\"Year Released\": \"2023\", \"Source Category\": \"Movies\", \"Cumulative Hours\": 12955.55}, {\"Year Released\": \"2023\", \"Source Category\": \"Human Partic.\", \"Cumulative Hours\": 6805.45}, {\"Year Released\": \"2023\", \"Source Category\": \"General Web\", \"Cumulative Hours\": 25268.6}, {\"Year Released\": \"2023\", \"Source Category\": \"Getty Images\", \"Cumulative Hours\": 1249.67}, {\"Year Released\": \"2023\", \"Source Category\": \"Flickr\", \"Cumulative Hours\": 1524.67}, {\"Year Released\": \"2023\", \"Source Category\": \"Crowd-Sourced\", \"Cumulative Hours\": 1352.21}, {\"Year Released\": \"2023\", \"Source Category\": \"Google Videos\", \"Cumulative Hours\": 20333.0}, {\"Year Released\": \"2024\", \"Source Category\": \"Crowd-Sourced\", \"Cumulative Hours\": 1352.21}, {\"Year Released\": \"2024\", \"Source Category\": \"Flickr\", \"Cumulative Hours\": 1524.67}, {\"Year Released\": \"2024\", \"Source Category\": \"General Web\", \"Cumulative Hours\": 25268.6}, {\"Year Released\": \"2024\", \"Source Category\": \"Getty Images\", \"Cumulative Hours\": 1249.67}, {\"Year Released\": \"2024\", \"Source Category\": \"Google Videos\", \"Cumulative Hours\": 20333.0}, {\"Year Released\": \"2024\", \"Source Category\": \"Human Partic.\", \"Cumulative Hours\": 8455.45}, {\"Year Released\": \"2024\", \"Source Category\": \"Movies\", \"Cumulative Hours\": 13373.15}, {\"Year Released\": \"2024\", \"Source Category\": \"Youtube\", \"Cumulative Hours\": 796972.46}]}}, {\"mode\": \"vega-lite\"});\n",
       "</script>"
      ],
      "text/plain": [
       "alt.HConcatChart(...)"
      ]
     },
     "execution_count": 1003,
     "metadata": {},
     "output_type": "execute_result"
    }
   ],
   "source": [
    "combined_cumulative_source_chart"
   ]
  },
  {
   "cell_type": "markdown",
   "metadata": {},
   "source": [
    "## Gini Coefficient Across Languages by (Cumulative) Total Hours"
   ]
  },
  {
   "cell_type": "code",
   "execution_count": 905,
   "metadata": {},
   "outputs": [
    {
     "name": "stdout",
     "output_type": "stream",
     "text": [
      "Text | Language (ISO) | 509\n",
      "Text | Language Family | 21\n",
      "Speech | Language (ISO) | 276\n",
      "Speech | Language Family | 36\n"
     ]
    }
   ],
   "source": [
    "df_textlanguagesfamilycumulativehoursgini, df_text_lang_explode = multimodal_util.prep_text_for_lang_gini(df, all_constants)\n",
    "df_textlanguagesfamilycumulativehoursgini['Type'] = 'Text ' + df_textlanguagesfamilycumulativehoursgini['Type']\n",
    "df_text_lang_explode['Modality'] = 'Text'\n",
    "df_speechlanguagesfamilycumulativehoursgini, df_speechlanguagesn = multimodal_util.prepare_speech_for_gini(df)\n",
    "df_speechlanguagesfamilycumulativehoursgini['Type'] = 'Speech ' + df_speechlanguagesfamilycumulativehoursgini['Type']\n",
    "df_speechlanguagesn['Modality'] = 'Speech'\n",
    "df_speech_text_gini = pd.concat([df_textlanguagesfamilycumulativehoursgini,df_speechlanguagesfamilycumulativehoursgini])\n",
    "df_speech_text_spec = pd.concat([df_text_lang_explode,df_speechlanguagesn])\n",
    "lang_gini_chart = multimodal_util.plot_temporal_ginis(df_speech_text_gini, df_speech_text_spec, [\"Language (ISO)\", \"Language Family\"], columns=2)"
   ]
  },
  {
   "cell_type": "code",
   "execution_count": 906,
   "metadata": {},
   "outputs": [
    {
     "name": "stderr",
     "output_type": "stream",
     "text": [
      "../analysis/multimodal_util.py:2144: SettingWithCopyWarning: \n",
      "A value is trying to be set on a copy of a slice from a DataFrame.\n",
      "Try using .loc[row_indexer,col_indexer] = value instead\n",
      "\n",
      "See the caveats in the documentation: https://pandas.pydata.org/pandas-docs/stable/user_guide/indexing.html#returning-a-view-versus-a-copy\n",
      "  df_video_locs[\"Dimension\"] = df_video_locs[\"Hours\"]\n",
      "../analysis/multimodal_util.py:2145: SettingWithCopyWarning: \n",
      "A value is trying to be set on a copy of a slice from a DataFrame.\n",
      "Try using .loc[row_indexer,col_indexer] = value instead\n",
      "\n",
      "See the caveats in the documentation: https://pandas.pydata.org/pandas-docs/stable/user_guide/indexing.html#returning-a-view-versus-a-copy\n",
      "  \n",
      "../analysis/multimodal_util.py:2151: SettingWithCopyWarning: \n",
      "A value is trying to be set on a copy of a slice from a DataFrame.\n",
      "Try using .loc[row_indexer,col_indexer] = value instead\n",
      "\n",
      "See the caveats in the documentation: https://pandas.pydata.org/pandas-docs/stable/user_guide/indexing.html#returning-a-view-versus-a-copy\n",
      "  lambda x: x / x.count()\n",
      "../analysis/multimodal_util.py:2154: SettingWithCopyWarning: \n",
      "A value is trying to be set on a copy of a slice from a DataFrame.\n",
      "Try using .loc[row_indexer,col_indexer] = value instead\n",
      "\n",
      "See the caveats in the documentation: https://pandas.pydata.org/pandas-docs/stable/user_guide/indexing.html#returning-a-view-versus-a-copy\n",
      "  lambda x: x / x.count()\n",
      "../analysis/multimodal_util.py:2014: SettingWithCopyWarning: \n",
      "A value is trying to be set on a copy of a slice from a DataFrame.\n",
      "Try using .loc[row_indexer,col_indexer] = value instead\n",
      "\n",
      "See the caveats in the documentation: https://pandas.pydata.org/pandas-docs/stable/user_guide/indexing.html#returning-a-view-versus-a-copy\n",
      "  \n"
     ]
    },
    {
     "name": "stdout",
     "output_type": "stream",
     "text": [
      "Text | Countries | 55\n",
      "Speech | Countries | 29\n",
      "Video | Countries | 22\n"
     ]
    }
   ],
   "source": [
    "df_gini_locs, df_spec_locs = multimodal_util.prepare_geo_gini_data(df)\n",
    "geo_gini_chart = multimodal_util.plot_temporal_ginis(df_gini_locs, df_spec_locs, [\"Countries\"], columns=4)"
   ]
  },
  {
   "cell_type": "code",
   "execution_count": 916,
   "metadata": {},
   "outputs": [],
   "source": [
    "df_spec_src = multimodal_util.prepare_data_cum_barchart(df_spec_locs, \"Countries\")\n",
    "geo_barchart = multimodal_util.plot_cum_barchart(df_spec_src, \"Countries\")"
   ]
  },
  {
   "cell_type": "code",
   "execution_count": 917,
   "metadata": {},
   "outputs": [],
   "source": [
    "df_spec_src_lang = multimodal_util.prepare_data_cum_barchart(df_speech_text_spec, \"Language (ISO)\")\n",
    "lang_barchart = multimodal_util.plot_cum_barchart(df_spec_src_lang, \"Language (ISO)\")"
   ]
  },
  {
   "cell_type": "code",
   "execution_count": 918,
   "metadata": {},
   "outputs": [
    {
     "data": {
      "text/html": [
       "\n",
       "<style>\n",
       "  #altair-viz-394636d6bc704503afa7e3ad6b572383.vega-embed {\n",
       "    width: 100%;\n",
       "    display: flex;\n",
       "  }\n",
       "\n",
       "  #altair-viz-394636d6bc704503afa7e3ad6b572383.vega-embed details,\n",
       "  #altair-viz-394636d6bc704503afa7e3ad6b572383.vega-embed details summary {\n",
       "    position: relative;\n",
       "  }\n",
       "</style>\n",
       "<div id=\"altair-viz-394636d6bc704503afa7e3ad6b572383\"></div>\n",
       "<script type=\"text/javascript\">\n",
       "  var VEGA_DEBUG = (typeof VEGA_DEBUG == \"undefined\") ? {} : VEGA_DEBUG;\n",
       "  (function(spec, embedOpt){\n",
       "    let outputDiv = document.currentScript.previousElementSibling;\n",
       "    if (outputDiv.id !== \"altair-viz-394636d6bc704503afa7e3ad6b572383\") {\n",
       "      outputDiv = document.getElementById(\"altair-viz-394636d6bc704503afa7e3ad6b572383\");\n",
       "    }\n",
       "    const paths = {\n",
       "      \"vega\": \"https://cdn.jsdelivr.net/npm/vega@5?noext\",\n",
       "      \"vega-lib\": \"https://cdn.jsdelivr.net/npm/vega-lib?noext\",\n",
       "      \"vega-lite\": \"https://cdn.jsdelivr.net/npm/vega-lite@5.20.1?noext\",\n",
       "      \"vega-embed\": \"https://cdn.jsdelivr.net/npm/vega-embed@6?noext\",\n",
       "    };\n",
       "\n",
       "    function maybeLoadScript(lib, version) {\n",
       "      var key = `${lib.replace(\"-\", \"\")}_version`;\n",
       "      return (VEGA_DEBUG[key] == version) ?\n",
       "        Promise.resolve(paths[lib]) :\n",
       "        new Promise(function(resolve, reject) {\n",
       "          var s = document.createElement('script');\n",
       "          document.getElementsByTagName(\"head\")[0].appendChild(s);\n",
       "          s.async = true;\n",
       "          s.onload = () => {\n",
       "            VEGA_DEBUG[key] = version;\n",
       "            return resolve(paths[lib]);\n",
       "          };\n",
       "          s.onerror = () => reject(`Error loading script: ${paths[lib]}`);\n",
       "          s.src = paths[lib];\n",
       "        });\n",
       "    }\n",
       "\n",
       "    function showError(err) {\n",
       "      outputDiv.innerHTML = `<div class=\"error\" style=\"color:red;\">${err}</div>`;\n",
       "      throw err;\n",
       "    }\n",
       "\n",
       "    function displayChart(vegaEmbed) {\n",
       "      vegaEmbed(outputDiv, spec, embedOpt)\n",
       "        .catch(err => showError(`Javascript Error: ${err.message}<br>This usually means there's a typo in your chart specification. See the javascript console for the full traceback.`));\n",
       "    }\n",
       "\n",
       "    if(typeof define === \"function\" && define.amd) {\n",
       "      requirejs.config({paths});\n",
       "      require([\"vega-embed\"], displayChart, err => showError(`Error loading script: ${err.message}`));\n",
       "    } else {\n",
       "      maybeLoadScript(\"vega\", \"5\")\n",
       "        .then(() => maybeLoadScript(\"vega-lite\", \"5.20.1\"))\n",
       "        .then(() => maybeLoadScript(\"vega-embed\", \"6\"))\n",
       "        .catch(showError)\n",
       "        .then(() => displayChart(vegaEmbed));\n",
       "    }\n",
       "  })({\"config\": {\"title\": {\"font\": \"Times New Roman\"}, \"axis\": {\"labelFont\": \"Times New Roman\", \"titleFont\": \"Times New Roman\", \"grid\": false, \"labelFontSize\": 15, \"titleFontSize\": 15}, \"header\": {\"labelFont\": \"Times New Roman\", \"titleFont\": \"Times New Roman\"}, \"legend\": {\"labelFont\": \"Times New Roman\", \"titleFont\": \"Times New Roman\", \"labelFontSize\": 15, \"orient\": \"top-left\", \"titleFontSize\": 15}, \"text\": {\"font\": \"Times New Roman\"}, \"view\": {\"strokeWidth\": 0}}, \"data\": {\"name\": \"data-e67d3d2a4060bc9c694cc6df822a99bb\"}, \"mark\": {\"type\": \"bar\", \"width\": 6}, \"encoding\": {\"color\": {\"field\": \"Modality\", \"scale\": {\"domain\": [\"Video\", \"Speech\", \"Text\"], \"range\": [\"forestgreen\", \"skyblue\", \"salmon\"]}, \"title\": \"Modality\", \"type\": \"nominal\"}, \"x\": {\"axis\": {\"domain\": false, \"grid\": false, \"labelAngle\": 0, \"ticks\": false}, \"field\": \"First Year Released\", \"sort\": [\"<2013\", \"2013\", \"2014\", \"2015\", \"2016\", \"2017\", \"2018\", \"2019\", \"2020\", \"2021\", \"2022\", \"2023\", \"2024\"], \"title\": \"\", \"type\": \"nominal\"}, \"xOffset\": {\"field\": \"Modality\", \"sort\": [\"Video\", \"Speech\", \"Text\"], \"type\": \"nominal\"}, \"y\": {\"axis\": {\"domain\": false, \"grid\": false}, \"field\": \"Total Countries\", \"title\": \"Total Countries Represented\", \"type\": \"quantitative\"}}, \"height\": 200, \"width\": 500, \"$schema\": \"https://vega.github.io/schema/vega-lite/v5.20.1.json\", \"datasets\": {\"data-e67d3d2a4060bc9c694cc6df822a99bb\": [{\"Modality\": \"Text\", \"First Year Released\": \"<2013\", \"Total Countries\": 16}, {\"Modality\": \"Text\", \"First Year Released\": \"2013\", \"Total Countries\": 18}, {\"Modality\": \"Text\", \"First Year Released\": \"2014\", \"Total Countries\": 21}, {\"Modality\": \"Text\", \"First Year Released\": \"2015\", \"Total Countries\": 22}, {\"Modality\": \"Text\", \"First Year Released\": \"2016\", \"Total Countries\": 27}, {\"Modality\": \"Text\", \"First Year Released\": \"2017\", \"Total Countries\": 31}, {\"Modality\": \"Text\", \"First Year Released\": \"2018\", \"Total Countries\": 37}, {\"Modality\": \"Text\", \"First Year Released\": \"2019\", \"Total Countries\": 42}, {\"Modality\": \"Text\", \"First Year Released\": \"2020\", \"Total Countries\": 45}, {\"Modality\": \"Text\", \"First Year Released\": \"2021\", \"Total Countries\": 50}, {\"Modality\": \"Text\", \"First Year Released\": \"2022\", \"Total Countries\": 52}, {\"Modality\": \"Text\", \"First Year Released\": \"2023\", \"Total Countries\": 54}, {\"Modality\": \"Text\", \"First Year Released\": \"2024\", \"Total Countries\": 54}, {\"Modality\": \"Speech\", \"First Year Released\": \"<2013\", \"Total Countries\": 4}, {\"Modality\": \"Speech\", \"First Year Released\": \"2013\", \"Total Countries\": 5}, {\"Modality\": \"Speech\", \"First Year Released\": \"2014\", \"Total Countries\": 6}, {\"Modality\": \"Speech\", \"First Year Released\": \"2015\", \"Total Countries\": 7}, {\"Modality\": \"Speech\", \"First Year Released\": \"2016\", \"Total Countries\": 8}, {\"Modality\": \"Speech\", \"First Year Released\": \"2017\", \"Total Countries\": 9}, {\"Modality\": \"Speech\", \"First Year Released\": \"2018\", \"Total Countries\": 11}, {\"Modality\": \"Speech\", \"First Year Released\": \"2019\", \"Total Countries\": 14}, {\"Modality\": \"Speech\", \"First Year Released\": \"2020\", \"Total Countries\": 17}, {\"Modality\": \"Speech\", \"First Year Released\": \"2021\", \"Total Countries\": 20}, {\"Modality\": \"Speech\", \"First Year Released\": \"2022\", \"Total Countries\": 25}, {\"Modality\": \"Speech\", \"First Year Released\": \"2023\", \"Total Countries\": 29}, {\"Modality\": \"Speech\", \"First Year Released\": \"2024\", \"Total Countries\": 29}, {\"Modality\": \"Video\", \"First Year Released\": \"<2013\", \"Total Countries\": 3}, {\"Modality\": \"Video\", \"First Year Released\": \"2013\", \"Total Countries\": 4}, {\"Modality\": \"Video\", \"First Year Released\": \"2014\", \"Total Countries\": 8}, {\"Modality\": \"Video\", \"First Year Released\": \"2015\", \"Total Countries\": 11}, {\"Modality\": \"Video\", \"First Year Released\": \"2016\", \"Total Countries\": 13}, {\"Modality\": \"Video\", \"First Year Released\": \"2017\", \"Total Countries\": 14}, {\"Modality\": \"Video\", \"First Year Released\": \"2018\", \"Total Countries\": 15}, {\"Modality\": \"Video\", \"First Year Released\": \"2019\", \"Total Countries\": 18}, {\"Modality\": \"Video\", \"First Year Released\": \"2020\", \"Total Countries\": 18}, {\"Modality\": \"Video\", \"First Year Released\": \"2021\", \"Total Countries\": 20}, {\"Modality\": \"Video\", \"First Year Released\": \"2022\", \"Total Countries\": 21}, {\"Modality\": \"Video\", \"First Year Released\": \"2023\", \"Total Countries\": 21}, {\"Modality\": \"Video\", \"First Year Released\": \"2024\", \"Total Countries\": 22}]}}, {\"mode\": \"vega-lite\"});\n",
       "</script>"
      ],
      "text/plain": [
       "alt.Chart(...)"
      ]
     },
     "execution_count": 918,
     "metadata": {},
     "output_type": "execute_result"
    }
   ],
   "source": [
    "geo_barchart"
   ]
  },
  {
   "cell_type": "code",
   "execution_count": 919,
   "metadata": {},
   "outputs": [
    {
     "data": {
      "text/html": [
       "\n",
       "<style>\n",
       "  #altair-viz-4bbdf62f6b2b4a728dfb2856d7985ab2.vega-embed {\n",
       "    width: 100%;\n",
       "    display: flex;\n",
       "  }\n",
       "\n",
       "  #altair-viz-4bbdf62f6b2b4a728dfb2856d7985ab2.vega-embed details,\n",
       "  #altair-viz-4bbdf62f6b2b4a728dfb2856d7985ab2.vega-embed details summary {\n",
       "    position: relative;\n",
       "  }\n",
       "</style>\n",
       "<div id=\"altair-viz-4bbdf62f6b2b4a728dfb2856d7985ab2\"></div>\n",
       "<script type=\"text/javascript\">\n",
       "  var VEGA_DEBUG = (typeof VEGA_DEBUG == \"undefined\") ? {} : VEGA_DEBUG;\n",
       "  (function(spec, embedOpt){\n",
       "    let outputDiv = document.currentScript.previousElementSibling;\n",
       "    if (outputDiv.id !== \"altair-viz-4bbdf62f6b2b4a728dfb2856d7985ab2\") {\n",
       "      outputDiv = document.getElementById(\"altair-viz-4bbdf62f6b2b4a728dfb2856d7985ab2\");\n",
       "    }\n",
       "    const paths = {\n",
       "      \"vega\": \"https://cdn.jsdelivr.net/npm/vega@5?noext\",\n",
       "      \"vega-lib\": \"https://cdn.jsdelivr.net/npm/vega-lib?noext\",\n",
       "      \"vega-lite\": \"https://cdn.jsdelivr.net/npm/vega-lite@5.20.1?noext\",\n",
       "      \"vega-embed\": \"https://cdn.jsdelivr.net/npm/vega-embed@6?noext\",\n",
       "    };\n",
       "\n",
       "    function maybeLoadScript(lib, version) {\n",
       "      var key = `${lib.replace(\"-\", \"\")}_version`;\n",
       "      return (VEGA_DEBUG[key] == version) ?\n",
       "        Promise.resolve(paths[lib]) :\n",
       "        new Promise(function(resolve, reject) {\n",
       "          var s = document.createElement('script');\n",
       "          document.getElementsByTagName(\"head\")[0].appendChild(s);\n",
       "          s.async = true;\n",
       "          s.onload = () => {\n",
       "            VEGA_DEBUG[key] = version;\n",
       "            return resolve(paths[lib]);\n",
       "          };\n",
       "          s.onerror = () => reject(`Error loading script: ${paths[lib]}`);\n",
       "          s.src = paths[lib];\n",
       "        });\n",
       "    }\n",
       "\n",
       "    function showError(err) {\n",
       "      outputDiv.innerHTML = `<div class=\"error\" style=\"color:red;\">${err}</div>`;\n",
       "      throw err;\n",
       "    }\n",
       "\n",
       "    function displayChart(vegaEmbed) {\n",
       "      vegaEmbed(outputDiv, spec, embedOpt)\n",
       "        .catch(err => showError(`Javascript Error: ${err.message}<br>This usually means there's a typo in your chart specification. See the javascript console for the full traceback.`));\n",
       "    }\n",
       "\n",
       "    if(typeof define === \"function\" && define.amd) {\n",
       "      requirejs.config({paths});\n",
       "      require([\"vega-embed\"], displayChart, err => showError(`Error loading script: ${err.message}`));\n",
       "    } else {\n",
       "      maybeLoadScript(\"vega\", \"5\")\n",
       "        .then(() => maybeLoadScript(\"vega-lite\", \"5.20.1\"))\n",
       "        .then(() => maybeLoadScript(\"vega-embed\", \"6\"))\n",
       "        .catch(showError)\n",
       "        .then(() => displayChart(vegaEmbed));\n",
       "    }\n",
       "  })({\"config\": {\"title\": {\"font\": \"Times New Roman\"}, \"axis\": {\"labelFont\": \"Times New Roman\", \"titleFont\": \"Times New Roman\", \"grid\": false, \"labelFontSize\": 15, \"titleFontSize\": 15}, \"header\": {\"labelFont\": \"Times New Roman\", \"titleFont\": \"Times New Roman\"}, \"legend\": {\"labelFont\": \"Times New Roman\", \"titleFont\": \"Times New Roman\", \"labelFontSize\": 15, \"orient\": \"top-left\", \"titleFontSize\": 15}, \"text\": {\"font\": \"Times New Roman\"}, \"view\": {\"strokeWidth\": 0}}, \"data\": {\"name\": \"data-74664163b7735c67950274033a152e71\"}, \"mark\": {\"type\": \"bar\", \"width\": 6}, \"encoding\": {\"color\": {\"field\": \"Modality\", \"scale\": {\"domain\": [\"Video\", \"Speech\", \"Text\"], \"range\": [\"forestgreen\", \"skyblue\", \"salmon\"]}, \"title\": \"Modality\", \"type\": \"nominal\"}, \"x\": {\"axis\": {\"domain\": false, \"grid\": false, \"labelAngle\": 0, \"ticks\": false}, \"field\": \"First Year Released\", \"sort\": [\"<2013\", \"2013\", \"2014\", \"2015\", \"2016\", \"2017\", \"2018\", \"2019\", \"2020\", \"2021\", \"2022\", \"2023\", \"2024\"], \"title\": \"\", \"type\": \"nominal\"}, \"xOffset\": {\"field\": \"Modality\", \"sort\": [\"Video\", \"Speech\", \"Text\"], \"type\": \"nominal\"}, \"y\": {\"axis\": {\"domain\": false, \"grid\": false}, \"field\": \"Total Language (ISO)\", \"title\": \"Total Language (ISO) Represented\", \"type\": \"quantitative\"}}, \"height\": 200, \"width\": 500, \"$schema\": \"https://vega.github.io/schema/vega-lite/v5.20.1.json\", \"datasets\": {\"data-74664163b7735c67950274033a152e71\": [{\"Modality\": \"Text\", \"First Year Released\": \"<2013\", \"Total Language (ISO)\": 16}, {\"Modality\": \"Text\", \"First Year Released\": \"2013\", \"Total Language (ISO)\": 16}, {\"Modality\": \"Text\", \"First Year Released\": \"2014\", \"Total Language (ISO)\": 16}, {\"Modality\": \"Text\", \"First Year Released\": \"2015\", \"Total Language (ISO)\": 16}, {\"Modality\": \"Text\", \"First Year Released\": \"2016\", \"Total Language (ISO)\": 20}, {\"Modality\": \"Text\", \"First Year Released\": \"2017\", \"Total Language (ISO)\": 22}, {\"Modality\": \"Text\", \"First Year Released\": \"2018\", \"Total Language (ISO)\": 30}, {\"Modality\": \"Text\", \"First Year Released\": \"2019\", \"Total Language (ISO)\": 200}, {\"Modality\": \"Text\", \"First Year Released\": \"2020\", \"Total Language (ISO)\": 222}, {\"Modality\": \"Text\", \"First Year Released\": \"2021\", \"Total Language (ISO)\": 228}, {\"Modality\": \"Text\", \"First Year Released\": \"2022\", \"Total Language (ISO)\": 229}, {\"Modality\": \"Text\", \"First Year Released\": \"2023\", \"Total Language (ISO)\": 504}, {\"Modality\": \"Text\", \"First Year Released\": \"2024\", \"Total Language (ISO)\": 509}, {\"Modality\": \"Speech\", \"First Year Released\": \"<2013\", \"Total Language (ISO)\": 34}, {\"Modality\": \"Speech\", \"First Year Released\": \"2013\", \"Total Language (ISO)\": 36}, {\"Modality\": \"Speech\", \"First Year Released\": \"2014\", \"Total Language (ISO)\": 36}, {\"Modality\": \"Speech\", \"First Year Released\": \"2015\", \"Total Language (ISO)\": 37}, {\"Modality\": \"Speech\", \"First Year Released\": \"2016\", \"Total Language (ISO)\": 38}, {\"Modality\": \"Speech\", \"First Year Released\": \"2017\", \"Total Language (ISO)\": 40}, {\"Modality\": \"Speech\", \"First Year Released\": \"2018\", \"Total Language (ISO)\": 46}, {\"Modality\": \"Speech\", \"First Year Released\": \"2019\", \"Total Language (ISO)\": 135}, {\"Modality\": \"Speech\", \"First Year Released\": \"2020\", \"Total Language (ISO)\": 135}, {\"Modality\": \"Speech\", \"First Year Released\": \"2021\", \"Total Language (ISO)\": 146}, {\"Modality\": \"Speech\", \"First Year Released\": \"2022\", \"Total Language (ISO)\": 224}, {\"Modality\": \"Speech\", \"First Year Released\": \"2023\", \"Total Language (ISO)\": 276}, {\"Modality\": \"Speech\", \"First Year Released\": \"2024\", \"Total Language (ISO)\": 276}]}}, {\"mode\": \"vega-lite\"});\n",
       "</script>"
      ],
      "text/plain": [
       "alt.Chart(...)"
      ]
     },
     "execution_count": 919,
     "metadata": {},
     "output_type": "execute_result"
    }
   ],
   "source": [
    "lang_barchart"
   ]
  },
  {
   "cell_type": "code",
   "execution_count": 920,
   "metadata": {},
   "outputs": [
    {
     "data": {
      "text/html": [
       "\n",
       "<style>\n",
       "  #altair-viz-d2fbcb63f8594762bbd41280e742700f.vega-embed {\n",
       "    width: 100%;\n",
       "    display: flex;\n",
       "  }\n",
       "\n",
       "  #altair-viz-d2fbcb63f8594762bbd41280e742700f.vega-embed details,\n",
       "  #altair-viz-d2fbcb63f8594762bbd41280e742700f.vega-embed details summary {\n",
       "    position: relative;\n",
       "  }\n",
       "</style>\n",
       "<div id=\"altair-viz-d2fbcb63f8594762bbd41280e742700f\"></div>\n",
       "<script type=\"text/javascript\">\n",
       "  var VEGA_DEBUG = (typeof VEGA_DEBUG == \"undefined\") ? {} : VEGA_DEBUG;\n",
       "  (function(spec, embedOpt){\n",
       "    let outputDiv = document.currentScript.previousElementSibling;\n",
       "    if (outputDiv.id !== \"altair-viz-d2fbcb63f8594762bbd41280e742700f\") {\n",
       "      outputDiv = document.getElementById(\"altair-viz-d2fbcb63f8594762bbd41280e742700f\");\n",
       "    }\n",
       "    const paths = {\n",
       "      \"vega\": \"https://cdn.jsdelivr.net/npm/vega@5?noext\",\n",
       "      \"vega-lib\": \"https://cdn.jsdelivr.net/npm/vega-lib?noext\",\n",
       "      \"vega-lite\": \"https://cdn.jsdelivr.net/npm/vega-lite@5.20.1?noext\",\n",
       "      \"vega-embed\": \"https://cdn.jsdelivr.net/npm/vega-embed@6?noext\",\n",
       "    };\n",
       "\n",
       "    function maybeLoadScript(lib, version) {\n",
       "      var key = `${lib.replace(\"-\", \"\")}_version`;\n",
       "      return (VEGA_DEBUG[key] == version) ?\n",
       "        Promise.resolve(paths[lib]) :\n",
       "        new Promise(function(resolve, reject) {\n",
       "          var s = document.createElement('script');\n",
       "          document.getElementsByTagName(\"head\")[0].appendChild(s);\n",
       "          s.async = true;\n",
       "          s.onload = () => {\n",
       "            VEGA_DEBUG[key] = version;\n",
       "            return resolve(paths[lib]);\n",
       "          };\n",
       "          s.onerror = () => reject(`Error loading script: ${paths[lib]}`);\n",
       "          s.src = paths[lib];\n",
       "        });\n",
       "    }\n",
       "\n",
       "    function showError(err) {\n",
       "      outputDiv.innerHTML = `<div class=\"error\" style=\"color:red;\">${err}</div>`;\n",
       "      throw err;\n",
       "    }\n",
       "\n",
       "    function displayChart(vegaEmbed) {\n",
       "      vegaEmbed(outputDiv, spec, embedOpt)\n",
       "        .catch(err => showError(`Javascript Error: ${err.message}<br>This usually means there's a typo in your chart specification. See the javascript console for the full traceback.`));\n",
       "    }\n",
       "\n",
       "    if(typeof define === \"function\" && define.amd) {\n",
       "      requirejs.config({paths});\n",
       "      require([\"vega-embed\"], displayChart, err => showError(`Error loading script: ${err.message}`));\n",
       "    } else {\n",
       "      maybeLoadScript(\"vega\", \"5\")\n",
       "        .then(() => maybeLoadScript(\"vega-lite\", \"5.20.1\"))\n",
       "        .then(() => maybeLoadScript(\"vega-embed\", \"6\"))\n",
       "        .catch(showError)\n",
       "        .then(() => displayChart(vegaEmbed));\n",
       "    }\n",
       "  })({\"config\": {\"title\": {\"font\": \"Times New Roman\"}, \"axis\": {\"labelFont\": \"Times New Roman\", \"titleFont\": \"Times New Roman\", \"grid\": false, \"labelFontSize\": 16, \"titleFontSize\": 16}, \"header\": {\"labelFont\": \"Times New Roman\", \"titleFont\": \"Times New Roman\"}, \"legend\": {\"labelFont\": \"Times New Roman\", \"titleFont\": \"Times New Roman\", \"columns\": 4, \"direction\": \"horizontal\", \"labelFontSize\": 15, \"offset\": -100, \"orient\": \"bottom\", \"padding\": 15, \"titleFontSize\": 15}, \"text\": {\"font\": \"Times New Roman\"}}, \"layer\": [{\"mark\": {\"type\": \"area\", \"opacity\": 0.25}, \"encoding\": {\"color\": {\"field\": \"Type\", \"type\": \"nominal\"}, \"x\": {\"axis\": {\"labelAngle\": 0}, \"field\": \"Year Released\", \"sort\": [\"<2013\", \"2013\", \"2014\", \"2015\", \"2016\", \"2017\", \"2018\", \"2019\", \"2020\", \"2021\", \"2022\", \"2023\", \"2024\"], \"title\": \"\", \"type\": \"nominal\"}, \"y\": {\"field\": \"Gini Lower\", \"type\": \"quantitative\"}, \"y2\": {\"field\": \"Gini Upper\"}}}, {\"mark\": {\"type\": \"line\"}, \"encoding\": {\"color\": {\"field\": \"Type\", \"scale\": {\"domain\": [\"Text\", \"Speech\", \"Video\"]}, \"title\": \"Modality\", \"type\": \"nominal\"}, \"x\": {\"axis\": {\"labelAngle\": 0}, \"field\": \"Year Released\", \"scale\": {\"padding\": 0}, \"sort\": [\"<2013\", \"2013\", \"2014\", \"2015\", \"2016\", \"2017\", \"2018\", \"2019\", \"2020\", \"2021\", \"2022\", \"2023\", \"2024\"], \"title\": \"\", \"type\": \"nominal\"}, \"y\": {\"field\": \"Gini Mean\", \"scale\": {\"domain\": [0, 1], \"zero\": false}, \"title\": \"Gini (Cumulative)\", \"type\": \"quantitative\"}}}, {\"mark\": {\"type\": \"point\"}, \"encoding\": {\"color\": {\"field\": \"Type\", \"type\": \"nominal\"}, \"x\": {\"axis\": {\"labelAngle\": 0}, \"field\": \"Year Released\", \"scale\": {\"padding\": 0}, \"sort\": [\"<2013\", \"2013\", \"2014\", \"2015\", \"2016\", \"2017\", \"2018\", \"2019\", \"2020\", \"2021\", \"2022\", \"2023\", \"2024\"], \"title\": \"\", \"type\": \"nominal\"}, \"y\": {\"field\": \"Gini Mean\", \"scale\": {\"domain\": [0, 1], \"zero\": false}, \"title\": \"Gini (Cumulative)\", \"type\": \"quantitative\"}}}], \"data\": {\"name\": \"data-ae6cc12ba159f564a20d1f29de3805d9\"}, \"height\": 200, \"width\": 500, \"$schema\": \"https://vega.github.io/schema/vega-lite/v5.20.1.json\", \"datasets\": {\"data-ae6cc12ba159f564a20d1f29de3805d9\": [{\"Year Released\": \"<2013\", \"Gini\": [0.8986252349903339, 0.8297601597225848, 0.9491808729712513], \"Gini Mean\": 0.8986252349903339, \"Gini Lower\": 0.8297601597225848, \"Gini Upper\": 0.9491808729712513, \"Type\": \"Text\", \"Modality\": \"Text\"}, {\"Year Released\": \"2013\", \"Gini\": [0.8870579371463145, 0.806570225961445, 0.9448498314625032], \"Gini Mean\": 0.8870579371463145, \"Gini Lower\": 0.806570225961445, \"Gini Upper\": 0.9448498314625032, \"Type\": \"Text\", \"Modality\": \"Text\"}, {\"Year Released\": \"2014\", \"Gini\": [0.8655292332685321, 0.7882678254884778, 0.9293843668992825], \"Gini Mean\": 0.8655292332685321, \"Gini Lower\": 0.7882678254884778, \"Gini Upper\": 0.9293843668992825, \"Type\": \"Text\", \"Modality\": \"Text\"}, {\"Year Released\": \"2015\", \"Gini\": [0.8851499715744218, 0.7867379621672695, 0.9457113961224601], \"Gini Mean\": 0.8851499715744218, \"Gini Lower\": 0.7867379621672695, \"Gini Upper\": 0.9457113961224601, \"Type\": \"Text\", \"Modality\": \"Text\"}, {\"Year Released\": \"2016\", \"Gini\": [0.8782613130066875, 0.7942722484824902, 0.9387286415070257], \"Gini Mean\": 0.8782613130066875, \"Gini Lower\": 0.7942722484824902, \"Gini Upper\": 0.9387286415070257, \"Type\": \"Text\", \"Modality\": \"Text\"}, {\"Year Released\": \"2017\", \"Gini\": [0.88791524520392, 0.8072724026439723, 0.9397319468208224], \"Gini Mean\": 0.88791524520392, \"Gini Lower\": 0.8072724026439723, \"Gini Upper\": 0.9397319468208224, \"Type\": \"Text\", \"Modality\": \"Text\"}, {\"Year Released\": \"2018\", \"Gini\": [0.8871848177112163, 0.8047281049882063, 0.9411966273331903], \"Gini Mean\": 0.8871848177112163, \"Gini Lower\": 0.8047281049882063, \"Gini Upper\": 0.9411966273331903, \"Type\": \"Text\", \"Modality\": \"Text\"}, {\"Year Released\": \"2019\", \"Gini\": [0.9307817843835295, 0.7827629694333138, 0.9775585496079346], \"Gini Mean\": 0.9307817843835295, \"Gini Lower\": 0.7827629694333138, \"Gini Upper\": 0.9775585496079346, \"Type\": \"Text\", \"Modality\": \"Text\"}, {\"Year Released\": \"2020\", \"Gini\": [0.9255659325062057, 0.7892484106444093, 0.9752658264827679], \"Gini Mean\": 0.9255659325062057, \"Gini Lower\": 0.7892484106444093, \"Gini Upper\": 0.9752658264827679, \"Type\": \"Text\", \"Modality\": \"Text\"}, {\"Year Released\": \"2021\", \"Gini\": [0.9228762402255181, 0.8562089664097174, 0.9726497969181516], \"Gini Mean\": 0.9228762402255181, \"Gini Lower\": 0.8562089664097174, \"Gini Upper\": 0.9726497969181516, \"Type\": \"Text\", \"Modality\": \"Text\"}, {\"Year Released\": \"2022\", \"Gini\": [0.9225401842538601, 0.8594910270344679, 0.969110205141998], \"Gini Mean\": 0.9225401842538601, \"Gini Lower\": 0.8594910270344679, \"Gini Upper\": 0.969110205141998, \"Type\": \"Text\", \"Modality\": \"Text\"}, {\"Year Released\": \"2023\", \"Gini\": [0.9181718302949544, 0.8516377586287556, 0.9625262671468993], \"Gini Mean\": 0.9181718302949544, \"Gini Lower\": 0.8516377586287556, \"Gini Upper\": 0.9625262671468993, \"Type\": \"Text\", \"Modality\": \"Text\"}, {\"Year Released\": \"2024\", \"Gini\": [0.9170403447256023, 0.837364013815281, 0.9600789633776516], \"Gini Mean\": 0.9170403447256023, \"Gini Lower\": 0.837364013815281, \"Gini Upper\": 0.9600789633776516, \"Type\": \"Text\", \"Modality\": \"Text\"}, {\"Year Released\": \"<2013\", \"Gini\": [0.8982563167750678, 0.8132274717220468, 0.9655172371433045], \"Gini Mean\": 0.8982563167750678, \"Gini Lower\": 0.8132274717220468, \"Gini Upper\": 0.9655172371433045, \"Type\": \"Speech\", \"Modality\": \"Speech\"}, {\"Year Released\": \"2013\", \"Gini\": [0.8878932965872481, 0.7979915385142016, 0.9627934836714748], \"Gini Mean\": 0.8878932965872481, \"Gini Lower\": 0.7979915385142016, \"Gini Upper\": 0.9627934836714748, \"Type\": \"Speech\", \"Modality\": \"Speech\"}, {\"Year Released\": \"2014\", \"Gini\": [0.8829614189887998, 0.7905632194894316, 0.9557440512544239], \"Gini Mean\": 0.8829614189887998, \"Gini Lower\": 0.7905632194894316, \"Gini Upper\": 0.9557440512544239, \"Type\": \"Speech\", \"Modality\": \"Speech\"}, {\"Year Released\": \"2015\", \"Gini\": [0.8875118364183257, 0.7939024465420401, 0.9515953328008089], \"Gini Mean\": 0.8875118364183257, \"Gini Lower\": 0.7939024465420401, \"Gini Upper\": 0.9515953328008089, \"Type\": \"Speech\", \"Modality\": \"Speech\"}, {\"Year Released\": \"2016\", \"Gini\": [0.8642113826229648, 0.7689096298942815, 0.942973126222295], \"Gini Mean\": 0.8642113826229648, \"Gini Lower\": 0.7689096298942815, \"Gini Upper\": 0.942973126222295, \"Type\": \"Speech\", \"Modality\": \"Speech\"}, {\"Year Released\": \"2017\", \"Gini\": [0.8403214952144071, 0.7330413056138411, 0.9255035003567115], \"Gini Mean\": 0.8403214952144071, \"Gini Lower\": 0.7330413056138411, \"Gini Upper\": 0.9255035003567115, \"Type\": \"Speech\", \"Modality\": \"Speech\"}, {\"Year Released\": \"2018\", \"Gini\": [0.8215655579929498, 0.7039433166026182, 0.9104639458560642], \"Gini Mean\": 0.8215655579929498, \"Gini Lower\": 0.7039433166026182, \"Gini Upper\": 0.9104639458560642, \"Type\": \"Speech\", \"Modality\": \"Speech\"}, {\"Year Released\": \"2019\", \"Gini\": [0.8935283446407041, 0.7950216113574281, 0.9501607371262722], \"Gini Mean\": 0.8935283446407041, \"Gini Lower\": 0.7950216113574281, \"Gini Upper\": 0.9501607371262722, \"Type\": \"Speech\", \"Modality\": \"Speech\"}, {\"Year Released\": \"2020\", \"Gini\": [0.8677377963781467, 0.7727659309810017, 0.9337425636574676], \"Gini Mean\": 0.8677377963781467, \"Gini Lower\": 0.7727659309810017, \"Gini Upper\": 0.9337425636574676, \"Type\": \"Speech\", \"Modality\": \"Speech\"}, {\"Year Released\": \"2021\", \"Gini\": [0.8505620241869789, 0.75408454990272, 0.9154083867966306], \"Gini Mean\": 0.8505620241869789, \"Gini Lower\": 0.75408454990272, \"Gini Upper\": 0.9154083867966306, \"Type\": \"Speech\", \"Modality\": \"Speech\"}, {\"Year Released\": \"2022\", \"Gini\": [0.8291376537189904, 0.7239007305458265, 0.8965722534398689], \"Gini Mean\": 0.8291376537189904, \"Gini Lower\": 0.7239007305458265, \"Gini Upper\": 0.8965722534398689, \"Type\": \"Speech\", \"Modality\": \"Speech\"}, {\"Year Released\": \"2023\", \"Gini\": [0.8593849985253802, 0.7484793915287954, 0.9178920621089193], \"Gini Mean\": 0.8593849985253802, \"Gini Lower\": 0.7484793915287954, \"Gini Upper\": 0.9178920621089193, \"Type\": \"Speech\", \"Modality\": \"Speech\"}, {\"Year Released\": \"2024\", \"Gini\": [0.8576580304218534, 0.7518127214465313, 0.9182102187454737], \"Gini Mean\": 0.8576580304218534, \"Gini Lower\": 0.7518127214465313, \"Gini Upper\": 0.9182102187454737, \"Type\": \"Speech\", \"Modality\": \"Speech\"}, {\"Year Released\": \"<2013\", \"Gini\": [0.8664368428012902, -1.750068072839464e-17, 0.954545454246569], \"Gini Mean\": 0.8664368428012902, \"Gini Lower\": 0.0, \"Gini Upper\": 0.954545454246569, \"Type\": \"Video\", \"Modality\": \"Video\"}, {\"Year Released\": \"2013\", \"Gini\": [0.8819530592244674, 0.7350541346061322, 0.9545454542454546], \"Gini Mean\": 0.8819530592244674, \"Gini Lower\": 0.7350541346061322, \"Gini Upper\": 0.9545454542454546, \"Type\": \"Video\", \"Modality\": \"Video\"}, {\"Year Released\": \"2014\", \"Gini\": [0.9135699651282375, 0.8169056262232094, 0.9542036075786097], \"Gini Mean\": 0.9135699651282375, \"Gini Lower\": 0.8169056262232094, \"Gini Upper\": 0.9542036075786097, \"Type\": \"Video\", \"Modality\": \"Video\"}, {\"Year Released\": \"2015\", \"Gini\": [0.8878317394889027, 0.7339099766434263, 0.9508941504869304], \"Gini Mean\": 0.8878317394889027, \"Gini Lower\": 0.7339099766434263, \"Gini Upper\": 0.9508941504869304, \"Type\": \"Video\", \"Modality\": \"Video\"}, {\"Year Released\": \"2016\", \"Gini\": [0.8815203702653163, 0.6837218040387537, 0.953347327553396], \"Gini Mean\": 0.8815203702653163, \"Gini Lower\": 0.6837218040387537, \"Gini Upper\": 0.953347327553396, \"Type\": \"Video\", \"Modality\": \"Video\"}, {\"Year Released\": \"2017\", \"Gini\": [0.867243350086298, 0.6761192146086747, 0.9513770482570821], \"Gini Mean\": 0.867243350086298, \"Gini Lower\": 0.6761192146086747, \"Gini Upper\": 0.9513770482570821, \"Type\": \"Video\", \"Modality\": \"Video\"}, {\"Year Released\": \"2018\", \"Gini\": [0.8639146499293074, 0.6714461649662387, 0.9505737122805977], \"Gini Mean\": 0.8639146499293074, \"Gini Lower\": 0.6714461649662387, \"Gini Upper\": 0.9505737122805977, \"Type\": \"Video\", \"Modality\": \"Video\"}, {\"Year Released\": \"2019\", \"Gini\": [0.865636992147446, 0.7234682891931054, 0.9429441214724686], \"Gini Mean\": 0.865636992147446, \"Gini Lower\": 0.7234682891931054, \"Gini Upper\": 0.9429441214724686, \"Type\": \"Video\", \"Modality\": \"Video\"}, {\"Year Released\": \"2020\", \"Gini\": [0.7783425729358283, 0.6367710574312574, 0.8956588951104173], \"Gini Mean\": 0.7783425729358283, \"Gini Lower\": 0.6367710574312574, \"Gini Upper\": 0.8956588951104173, \"Type\": \"Video\", \"Modality\": \"Video\"}, {\"Year Released\": \"2021\", \"Gini\": [0.7565789719642292, 0.5929682420353032, 0.8735596890601428], \"Gini Mean\": 0.7565789719642292, \"Gini Lower\": 0.5929682420353032, \"Gini Upper\": 0.8735596890601428, \"Type\": \"Video\", \"Modality\": \"Video\"}, {\"Year Released\": \"2022\", \"Gini\": [0.7400750123443386, 0.5684172793085002, 0.862091563665606], \"Gini Mean\": 0.7400750123443386, \"Gini Lower\": 0.5684172793085002, \"Gini Upper\": 0.862091563665606, \"Type\": \"Video\", \"Modality\": \"Video\"}, {\"Year Released\": \"2023\", \"Gini\": [0.7374215050727403, 0.5796680876608555, 0.863313914980942], \"Gini Mean\": 0.7374215050727403, \"Gini Lower\": 0.5796680876608555, \"Gini Upper\": 0.863313914980942, \"Type\": \"Video\", \"Modality\": \"Video\"}, {\"Year Released\": \"2024\", \"Gini\": [0.7418476482830463, 0.588321222808532, 0.8601444532767604], \"Gini Mean\": 0.7418476482830463, \"Gini Lower\": 0.588321222808532, \"Gini Upper\": 0.8601444532767604, \"Type\": \"Video\", \"Modality\": \"Video\"}]}}, {\"mode\": \"vega-lite\"});\n",
       "</script>"
      ],
      "text/plain": [
       "alt.LayerChart(...)"
      ]
     },
     "execution_count": 920,
     "metadata": {},
     "output_type": "execute_result"
    }
   ],
   "source": [
    "geo_gini_chart"
   ]
  },
  {
   "cell_type": "code",
   "execution_count": 921,
   "metadata": {},
   "outputs": [
    {
     "data": {
      "text/html": [
       "\n",
       "<style>\n",
       "  #altair-viz-be55d40462a54519bf15400996a22b8b.vega-embed {\n",
       "    width: 100%;\n",
       "    display: flex;\n",
       "  }\n",
       "\n",
       "  #altair-viz-be55d40462a54519bf15400996a22b8b.vega-embed details,\n",
       "  #altair-viz-be55d40462a54519bf15400996a22b8b.vega-embed details summary {\n",
       "    position: relative;\n",
       "  }\n",
       "</style>\n",
       "<div id=\"altair-viz-be55d40462a54519bf15400996a22b8b\"></div>\n",
       "<script type=\"text/javascript\">\n",
       "  var VEGA_DEBUG = (typeof VEGA_DEBUG == \"undefined\") ? {} : VEGA_DEBUG;\n",
       "  (function(spec, embedOpt){\n",
       "    let outputDiv = document.currentScript.previousElementSibling;\n",
       "    if (outputDiv.id !== \"altair-viz-be55d40462a54519bf15400996a22b8b\") {\n",
       "      outputDiv = document.getElementById(\"altair-viz-be55d40462a54519bf15400996a22b8b\");\n",
       "    }\n",
       "    const paths = {\n",
       "      \"vega\": \"https://cdn.jsdelivr.net/npm/vega@5?noext\",\n",
       "      \"vega-lib\": \"https://cdn.jsdelivr.net/npm/vega-lib?noext\",\n",
       "      \"vega-lite\": \"https://cdn.jsdelivr.net/npm/vega-lite@5.20.1?noext\",\n",
       "      \"vega-embed\": \"https://cdn.jsdelivr.net/npm/vega-embed@6?noext\",\n",
       "    };\n",
       "\n",
       "    function maybeLoadScript(lib, version) {\n",
       "      var key = `${lib.replace(\"-\", \"\")}_version`;\n",
       "      return (VEGA_DEBUG[key] == version) ?\n",
       "        Promise.resolve(paths[lib]) :\n",
       "        new Promise(function(resolve, reject) {\n",
       "          var s = document.createElement('script');\n",
       "          document.getElementsByTagName(\"head\")[0].appendChild(s);\n",
       "          s.async = true;\n",
       "          s.onload = () => {\n",
       "            VEGA_DEBUG[key] = version;\n",
       "            return resolve(paths[lib]);\n",
       "          };\n",
       "          s.onerror = () => reject(`Error loading script: ${paths[lib]}`);\n",
       "          s.src = paths[lib];\n",
       "        });\n",
       "    }\n",
       "\n",
       "    function showError(err) {\n",
       "      outputDiv.innerHTML = `<div class=\"error\" style=\"color:red;\">${err}</div>`;\n",
       "      throw err;\n",
       "    }\n",
       "\n",
       "    function displayChart(vegaEmbed) {\n",
       "      vegaEmbed(outputDiv, spec, embedOpt)\n",
       "        .catch(err => showError(`Javascript Error: ${err.message}<br>This usually means there's a typo in your chart specification. See the javascript console for the full traceback.`));\n",
       "    }\n",
       "\n",
       "    if(typeof define === \"function\" && define.amd) {\n",
       "      requirejs.config({paths});\n",
       "      require([\"vega-embed\"], displayChart, err => showError(`Error loading script: ${err.message}`));\n",
       "    } else {\n",
       "      maybeLoadScript(\"vega\", \"5\")\n",
       "        .then(() => maybeLoadScript(\"vega-lite\", \"5.20.1\"))\n",
       "        .then(() => maybeLoadScript(\"vega-embed\", \"6\"))\n",
       "        .catch(showError)\n",
       "        .then(() => displayChart(vegaEmbed));\n",
       "    }\n",
       "  })({\"config\": {\"title\": {\"font\": \"Times New Roman\"}, \"axis\": {\"labelFont\": \"Times New Roman\", \"titleFont\": \"Times New Roman\", \"grid\": false, \"labelFontSize\": 16, \"titleFontSize\": 16}, \"header\": {\"labelFont\": \"Times New Roman\", \"titleFont\": \"Times New Roman\"}, \"legend\": {\"labelFont\": \"Times New Roman\", \"titleFont\": \"Times New Roman\", \"columns\": 2, \"direction\": \"horizontal\", \"labelFontSize\": 15, \"offset\": -100, \"orient\": \"bottom\", \"padding\": 15, \"titleFontSize\": 15}, \"text\": {\"font\": \"Times New Roman\"}}, \"layer\": [{\"mark\": {\"type\": \"area\", \"opacity\": 0.25}, \"encoding\": {\"color\": {\"field\": \"Type\", \"type\": \"nominal\"}, \"x\": {\"axis\": {\"labelAngle\": 0}, \"field\": \"Year Released\", \"sort\": [\"<2013\", \"2013\", \"2014\", \"2015\", \"2016\", \"2017\", \"2018\", \"2019\", \"2020\", \"2021\", \"2022\", \"2023\", \"2024\"], \"title\": \"\", \"type\": \"nominal\"}, \"y\": {\"field\": \"Gini Lower\", \"type\": \"quantitative\"}, \"y2\": {\"field\": \"Gini Upper\"}}}, {\"mark\": {\"type\": \"line\"}, \"encoding\": {\"color\": {\"field\": \"Type\", \"scale\": {\"domain\": [\"Text Language (ISO)\", \"Text Language Family\", \"Speech Language (ISO)\", \"Speech Language Family\"]}, \"title\": \"Modality\", \"type\": \"nominal\"}, \"x\": {\"axis\": {\"labelAngle\": 0}, \"field\": \"Year Released\", \"scale\": {\"padding\": 0}, \"sort\": [\"<2013\", \"2013\", \"2014\", \"2015\", \"2016\", \"2017\", \"2018\", \"2019\", \"2020\", \"2021\", \"2022\", \"2023\", \"2024\"], \"title\": \"\", \"type\": \"nominal\"}, \"y\": {\"field\": \"Gini Mean\", \"scale\": {\"domain\": [0, 1], \"zero\": false}, \"title\": \"Gini (Cumulative)\", \"type\": \"quantitative\"}}}, {\"mark\": {\"type\": \"point\"}, \"encoding\": {\"color\": {\"field\": \"Type\", \"type\": \"nominal\"}, \"x\": {\"axis\": {\"labelAngle\": 0}, \"field\": \"Year Released\", \"scale\": {\"padding\": 0}, \"sort\": [\"<2013\", \"2013\", \"2014\", \"2015\", \"2016\", \"2017\", \"2018\", \"2019\", \"2020\", \"2021\", \"2022\", \"2023\", \"2024\"], \"title\": \"\", \"type\": \"nominal\"}, \"y\": {\"field\": \"Gini Mean\", \"scale\": {\"domain\": [0, 1], \"zero\": false}, \"title\": \"Gini (Cumulative)\", \"type\": \"quantitative\"}}}], \"data\": {\"name\": \"data-797abc0440806d8132990a91c08c0359\"}, \"height\": 200, \"width\": 500, \"$schema\": \"https://vega.github.io/schema/vega-lite/v5.20.1.json\", \"datasets\": {\"data-797abc0440806d8132990a91c08c0359\": [{\"Year Released\": \"<2013\", \"Gini\": [0.9895697208262895, 0.9723674903109593, 0.9971689218867159], \"Gini Mean\": 0.9895697208262895, \"Gini Lower\": 0.9723674903109593, \"Gini Upper\": 0.9971689218867159, \"Type\": \"Text Language (ISO)\", \"Modality\": \"Text Language (ISO)\"}, {\"Year Released\": \"2013\", \"Gini\": [0.9896486626992259, 0.972222337099255, 0.9972090695822289], \"Gini Mean\": 0.9896486626992259, \"Gini Lower\": 0.972222337099255, \"Gini Upper\": 0.9972090695822289, \"Type\": \"Text Language (ISO)\", \"Modality\": \"Text Language (ISO)\"}, {\"Year Released\": \"2014\", \"Gini\": [0.9918998569849865, 0.9768388544786913, 0.9970929070035504], \"Gini Mean\": 0.9918998569849865, \"Gini Lower\": 0.9768388544786913, \"Gini Upper\": 0.9970929070035504, \"Type\": \"Text Language (ISO)\", \"Modality\": \"Text Language (ISO)\"}, {\"Year Released\": \"2015\", \"Gini\": [0.9928738371519937, 0.977653234471153, 0.997508297847915], \"Gini Mean\": 0.9928738371519937, \"Gini Lower\": 0.977653234471153, \"Gini Upper\": 0.997508297847915, \"Type\": \"Text Language (ISO)\", \"Modality\": \"Text Language (ISO)\"}, {\"Year Released\": \"2016\", \"Gini\": [0.9905478776224804, 0.9769852933766502, 0.9970615762492859], \"Gini Mean\": 0.9905478776224804, \"Gini Lower\": 0.9769852933766502, \"Gini Upper\": 0.9970615762492859, \"Type\": \"Text Language (ISO)\", \"Modality\": \"Text Language (ISO)\"}, {\"Year Released\": \"2017\", \"Gini\": [0.9911632955066175, 0.9784259322360086, 0.9969614341324301], \"Gini Mean\": 0.9911632955066175, \"Gini Lower\": 0.9784259322360086, \"Gini Upper\": 0.9969614341324301, \"Type\": \"Text Language (ISO)\", \"Modality\": \"Text Language (ISO)\"}, {\"Year Released\": \"2018\", \"Gini\": [0.9912694733166527, 0.9761950188774985, 0.9972865102625882], \"Gini Mean\": 0.9912694733166527, \"Gini Lower\": 0.9761950188774985, \"Gini Upper\": 0.9972865102625882, \"Type\": \"Text Language (ISO)\", \"Modality\": \"Text Language (ISO)\"}, {\"Year Released\": \"2019\", \"Gini\": [0.6874679717369365, 0.6313644993512456, 0.7518344133259444], \"Gini Mean\": 0.6874679717369365, \"Gini Lower\": 0.6313644993512456, \"Gini Upper\": 0.7518344133259444, \"Type\": \"Text Language (ISO)\", \"Modality\": \"Text Language (ISO)\"}, {\"Year Released\": \"2020\", \"Gini\": [0.8133061205874629, 0.7579451921611431, 0.8596969373027326], \"Gini Mean\": 0.8133061205874629, \"Gini Lower\": 0.7579451921611431, \"Gini Upper\": 0.8596969373027326, \"Type\": \"Text Language (ISO)\", \"Modality\": \"Text Language (ISO)\"}, {\"Year Released\": \"2021\", \"Gini\": [0.894101176528754, 0.8735001849682237, 0.9115632464591379], \"Gini Mean\": 0.894101176528754, \"Gini Lower\": 0.8735001849682237, \"Gini Upper\": 0.9115632464591379, \"Type\": \"Text Language (ISO)\", \"Modality\": \"Text Language (ISO)\"}, {\"Year Released\": \"2022\", \"Gini\": [0.8946294611706815, 0.873159330911598, 0.9133368103605868], \"Gini Mean\": 0.8946294611706815, \"Gini Lower\": 0.873159330911598, \"Gini Upper\": 0.9133368103605868, \"Type\": \"Text Language (ISO)\", \"Modality\": \"Text Language (ISO)\"}, {\"Year Released\": \"2023\", \"Gini\": [0.8972645671382915, 0.8748595784251864, 0.9190088967473234], \"Gini Mean\": 0.8972645671382915, \"Gini Lower\": 0.8748595784251864, \"Gini Upper\": 0.9190088967473234, \"Type\": \"Text Language (ISO)\", \"Modality\": \"Text Language (ISO)\"}, {\"Year Released\": \"2024\", \"Gini\": [0.8984431282429257, 0.8738315671815854, 0.9209394879750601], \"Gini Mean\": 0.8984431282429257, \"Gini Lower\": 0.8738315671815854, \"Gini Upper\": 0.9209394879750601, \"Type\": \"Text Language (ISO)\", \"Modality\": \"Text Language (ISO)\"}, {\"Year Released\": \"<2013\", \"Gini\": [0.8850175164777456, 0.6985059554947382, 0.9523809523806466], \"Gini Mean\": 0.8850175164777456, \"Gini Lower\": 0.6985059554947382, \"Gini Upper\": 0.9523809523806466, \"Type\": \"Text Language Family\", \"Modality\": \"Text Language Family\"}, {\"Year Released\": \"2013\", \"Gini\": [0.8811755259997337, 0.6985059554947382, 0.9523809523806466], \"Gini Mean\": 0.8811755259997337, \"Gini Lower\": 0.6985059554947382, \"Gini Upper\": 0.9523809523806466, \"Type\": \"Text Language Family\", \"Modality\": \"Text Language Family\"}, {\"Year Released\": \"2014\", \"Gini\": [0.8838263898746815, 0.6985059554947382, 0.9520589139805792], \"Gini Mean\": 0.8838263898746815, \"Gini Lower\": 0.6985059554947382, \"Gini Upper\": 0.9520589139805792, \"Type\": \"Text Language Family\", \"Modality\": \"Text Language Family\"}, {\"Year Released\": \"2015\", \"Gini\": [0.8803211171471584, 0.697993742967279, 0.9521899203997001], \"Gini Mean\": 0.8803211171471584, \"Gini Lower\": 0.697993742967279, \"Gini Upper\": 0.9521899203997001, \"Type\": \"Text Language Family\", \"Modality\": \"Text Language Family\"}, {\"Year Released\": \"2016\", \"Gini\": [0.8833691140647836, 0.7402658446548198, 0.9504195870495267], \"Gini Mean\": 0.8833691140647836, \"Gini Lower\": 0.7402658446548198, \"Gini Upper\": 0.9504195870495267, \"Type\": \"Text Language Family\", \"Modality\": \"Text Language Family\"}, {\"Year Released\": \"2017\", \"Gini\": [0.8881559228597652, 0.7571443663492016, 0.9493733176084725], \"Gini Mean\": 0.8881559228597652, \"Gini Lower\": 0.7571443663492016, \"Gini Upper\": 0.9493733176084725, \"Type\": \"Text Language Family\", \"Modality\": \"Text Language Family\"}, {\"Year Released\": \"2018\", \"Gini\": [0.8866734869364236, 0.7494956188546299, 0.9502897141211952], \"Gini Mean\": 0.8866734869364236, \"Gini Lower\": 0.7494956188546299, \"Gini Upper\": 0.9502897141211952, \"Type\": \"Text Language Family\", \"Modality\": \"Text Language Family\"}, {\"Year Released\": \"2019\", \"Gini\": [0.6684072025648814, 0.5129232461105946, 0.7742260230516553], \"Gini Mean\": 0.6684072025648814, \"Gini Lower\": 0.5129232461105946, \"Gini Upper\": 0.7742260230516553, \"Type\": \"Text Language Family\", \"Modality\": \"Text Language Family\"}, {\"Year Released\": \"2020\", \"Gini\": [0.6841771729055653, 0.4813113867506966, 0.8166417275622524], \"Gini Mean\": 0.6841771729055653, \"Gini Lower\": 0.4813113867506966, \"Gini Upper\": 0.8166417275622524, \"Type\": \"Text Language Family\", \"Modality\": \"Text Language Family\"}, {\"Year Released\": \"2021\", \"Gini\": [0.7466069919311094, 0.5227175789016484, 0.884812130917172], \"Gini Mean\": 0.7466069919311094, \"Gini Lower\": 0.5227175789016484, \"Gini Upper\": 0.884812130917172, \"Type\": \"Text Language Family\", \"Modality\": \"Text Language Family\"}, {\"Year Released\": \"2022\", \"Gini\": [0.7375133044408679, 0.5068833516232185, 0.878307078192067], \"Gini Mean\": 0.7375133044408679, \"Gini Lower\": 0.5068833516232185, \"Gini Upper\": 0.878307078192067, \"Type\": \"Text Language Family\", \"Modality\": \"Text Language Family\"}, {\"Year Released\": \"2023\", \"Gini\": [0.747261147762491, 0.5033275978994707, 0.8771062598101564], \"Gini Mean\": 0.747261147762491, \"Gini Lower\": 0.5033275978994707, \"Gini Upper\": 0.8771062598101564, \"Type\": \"Text Language Family\", \"Modality\": \"Text Language Family\"}, {\"Year Released\": \"2024\", \"Gini\": [0.7391023815414408, 0.5113897327230678, 0.8784873595967849], \"Gini Mean\": 0.7391023815414408, \"Gini Lower\": 0.5113897327230678, \"Gini Upper\": 0.8784873595967849, \"Type\": \"Text Language Family\", \"Modality\": \"Text Language Family\"}, {\"Year Released\": \"<2013\", \"Gini\": [0.9344161519487499, 0.8820296149670255, 0.9665951718301538], \"Gini Mean\": 0.9344161519487499, \"Gini Lower\": 0.8820296149670255, \"Gini Upper\": 0.9665951718301538, \"Type\": \"Speech Language (ISO)\", \"Modality\": \"Speech Language (ISO)\"}, {\"Year Released\": \"2013\", \"Gini\": [0.934192918205588, 0.896465956271814, 0.9633133641403359], \"Gini Mean\": 0.934192918205588, \"Gini Lower\": 0.896465956271814, \"Gini Upper\": 0.9633133641403359, \"Type\": \"Speech Language (ISO)\", \"Modality\": \"Speech Language (ISO)\"}, {\"Year Released\": \"2014\", \"Gini\": [0.933728493637012, 0.8922948676556072, 0.9619309272370418], \"Gini Mean\": 0.933728493637012, \"Gini Lower\": 0.8922948676556072, \"Gini Upper\": 0.9619309272370418, \"Type\": \"Speech Language (ISO)\", \"Modality\": \"Speech Language (ISO)\"}, {\"Year Released\": \"2015\", \"Gini\": [0.9382593440557208, 0.8944418684708971, 0.9680560865962192], \"Gini Mean\": 0.9382593440557208, \"Gini Lower\": 0.8944418684708971, \"Gini Upper\": 0.9680560865962192, \"Type\": \"Speech Language (ISO)\", \"Modality\": \"Speech Language (ISO)\"}, {\"Year Released\": \"2016\", \"Gini\": [0.9456616825147482, 0.9092184582233052, 0.970358545966864], \"Gini Mean\": 0.9456616825147482, \"Gini Lower\": 0.9092184582233052, \"Gini Upper\": 0.970358545966864, \"Type\": \"Speech Language (ISO)\", \"Modality\": \"Speech Language (ISO)\"}, {\"Year Released\": \"2017\", \"Gini\": [0.9414850148084071, 0.9049318371067602, 0.9665148161981377], \"Gini Mean\": 0.9414850148084071, \"Gini Lower\": 0.9049318371067602, \"Gini Upper\": 0.9665148161981377, \"Type\": \"Speech Language (ISO)\", \"Modality\": \"Speech Language (ISO)\"}, {\"Year Released\": \"2018\", \"Gini\": [0.9364260844819599, 0.9121321476036147, 0.9589072263852103], \"Gini Mean\": 0.9364260844819599, \"Gini Lower\": 0.9121321476036147, \"Gini Upper\": 0.9589072263852103, \"Type\": \"Speech Language (ISO)\", \"Modality\": \"Speech Language (ISO)\"}, {\"Year Released\": \"2019\", \"Gini\": [0.9463667556031133, 0.8968300096195838, 0.9757042589053395], \"Gini Mean\": 0.9463667556031133, \"Gini Lower\": 0.8968300096195838, \"Gini Upper\": 0.9757042589053395, \"Type\": \"Speech Language (ISO)\", \"Modality\": \"Speech Language (ISO)\"}, {\"Year Released\": \"2020\", \"Gini\": [0.9384453056508213, 0.887739908414932, 0.9711495677616877], \"Gini Mean\": 0.9384453056508213, \"Gini Lower\": 0.887739908414932, \"Gini Upper\": 0.9711495677616877, \"Type\": \"Speech Language (ISO)\", \"Modality\": \"Speech Language (ISO)\"}, {\"Year Released\": \"2021\", \"Gini\": [0.9312861827951464, 0.8769483736040067, 0.968076163413999], \"Gini Mean\": 0.9312861827951464, \"Gini Lower\": 0.8769483736040067, \"Gini Upper\": 0.968076163413999, \"Type\": \"Speech Language (ISO)\", \"Modality\": \"Speech Language (ISO)\"}, {\"Year Released\": \"2022\", \"Gini\": [0.9066225319006813, 0.8449849122274943, 0.9544569923074969], \"Gini Mean\": 0.9066225319006813, \"Gini Lower\": 0.8449849122274943, \"Gini Upper\": 0.9544569923074969, \"Type\": \"Speech Language (ISO)\", \"Modality\": \"Speech Language (ISO)\"}, {\"Year Released\": \"2023\", \"Gini\": [0.9170298390663272, 0.8650379978304908, 0.9581040209161311], \"Gini Mean\": 0.9170298390663272, \"Gini Lower\": 0.8650379978304908, \"Gini Upper\": 0.9581040209161311, \"Type\": \"Speech Language (ISO)\", \"Modality\": \"Speech Language (ISO)\"}, {\"Year Released\": \"2024\", \"Gini\": [0.9172840154706642, 0.864396605445911, 0.956898593691256], \"Gini Mean\": 0.9172840154706642, \"Gini Lower\": 0.864396605445911, \"Gini Upper\": 0.956898593691256, \"Type\": \"Speech Language (ISO)\", \"Modality\": \"Speech Language (ISO)\"}, {\"Year Released\": \"<2013\", \"Gini\": [0.852567763088202, 0.7018058229110342, 0.9297812335084171], \"Gini Mean\": 0.852567763088202, \"Gini Lower\": 0.7018058229110342, \"Gini Upper\": 0.9297812335084171, \"Type\": \"Speech Language Family\", \"Modality\": \"Speech Language Family\"}, {\"Year Released\": \"2013\", \"Gini\": [0.8609073375793684, 0.7247732844486345, 0.9402869505197425], \"Gini Mean\": 0.8609073375793684, \"Gini Lower\": 0.7247732844486345, \"Gini Upper\": 0.9402869505197425, \"Type\": \"Speech Language Family\", \"Modality\": \"Speech Language Family\"}, {\"Year Released\": \"2014\", \"Gini\": [0.8616538247043656, 0.7181774374120434, 0.9398103184907988], \"Gini Mean\": 0.8616538247043656, \"Gini Lower\": 0.7181774374120434, \"Gini Upper\": 0.9398103184907988, \"Type\": \"Speech Language Family\", \"Modality\": \"Speech Language Family\"}, {\"Year Released\": \"2015\", \"Gini\": [0.8659520661771494, 0.7178132141559592, 0.9443624800640913], \"Gini Mean\": 0.8659520661771494, \"Gini Lower\": 0.7178132141559592, \"Gini Upper\": 0.9443624800640913, \"Type\": \"Speech Language Family\", \"Modality\": \"Speech Language Family\"}, {\"Year Released\": \"2016\", \"Gini\": [0.872949488517389, 0.7178714660517406, 0.9496977228728954], \"Gini Mean\": 0.872949488517389, \"Gini Lower\": 0.7178714660517406, \"Gini Upper\": 0.9496977228728954, \"Type\": \"Speech Language Family\", \"Modality\": \"Speech Language Family\"}, {\"Year Released\": \"2017\", \"Gini\": [0.8768674876657423, 0.7314354975861841, 0.950379239304449], \"Gini Mean\": 0.8768674876657423, \"Gini Lower\": 0.7314354975861841, \"Gini Upper\": 0.950379239304449, \"Type\": \"Speech Language Family\", \"Modality\": \"Speech Language Family\"}, {\"Year Released\": \"2018\", \"Gini\": [0.8906788543631217, 0.7878811571820595, 0.9507243861148357], \"Gini Mean\": 0.8906788543631217, \"Gini Lower\": 0.7878811571820595, \"Gini Upper\": 0.9507243861148357, \"Type\": \"Speech Language Family\", \"Modality\": \"Speech Language Family\"}, {\"Year Released\": \"2019\", \"Gini\": [0.8945871113152172, 0.7462347843919881, 0.9605678309194358], \"Gini Mean\": 0.8945871113152172, \"Gini Lower\": 0.7462347843919881, \"Gini Upper\": 0.9605678309194358, \"Type\": \"Speech Language Family\", \"Modality\": \"Speech Language Family\"}, {\"Year Released\": \"2020\", \"Gini\": [0.8875979580726239, 0.7281697074650949, 0.9540782094137188], \"Gini Mean\": 0.8875979580726239, \"Gini Lower\": 0.7281697074650949, \"Gini Upper\": 0.9540782094137188, \"Type\": \"Speech Language Family\", \"Modality\": \"Speech Language Family\"}, {\"Year Released\": \"2021\", \"Gini\": [0.8761742592212026, 0.6941749955699988, 0.9527408993930117], \"Gini Mean\": 0.8761742592212026, \"Gini Lower\": 0.6941749955699988, \"Gini Upper\": 0.9527408993930117, \"Type\": \"Speech Language Family\", \"Modality\": \"Speech Language Family\"}, {\"Year Released\": \"2022\", \"Gini\": [0.8866960062812341, 0.7333921115813479, 0.9514487024849647], \"Gini Mean\": 0.8866960062812341, \"Gini Lower\": 0.7333921115813479, \"Gini Upper\": 0.9514487024849647, \"Type\": \"Speech Language Family\", \"Modality\": \"Speech Language Family\"}, {\"Year Released\": \"2023\", \"Gini\": [0.880158946713244, 0.7355265969955013, 0.9520011423211415], \"Gini Mean\": 0.880158946713244, \"Gini Lower\": 0.7355265969955013, \"Gini Upper\": 0.9520011423211415, \"Type\": \"Speech Language Family\", \"Modality\": \"Speech Language Family\"}, {\"Year Released\": \"2024\", \"Gini\": [0.88078999929745, 0.7429591578416715, 0.9514930416899932], \"Gini Mean\": 0.88078999929745, \"Gini Lower\": 0.7429591578416715, \"Gini Upper\": 0.9514930416899932, \"Type\": \"Speech Language Family\", \"Modality\": \"Speech Language Family\"}]}}, {\"mode\": \"vega-lite\"});\n",
       "</script>"
      ],
      "text/plain": [
       "alt.LayerChart(...)"
      ]
     },
     "execution_count": 921,
     "metadata": {},
     "output_type": "execute_result"
    }
   ],
   "source": [
    "lang_gini_chart"
   ]
  },
  {
   "cell_type": "code",
   "execution_count": null,
   "metadata": {},
   "outputs": [],
   "source": []
  },
  {
   "cell_type": "code",
   "execution_count": 880,
   "metadata": {},
   "outputs": [],
   "source": []
  },
  {
   "cell_type": "code",
   "execution_count": 922,
   "metadata": {},
   "outputs": [
    {
     "data": {
      "text/plain": [
       "Index(['Unique Dataset Identifier', 'Dataset Name', 'Paper Title',\n",
       "       'Dataset URL', 'GitHub URL', 'Hugging Face URL', 'Papers with Code URL',\n",
       "       'ArXiv URL', 'Semantic Scholar Corpus ID', 'Collection',\n",
       "       'Collection URL', 'Languages', 'Task Categories', 'Text Sources',\n",
       "       'Model Generated', 'Format', 'Human Annotation',\n",
       "       'Derived from Datasets', 'Creators', 'Licenses', 'License Notes',\n",
       "       'License Verified By', 'Dataset Filter IDs', 'Bibtex',\n",
       "       'Inferred Metadata', 'Text Metrics', 'GitHub License',\n",
       "       'HF Yaml License', 'HF Config License', 'PwC License',\n",
       "       'License Use (DataProvenance)', 'License Attribution (DataProvenance)',\n",
       "       'License Share Alike (DataProvenance)',\n",
       "       'License Use (DataProvenance IgnoreOpenAI)',\n",
       "       'License Attribution (DataProvenance IgnoreOpenAI)',\n",
       "       'License Share Alike (DataProvenance IgnoreOpenAI)',\n",
       "       'License Use (HuggingFace)', 'License Attribution (HuggingFace)',\n",
       "       'License Share Alike (HuggingFace)', 'License Use (GitHub)',\n",
       "       'License Attribution (GitHub)', 'License Share Alike (GitHub)',\n",
       "       'License Use (PapersWithCode)', 'License Attribution (PapersWithCode)',\n",
       "       'License Share Alike (PapersWithCode)', 'Modality', 'Total Tokens',\n",
       "       'Data Terms', 'Language Families', 'Year Released', 'Hours',\n",
       "       'Languages (Count)', 'Languages (ISO)', 'Language Groups', 'Speakers',\n",
       "       'Tasks', 'Topics', 'Source Category', 'Source', 'Process Description',\n",
       "       'Paper URL', 'Creator Categories', 'Countries', 'Notes', 'Website URL',\n",
       "       'Taken Down', 'License Type', 'License | Terms'],\n",
       "      dtype='object')"
      ]
     },
     "execution_count": 922,
     "metadata": {},
     "output_type": "execute_result"
    }
   ],
   "source": [
    "df.columns"
   ]
  },
  {
   "cell_type": "code",
   "execution_count": 968,
   "metadata": {},
   "outputs": [
    {
     "name": "stderr",
     "output_type": "stream",
     "text": [
      "/var/folders/fl/3cgkr5r165v5rx824jlz0x8m0000gn/T/ipykernel_27257/668153605.py:2: SettingWithCopyWarning: \n",
      "A value is trying to be set on a copy of a slice from a DataFrame.\n",
      "Try using .loc[row_indexer,col_indexer] = value instead\n",
      "\n",
      "See the caveats in the documentation: https://pandas.pydata.org/pandas-docs/stable/user_guide/indexing.html#returning-a-view-versus-a-copy\n",
      "  df_text[\"Source\"] = df_text[\"Text Sources\"]\n",
      "/var/folders/fl/3cgkr5r165v5rx824jlz0x8m0000gn/T/ipykernel_27257/668153605.py:4: SettingWithCopyWarning: \n",
      "A value is trying to be set on a copy of a slice from a DataFrame.\n",
      "Try using .loc[row_indexer,col_indexer] = value instead\n",
      "\n",
      "See the caveats in the documentation: https://pandas.pydata.org/pandas-docs/stable/user_guide/indexing.html#returning-a-view-versus-a-copy\n",
      "  df_speech[\"Task Categories\"] = df_speech[\"Tasks\"]\n",
      "/var/folders/fl/3cgkr5r165v5rx824jlz0x8m0000gn/T/ipykernel_27257/668153605.py:6: SettingWithCopyWarning: \n",
      "A value is trying to be set on a copy of a slice from a DataFrame.\n",
      "Try using .loc[row_indexer,col_indexer] = value instead\n",
      "\n",
      "See the caveats in the documentation: https://pandas.pydata.org/pandas-docs/stable/user_guide/indexing.html#returning-a-view-versus-a-copy\n",
      "  df_video[\"Source\"] = df_video[\"Source Category\"]\n"
     ]
    }
   ],
   "source": [
    "df_text = df[df[\"Modality\"] == \"Text\"]\n",
    "df_text[\"Source\"] = df_text[\"Text Sources\"]\n",
    "df_speech = df[df[\"Modality\"] == \"Speech\"]\n",
    "df_speech[\"Task Categories\"] = df_speech[\"Tasks\"]\n",
    "df_video = df[df[\"Modality\"] == \"Video\"]\n",
    "df_video[\"Source\"] = df_video[\"Source Category\"]\n",
    "df_mod_merged = pd.concat([df_text, df_speech, df_video])\n",
    "# df_text_speech_merged = pd.concat([df_text, df_speech])\n",
    "\n",
    "# \\textsc{Modality} & \\multicolumn{2}{c}{\\textsc{Dimensions}} & \\multicolumn{2}{c}{\\textsc{Sources}} & \\multicolumn{2}{c}{\\textsc{Tasks}} \n",
    "# & \\multicolumn{2}{c}{\\textsc{Creators}} & \\multicolumn{2}{c}{\\textsc{Languages}} & \\textsc{Licenses}  \\\\\n",
    " # & \\textsc{Datasets} & \\textsc{|Size|} & \\textsc{|Unique|} & \\textsc{Domains} & \\textsc{|Unique|} & \\textsc{Categories} & \\textsc{|Unique|} & \\textsc{Countries} & \\textsc{|Unique|} & \\textsc{|Families|} & \\textsc{|Unique|} \\\\\n",
    "\n",
    "# Dimensions, Sources, Tasks, Creators, Licenses\n",
    "# Year Released? \n",
    "def unpack_key_stats(df_spec, sum_col, task_col, src_col):\n",
    "    df_spec['License Resolved'] = df_spec['Licenses'].apply(lambda x: [d['License'] for d in x])\n",
    "    return {\n",
    "        \"Num Datasets\": len(df_spec),\n",
    "        \"Total Size\": df_spec[sum_col].sum(),\n",
    "        \"Mean Size\": df_spec[sum_col].sum() / len(df_spec),\n",
    "        \"Unique Creators\": df_spec.explode(\"Creators\")[\"Creators\"].nunique(),\n",
    "        \"Countries\": df_spec.explode(\"Countries\")[\"Countries\"].nunique(),\n",
    "        \"Sources\": df_spec.explode(src_col)[src_col].nunique(),\n",
    "        \"Source Categories\": df_spec.explode(\"Source Category\")[\"Source Category\"].nunique(),\n",
    "        \"Task Categories\": df_spec.explode(task_col)[task_col].nunique(),\n",
    "        \"Unique Licenses\": df_spec.explode(\"License Resolved\")[\"License Resolved\"].nunique(),\n",
    "    }\n",
    "\n",
    "def unpack_total_stats(df_spec):\n",
    "    df_spec['License Resolved'] = df_spec['Licenses'].apply(lambda x: [d['License'] for d in x])\n",
    "    return {\n",
    "        \"Num Datasets\": len(df_spec),\n",
    "        # \"Total Size\": df_spec[sum_col].sum(),\n",
    "        # \"Mean Size\": df_spec[sum_col].sum() / len(df_spec),\n",
    "        \"Unique Creators\": df_spec.explode(\"Creators\")[\"Creators\"].nunique(),\n",
    "        \"Countries\": df_spec.explode(\"Countries\")[\"Countries\"].nunique(),\n",
    "        \"Sources\": df_spec.explode(\"Source\")[\"Source\"].nunique(),\n",
    "        \"Source Categories\": df_spec.explode(\"Source Category\")[\"Source Category\"].nunique(),\n",
    "        \"Task Categories\": df_spec.explode(\"Task Categories\")[\"Task Categories\"].nunique(),\n",
    "        \"Unique Licenses\": df_spec.explode(\"License Resolved\")[\"License Resolved\"].nunique(),\n",
    "    }"
   ]
  },
  {
   "cell_type": "code",
   "execution_count": 964,
   "metadata": {},
   "outputs": [
    {
     "name": "stderr",
     "output_type": "stream",
     "text": [
      "/var/folders/fl/3cgkr5r165v5rx824jlz0x8m0000gn/T/ipykernel_27257/1118880734.py:16: SettingWithCopyWarning: \n",
      "A value is trying to be set on a copy of a slice from a DataFrame.\n",
      "Try using .loc[row_indexer,col_indexer] = value instead\n",
      "\n",
      "See the caveats in the documentation: https://pandas.pydata.org/pandas-docs/stable/user_guide/indexing.html#returning-a-view-versus-a-copy\n",
      "  df_spec['License Resolved'] = df_spec['Licenses'].apply(lambda x: [d['License'] for d in x])\n"
     ]
    },
    {
     "data": {
      "text/plain": [
       "{'Num Datasets': 98,\n",
       " 'Total Size': 832121.17,\n",
       " 'Mean Size': 8491.032346938777,\n",
       " 'Unique Creators': 91,\n",
       " 'Countries': 22,\n",
       " 'Sources': 24,\n",
       " 'Source Categories': 24,\n",
       " 'Task Categories': 27,\n",
       " 'Unique Licenses': 11}"
      ]
     },
     "execution_count": 964,
     "metadata": {},
     "output_type": "execute_result"
    }
   ],
   "source": [
    "unpack_key_stats(df_video, \"Hours\", \"Task Categories\", \"Source Category\")"
   ]
  },
  {
   "cell_type": "code",
   "execution_count": 965,
   "metadata": {},
   "outputs": [
    {
     "name": "stderr",
     "output_type": "stream",
     "text": [
      "/var/folders/fl/3cgkr5r165v5rx824jlz0x8m0000gn/T/ipykernel_27257/1118880734.py:16: SettingWithCopyWarning: \n",
      "A value is trying to be set on a copy of a slice from a DataFrame.\n",
      "Try using .loc[row_indexer,col_indexer] = value instead\n",
      "\n",
      "See the caveats in the documentation: https://pandas.pydata.org/pandas-docs/stable/user_guide/indexing.html#returning-a-view-versus-a-copy\n",
      "  df_spec['License Resolved'] = df_spec['Licenses'].apply(lambda x: [d['License'] for d in x])\n"
     ]
    },
    {
     "data": {
      "text/plain": [
       "{'Num Datasets': 95,\n",
       " 'Total Size': 775600.41,\n",
       " 'Mean Size': 8164.214842105263,\n",
       " 'Unique Creators': 124,\n",
       " 'Countries': 29,\n",
       " 'Sources': 51,\n",
       " 'Source Categories': 16,\n",
       " 'Task Categories': 18,\n",
       " 'Unique Licenses': 19}"
      ]
     },
     "execution_count": 965,
     "metadata": {},
     "output_type": "execute_result"
    }
   ],
   "source": [
    "unpack_key_stats(df_speech, \"Hours\", \"Task Categories\", \"Source\")"
   ]
  },
  {
   "cell_type": "code",
   "execution_count": 966,
   "metadata": {},
   "outputs": [
    {
     "name": "stderr",
     "output_type": "stream",
     "text": [
      "/var/folders/fl/3cgkr5r165v5rx824jlz0x8m0000gn/T/ipykernel_27257/1118880734.py:16: SettingWithCopyWarning: \n",
      "A value is trying to be set on a copy of a slice from a DataFrame.\n",
      "Try using .loc[row_indexer,col_indexer] = value instead\n",
      "\n",
      "See the caveats in the documentation: https://pandas.pydata.org/pandas-docs/stable/user_guide/indexing.html#returning-a-view-versus-a-copy\n",
      "  df_spec['License Resolved'] = df_spec['Licenses'].apply(lambda x: [d['License'] for d in x])\n"
     ]
    },
    {
     "data": {
      "text/plain": [
       "{'Num Datasets': 3688,\n",
       " 'Total Size': 2068834713765.95,\n",
       " 'Mean Size': 560963859.4810059,\n",
       " 'Unique Creators': 518,\n",
       " 'Countries': 55,\n",
       " 'Sources': 713,\n",
       " 'Source Categories': 23,\n",
       " 'Task Categories': 384,\n",
       " 'Unique Licenses': 49}"
      ]
     },
     "execution_count": 966,
     "metadata": {},
     "output_type": "execute_result"
    }
   ],
   "source": [
    "unpack_key_stats(df_text, \"Total Tokens\", \"Task Categories\", \"Text Sources\")"
   ]
  },
  {
   "cell_type": "code",
   "execution_count": 967,
   "metadata": {},
   "outputs": [
    {
     "data": {
      "text/plain": [
       "{'Num Datasets': 3881,\n",
       " 'Unique Creators': 639,\n",
       " 'Countries': 63,\n",
       " 'Sources': 778,\n",
       " 'Source Categories': 63,\n",
       " 'Task Categories': 427,\n",
       " 'Unique Licenses': 54}"
      ]
     },
     "execution_count": 967,
     "metadata": {},
     "output_type": "execute_result"
    }
   ],
   "source": [
    "unpack_total_stats(df_mod_merged)"
   ]
  },
  {
   "cell_type": "code",
   "execution_count": 975,
   "metadata": {},
   "outputs": [
    {
     "name": "stdout",
     "output_type": "stream",
     "text": [
      "747\n",
      "37\n"
     ]
    }
   ],
   "source": [
    "print(df_speech_text_spec[\"Language (ISO)\"].nunique())\n",
    "print(df_speech_text_spec[\"Language Family\"].nunique())\n",
    "# df_text_speech_merged[\"Language Families\"]"
   ]
  },
  {
   "cell_type": "code",
   "execution_count": 976,
   "metadata": {},
   "outputs": [
    {
     "data": {
      "text/plain": [
       "3881"
      ]
     },
     "execution_count": 976,
     "metadata": {},
     "output_type": "execute_result"
    }
   ],
   "source": [
    "len(df)"
   ]
  },
  {
   "cell_type": "code",
   "execution_count": 985,
   "metadata": {},
   "outputs": [
    {
     "data": {
      "text/html": [
       "<div>\n",
       "<style scoped>\n",
       "    .dataframe tbody tr th:only-of-type {\n",
       "        vertical-align: middle;\n",
       "    }\n",
       "\n",
       "    .dataframe tbody tr th {\n",
       "        vertical-align: top;\n",
       "    }\n",
       "\n",
       "    .dataframe thead th {\n",
       "        text-align: right;\n",
       "    }\n",
       "</style>\n",
       "<table border=\"1\" class=\"dataframe\">\n",
       "  <thead>\n",
       "    <tr style=\"text-align: right;\">\n",
       "      <th></th>\n",
       "      <th>Year Released</th>\n",
       "      <th>Gini</th>\n",
       "      <th>Gini Mean</th>\n",
       "      <th>Gini Lower</th>\n",
       "      <th>Gini Upper</th>\n",
       "      <th>Type</th>\n",
       "      <th>Modality</th>\n",
       "    </tr>\n",
       "  </thead>\n",
       "  <tbody>\n",
       "    <tr>\n",
       "      <th>12</th>\n",
       "      <td>2024</td>\n",
       "      <td>(0.9170403447256023, 0.837364013815281, 0.9600...</td>\n",
       "      <td>0.917040</td>\n",
       "      <td>0.837364</td>\n",
       "      <td>0.960079</td>\n",
       "      <td>Text</td>\n",
       "      <td>Text</td>\n",
       "    </tr>\n",
       "    <tr>\n",
       "      <th>12</th>\n",
       "      <td>2024</td>\n",
       "      <td>(0.8576580304218534, 0.7518127214465313, 0.918...</td>\n",
       "      <td>0.857658</td>\n",
       "      <td>0.751813</td>\n",
       "      <td>0.918210</td>\n",
       "      <td>Speech</td>\n",
       "      <td>Speech</td>\n",
       "    </tr>\n",
       "    <tr>\n",
       "      <th>12</th>\n",
       "      <td>2024</td>\n",
       "      <td>(0.7418476482830463, 0.588321222808532, 0.8601...</td>\n",
       "      <td>0.741848</td>\n",
       "      <td>0.588321</td>\n",
       "      <td>0.860144</td>\n",
       "      <td>Video</td>\n",
       "      <td>Video</td>\n",
       "    </tr>\n",
       "  </tbody>\n",
       "</table>\n",
       "</div>"
      ],
      "text/plain": [
       "   Year Released                                               Gini  \\\n",
       "12          2024  (0.9170403447256023, 0.837364013815281, 0.9600...   \n",
       "12          2024  (0.8576580304218534, 0.7518127214465313, 0.918...   \n",
       "12          2024  (0.7418476482830463, 0.588321222808532, 0.8601...   \n",
       "\n",
       "    Gini Mean  Gini Lower  Gini Upper    Type Modality  \n",
       "12   0.917040    0.837364    0.960079    Text     Text  \n",
       "12   0.857658    0.751813    0.918210  Speech   Speech  \n",
       "12   0.741848    0.588321    0.860144   Video    Video  "
      ]
     },
     "execution_count": 985,
     "metadata": {},
     "output_type": "execute_result"
    }
   ],
   "source": [
    "df_gini_locs[df_gini_locs[\"Year Released\"] == \"2024\"]"
   ]
  },
  {
   "cell_type": "code",
   "execution_count": 997,
   "metadata": {},
   "outputs": [
    {
     "data": {
      "text/plain": [
       "102"
      ]
     },
     "execution_count": 997,
     "metadata": {},
     "output_type": "execute_result"
    }
   ],
   "source": [
    "df_text[\"Collection\"].nunique()"
   ]
  },
  {
   "cell_type": "code",
   "execution_count": null,
   "metadata": {},
   "outputs": [],
   "source": []
  }
 ],
 "metadata": {
  "kernelspec": {
   "display_name": "Python 3 (ipykernel)",
   "language": "python",
   "name": "python3"
  },
  "language_info": {
   "codemirror_mode": {
    "name": "ipython",
    "version": 3
   },
   "file_extension": ".py",
   "mimetype": "text/x-python",
   "name": "python",
   "nbconvert_exporter": "python",
   "pygments_lexer": "ipython3",
   "version": "3.10.12"
  },
  "nbdime-conflicts": {
   "local_diff": [
    {
     "diff": [
      {
       "diff": [
        {
         "key": 0,
         "length": 1,
         "op": "removerange"
        }
       ],
       "key": "version",
       "op": "patch"
      }
     ],
     "key": "language_info",
     "op": "patch"
    }
   ],
   "remote_diff": [
    {
     "diff": [
      {
       "diff": [
        {
         "diff": [
          {
           "key": 6,
           "op": "addrange",
           "valuelist": "4"
          },
          {
           "key": 6,
           "length": 1,
           "op": "removerange"
          }
         ],
         "key": 0,
         "op": "patch"
        }
       ],
       "key": "version",
       "op": "patch"
      }
     ],
     "key": "language_info",
     "op": "patch"
    }
   ]
  }
 },
 "nbformat": 4,
 "nbformat_minor": 4
}
