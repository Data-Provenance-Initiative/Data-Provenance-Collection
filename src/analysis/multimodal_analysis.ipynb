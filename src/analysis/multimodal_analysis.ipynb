{
 "cells": [
  {
   "cell_type": "code",
   "execution_count": null,
   "metadata": {},
   "outputs": [],
   "source": [
    "!pip3 install -q -U pandas altair vega_datasets iso3166 vl-convert-python matplotlib seaborn scipy scikit-learn"
   ]
  },
  {
   "cell_type": "code",
   "execution_count": null,
   "metadata": {},
   "outputs": [],
   "source": [
    "import sys\n",
    "# Append system path\n",
    "sys.path = [p for p in sys.path if not p.endswith(\"../..\")]  # Cleans duplicated '../..\"\n",
    "sys.path.insert(0, \"../\")  # This adds `src` to the path\n",
    "import os\n",
    "import logging\n",
    "import pandas as pd\n",
    "import altair as alt\n",
    "alt.data_transformers.disable_max_rows() # Allow using more than 5000 rows, for now\n",
    "logging.basicConfig(level=logging.DEBUG, handlers=[logging.StreamHandler(stream=sys.stdout)])\n",
    "from vega_datasets import data\n",
    "from helpers import io\n",
    "from analysis import multimodal_util\n",
    "\n",
    "\n",
    "%load_ext autoreload\n",
    "%autoreload 2"
   ]
  },
  {
   "cell_type": "markdown",
   "metadata": {},
   "source": [
    "# Plotting Constants (All Plots)"
   ]
  },
  {
   "cell_type": "code",
   "execution_count": null,
   "metadata": {},
   "outputs": [],
   "source": [
    "def times_newroman():\n",
    "    font = \"Times New Roman\"\n",
    "\n",
    "    return {\n",
    "          \"config\" : {\n",
    "               \"title\": {\"font\": font},\n",
    "               \"axis\": {\n",
    "               \"labelFont\": font,\n",
    "               \"titleFont\": font\n",
    "          },\n",
    "          \"header\": {\n",
    "               \"labelFont\": font,\n",
    "               \"titleFont\": font\n",
    "          },\n",
    "          \"legend\": {\n",
    "               \"labelFont\": font,\n",
    "               \"titleFont\": font\n",
    "          },\n",
    "          \"text\": {\n",
    "               \"font\": font\n",
    "          }\n",
    "     }\n",
    "}\n",
    "\n",
    "alt.themes.register(\"times_newroman\", times_newroman)\n",
    "alt.themes.enable(\"times_newroman\")"
   ]
  },
  {
   "cell_type": "code",
   "execution_count": null,
   "metadata": {},
   "outputs": [],
   "source": [
    "FONT_SIZE = 16\n",
    "LEGEND_POSITION = \"bottom\"\n",
    "PLOT_TOFILE = True # Whether and where to output plots\n",
    "PLOT_DIR = \"~/dpi-plotsmultimodal/\"\n",
    "PLOT_PPI = 300\n",
    "MAX_LABELLIMIT = 400 # Large number to avoid label summarization in plots\n",
    "\n",
    "PLOT_DIR = os.path.expanduser(PLOT_DIR)\n",
    "\n",
    "# Create directory if needed\n",
    "if PLOT_TOFILE:\n",
    "    os.makedirs(PLOT_DIR, exist_ok=True)"
   ]
  },
  {
   "cell_type": "markdown",
   "metadata": {},
   "source": [
    "## Read Constants and Summaries\n",
    "\n",
    "Load constants and data summaries from JSON files. Constants provide mappings and criteria for licenses, creator groups, various other categories. Data summaries contain modality-specific information about datasets.\n",
    "\n",
    "- `all_constants`: Dictionary containing all predefined constants.\n",
    "- `{text/speech/video}_summaries`: Data summaries by modality."
   ]
  },
  {
   "cell_type": "code",
   "execution_count": null,
   "metadata": {},
   "outputs": [],
   "source": [
    "# Whether and where to output plots\n",
    "PLOT_TOFILE = True\n",
    "PLOT_DIR = \"~/dpi-plotsmultimodal/\"\n",
    "PLOT_PPI = 300\n",
    "MAX_LABELLIMIT = 400 # Large number to avoid label summarization in plots\n",
    "\n",
    "PLOT_DIR = os.path.expanduser(PLOT_DIR)\n",
    "\n",
    "# Create directory if needed\n",
    "if PLOT_TOFILE:\n",
    "    os.makedirs(PLOT_DIR, exist_ok=True)\n",
    "\n",
    "# Plotting constants\n",
    "LICENSE_ORDER = [\"NC/Acad\", \"Unspecified\", \"Commercial\"]\n",
    "LICENSE_PALETTE = [\"#e04c71\", \"#e0cd92\", \"#82b5cf\"]\n",
    "LICENSE_TERMS_ORDER = [\n",
    "    \"NC/Acad | Model Closed\", \"NC/Acad | Source Closed\", \"NC/Acad | Unspecified\", \"NC/Acad | Unrestricted\",\n",
    "    \"Unspecified | Model Closed\", \"Unspecified | Source Closed\", \"Unspecified | Unspecified\", \"Unspecified | Unrestricted\",\n",
    "    \"Commercial | Model Closed\", \"Commercial | Source Closed\", \"Commercial | Unspecified\", \"Commercial | Unrestricted\",\n",
    "]\n",
    "LICENSE_TERMS_PALETTE = [\n",
    "    '#9d354f', '#c24262', '#e04c71', '#e04c71',  # Shades of #e04c71\n",
    "    '#9d9066', '#c2b27f', '#e0cd92', '#e0cd92',  # Shades of #e0cd92\n",
    "    '#5b7f91', '#719db3', '#82b5cf', '#82b5cf',   # Shades of #82b5cf\n",
    "]\n",
    "\n",
    "LICENSE_PLOTW = 400\n",
    "LICENSE_PLOTH = 100\n",
    "YEAR_CATEGORIES = [\"Unknown\", \"<2013\", *list(map(str, range(2013, 2025)))]\n",
    "\n",
    "# Read constants\n",
    "all_constants = io.read_all_constants(\"../../constants/\")\n",
    "\n",
    "# Read Terms data\n",
    "collection_to_terms_mapper = multimodal_util.load_terms_metadata(\"multimodal_terms_data\")\n",
    "\n",
    "# Read individual modality summaries\n",
    "text_summaries = io.read_data_summary_json(\"../../data_summaries/\")\n",
    "logging.info(\"Checking Text Data Summaries against Constants\")\n",
    "# analysis_util.check_datasummary_in_constants(text_summaries, all_constants)\n",
    "\n",
    "speech_summaries = io.read_data_summary_json(\"../../data_summaries-speech/\")\n",
    "logging.info(\"Checking Speech Data Summaries against Constants\")\n",
    "# analysis_util.check_datasummary_in_constants(speech_summaries, all_constants)\n",
    "\n",
    "video_summaries = io.read_data_summary_json(\"../../data_summaries-video/\")\n",
    "logging.info(\"Checking Video Data Summaries against Constants\")\n",
    "# analysis_util.check_datasummary_in_constants(video_summaries, all_constants)\n"
   ]
  },
  {
   "cell_type": "code",
   "execution_count": null,
   "metadata": {},
   "outputs": [],
   "source": [
    "# Prep dataframes\n",
    "df = multimodal_util.prep_summaries_for_visualization(\n",
    "    text_summaries,\n",
    "    speech_summaries,\n",
    "    video_summaries,\n",
    "    all_constants,\n",
    "    collection_to_terms_mapper,\n",
    "    YEAR_CATEGORIES,\n",
    "    LICENSE_ORDER,\n",
    ")"
   ]
  },
  {
   "cell_type": "code",
   "execution_count": null,
   "metadata": {},
   "outputs": [],
   "source": [
    "# video_summaries"
   ]
  },
  {
   "cell_type": "code",
   "execution_count": null,
   "metadata": {},
   "outputs": [],
   "source": [
    "df[\"Data Terms\"].value_counts()"
   ]
  },
  {
   "cell_type": "code",
   "execution_count": null,
   "metadata": {},
   "outputs": [],
   "source": [
    "# df[\"License Type\"].unique()"
   ]
  },
  {
   "cell_type": "markdown",
   "metadata": {},
   "source": [
    "## License Use by Modality\n",
    "\n",
    "Show the proportion of license types by modality using a stacked bar chart (normalized). Licenses are mapped to a higher-level categorization: either **Non-Commercial/Academic**, **Unspecified**, or **Commercial** depending on the permisiveness of the original license."
   ]
  },
  {
   "cell_type": "code",
   "execution_count": null,
   "metadata": {},
   "outputs": [],
   "source": [
    "# multimodal_util.plot_license_terms_stacked_bar_chart(\n",
    "#     df, LICENSE_PALETTE, LICENSE_ORDER, LICENSE_PLOTW, LICENSE_PLOTH, PLOT_DIR, PLOT_PPI\n",
    "# )\n"
   ]
  },
  {
   "cell_type": "code",
   "execution_count": null,
   "metadata": {},
   "outputs": [],
   "source": [
    "license_chart, license_table = multimodal_util.plot_license_terms_stacked_bar_chart_collections(\n",
    "    df, \"License Type\", LICENSE_PALETTE, LICENSE_ORDER, LICENSE_PLOTW, LICENSE_PLOTH, PLOT_DIR, PLOT_PPI\n",
    ")\n",
    "\n",
    "license_chart"
   ]
  },
  {
   "cell_type": "code",
   "execution_count": null,
   "metadata": {},
   "outputs": [],
   "source": [
    "license_terms_chart, license_terms_table = multimodal_util.plot_license_terms_stacked_bar_chart_collections(\n",
    "    df, \"License | Terms\", LICENSE_TERMS_PALETTE, LICENSE_TERMS_ORDER, 800, 200, PLOT_DIR, PLOT_PPI\n",
    ")\n",
    "\n",
    "license_terms_chart"
   ]
  },
  {
   "cell_type": "code",
   "execution_count": null,
   "metadata": {},
   "outputs": [],
   "source": [
    "print(license_terms_table[\"Video\"])"
   ]
  },
  {
   "cell_type": "markdown",
   "metadata": {},
   "source": [
    "## Visualize Creator Categories (e.g. Academic, Industry) by Modality\n",
    "\n",
    "Show the distribution of creator categories across modalities. Plots a normalized stacked bar chart, and also donut/pie for comparison (for now).\n",
    "\n",
    "- `df_categories`: DataFrame unlisted to handle multiple creator categories."
   ]
  },
  {
   "cell_type": "code",
   "execution_count": null,
   "metadata": {},
   "outputs": [],
   "source": [
    "# Plotting constants\n",
    "CREATORCATEGORY_ORDER = [\"Academic\", \"Research Group\", \"Industry Lab\", \"Corporation\", \"Startup\", \"Other\", \"Government\", \"Unspecified\"]\n",
    "CREATORCATEGORY_PALETTE = [\"#CF4E9CFF\", \"#8C57A2FF\", \"#358DB9FF\", \"#82581FFF\", \"#2F509EFF\", \"#E5614CFF\", \"#97A1A7FF\", \"#2E2A2BFF\"]\n",
    "CREATORCATEGORY_PLOTW = 600\n",
    "CREATORCATEGORY_PLOTH = 200"
   ]
  },
  {
   "cell_type": "code",
   "execution_count": null,
   "metadata": {},
   "outputs": [],
   "source": [
    "multimodal_util.plot_stacked_creator_categories(\n",
    "    df, CREATORCATEGORY_ORDER, CREATORCATEGORY_PALETTE, CREATORCATEGORY_PLOTW, CREATORCATEGORY_PLOTH, PLOT_DIR\n",
    ")"
   ]
  },
  {
   "cell_type": "code",
   "execution_count": null,
   "metadata": {},
   "outputs": [],
   "source": [
    "# multimodal_util.plot_donut_creator_categories(\n",
    "#     df, CREATORCATEGORY_ORDER, CREATORCATEGORY_PALETTE, CREATORCATEGORY_PLOTH, PLOT_DIR\n",
    "# )"
   ]
  },
  {
   "cell_type": "code",
   "execution_count": null,
   "metadata": {},
   "outputs": [],
   "source": []
  },
  {
   "cell_type": "markdown",
   "metadata": {},
   "source": [
    "## Visualize Dataset Count by Creator Country/Region and Modality\n",
    "\n",
    "Global distribution of datasets by modality. Uses a world map with color-coded regions to indicate the count of datasets from different regions.\n",
    "\n",
    "- `df_countries`: DataFrame with country codes for plotting.\n",
    "- `base`: Base map (shared across all modalities).\n",
    "- `charts`: List of modality-specific maps (to concatenate into facets)."
   ]
  },
  {
   "cell_type": "code",
   "execution_count": null,
   "metadata": {},
   "outputs": [],
   "source": [
    "# Plotting constants\n",
    "CREATORCOUNTRY_PLOTDIM = 400\n",
    "MODALITY_COLORS = {\n",
    "    \"Text\": \"reds\",\n",
    "    \"Speech\": \"blues\",\n",
    "    \"Video\": \"greens\"\n",
    "}"
   ]
  },
  {
   "cell_type": "code",
   "execution_count": null,
   "metadata": {},
   "outputs": [],
   "source": [
    "map_charts = multimodal_util.plot_altair_worldmap(\n",
    "    df,\n",
    "    data.world_110m.url, # World map for plotting\n",
    "    MODALITY_COLORS,\n",
    "    CREATORCOUNTRY_PLOTDIM,\n",
    "    PLOT_DIR\n",
    ")\n",
    "\n",
    "map_charts"
   ]
  },
  {
   "cell_type": "markdown",
   "metadata": {},
   "source": [
    "## Visualize Data Source Categories by Modality\n",
    "\n",
    "Distribution of source categories, mapped to higher-level groups in `domain_types.json`, across modalities.\n",
    "\n",
    "- `df_sources`: DataFrame with grouped sources."
   ]
  },
  {
   "cell_type": "code",
   "execution_count": null,
   "metadata": {},
   "outputs": [],
   "source": [
    "# Plotting constants\n",
    "DOMAIN_TYPEMAP = multimodal_util.invert_dict_of_lists(all_constants[\"DOMAIN_TYPES\"])\n",
    "SOURCECATEGORY_PLOTW = 400\n",
    "SOURCECATEGORY_PLOTH = 100\n",
    "SOURCECATEGORY_ORDER = sorted(set(DOMAIN_TYPEMAP.values()) - {\"Other\"}) + [\"Other\", \"Unspecified\"]"
   ]
  },
  {
   "cell_type": "code",
   "execution_count": null,
   "metadata": {},
   "outputs": [],
   "source": [
    "multimodal_util.plot_source_domain_stacked_chart(\n",
    "    df, DOMAIN_TYPEMAP, SOURCECATEGORY_ORDER, SOURCECATEGORY_PLOTW, SOURCECATEGORY_PLOTH, PLOT_DIR\n",
    ")"
   ]
  },
  {
   "cell_type": "markdown",
   "metadata": {},
   "source": [
    "Here, we plot source/domain type distributions by year and modality."
   ]
  },
  {
   "cell_type": "markdown",
   "metadata": {},
   "source": [
    "Here, we re-plot the source category distributions, but aggregating within collections for text data (i.e. we use the majority source within collections). For possible ToS mapping (since those annotations are collection level)."
   ]
  },
  {
   "cell_type": "code",
   "execution_count": null,
   "metadata": {},
   "outputs": [],
   "source": [
    "source_chart = multimodal_util.plot_source_domain_stacked_chart_collections(\n",
    "    df, DOMAIN_TYPEMAP, SOURCECATEGORY_ORDER, SOURCECATEGORY_PLOTW, SOURCECATEGORY_PLOTH, PLOT_DIR\n",
    ")\n",
    "\n",
    "source_chart"
   ]
  },
  {
   "cell_type": "markdown",
   "metadata": {},
   "source": [
    "## Combined Plots"
   ]
  },
  {
   "cell_type": "code",
   "execution_count": null,
   "metadata": {},
   "outputs": [],
   "source": [
    "combined_chart = alt.hconcat(\n",
    "    license_chart,\n",
    "    creator_chart,\n",
    "    source_chart\n",
    ").configure_axis(\n",
    "    labelFontSize=FONT_SIZE,\n",
    "    titleFontSize=FONT_SIZE\n",
    ").configure_legend(\n",
    "    titleFontSize=FONT_SIZE,\n",
    "    labelFontSize=FONT_SIZE,\n",
    "    orient=\"bottom\",\n",
    "    columns=2,\n",
    "    labelLimit=MAX_LABELLIMIT\n",
    ").configure_title(\n",
    "    fontSize=FONT_SIZE\n",
    ").resolve_scale(\n",
    "    color=\"independent\",\n",
    "    x=\"shared\",\n",
    "    y=\"shared\"\n",
    ").resolve_axis(\n",
    "    x=\"shared\",\n",
    "    y=\"shared\"\n",
    ")\n",
    "\n",
    "combined_chart_json = combined_chart.to_dict()\n",
    "\n",
    "combined_chart_json[\"hconcat\"][0][\"encoding\"][\"x\"][\"axis\"] = {\"title\": \"\\n\"} # For alignment\n",
    "combined_chart_json[\"hconcat\"][2][\"encoding\"][\"x\"][\"axis\"] = {\"title\": \"\\n\"}\n",
    "combined_chart_json[\"hconcat\"][1][\"encoding\"][\"y\"][\"axis\"] = {\"title\": None, \"ticks\": False, \"labels\": False}\n",
    "combined_chart_json[\"hconcat\"][2][\"encoding\"][\"y\"][\"axis\"] = {\"title\": None, \"ticks\": False, \"labels\": False}\n",
    "\n",
    "combined_chart = alt.Chart.from_dict(combined_chart_json)\n",
    "\n",
    "# Save the chart if required\n",
    "if PLOT_TOFILE:\n",
    "    combined_chart.save(\n",
    "        os.path.join(PLOT_DIR, \"multimodal-combined_chart.png\"),\n",
    "        ppi=300\n",
    "    )\n",
    "\n",
    "combined_chart"
   ]
  },
  {
   "cell_type": "code",
   "execution_count": null,
   "metadata": {},
   "outputs": [],
   "source": [
    "TASK_TYPEMAP = multimodal_util.invert_dict_of_lists(all_constants[\"TASK_GROUPS\"])\n",
    "TASKCATEGORY_PLOTW = 400\n",
    "TASKCATEGORY_PLOTH = 400\n",
    "TASKCATEGORY_FONT_SIZE = 16\n",
    "TASKCATEGORY_ORDER = sorted(set(TASK_TYPEMAP.values()) - {\"null\"})\n",
    "PLOT_TOFILE_TASKS = True"
   ]
  },
  {
   "cell_type": "code",
   "execution_count": null,
   "metadata": {},
   "outputs": [],
   "source": [
    "task_chart_speech_datasets = multimodal_util.plot_tasks_chart(\n",
    "    df, TASK_TYPEMAP, TASKCATEGORY_ORDER, TASKCATEGORY_PLOTW, TASKCATEGORY_PLOTH, PLOT_DIR, TASKCATEGORY_FONT_SIZE, \"Speech\", \"Tasks\", \"Datasets\"\n",
    ")\n",
    "\n",
    "task_chart_speech_datasets"
   ]
  },
  {
   "cell_type": "code",
   "execution_count": null,
   "metadata": {},
   "outputs": [],
   "source": [
    "task_chart_text_datasets = multimodal_util.plot_tasks_chart(\n",
    "    df, TASK_TYPEMAP, TASKCATEGORY_ORDER, TASKCATEGORY_PLOTW, TASKCATEGORY_PLOTH, PLOT_DIR, TASKCATEGORY_FONT_SIZE, \"Text\", \"Task Categories\", \"Datasets\"\n",
    ")\n",
    "\n",
    "task_chart_text_datasets"
   ]
  },
  {
   "cell_type": "code",
   "execution_count": null,
   "metadata": {},
   "outputs": [],
   "source": [
    "task_chart_text_collections = multimodal_util.plot_tasks_chart(\n",
    "    df, TASK_TYPEMAP, TASKCATEGORY_ORDER, TASKCATEGORY_PLOTW, TASKCATEGORY_PLOTH, PLOT_DIR, TASKCATEGORY_FONT_SIZE, \"Text\", \"Task Categories\", \"Collections\"\n",
    ")\n",
    "\n",
    "task_chart_text_collections"
   ]
  },
  {
   "cell_type": "code",
   "execution_count": null,
   "metadata": {},
   "outputs": [],
   "source": [
    "combined_tasks_chart = multimodal_util.concatenate_task_charts(task_chart_speech_datasets, task_chart_text_datasets, task_chart_text_collections, 14)\n",
    "\n",
    "if PLOT_TOFILE_TASKS:\n",
    "    combined_tasks_chart.save(\n",
    "        os.path.join(PLOT_DIR, \"multimodal-combined_tasks_chart.png\"),\n",
    "        ppi=300\n",
    "    )"
   ]
  },
  {
   "cell_type": "markdown",
   "metadata": {},
   "source": [
    "### Visualize Dataset dimensions by tokens (Datasets and Collections)"
   ]
  },
  {
   "cell_type": "markdown",
   "metadata": {},
   "source": [
    "#### Tokens calculation"
   ]
  },
  {
   "cell_type": "markdown",
   "metadata": {},
   "source": [
    "df_tokens = multimodal_util.tokens_calculation(df)"
   ]
  },
  {
   "cell_type": "markdown",
   "metadata": {},
   "source": [
    "#### Datasets split by tokens bins"
   ]
  },
  {
   "cell_type": "code",
   "execution_count": null,
   "metadata": {},
   "outputs": [],
   "source": [
    "bins_dataset = [0, 1000000, 50000000,100000000, 500000000, 1000000000, float('inf')]\n",
    "labels_dataset = ['0-1M', '1M-50M', '50M-100M', '100M-500M', '500m-1B', '1B+']\n",
    "\n",
    "dataset_chart, max_count_dataset = multimodal_util.data_aggregation_for_chart(\n",
    "    df_tokens,\n",
    "    'Text',\n",
    "    bins_dataset,\n",
    "    labels_dataset,\n",
    "    by_collection=False,\n",
    "    measure_column='Total Tokens',\n",
    "    group_column='Token Groups'\n",
    ")"
   ]
  },
  {
   "cell_type": "markdown",
   "metadata": {},
   "source": [
    "#### Collections split by tokens bins"
   ]
  },
  {
   "cell_type": "code",
   "execution_count": null,
   "metadata": {},
   "outputs": [],
   "source": [
    "bins_collection = [0, 1000000, 50000000,100000000, 500000000, 1000000000, float('inf')]\n",
    "labels_collection = ['0-1M', '1M-50M', '50M-100M', '100M-500M', '500m-1B', '1B+']\n",
    "\n",
    "collection_chart, max_count_collection = multimodal_util.data_aggregation_for_chart(df_tokens,'Text', bins_collection, labels_collection, by_collection=True, measure_column='Total Tokens', group_column='Token Groups')"
   ]
  },
  {
   "cell_type": "markdown",
   "metadata": {},
   "source": [
    "#### Combine graphs for dataset and collections split"
   ]
  },
  {
   "cell_type": "code",
   "execution_count": null,
   "metadata": {},
   "outputs": [],
   "source": [
    "chart1 = multimodal_util.chart_creation(\n",
    "    dataset_chart, \n",
    "    max_count_dataset, \n",
    "    x_field='Token Groups',  \n",
    "    labels=labels_dataset,\n",
    "    ratio=1.15,\n",
    "    title='Token distributions by Datasets',\n",
    "    width=400,\n",
    "    height=300,\n",
    "    color='skyblue'\n",
    ")\n",
    "\n",
    "chart2 = multimodal_util.chart_creation(\n",
    "    collection_chart, \n",
    "    max_count_collection, \n",
    "    x_field='Token Groups',  \n",
    "    labels=labels_collection,\n",
    "    ratio=1.15,\n",
    "    title='Token distributions by Datasets Collections',\n",
    "    width=400,\n",
    "    height=300,\n",
    "    color='salmon'\n",
    ")\n",
    "\n",
    "# Concatenate the two charts horizontally with different scales for the y-axes\n",
    "combined_chart = multimodal_util.combined_charts(chart1, chart2)\n",
    "\n",
    "# Save the plot if PLOT_TOFILE is True\n",
    "if PLOT_TOFILE:\n",
    "    output_file = os.path.join(PLOT_DIR, \"Token_&_collection.png\")\n",
    "    combined_chart.save(output_file, scale_factor=PLOT_PPI/100)\n",
    "\n",
    "# Display the chart\n",
    "combined_chart.display()"
   ]
  },
  {
   "cell_type": "markdown",
   "metadata": {},
   "source": [
    "### Visualize Datasets dimensions by modalities and tokens/hours splits"
   ]
  },
  {
   "cell_type": "markdown",
   "metadata": {},
   "source": [
    "bins_text = [0, 1000000, 50000000, 100000000, 500000000, 1000000000, float('inf')]\n",
    "labels_text = ['0-1M', '1M-50M', '50M-100M', '100M-500M', '500M-1B', '1B+']\n",
    "bins_speech = [0, 50, 100, 500, 1000, 5000, float('inf')]\n",
    "labels_speech = ['0h-50h', '50h-100h', '100h-500h', '500h-1000h', '1000h-5000h', '5000h+']\n",
    "bins_video = [0, 50, 100, 500, 1000, 5000, float('inf')]\n",
    "labels_video = ['0h-50h', '50h-100h', '100h-500h', '500h-1000h', '1000h-5000h', '5000h+']\n",
    "\n",
    "df_text_dist, max_count_text = multimodal_util.data_aggregation_for_chart(df_tokens,'Text', bins_text, labels_text, by_collection=False, measure_column='Total Tokens',group_column='Token Groups')\n",
    "df_speech_dist, max_count_speech = multimodal_util.data_aggregation_for_chart(df_tokens,'Speech', bins_speech, labels_speech, by_collection=False, measure_column='Hours',group_column='Speech Hours Groups')\n",
    "df_video_dist, max_count_video = multimodal_util.data_aggregation_for_chart(df_tokens,'Video', bins_video, labels_video, by_collection=False, measure_column='Video Hours',group_column='Video Hours Groups')\n",
    "\n",
    "\n",
    "chart_text = multimodal_util.chart_creation(\n",
    "    df_text_dist, \n",
    "    max_count_text, \n",
    "    x_field='Token Groups',  # Ensure this matches the actual column name in df_text_dist\n",
    "    labels=labels_text,\n",
    "    ratio=1.1,\n",
    "    title='Text datasets distribution by tokens',\n",
    "    width=400,\n",
    "    height=300,\n",
    "    color='skyblue'\n",
    ")\n",
    "chart_speech = multimodal_util.chart_creation(\n",
    "    df_speech_dist, \n",
    "    max_count_speech, \n",
    "    x_field='Speech Hours Groups', \n",
    "    labels=labels_speech,\n",
    "    ratio=1.1,\n",
    "    title='Speech datasets distribution by hours',\n",
    "    width=400,\n",
    "    height=300,\n",
    "    color='salmon'\n",
    ")\n",
    "\n",
    "\n",
    "chart_video = multimodal_util.chart_creation(\n",
    "    df_video_dist, \n",
    "    max_count_video, \n",
    "    x_field='Video Hours Groups', \n",
    "    labels=labels_video,\n",
    "    ratio=1.1,\n",
    "    title='Video datasets distribution by hours',\n",
    "    width=400,\n",
    "    height=300,\n",
    "    color='lightgreen'\n",
    ")\n",
    "\n",
    "\n",
    "# Concatenate the three charts horizontally with different scales for the y-axes\n",
    "combined_chart1 = multimodal_util.combined_charts(chart_text, chart_speech, chart_video)\n",
    "\n",
    "\n",
    "# Save the plot if PLOT_TOFILE is True\n",
    "if PLOT_TOFILE:\n",
    "    output_file = os.path.join(PLOT_DIR, \"combined_modality_chart.png\")\n",
    "    combined_chart1.save(output_file, scale_factor=PLOT_PPI/100)\n",
    "\n",
    "# Display the chart\n",
    "combined_chart1.display()"
   ]
  }
 ],
 "metadata": {
  "kernelspec": {
   "display_name": "Python 3 (ipykernel)",
   "language": "python",
   "name": "python3"
  },
  "language_info": {
   "codemirror_mode": {
    "name": "ipython",
    "version": 3
   },
   "file_extension": ".py",
   "mimetype": "text/x-python",
   "name": "python",
   "nbconvert_exporter": "python",
   "pygments_lexer": "ipython3",
   "version": "3.11.7"
  },
  "nbdime-conflicts": {
   "local_diff": [
    {
     "diff": [
      {
       "diff": [
        {
         "key": 0,
         "length": 1,
         "op": "removerange"
        }
       ],
       "key": "version",
       "op": "patch"
      }
     ],
     "key": "language_info",
     "op": "patch"
    }
   ],
   "remote_diff": [
    {
     "diff": [
      {
       "diff": [
        {
         "diff": [
          {
           "key": 6,
           "op": "addrange",
           "valuelist": "4"
          },
          {
           "key": 6,
           "length": 1,
           "op": "removerange"
          }
         ],
         "key": 0,
         "op": "patch"
        }
       ],
       "key": "version",
       "op": "patch"
      }
     ],
     "key": "language_info",
     "op": "patch"
    }
   ]
  }
 },
 "nbformat": 4,
 "nbformat_minor": 4
}
