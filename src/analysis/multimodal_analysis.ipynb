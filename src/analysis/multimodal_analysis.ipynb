{
 "cells": [
  {
   "cell_type": "code",
   "execution_count": null,
   "metadata": {},
   "outputs": [],
   "source": [
    "!pip3 install -q -U pandas altair vega_datasets iso3166 vl-convert-python matplotlib seaborn"
   ]
  },
  {
   "cell_type": "code",
   "execution_count": null,
   "metadata": {},
   "outputs": [],
   "source": [
    "import sys\n",
    "# Append system path\n",
    "sys.path = [p for p in sys.path if not p.endswith(\"../..\")]  # Cleans duplicated '../..'\n",
    "sys.path.insert(0, \"../\")  # This adds `src` to the path\n",
    "import os\n",
    "import logging\n",
    "import pandas as pd\n",
    "import altair as alt\n",
    "alt.data_transformers.disable_max_rows() # Allow using more than 5000 rows, for now\n",
    "logging.basicConfig(level=logging.DEBUG, handlers=[logging.StreamHandler(stream=sys.stdout)])\n",
    "from vega_datasets import data\n",
    "from helpers import io\n",
    "from analysis import multimodal_util\n",
    "\n",
    "\n",
    "%load_ext autoreload\n",
    "%autoreload 2"
   ]
  },
  {
   "cell_type": "markdown",
   "metadata": {},
   "source": [
    "# Plotting Constants (All Plots)"
   ]
  },
  {
   "cell_type": "code",
   "execution_count": null,
   "metadata": {},
   "outputs": [],
   "source": [
    "def times_newroman():\n",
    "    font = \"Times New Roman\"\n",
    "\n",
    "    return {\n",
    "          \"config\" : {\n",
    "               \"title\": {\"font\": font},\n",
    "               \"axis\": {\n",
    "               \"labelFont\": font,\n",
    "               \"titleFont\": font\n",
    "          },\n",
    "          \"header\": {\n",
    "               \"labelFont\": font,\n",
    "               \"titleFont\": font\n",
    "          },\n",
    "          \"legend\": {\n",
    "               \"labelFont\": font,\n",
    "               \"titleFont\": font\n",
    "          },\n",
    "          \"text\": {\n",
    "               \"font\": font\n",
    "          }\n",
    "     }\n",
    "}\n",
    "\n",
    "alt.themes.register(\"times_newroman\", times_newroman)\n",
    "alt.themes.enable(\"times_newroman\")"
   ]
  },
  {
   "cell_type": "code",
   "execution_count": null,
   "metadata": {},
   "outputs": [],
   "source": [
    "FONT_SIZE = 16\n",
    "LEGEND_POSITION = \"bottom\"\n",
    "PLOT_TOFILE = True # Whether and where to output plots\n",
    "PLOT_DIR = \"~/dpi-plotsmultimodal/\"\n",
    "PLOT_PPI = 300\n",
    "MAX_LABELLIMIT = 1000 # Large number to avoid label summarization in plots\n",
    "\n",
    "PLOT_DIR = os.path.expanduser(PLOT_DIR)\n",
    "\n",
    "# Create directory if needed\n",
    "if PLOT_TOFILE:\n",
    "    os.makedirs(PLOT_DIR, exist_ok=True)"
   ]
  },
  {
   "cell_type": "markdown",
   "metadata": {},
   "source": [
    "## Read Constants and Summaries\n",
    "\n",
    "Load constants and data summaries from JSON files. Constants provide mappings and criteria for licenses, creator groups, various other categories. Data summaries contain modality-specific information about datasets.\n",
    "\n",
    "- `all_constants`: Dictionary containing all predefined constants.\n",
    "- `{text/speech/video}_summaries`: Data summaries by modality."
   ]
  },
  {
   "cell_type": "code",
   "execution_count": null,
   "metadata": {},
   "outputs": [],
   "source": [
    "# Whether and where to output plots\n",
    "PLOT_TOFILE = True\n",
    "PLOT_DIR = \"~/dpi-plotsmultimodal/\"\n",
    "PLOT_PPI = 300\n",
    "MAX_LABELLIMIT = 1000 # Large number to avoid label summarization in plots\n",
    "\n",
    "PLOT_DIR = os.path.expanduser(PLOT_DIR)\n",
    "\n",
    "# Create directory if needed\n",
    "if PLOT_TOFILE:\n",
    "    os.makedirs(PLOT_DIR, exist_ok=True)\n",
    "\n",
    "# Plotting constants\n",
    "LICENSE_ORDER = [\"Non-Commercial/\\nAcademic\", \"Unspecified\", \"Commercial\"]\n",
    "LICENSE_PALETTE = [\"#e04c71\", \"#e0cd92\", \"#82b5cf\"]\n",
    "LICENSE_PLOTW = 600\n",
    "LICENSE_PLOTH = 200\n",
    "YEAR_CATEGORIES = [\"Unknown\", \"<2013\", *list(map(str, range(2013, 2025)))]\n",
    "\n",
    "# Read constants\n",
    "all_constants = io.read_all_constants(\"../../constants/\")\n",
    "\n",
    "# Read Terms data\n",
    "collection_to_terms_mapper = multimodal_util.load_terms_metadata(\"multimodal_terms_data\")\n",
    "\n",
    "# Read individual modality summaries\n",
    "text_summaries = io.read_data_summary_json(\"../../data_summaries/\")\n",
    "logging.info(\"Checking Text Data Summaries against Constants\")\n",
    "# analysis_util.check_datasummary_in_constants(text_summaries, all_constants)\n",
    "\n",
    "speech_summaries = io.read_data_summary_json(\"../../data_summaries-speech/\")\n",
    "logging.info(\"Checking Speech Data Summaries against Constants\")\n",
    "# analysis_util.check_datasummary_in_constants(speech_summaries, all_constants)\n",
    "\n",
    "video_summaries = io.read_data_summary_json(\"../../data_summaries-video/\")\n",
    "logging.info(\"Checking Video Data Summaries against Constants\")\n",
    "# analysis_util.check_datasummary_in_constants(video_summaries, all_constants)\n"
   ]
  },
  {
   "cell_type": "code",
   "execution_count": null,
   "metadata": {},
   "outputs": [],
   "source": [
    "# Prep dataframes\n",
    "df = multimodal_util.prep_summaries_for_visualization(\n",
    "    text_summaries,\n",
    "    speech_summaries,\n",
    "    video_summaries,\n",
    "    all_constants,\n",
    "    collection_to_terms_mapper,\n",
    "    YEAR_CATEGORIES,\n",
    "    LICENSE_ORDER,\n",
    ")"
   ]
  },
  {
   "cell_type": "markdown",
   "metadata": {},
   "source": [
    "## License Use by Modality\n",
    "\n",
    "Show the proportion of license types by modality using a stacked bar chart (normalized). Licenses are mapped to a higher-level categorization: either **Non-Commercial/Academic**, **Unspecified**, or **Commercial** depending on the permisiveness of the original license."
   ]
  },
  {
   "cell_type": "code",
   "execution_count": null,
   "metadata": {},
   "outputs": [],
   "source": [
    "multimodal_util.plot_license_terms_stacked_bar_chart(\n",
    "    df, LICENSE_PALETTE, LICENSE_ORDER, LICENSE_PLOTW, LICENSE_PLOTH, PLOT_DIR, PLOT_PPI\n",
    ")\n"
   ]
  },
  {
   "cell_type": "code",
   "execution_count": null,
   "metadata": {},
   "outputs": [],
   "source": [
    "multimodal_util.plot_license_terms_stacked_bar_chart_collections(\n",
    "    df, LICENSE_PALETTE, LICENSE_ORDER, LICENSE_PLOTW, LICENSE_PLOTH, PLOT_DIR, PLOT_PPI\n",
    ")"
   ]
  },
  {
   "cell_type": "markdown",
   "metadata": {},
   "source": [
    "## Visualize Creator Categories (e.g. Academic, Industry) by Modality\n",
    "\n",
    "Show the distribution of creator categories across modalities. Plots a normalized stacked bar chart, and also donut/pie for comparison (for now).\n",
    "\n",
    "- `df_categories`: DataFrame unlisted to handle multiple creator categories."
   ]
  },
  {
   "cell_type": "code",
   "execution_count": null,
   "metadata": {},
   "outputs": [],
   "source": [
    "# Plotting constants\n",
    "CREATORCATEGORY_ORDER = [\"Academic\", \"Research Group\", \"Industry Lab\", \"Corporation\", \"Startup\", \"Other\", \"Government\", \"Unspecified\"]\n",
    "CREATORCATEGORY_PALETTE = [\"#CF4E9CFF\", \"#8C57A2FF\", \"#358DB9FF\", \"#82581FFF\", \"#2F509EFF\", \"#E5614CFF\", \"#97A1A7FF\", \"#2E2A2BFF\"]\n",
    "CREATORCATEGORY_PLOTW = 600\n",
    "CREATORCATEGORY_PLOTH = 100"
   ]
  },
  {
   "cell_type": "code",
   "execution_count": null,
   "metadata": {},
   "outputs": [],
   "source": [
    "multimodal_util.plot_stacked_creator_categories(\n",
    "    df, CREATORCATEGORY_ORDER, CREATORCATEGORY_PALETTE, CREATORCATEGORY_PLOTW, CREATORCATEGORY_PLOTH, PLOT_DIR\n",
    ")"
   ]
  },
  {
   "cell_type": "markdown",
   "metadata": {},
   "source": [
    "## Visualize Dataset Count by Creator Country/Region and Modality\n",
    "\n",
    "Global distribution of datasets by modality. Uses a world map with color-coded regions to indicate the count of datasets from different regions.\n",
    "\n",
    "- `df_countries`: DataFrame with country codes for plotting.\n",
    "- `base`: Base map (shared across all modalities).\n",
    "- `charts`: List of modality-specific maps (to concatenate into facets)."
   ]
  },
  {
   "cell_type": "code",
   "execution_count": null,
   "metadata": {},
   "outputs": [],
   "source": [
    "# Plotting constants\n",
    "CREATORCOUNTRY_PLOTDIM = 600\n",
    "MODALITY_COLORS = {\n",
    "    \"Text\": \"reds\",\n",
    "    \"Speech\": \"blues\",\n",
    "    \"Video\": \"greens\"\n",
    "}"
   ]
  },
  {
   "cell_type": "code",
   "execution_count": null,
   "metadata": {},
   "outputs": [],
   "source": [
    "map_charts = multimodal_util.plot_altair_worldmap(\n",
    "    df,\n",
    "    data.world_110m.url, # World map for plotting\n",
    "    MODALITY_COLORS,\n",
    "    CREATORCOUNTRY_PLOTDIM,\n",
    "    PLOT_DIR\n",
    ")\n",
    "\n",
    "map_charts"
   ]
  },
  {
   "cell_type": "markdown",
   "metadata": {},
   "source": [
    "## Visualize Data Source Categories by Modality\n",
    "\n",
    "Distribution of source categories, mapped to higher-level groups in `domain_types.json`, across modalities.\n",
    "\n",
    "- `df_sources`: DataFrame with grouped sources."
   ]
  },
  {
   "cell_type": "code",
   "execution_count": null,
   "metadata": {},
   "outputs": [],
   "source": [
    "# Plotting constants\n",
    "DOMAIN_TYPEMAP = multimodal_util.invert_dict_of_lists(all_constants[\"DOMAIN_TYPES\"])\n",
    "SOURCECATEGORY_PLOTW = 600\n",
    "SOURCECATEGORY_PLOTH = 100\n",
    "SOURCECATEGORY_ORDER = sorted(set(DOMAIN_TYPEMAP.values()) - {\"Other\"}) + [\"Other\", \"Unspecified\"]"
   ]
  },
  {
   "cell_type": "code",
   "execution_count": null,
   "metadata": {},
   "outputs": [],
   "source": [
    "multimodal_util.plot_source_domain_stacked_chart(\n",
    "    df, DOMAIN_TYPEMAP, SOURCECATEGORY_ORDER, SOURCECATEGORY_PLOTW, SOURCECATEGORY_PLOTH, PLOT_DIR\n",
    ")"
   ]
  },
  {
   "cell_type": "markdown",
   "metadata": {},
   "source": [
    "Here, we plot source/domain type distributions by year and modality."
   ]
  },
  {
   "cell_type": "markdown",
   "metadata": {},
   "source": [
    "Here, we re-plot the source category distributions, but aggregating within collections for text data (i.e. we use the majority source within collections). For possible ToS mapping (since those annotations are collection level)."
   ]
  },
  {
   "cell_type": "code",
   "execution_count": null,
   "metadata": {},
   "outputs": [],
   "source": [
    "multimodal_util.plot_source_domain_stacked_chart_collections(\n",
    "    df, DOMAIN_TYPEMAP, SOURCECATEGORY_ORDER, SOURCECATEGORY_PLOTW, SOURCECATEGORY_PLOTH, PLOT_DIR\n",
    ")"
   ]
  },
  {
   "cell_type": "markdown",
   "metadata": {},
   "source": [
    "## Combined Plots"
   ]
  },
  {
   "cell_type": "code",
   "execution_count": null,
   "metadata": {},
   "outputs": [],
   "source": [
    "df_text = df[df[\"Modality\"] == \"Text\"].copy()\n",
    "df_nontext = df[df[\"Modality\"] != \"Text\"]\n",
    "\n",
    "def pick_licensetype(x: pd.Series) -> str:\n",
    "    \"\"\"Pick most restrictive license type for a collection.\"\"\"\n",
    "    if \"Non-Commercial/Academic\" in x.values:\n",
    "        return \"Non-Commercial/Academic\"\n",
    "    return x.mode()[0] if len(x) > 0 else \"Unspecified\"\n",
    "\n",
    "df_text.loc[:, \"License Type\"] = df_text.groupby(\"Collection\")[\"License Type\"].transform(pick_licensetype)\n",
    "\n",
    "df_text = df_text.drop_duplicates(subset=\"Collection\")\n",
    "\n",
    "df_licensescondensed = pd.concat([df_nontext, df_text], ignore_index=True)\n",
    "\n",
    "logging.warning(\"Aggregating to %d collections\" % len(df_licensescondensed.loc[df_licensescondensed[\"Modality\"] == \"Text\", \"Collection\"].unique()))\n",
    "\n",
    "df_licensescondensed = df_licensescondensed.sort_values(by=\"License Type\")\n",
    "chart_licensesaggregated = alt.Chart(df_licensescondensed).mark_bar().encode(\n",
    "    x=alt.X(\n",
    "        \"count():Q\",\n",
    "        stack=\"normalize\",\n",
    "        axis=alt.Axis(format=\"%\", title=None, labels=False, ticks=False)\n",
    "    ),\n",
    "    y=alt.Y(\"Modality:N\", title=\"\"),\n",
    "    color=alt.Color(\n",
    "        \"License Type:N\",\n",
    "        title=\"License Use\",\n",
    "        scale=alt.Scale(range=LICENSE_PALETTE),\n",
    "        sort=LICENSE_ORDER\n",
    "    ),\n",
    "    order=\"order:Q\"\n",
    ")\n",
    "\n",
    "chart_licensesaggregated"
   ]
  }
 ],
 "metadata": {
  "kernelspec": {
   "display_name": "Python 3 (ipykernel)",
   "language": "python",
   "name": "python3"
  },
  "language_info": {
   "codemirror_mode": {
    "name": "ipython",
    "version": 3
   },
   "file_extension": ".py",
   "mimetype": "text/x-python",
   "name": "python",
   "nbconvert_exporter": "python",
   "pygments_lexer": "ipython3",
   "version": "3.8.93.10.12"
  },
  "nbdime-conflicts": {
   "local_diff": [
    {
     "diff": [
      {
       "diff": [
        {
         "key": 0,
         "length": 1,
         "op": "removerange"
        }
       ],
       "key": "version",
       "op": "patch"
      }
     ],
     "key": "language_info",
     "op": "patch"
    }
   ],
   "remote_diff": [
    {
     "diff": [
      {
       "diff": [
        {
         "diff": [
          {
           "key": 6,
           "op": "addrange",
           "valuelist": "4"
          },
          {
           "key": 6,
           "length": 1,
           "op": "removerange"
          }
         ],
         "key": 0,
         "op": "patch"
        }
       ],
       "key": "version",
       "op": "patch"
      }
     ],
     "key": "language_info",
     "op": "patch"
    }
   ]
  }
 },
 "nbformat": 4,
 "nbformat_minor": 4
}
