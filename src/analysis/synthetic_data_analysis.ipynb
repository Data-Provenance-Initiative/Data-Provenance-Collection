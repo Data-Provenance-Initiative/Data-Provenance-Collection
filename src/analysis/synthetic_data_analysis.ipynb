{
 "cells": [
  {
   "cell_type": "code",
   "execution_count": 1,
   "id": "6ea5d2d9-0590-4833-94f2-5f99b75c0702",
   "metadata": {},
   "outputs": [],
   "source": [
    "import sys\n",
    "# Append system path\n",
    "sys.path = [p for p in sys.path if not p.endswith(\"../..\")]  # Cleans duplicated '../..\"\n",
    "sys.path.insert(0, \"../\")  # This adds `src` to the path\n",
    "\n",
    "import os\n",
    "import logging\n",
    "\n",
    "import pandas as pd\n",
    "import numpy as np\n",
    "\n",
    "from helpers import io\n",
    "from analysis import multimodal_util\n",
    "\n",
    "logging.basicConfig(level=logging.INFO, handlers=[logging.StreamHandler(stream=sys.stdout)])\n",
    "\n",
    "pd.set_option('display.float_format', lambda x: '%.3f' % x)"
   ]
  },
  {
   "cell_type": "markdown",
   "id": "8cc44d34-7bd5-447f-af0d-d451f224b15e",
   "metadata": {},
   "source": [
    "# Prep the data"
   ]
  },
  {
   "cell_type": "code",
   "execution_count": 2,
   "id": "b193a338-0808-47ee-92d7-3b84e77d067e",
   "metadata": {},
   "outputs": [
    {
     "name": "stdout",
     "output_type": "stream",
     "text": [
      "INFO:root:Checking Text Data Summaries against Constants\n",
      "INFO:root:Checking Speech Data Summaries against Constants\n",
      "INFO:root:Checking Video Data Summaries against Constants\n"
     ]
    }
   ],
   "source": [
    "# Whether and where to output plots\n",
    "PLOT_TOFILE = True\n",
    "PLOT_DIR = \"~/dpi-plotsmultimodal/\"\n",
    "PLOT_PPI = 300\n",
    "MAX_LABELLIMIT = 400 # Large number to avoid label summarization in plots\n",
    "\n",
    "PLOT_DIR = os.path.expanduser(PLOT_DIR)\n",
    "\n",
    "# Create directory if needed\n",
    "if PLOT_TOFILE:\n",
    "    os.makedirs(PLOT_DIR, exist_ok=True)\n",
    "\n",
    "# Plotting constants\n",
    "LICENSE_ORDER = [\"NC/Acad\", \"Unspecified\", \"Commercial\"]\n",
    "LICENSE_PALETTE = [\"#e04c71\", \"#e0cd92\", \"#82b5cf\"]\n",
    "LICENSE_TERMS_ORDER = [\n",
    "    \"NC/Acad | Model Closed\", \"NC/Acad | Source Closed\", \"NC/Acad | Unspecified\", \"NC/Acad | Unrestricted\",\n",
    "    \"Unspecified | Model Closed\", \"Unspecified | Source Closed\", \"Unspecified | Unspecified\", \"Unspecified | Unrestricted\",\n",
    "    \"Commercial | Model Closed\", \"Commercial | Source Closed\", \"Commercial | Unspecified\", \"Commercial | Unrestricted\",\n",
    "]\n",
    "LICENSE_TERMS_ORDER_VARIANT = [\n",
    "    \"NC/Acad | Restricted\", \"NC/Acad | Unspecified\", \"NC/Acad | Unrestricted\",\n",
    "    \"Unspecified | Restricted\", \"Unspecified | Unspecified\", \"Unspecified | Unrestricted\",\n",
    "    \"Commercial | Restricted\", \"Commercial | Unspecified\", \"Commercial | Unrestricted\"\n",
    "]\n",
    "LICENSE_TERMS_PALETTE = [\n",
    "    '#9d354f', '#c24262', '#e04c71',\n",
    "    '#9d9066', '#c2b27f', '#e0cd92',\n",
    "    '#5b7f91', '#719db3', '#82b5cf',\n",
    "]\n",
    "\n",
    "LICENSE_PLOTW = 400\n",
    "LICENSE_PLOTH = 100\n",
    "YEAR_CATEGORIES = [\"Unknown\", \"<2013\", *list(map(str, range(2013, 2025)))]\n",
    "\n",
    "# Read constants\n",
    "all_constants = io.read_all_constants(\"../../constants/\")\n",
    "\n",
    "# Read Terms data\n",
    "collection_to_terms_mapper = multimodal_util.load_terms_metadata(\"data/multimodal_terms_data\")\n",
    "\n",
    "# Read individual modality summaries\n",
    "text_summaries = io.read_data_summary_json(\"../../data_summaries/\")\n",
    "logging.info(\"Checking Text Data Summaries against Constants\")\n",
    "# analysis_util.check_datasummary_in_constants(text_summaries, all_constants)\n",
    "\n",
    "speech_summaries = io.read_data_summary_json(\"../../data_summaries-speech/\")\n",
    "logging.info(\"Checking Speech Data Summaries against Constants\")\n",
    "# analysis_util.check_datasummary_in_constants(speech_summaries, all_constants)\n",
    "\n",
    "video_summaries = io.read_data_summary_json(\"../../data_summaries-video/\")\n",
    "logging.info(\"Checking Video Data Summaries against Constants\")\n",
    "# analysis_util.check_datasummary_in_constants(video_summaries, all_constants)\n"
   ]
  },
  {
   "cell_type": "code",
   "execution_count": 3,
   "id": "93db0311-b54b-4a3e-95de-fe3921834f42",
   "metadata": {},
   "outputs": [],
   "source": [
    "def modality_task_annotation(df, modality, task_col, dset_col):\n",
    "    TASK_TYPEMAP = multimodal_util.invert_dict_of_lists(all_constants[\"TASK_GROUPS\"])\n",
    "    TASKCATEGORY_ORDER = sorted(set(TASK_TYPEMAP.values()) - {\"null\"})\n",
    "    df_speech = df[df['Modality'] == modality]\n",
    "        # Categorize the tasks into their respective groups\n",
    "    df_speech_tasks = multimodal_util.categorize_tasks(\n",
    "        df_speech, TASKCATEGORY_ORDER, TASK_TYPEMAP, task_col, modality, dset_col, False)\n",
    "    df_speech_tasks = df_speech_tasks[['Unique Dataset Identifier', task_col]]\n",
    "    df_speech_tasks = df_speech_tasks.rename(columns={task_col: 'Task Groups'})\n",
    "    df_speech_tasks_grouped = df_speech_tasks.groupby('Unique Dataset Identifier')['Task Groups'].apply(list).reset_index()\n",
    "    df_speech = pd.merge(df_speech, df_speech_tasks_grouped, on='Unique Dataset Identifier', how='inner')\n",
    "    return df_speech\n",
    "\n",
    "def get_terms_licenses(df):\n",
    "    LICENSE_TERMS_MODALITY_ORDER_2 = [\"Text (Collections)\", \"Text (Datasets)\", \"Speech\", \"Video\"]\n",
    "    \n",
    "    dflt = multimodal_util.plot_license_terms_stacked_bar_chart_collections(\n",
    "        df, \"License | Terms\", LICENSE_TERMS_PALETTE, LICENSE_TERMS_ORDER_VARIANT,\n",
    "        LICENSE_TERMS_MODALITY_ORDER_2, 800, 140,\n",
    "        # save_dir=PLOT_DIR,  # svg saving package compatibility issues, and you can save from the notebook anyway\n",
    "        plot_ppi=PLOT_PPI,\n",
    "        title=\"Dataset & Source Restrictions (Dataset Count)\",\n",
    "        no_legend=True,\n",
    "        split_text_mod=False,\n",
    "        return_df=True,\n",
    "        early_return=True,\n",
    "    )\n",
    "    dflt[['Dataset License', 'Collection Terms']] = dflt['License | Terms'].str.split('|', expand=True)\n",
    "    dflt['Dataset License'] = dflt['Dataset License'].str.strip()\n",
    "    dflt['Collection Terms'] = dflt['Collection Terms'].str.strip()\n",
    "    dflt = dflt[[\"Unique Dataset Identifier\", 'Dataset License', 'Collection Terms']]\n",
    "    return dflt\n",
    "\n",
    "def get_creators_info(df):\n",
    "    df_countries = df.explode(\"Countries\").dropna(subset=[\"Countries\"])  # Drop rows with no country for the moment\n",
    "    df_countries[\"Creator Country ID\"] = df_countries[\"Countries\"].map(multimodal_util.get_country)\n",
    "    df_countries_grouped = df_countries.groupby('Unique Dataset Identifier')['Creator Country ID'].apply(lambda x: [item for sublist in x for item in sublist]).reset_index()\n",
    "    df2 = pd.merge(df, df_countries_grouped, on='Unique Dataset Identifier', how='outer')\n",
    "    df2 = df2.rename(columns={\"Countries\": 'Creator Countries'})\n",
    "    return df2\n",
    "\n",
    "def get_langs_info(df):\n",
    "    _, df_text_lang_explode = multimodal_util.prep_text_for_lang_gini(df, all_constants)\n",
    "    df_text_lang_groups = df_text_lang_explode.groupby('Unique Dataset Identifier')['Language (ISO)'].apply(list).reset_index()\n",
    "    df_text_lang_groups2 = df_text_lang_explode.groupby('Unique Dataset Identifier')['Language Family'].apply(list).reset_index()\n",
    "    df_text_lang_combined = pd.merge(df_text_lang_groups, df_text_lang_groups2, on='Unique Dataset Identifier', how='outer')\n",
    "    _, df_speechlanguagesn = multimodal_util.prepare_speech_for_gini(df)\n",
    "    df_speech_lang_groups = df_speechlanguagesn.groupby('Unique Dataset Identifier')['Language (ISO)'].apply(list).reset_index()\n",
    "    df_speech_lang_groups2 = df_speechlanguagesn.groupby('Unique Dataset Identifier')['Language Family'].apply(list).reset_index()\n",
    "    df_speech_lang_combined = pd.merge(df_speech_lang_groups, df_speech_lang_groups2, on='Unique Dataset Identifier', how='outer')\n",
    "    df_langs_combined = pd.concat([df_text_lang_combined, df_speech_lang_combined])\n",
    "    return df_langs_combined"
   ]
  },
  {
   "cell_type": "code",
   "execution_count": 4,
   "id": "bbc561be-382e-43c3-b8e6-3fd3e53322f8",
   "metadata": {},
   "outputs": [],
   "source": [
    "# Prep dataframes\n",
    "df_all = multimodal_util.prep_summaries_for_visualization(\n",
    "    text_summaries,\n",
    "    speech_summaries,\n",
    "    video_summaries,\n",
    "    all_constants,\n",
    "    collection_to_terms_mapper,\n",
    "    YEAR_CATEGORIES,\n",
    "    LICENSE_ORDER,\n",
    ")"
   ]
  },
  {
   "cell_type": "code",
   "execution_count": 5,
   "id": "971a5397-af50-420a-87b8-6fe1cfaa2734",
   "metadata": {},
   "outputs": [
    {
     "name": "stderr",
     "output_type": "stream",
     "text": [
      "/u/wbrannon/github/Data-Provenance-Collection/src/analysis/../analysis/multimodal_util.py:2549: FutureWarning: The default of observed=False is deprecated and will be changed to True in a future version of pandas. Pass observed=False to retain current behavior or observed=True to adopt the future default and silence this warning.\n",
      "  df_spec_cum = df_spec.groupby(\n",
      "/u/wbrannon/github/Data-Provenance-Collection/src/analysis/../analysis/multimodal_util.py:2557: FutureWarning: The default of observed=False is deprecated and will be changed to True in a future version of pandas. Pass observed=False to retain current behavior or observed=True to adopt the future default and silence this warning.\n",
      "  df_spec_cum_gini = df_spec_cum.groupby(\"Year Released Category\")[\n",
      "/u/wbrannon/github/Data-Provenance-Collection/src/analysis/../analysis/multimodal_util.py:2549: FutureWarning: The default of observed=False is deprecated and will be changed to True in a future version of pandas. Pass observed=False to retain current behavior or observed=True to adopt the future default and silence this warning.\n",
      "  df_spec_cum = df_spec.groupby(\n",
      "/u/wbrannon/github/Data-Provenance-Collection/src/analysis/../analysis/multimodal_util.py:2557: FutureWarning: The default of observed=False is deprecated and will be changed to True in a future version of pandas. Pass observed=False to retain current behavior or observed=True to adopt the future default and silence this warning.\n",
      "  df_spec_cum_gini = df_spec_cum.groupby(\"Year Released Category\")[\n",
      "/u/wbrannon/github/Data-Provenance-Collection/src/analysis/../analysis/multimodal_util.py:2549: FutureWarning: The default of observed=False is deprecated and will be changed to True in a future version of pandas. Pass observed=False to retain current behavior or observed=True to adopt the future default and silence this warning.\n",
      "  df_spec_cum = df_spec.groupby(\n",
      "/u/wbrannon/github/Data-Provenance-Collection/src/analysis/../analysis/multimodal_util.py:2557: FutureWarning: The default of observed=False is deprecated and will be changed to True in a future version of pandas. Pass observed=False to retain current behavior or observed=True to adopt the future default and silence this warning.\n",
      "  df_spec_cum_gini = df_spec_cum.groupby(\"Year Released Category\")[\n",
      "/u/wbrannon/github/Data-Provenance-Collection/src/analysis/../analysis/multimodal_util.py:2549: FutureWarning: The default of observed=False is deprecated and will be changed to True in a future version of pandas. Pass observed=False to retain current behavior or observed=True to adopt the future default and silence this warning.\n",
      "  df_spec_cum = df_spec.groupby(\n",
      "/u/wbrannon/github/Data-Provenance-Collection/src/analysis/../analysis/multimodal_util.py:2557: FutureWarning: The default of observed=False is deprecated and will be changed to True in a future version of pandas. Pass observed=False to retain current behavior or observed=True to adopt the future default and silence this warning.\n",
      "  df_spec_cum_gini = df_spec_cum.groupby(\"Year Released Category\")[\n"
     ]
    }
   ],
   "source": [
    "df_speech = modality_task_annotation(df_all, \"Speech\", \"Tasks\", \"Datasets\")\n",
    "df_video = modality_task_annotation(df_all, \"Video\", \"Task Categories\", \"Datasets\")\n",
    "df_text = modality_task_annotation(df_all, \"Text\", \"Task Categories\", \"Collections\")\n",
    "df_w_tasks = pd.concat([df_text, df_speech, df_video])\n",
    "\n",
    "df_w_creators = get_creators_info(df_all)\n",
    "\n",
    "df_w_langs = get_langs_info(df_all)\n",
    "\n",
    "df_w_licterms = get_terms_licenses(df_all)\n",
    "\n",
    "df_merged = pd.merge(df_all, df_w_tasks, on='Unique Dataset Identifier', how='outer')\n",
    "df_merged = pd.merge(df_merged, df_w_creators, on='Unique Dataset Identifier', how='outer')\n",
    "df_merged = pd.merge(df_merged, df_w_langs, on='Unique Dataset Identifier', how='outer')\n",
    "df_merged = pd.merge(df_merged, df_w_licterms, on='Unique Dataset Identifier', how='outer')"
   ]
  },
  {
   "cell_type": "code",
   "execution_count": 6,
   "id": "049ddf24-050f-430a-a784-31ed66b645c4",
   "metadata": {},
   "outputs": [
    {
     "name": "stderr",
     "output_type": "stream",
     "text": [
      "/tmp/ipykernel_3787714/491733313.py:45: SettingWithCopyWarning: \n",
      "A value is trying to be set on a copy of a slice from a DataFrame.\n",
      "Try using .loc[row_indexer,col_indexer] = value instead\n",
      "\n",
      "See the caveats in the documentation: https://pandas.pydata.org/pandas-docs/stable/user_guide/indexing.html#returning-a-view-versus-a-copy\n",
      "  df['Model Generated'] = df['Model Generated'].apply(lambda y: np.nan if len(y)==0 else y)\n",
      "/tmp/ipykernel_3787714/491733313.py:46: FutureWarning: Downcasting behavior in `replace` is deprecated and will be removed in a future version. To retain the old behavior, explicitly call `result.infer_objects(copy=False)`. To opt-in to the future behavior, set `pd.set_option('future.no_silent_downcasting', True)`\n",
      "  df['Year Released'] = df['Year Released'].replace('Unknown', np.nan)\n",
      "/tmp/ipykernel_3787714/491733313.py:46: SettingWithCopyWarning: \n",
      "A value is trying to be set on a copy of a slice from a DataFrame.\n",
      "Try using .loc[row_indexer,col_indexer] = value instead\n",
      "\n",
      "See the caveats in the documentation: https://pandas.pydata.org/pandas-docs/stable/user_guide/indexing.html#returning-a-view-versus-a-copy\n",
      "  df['Year Released'] = df['Year Released'].replace('Unknown', np.nan)\n",
      "/tmp/ipykernel_3787714/491733313.py:47: SettingWithCopyWarning: \n",
      "A value is trying to be set on a copy of a slice from a DataFrame.\n",
      "Try using .loc[row_indexer,col_indexer] = value instead\n",
      "\n",
      "See the caveats in the documentation: https://pandas.pydata.org/pandas-docs/stable/user_guide/indexing.html#returning-a-view-versus-a-copy\n",
      "  df['is_synthetic'] = df['Model Generated'].notna()\n"
     ]
    },
    {
     "data": {
      "text/plain": [
       "(3932, 21)"
      ]
     },
     "execution_count": 6,
     "metadata": {},
     "output_type": "execute_result"
    }
   ],
   "source": [
    "df = df_merged[[\n",
    "    'Unique Dataset Identifier',\n",
    "    'Dataset Name',\n",
    "    # 'Paper Title',\n",
    "     #'Dataset URL',\n",
    "    # 'GitHub URL',\n",
    "    # 'Hugging Face URL',\n",
    "    # 'Papers with Code URL',\n",
    "    # 'ArXiv URL',\n",
    "    # 'Semantic Scholar Corpus ID',\n",
    "    'Collection',\n",
    "     #'Collection URL',\n",
    "    'Text Sources',\n",
    "    'Model Generated',\n",
    "    'Human Annotation',\n",
    "    'Derived from Datasets',\n",
    "    'Creators',\n",
    "    # 'Licenses',\n",
    "    # 'Bibtex',\n",
    "    'Inferred Metadata',\n",
    "    'Text Metrics',\n",
    "    # 'GitHub License',\n",
    "    # 'HF Yaml License',\n",
    "    # 'HF Config License',\n",
    "    # 'PwC License',\n",
    "    # 'License Use (DataProvenance)',\n",
    "    # 'License Attribution (DataProvenance)',\n",
    "    # 'License Share Alike (DataProvenance)',\n",
    "    'Modality',\n",
    "    'Total Tokens',\n",
    "    'Year Released',\n",
    "    # 'Hours',\n",
    "    # 'Speakers',\n",
    "    'Source Category',\n",
    "    # 'Paper URL',\n",
    "    # 'Website URL',\n",
    "    'Language (ISO)',\n",
    "    'Language Family',\n",
    "    'Task Groups',\n",
    "    'Dataset License',\n",
    "    'Collection Terms',\n",
    "    'Creator Countries',                  \n",
    "]]\n",
    "\n",
    "df['Model Generated'] = df['Model Generated'].apply(lambda y: np.nan if len(y)==0 else y)\n",
    "df['Year Released'] = df['Year Released'].replace('Unknown', np.nan)\n",
    "df['is_synthetic'] = df['Model Generated'].notna()\n",
    "\n",
    "# df.to_csv(\"multimodal_df.csv\", index=False)\n",
    "\n",
    "df.shape"
   ]
  },
  {
   "cell_type": "code",
   "execution_count": 7,
   "id": "35b7d1f3-e790-45b0-b770-59c52cd10b70",
   "metadata": {},
   "outputs": [
    {
     "data": {
      "text/html": [
       "<div>\n",
       "<style scoped>\n",
       "    .dataframe tbody tr th:only-of-type {\n",
       "        vertical-align: middle;\n",
       "    }\n",
       "\n",
       "    .dataframe tbody tr th {\n",
       "        vertical-align: top;\n",
       "    }\n",
       "\n",
       "    .dataframe thead th {\n",
       "        text-align: right;\n",
       "    }\n",
       "</style>\n",
       "<table border=\"1\" class=\"dataframe\">\n",
       "  <thead>\n",
       "    <tr style=\"text-align: right;\">\n",
       "      <th></th>\n",
       "      <th>0</th>\n",
       "      <th>1</th>\n",
       "      <th>2</th>\n",
       "      <th>3</th>\n",
       "      <th>4</th>\n",
       "    </tr>\n",
       "  </thead>\n",
       "  <tbody>\n",
       "    <tr>\n",
       "      <th>Unique Dataset Identifier</th>\n",
       "      <td>100doh</td>\n",
       "      <td>10k Prompt Ranked</td>\n",
       "      <td>1111-hours-hindi-asr-challenge</td>\n",
       "      <td>120h-spanish-speech</td>\n",
       "      <td>20BN-jester</td>\n",
       "    </tr>\n",
       "    <tr>\n",
       "      <th>Dataset Name</th>\n",
       "      <td>100DOH: Understanding Human Hands in Contact a...</td>\n",
       "      <td>10k Prompts Ranked</td>\n",
       "      <td>1111-hours-hindi-asr-challenge</td>\n",
       "      <td>120h-spanish-speech</td>\n",
       "      <td>20BN-jester: The Jester Dataset: A Large-Scale...</td>\n",
       "    </tr>\n",
       "    <tr>\n",
       "      <th>Collection</th>\n",
       "      <td>100doh</td>\n",
       "      <td>10k Prompt Ranked</td>\n",
       "      <td>1111 Hours Hindi ASR Challenge</td>\n",
       "      <td>120h Spanish Speech</td>\n",
       "      <td>20BN-jester</td>\n",
       "    </tr>\n",
       "    <tr>\n",
       "      <th>Text Sources</th>\n",
       "      <td>[youtube]</td>\n",
       "      <td>[sharegpt.com, crowdsourced, chat.lmsys.org, w...</td>\n",
       "      <td>NaN</td>\n",
       "      <td>NaN</td>\n",
       "      <td>[crowdsourced]</td>\n",
       "    </tr>\n",
       "    <tr>\n",
       "      <th>Model Generated</th>\n",
       "      <td>NaN</td>\n",
       "      <td>[Nous-Hermes-2-Yi-34B, Mistral-7B-Instruct-v0....</td>\n",
       "      <td>NaN</td>\n",
       "      <td>NaN</td>\n",
       "      <td>NaN</td>\n",
       "    </tr>\n",
       "    <tr>\n",
       "      <th>Human Annotation</th>\n",
       "      <td>NaN</td>\n",
       "      <td>Yes</td>\n",
       "      <td>NaN</td>\n",
       "      <td>NaN</td>\n",
       "      <td>NaN</td>\n",
       "    </tr>\n",
       "    <tr>\n",
       "      <th>Derived from Datasets</th>\n",
       "      <td>NaN</td>\n",
       "      <td>[huggingface.co/datasets/ewof/sharegpt-instruc...</td>\n",
       "      <td>NaN</td>\n",
       "      <td>NaN</td>\n",
       "      <td>NaN</td>\n",
       "    </tr>\n",
       "    <tr>\n",
       "      <th>Creators</th>\n",
       "      <td>[University of Michigan, Johns Hopkins Univers...</td>\n",
       "      <td>[Huggingface, Argilla]</td>\n",
       "      <td>[Gram Vaani]</td>\n",
       "      <td>[Independent]</td>\n",
       "      <td>[Twenty Billion Neurons GmbH]</td>\n",
       "    </tr>\n",
       "    <tr>\n",
       "      <th>Inferred Metadata</th>\n",
       "      <td>{'GitHub License': 'MIT License', 'GitHub Star...</td>\n",
       "      <td>{'GitHub License': '', 'GitHub Stars (May 2024...</td>\n",
       "      <td>{'GitHub License': '', 'GitHub Stars (June 202...</td>\n",
       "      <td>{'GitHub License': '', 'GitHub Stars (June 202...</td>\n",
       "      <td>{'GitHub License': '', 'GitHub Stars (June 202...</td>\n",
       "    </tr>\n",
       "    <tr>\n",
       "      <th>Text Metrics</th>\n",
       "      <td>NaN</td>\n",
       "      <td>{'Num Dialogs': 10331, 'Mean Inputs Length': 1...</td>\n",
       "      <td>NaN</td>\n",
       "      <td>NaN</td>\n",
       "      <td>NaN</td>\n",
       "    </tr>\n",
       "    <tr>\n",
       "      <th>Modality</th>\n",
       "      <td>Video</td>\n",
       "      <td>Text</td>\n",
       "      <td>Speech</td>\n",
       "      <td>Speech</td>\n",
       "      <td>Video</td>\n",
       "    </tr>\n",
       "    <tr>\n",
       "      <th>Total Tokens</th>\n",
       "      <td>NaN</td>\n",
       "      <td>25489062.639</td>\n",
       "      <td>NaN</td>\n",
       "      <td>NaN</td>\n",
       "      <td>NaN</td>\n",
       "    </tr>\n",
       "    <tr>\n",
       "      <th>Year Released</th>\n",
       "      <td>2020.000</td>\n",
       "      <td>2024.000</td>\n",
       "      <td>2022.000</td>\n",
       "      <td>2019.000</td>\n",
       "      <td>2019.000</td>\n",
       "    </tr>\n",
       "    <tr>\n",
       "      <th>Source Category</th>\n",
       "      <td>[youtube]</td>\n",
       "      <td>[General Web, Human, General Web, Encyclopedia...</td>\n",
       "      <td>[Calling Platform]</td>\n",
       "      <td>[Audiobooks]</td>\n",
       "      <td>[crowdsourced]</td>\n",
       "    </tr>\n",
       "    <tr>\n",
       "      <th>Language (ISO)</th>\n",
       "      <td>NaN</td>\n",
       "      <td>[eng]</td>\n",
       "      <td>[hi]</td>\n",
       "      <td>[es]</td>\n",
       "      <td>NaN</td>\n",
       "    </tr>\n",
       "    <tr>\n",
       "      <th>Language Family</th>\n",
       "      <td>NaN</td>\n",
       "      <td>[Indo-European]</td>\n",
       "      <td>[Indo-European]</td>\n",
       "      <td>[Indo-European]</td>\n",
       "      <td>NaN</td>\n",
       "    </tr>\n",
       "    <tr>\n",
       "      <th>Task Groups</th>\n",
       "      <td>[Other]</td>\n",
       "      <td>[Creativity, Code, Code, Code, Code, Creativit...</td>\n",
       "      <td>[Speech Recognition]</td>\n",
       "      <td>[Speech Recognition]</td>\n",
       "      <td>[Classification]</td>\n",
       "    </tr>\n",
       "    <tr>\n",
       "      <th>Dataset License</th>\n",
       "      <td>NC/Acad</td>\n",
       "      <td>Unspecified</td>\n",
       "      <td>NC/Acad</td>\n",
       "      <td>Commercial</td>\n",
       "      <td>Commercial</td>\n",
       "    </tr>\n",
       "    <tr>\n",
       "      <th>Collection Terms</th>\n",
       "      <td>Restricted</td>\n",
       "      <td>Restricted</td>\n",
       "      <td>Unrestricted</td>\n",
       "      <td>Unspecified</td>\n",
       "      <td>Unrestricted</td>\n",
       "    </tr>\n",
       "    <tr>\n",
       "      <th>Creator Countries</th>\n",
       "      <td>[United States of America]</td>\n",
       "      <td>[United States of America, Spain]</td>\n",
       "      <td>[India]</td>\n",
       "      <td>[Spain]</td>\n",
       "      <td>[Germany]</td>\n",
       "    </tr>\n",
       "    <tr>\n",
       "      <th>is_synthetic</th>\n",
       "      <td>False</td>\n",
       "      <td>True</td>\n",
       "      <td>False</td>\n",
       "      <td>False</td>\n",
       "      <td>False</td>\n",
       "    </tr>\n",
       "  </tbody>\n",
       "</table>\n",
       "</div>"
      ],
      "text/plain": [
       "                                                                           0  \\\n",
       "Unique Dataset Identifier                                             100doh   \n",
       "Dataset Name               100DOH: Understanding Human Hands in Contact a...   \n",
       "Collection                                                            100doh   \n",
       "Text Sources                                                       [youtube]   \n",
       "Model Generated                                                          NaN   \n",
       "Human Annotation                                                         NaN   \n",
       "Derived from Datasets                                                    NaN   \n",
       "Creators                   [University of Michigan, Johns Hopkins Univers...   \n",
       "Inferred Metadata          {'GitHub License': 'MIT License', 'GitHub Star...   \n",
       "Text Metrics                                                             NaN   \n",
       "Modality                                                               Video   \n",
       "Total Tokens                                                             NaN   \n",
       "Year Released                                                       2020.000   \n",
       "Source Category                                                    [youtube]   \n",
       "Language (ISO)                                                           NaN   \n",
       "Language Family                                                          NaN   \n",
       "Task Groups                                                          [Other]   \n",
       "Dataset License                                                      NC/Acad   \n",
       "Collection Terms                                                  Restricted   \n",
       "Creator Countries                                 [United States of America]   \n",
       "is_synthetic                                                           False   \n",
       "\n",
       "                                                                           1  \\\n",
       "Unique Dataset Identifier                                  10k Prompt Ranked   \n",
       "Dataset Name                                              10k Prompts Ranked   \n",
       "Collection                                                 10k Prompt Ranked   \n",
       "Text Sources               [sharegpt.com, crowdsourced, chat.lmsys.org, w...   \n",
       "Model Generated            [Nous-Hermes-2-Yi-34B, Mistral-7B-Instruct-v0....   \n",
       "Human Annotation                                                         Yes   \n",
       "Derived from Datasets      [huggingface.co/datasets/ewof/sharegpt-instruc...   \n",
       "Creators                                              [Huggingface, Argilla]   \n",
       "Inferred Metadata          {'GitHub License': '', 'GitHub Stars (May 2024...   \n",
       "Text Metrics               {'Num Dialogs': 10331, 'Mean Inputs Length': 1...   \n",
       "Modality                                                                Text   \n",
       "Total Tokens                                                    25489062.639   \n",
       "Year Released                                                       2024.000   \n",
       "Source Category            [General Web, Human, General Web, Encyclopedia...   \n",
       "Language (ISO)                                                         [eng]   \n",
       "Language Family                                              [Indo-European]   \n",
       "Task Groups                [Creativity, Code, Code, Code, Code, Creativit...   \n",
       "Dataset License                                                  Unspecified   \n",
       "Collection Terms                                                  Restricted   \n",
       "Creator Countries                          [United States of America, Spain]   \n",
       "is_synthetic                                                            True   \n",
       "\n",
       "                                                                           2  \\\n",
       "Unique Dataset Identifier                     1111-hours-hindi-asr-challenge   \n",
       "Dataset Name                                  1111-hours-hindi-asr-challenge   \n",
       "Collection                                    1111 Hours Hindi ASR Challenge   \n",
       "Text Sources                                                             NaN   \n",
       "Model Generated                                                          NaN   \n",
       "Human Annotation                                                         NaN   \n",
       "Derived from Datasets                                                    NaN   \n",
       "Creators                                                        [Gram Vaani]   \n",
       "Inferred Metadata          {'GitHub License': '', 'GitHub Stars (June 202...   \n",
       "Text Metrics                                                             NaN   \n",
       "Modality                                                              Speech   \n",
       "Total Tokens                                                             NaN   \n",
       "Year Released                                                       2022.000   \n",
       "Source Category                                           [Calling Platform]   \n",
       "Language (ISO)                                                          [hi]   \n",
       "Language Family                                              [Indo-European]   \n",
       "Task Groups                                             [Speech Recognition]   \n",
       "Dataset License                                                      NC/Acad   \n",
       "Collection Terms                                                Unrestricted   \n",
       "Creator Countries                                                    [India]   \n",
       "is_synthetic                                                           False   \n",
       "\n",
       "                                                                           3  \\\n",
       "Unique Dataset Identifier                                120h-spanish-speech   \n",
       "Dataset Name                                             120h-spanish-speech   \n",
       "Collection                                               120h Spanish Speech   \n",
       "Text Sources                                                             NaN   \n",
       "Model Generated                                                          NaN   \n",
       "Human Annotation                                                         NaN   \n",
       "Derived from Datasets                                                    NaN   \n",
       "Creators                                                       [Independent]   \n",
       "Inferred Metadata          {'GitHub License': '', 'GitHub Stars (June 202...   \n",
       "Text Metrics                                                             NaN   \n",
       "Modality                                                              Speech   \n",
       "Total Tokens                                                             NaN   \n",
       "Year Released                                                       2019.000   \n",
       "Source Category                                                 [Audiobooks]   \n",
       "Language (ISO)                                                          [es]   \n",
       "Language Family                                              [Indo-European]   \n",
       "Task Groups                                             [Speech Recognition]   \n",
       "Dataset License                                                   Commercial   \n",
       "Collection Terms                                                 Unspecified   \n",
       "Creator Countries                                                    [Spain]   \n",
       "is_synthetic                                                           False   \n",
       "\n",
       "                                                                           4  \n",
       "Unique Dataset Identifier                                        20BN-jester  \n",
       "Dataset Name               20BN-jester: The Jester Dataset: A Large-Scale...  \n",
       "Collection                                                       20BN-jester  \n",
       "Text Sources                                                  [crowdsourced]  \n",
       "Model Generated                                                          NaN  \n",
       "Human Annotation                                                         NaN  \n",
       "Derived from Datasets                                                    NaN  \n",
       "Creators                                       [Twenty Billion Neurons GmbH]  \n",
       "Inferred Metadata          {'GitHub License': '', 'GitHub Stars (June 202...  \n",
       "Text Metrics                                                             NaN  \n",
       "Modality                                                               Video  \n",
       "Total Tokens                                                             NaN  \n",
       "Year Released                                                       2019.000  \n",
       "Source Category                                               [crowdsourced]  \n",
       "Language (ISO)                                                           NaN  \n",
       "Language Family                                                          NaN  \n",
       "Task Groups                                                 [Classification]  \n",
       "Dataset License                                                   Commercial  \n",
       "Collection Terms                                                Unrestricted  \n",
       "Creator Countries                                                  [Germany]  \n",
       "is_synthetic                                                           False  "
      ]
     },
     "execution_count": 7,
     "metadata": {},
     "output_type": "execute_result"
    }
   ],
   "source": [
    "df.head().T"
   ]
  },
  {
   "cell_type": "markdown",
   "id": "bd378f17-5c09-4bf8-b121-371f0a26237c",
   "metadata": {},
   "source": [
    "# Descriptive stats"
   ]
  },
  {
   "cell_type": "markdown",
   "id": "bc8077e2-4c03-4821-a4b0-eafa611541ba",
   "metadata": {},
   "source": [
    "## Distribution of datasets over time"
   ]
  },
  {
   "cell_type": "code",
   "execution_count": 8,
   "id": "a2df6b5c-ccf3-42f6-aa6b-9484a15e1c41",
   "metadata": {},
   "outputs": [
    {
     "data": {
      "text/plain": [
       "Year Released\n",
       "1990.000       1\n",
       "1992.000       1\n",
       "1994.000       1\n",
       "2000.000       1\n",
       "2002.000       2\n",
       "2003.000       5\n",
       "2004.000       6\n",
       "2005.000       3\n",
       "2007.000       5\n",
       "2008.000       1\n",
       "2009.000       4\n",
       "2010.000       7\n",
       "2011.000      11\n",
       "2012.000      31\n",
       "2013.000      13\n",
       "2014.000      13\n",
       "2015.000      63\n",
       "2016.000      45\n",
       "2017.000      51\n",
       "2018.000      90\n",
       "2019.000     406\n",
       "2020.000     456\n",
       "2021.000    1081\n",
       "2022.000     628\n",
       "2023.000     716\n",
       "2024.000     105\n",
       "dtype: int64"
      ]
     },
     "execution_count": 8,
     "metadata": {},
     "output_type": "execute_result"
    }
   ],
   "source": [
    "df.groupby('Year Released').size()"
   ]
  },
  {
   "cell_type": "code",
   "execution_count": 9,
   "id": "fa36da29-45e4-4298-93e4-fc0b92f6a977",
   "metadata": {},
   "outputs": [
    {
     "data": {
      "text/plain": [
       "<Axes: xlabel='Year Released'>"
      ]
     },
     "execution_count": 9,
     "metadata": {},
     "output_type": "execute_result"
    },
    {
     "data": {
      "image/png": "[encoded data removed]",
      "text/plain": [
       "<Figure size 640x480 with 1 Axes>"
      ]
     },
     "metadata": {},
     "output_type": "display_data"
    }
   ],
   "source": [
    "df.groupby('Year Released').size().plot()"
   ]
  },
  {
   "cell_type": "code",
   "execution_count": 10,
   "id": "571a3a35-9e09-4c2c-b9d2-9a3b42cfef0c",
   "metadata": {},
   "outputs": [
    {
     "data": {
      "text/plain": [
       "array([<Axes: xlabel='Year Released'>, <Axes: xlabel='Year Released'>,\n",
       "       <Axes: xlabel='Year Released'>], dtype=object)"
      ]
     },
     "execution_count": 10,
     "metadata": {},
     "output_type": "execute_result"
    },
    {
     "data": {
      "image/png": "[encoded data removed]",
      "text/plain": [
       "<Figure size 640x480 with 3 Axes>"
      ]
     },
     "metadata": {},
     "output_type": "display_data"
    }
   ],
   "source": [
    "df.groupby(['Modality', 'Year Released']).size().unstack(0).drop([2024], axis=0).plot(subplots=True)"
   ]
  },
  {
   "cell_type": "markdown",
   "id": "fea3b21e-ebae-4197-835c-59baa0597a95",
   "metadata": {},
   "source": [
    "## Distribution of synthetic data"
   ]
  },
  {
   "cell_type": "code",
   "execution_count": 11,
   "id": "757a1d48-dd7e-4e17-96e4-8671893b3b53",
   "metadata": {},
   "outputs": [
    {
     "data": {
      "text/plain": [
       "0.12538148524923703"
      ]
     },
     "execution_count": 11,
     "metadata": {},
     "output_type": "execute_result"
    }
   ],
   "source": [
    "df['is_synthetic'].mean()"
   ]
  },
  {
   "cell_type": "code",
   "execution_count": 12,
   "id": "0834c2fa-ef39-4bc7-b71f-43c579848d46",
   "metadata": {},
   "outputs": [
    {
     "data": {
      "text/plain": [
       "Modality\n",
       "Speech   0.000\n",
       "Text     0.132\n",
       "Video    0.000\n",
       "Name: is_synthetic, dtype: float64"
      ]
     },
     "execution_count": 12,
     "metadata": {},
     "output_type": "execute_result"
    }
   ],
   "source": [
    "df.groupby('Modality')['is_synthetic'].mean()"
   ]
  },
  {
   "cell_type": "markdown",
   "id": "ce9c96da-2e8b-41c3-ae8e-822db5ad143b",
   "metadata": {},
   "source": [
    "# Focusing only on text"
   ]
  },
  {
   "cell_type": "code",
   "execution_count": 13,
   "id": "24e4a613-3790-4308-bcae-3233c1ca43d2",
   "metadata": {},
   "outputs": [
    {
     "name": "stderr",
     "output_type": "stream",
     "text": [
      "/tmp/ipykernel_3787714/2490481326.py:19: FutureWarning: Downcasting behavior in `replace` is deprecated and will be removed in a future version. To retain the old behavior, explicitly call `result.infer_objects(copy=False)`. To opt-in to the future behavior, set `pd.set_option('future.no_silent_downcasting', True)`\n",
      "  tmp['S2 Citation Count (May 2024)'] = tmp['S2 Citation Count (May 2024)'].replace('', np.nan)\n",
      "/tmp/ipykernel_3787714/2490481326.py:20: FutureWarning: Downcasting behavior in `replace` is deprecated and will be removed in a future version. To retain the old behavior, explicitly call `result.infer_objects(copy=False)`. To opt-in to the future behavior, set `pd.set_option('future.no_silent_downcasting', True)`\n",
      "  tmp['HF Downloads (June 2024)'] = tmp['HF Downloads (June 2024)'].replace('', np.nan)\n"
     ]
    }
   ],
   "source": [
    "tmp = df.loc[df['Modality'] == 'Text'].drop('Modality', axis=1).copy()\n",
    "\n",
    "tm_names = df['Text Metrics'].apply(lambda s: list(s.keys()) if not isinstance(s, float) else []).tolist()\n",
    "tm_names = [y for x in tm_names for y in x]\n",
    "tm_names = set(tm_names)\n",
    "\n",
    "for name in tm_names:\n",
    "    tmp[name] = tmp['Text Metrics'].apply(lambda s: s[name] if not isinstance(s, float) else np.nan)\n",
    "\n",
    "im_names = df['Inferred Metadata'].apply(lambda s: list(s.keys()) if not isinstance(s, float) else []).tolist()\n",
    "im_names = [y for x in im_names for y in x]\n",
    "im_names = set(im_names)\n",
    "\n",
    "for name in im_names:\n",
    "    tmp[name] = tmp['Inferred Metadata'].apply(lambda s: s[name] if not isinstance(s, float) and name in s.keys() else np.nan)\n",
    "\n",
    "tmp.drop(['Text Metrics', 'Inferred Metadata'], axis=1, inplace=True)\n",
    "\n",
    "tmp['S2 Citation Count (May 2024)'] = tmp['S2 Citation Count (May 2024)'].replace('', np.nan)\n",
    "tmp['HF Downloads (June 2024)'] = tmp['HF Downloads (June 2024)'].replace('', np.nan)\n",
    "\n",
    "tmp['citations_per_year'] = (tmp['S2 Citation Count (May 2024)'] / (2024 - tmp['Year Released'])).replace(np.inf, np.nan)\n",
    "tmp['downloads_per_year'] = tmp['HF Downloads (June 2024)'] / (2024 - tmp['Year Released']).replace(np.inf, np.nan)\n",
    "\n",
    "tmp['Total Turns'] = tmp['Num Dialogs'] * tmp['Mean Dialog Turns']\n",
    "tmp['Mean Turn Length'] = tmp['Total Tokens'] / tmp['Total Turns']\n",
    "\n",
    "def english_status(s):\n",
    "    if isinstance(s, float):\n",
    "        return np.nan\n",
    "\n",
    "    if len(s) == 1 and 'eng' in s:\n",
    "        return 'english-only'\n",
    "\n",
    "    if len(s) == 1:\n",
    "        return 'non-english'\n",
    "\n",
    "    return 'multilingual'\n",
    "\n",
    "tmp['english_status'] = tmp['Language (ISO)'].apply(english_status)"
   ]
  },
  {
   "cell_type": "markdown",
   "id": "fd7f70b8-7609-42cc-b71d-5a71a3087ea1",
   "metadata": {},
   "source": [
    "## Size stats"
   ]
  },
  {
   "cell_type": "code",
   "execution_count": 14,
   "id": "2cf05948-0e63-448d-a2fe-d6cfede1e43e",
   "metadata": {},
   "outputs": [
    {
     "data": {
      "text/plain": [
       "is_synthetic\n",
       "False    3239\n",
       "True      493\n",
       "dtype: int64"
      ]
     },
     "execution_count": 14,
     "metadata": {},
     "output_type": "execute_result"
    }
   ],
   "source": [
    "tmp.groupby('is_synthetic').size()"
   ]
  },
  {
   "cell_type": "code",
   "execution_count": 15,
   "id": "1341c44f-a0fb-45b2-bb9b-291331364e0e",
   "metadata": {},
   "outputs": [
    {
     "data": {
      "text/html": [
       "<div>\n",
       "<style scoped>\n",
       "    .dataframe tbody tr th:only-of-type {\n",
       "        vertical-align: middle;\n",
       "    }\n",
       "\n",
       "    .dataframe tbody tr th {\n",
       "        vertical-align: top;\n",
       "    }\n",
       "\n",
       "    .dataframe thead th {\n",
       "        text-align: right;\n",
       "    }\n",
       "</style>\n",
       "<table border=\"1\" class=\"dataframe\">\n",
       "  <thead>\n",
       "    <tr style=\"text-align: right;\">\n",
       "      <th>is_synthetic</th>\n",
       "      <th>False</th>\n",
       "      <th>True</th>\n",
       "    </tr>\n",
       "  </thead>\n",
       "  <tbody>\n",
       "    <tr>\n",
       "      <th>count</th>\n",
       "      <td>3223.000</td>\n",
       "      <td>424.000</td>\n",
       "    </tr>\n",
       "    <tr>\n",
       "      <th>mean</th>\n",
       "      <td>612847629.804</td>\n",
       "      <td>258495771.104</td>\n",
       "    </tr>\n",
       "    <tr>\n",
       "      <th>std</th>\n",
       "      <td>4417490032.906</td>\n",
       "      <td>1205606564.650</td>\n",
       "    </tr>\n",
       "    <tr>\n",
       "      <th>min</th>\n",
       "      <td>398.000</td>\n",
       "      <td>2396.000</td>\n",
       "    </tr>\n",
       "    <tr>\n",
       "      <th>25%</th>\n",
       "      <td>355576.000</td>\n",
       "      <td>665018.076</td>\n",
       "    </tr>\n",
       "    <tr>\n",
       "      <th>50%</th>\n",
       "      <td>1217648.000</td>\n",
       "      <td>9088187.838</td>\n",
       "    </tr>\n",
       "    <tr>\n",
       "      <th>75%</th>\n",
       "      <td>11587344.000</td>\n",
       "      <td>77660867.964</td>\n",
       "    </tr>\n",
       "    <tr>\n",
       "      <th>max</th>\n",
       "      <td>58136100000.000</td>\n",
       "      <td>18249124438.035</td>\n",
       "    </tr>\n",
       "  </tbody>\n",
       "</table>\n",
       "</div>"
      ],
      "text/plain": [
       "is_synthetic           False           True \n",
       "count               3223.000         424.000\n",
       "mean           612847629.804   258495771.104\n",
       "std           4417490032.906  1205606564.650\n",
       "min                  398.000        2396.000\n",
       "25%               355576.000      665018.076\n",
       "50%              1217648.000     9088187.838\n",
       "75%             11587344.000    77660867.964\n",
       "max          58136100000.000 18249124438.035"
      ]
     },
     "execution_count": 15,
     "metadata": {},
     "output_type": "execute_result"
    }
   ],
   "source": [
    "tmp.groupby('is_synthetic')['Total Tokens'].describe().T"
   ]
  },
  {
   "cell_type": "markdown",
   "id": "a9adc785-b737-49f0-bc70-5074aa006a75",
   "metadata": {},
   "source": [
    "## Token-level stats"
   ]
  },
  {
   "cell_type": "code",
   "execution_count": 16,
   "id": "ac2dd11d-7cec-493b-8cf3-605d015d5441",
   "metadata": {},
   "outputs": [
    {
     "data": {
      "text/plain": [
       "1032.7442422442878"
      ]
     },
     "execution_count": 16,
     "metadata": {},
     "output_type": "execute_result"
    }
   ],
   "source": [
    "tmp['Total Tokens'].sum() / tmp['Total Turns'].sum()"
   ]
  },
  {
   "cell_type": "code",
   "execution_count": 17,
   "id": "49caea98-c07a-428f-8e65-a3d836383719",
   "metadata": {},
   "outputs": [
    {
     "data": {
      "text/plain": [
       "256380.515903066"
      ]
     },
     "execution_count": 17,
     "metadata": {},
     "output_type": "execute_result"
    }
   ],
   "source": [
    "tmp.loc[tmp['is_synthetic'] == True, 'Total Turns'].mean()"
   ]
  },
  {
   "cell_type": "code",
   "execution_count": 18,
   "id": "22d2c873-2847-4662-9f50-833cc09635a4",
   "metadata": {},
   "outputs": [
    {
     "data": {
      "text/plain": [
       "592616.7179247285"
      ]
     },
     "execution_count": 18,
     "metadata": {},
     "output_type": "execute_result"
    }
   ],
   "source": [
    "tmp.loc[tmp['is_synthetic'] == False, 'Total Turns'].mean()"
   ]
  },
  {
   "cell_type": "code",
   "execution_count": 19,
   "id": "01056fa2-02ea-42a0-8333-d5f79270936d",
   "metadata": {},
   "outputs": [
    {
     "data": {
      "text/plain": [
       "1008.250452238093"
      ]
     },
     "execution_count": 19,
     "metadata": {},
     "output_type": "execute_result"
    }
   ],
   "source": [
    "tmp.loc[tmp['is_synthetic'] == True, 'Total Tokens'].sum() / tmp.loc[tmp['is_synthetic'] == True, 'Total Turns'].sum()"
   ]
  },
  {
   "cell_type": "code",
   "execution_count": 20,
   "id": "613b1d62-8cea-4191-b267-addebaed7bfd",
   "metadata": {},
   "outputs": [
    {
     "data": {
      "text/plain": [
       "1034.138273975741"
      ]
     },
     "execution_count": 20,
     "metadata": {},
     "output_type": "execute_result"
    }
   ],
   "source": [
    "tmp.loc[tmp['is_synthetic'] == False, 'Total Tokens'].sum() / tmp.loc[tmp['is_synthetic'] == False, 'Total Turns'].sum()"
   ]
  },
  {
   "cell_type": "code",
   "execution_count": 21,
   "id": "5413ac49-0623-4868-82e1-3b75ce07f91b",
   "metadata": {},
   "outputs": [
    {
     "data": {
      "text/html": [
       "<div>\n",
       "<style scoped>\n",
       "    .dataframe tbody tr th:only-of-type {\n",
       "        vertical-align: middle;\n",
       "    }\n",
       "\n",
       "    .dataframe tbody tr th {\n",
       "        vertical-align: top;\n",
       "    }\n",
       "\n",
       "    .dataframe thead th {\n",
       "        text-align: right;\n",
       "    }\n",
       "</style>\n",
       "<table border=\"1\" class=\"dataframe\">\n",
       "  <thead>\n",
       "    <tr style=\"text-align: right;\">\n",
       "      <th></th>\n",
       "      <th></th>\n",
       "      <th>count</th>\n",
       "      <th>mean</th>\n",
       "      <th>std</th>\n",
       "      <th>min</th>\n",
       "      <th>25%</th>\n",
       "      <th>50%</th>\n",
       "      <th>75%</th>\n",
       "      <th>max</th>\n",
       "    </tr>\n",
       "    <tr>\n",
       "      <th>is_synthetic</th>\n",
       "      <th></th>\n",
       "      <th></th>\n",
       "      <th></th>\n",
       "      <th></th>\n",
       "      <th></th>\n",
       "      <th></th>\n",
       "      <th></th>\n",
       "      <th></th>\n",
       "      <th></th>\n",
       "    </tr>\n",
       "  </thead>\n",
       "  <tbody>\n",
       "    <tr>\n",
       "      <th rowspan=\"13\" valign=\"top\">False</th>\n",
       "      <th>Total Tokens</th>\n",
       "      <td>3223.000</td>\n",
       "      <td>612847629.804</td>\n",
       "      <td>4417490032.906</td>\n",
       "      <td>398.000</td>\n",
       "      <td>355576.000</td>\n",
       "      <td>1217648.000</td>\n",
       "      <td>11587344.000</td>\n",
       "      <td>58136100000.000</td>\n",
       "    </tr>\n",
       "    <tr>\n",
       "      <th>Total Turns</th>\n",
       "      <td>3223.000</td>\n",
       "      <td>592616.718</td>\n",
       "      <td>2404715.498</td>\n",
       "      <td>2.000</td>\n",
       "      <td>600.000</td>\n",
       "      <td>1600.000</td>\n",
       "      <td>22156.000</td>\n",
       "      <td>62444540.580</td>\n",
       "    </tr>\n",
       "    <tr>\n",
       "      <th>Mean Turn Length</th>\n",
       "      <td>3223.000</td>\n",
       "      <td>1065.586</td>\n",
       "      <td>2395.264</td>\n",
       "      <td>42.526</td>\n",
       "      <td>316.000</td>\n",
       "      <td>648.755</td>\n",
       "      <td>1424.634</td>\n",
       "      <td>83508.111</td>\n",
       "    </tr>\n",
       "    <tr>\n",
       "      <th>Min Targets Length</th>\n",
       "      <td>3223.000</td>\n",
       "      <td>46.948</td>\n",
       "      <td>152.070</td>\n",
       "      <td>0.000</td>\n",
       "      <td>2.000</td>\n",
       "      <td>5.000</td>\n",
       "      <td>30.000</td>\n",
       "      <td>2568.000</td>\n",
       "    </tr>\n",
       "    <tr>\n",
       "      <th>Min Inputs Length</th>\n",
       "      <td>3223.000</td>\n",
       "      <td>254.762</td>\n",
       "      <td>559.907</td>\n",
       "      <td>0.000</td>\n",
       "      <td>42.000</td>\n",
       "      <td>114.000</td>\n",
       "      <td>240.000</td>\n",
       "      <td>17617.000</td>\n",
       "    </tr>\n",
       "    <tr>\n",
       "      <th>Mean Targets Length</th>\n",
       "      <td>3223.000</td>\n",
       "      <td>299.064</td>\n",
       "      <td>1124.008</td>\n",
       "      <td>1.000</td>\n",
       "      <td>10.542</td>\n",
       "      <td>80.329</td>\n",
       "      <td>469.434</td>\n",
       "      <td>59595.000</td>\n",
       "    </tr>\n",
       "    <tr>\n",
       "      <th>Mean Inputs Length</th>\n",
       "      <td>3223.000</td>\n",
       "      <td>766.521</td>\n",
       "      <td>2025.147</td>\n",
       "      <td>10.090</td>\n",
       "      <td>186.000</td>\n",
       "      <td>427.786</td>\n",
       "      <td>853.051</td>\n",
       "      <td>83185.568</td>\n",
       "    </tr>\n",
       "    <tr>\n",
       "      <th>Max Targets Length</th>\n",
       "      <td>3223.000</td>\n",
       "      <td>3306.591</td>\n",
       "      <td>66846.051</td>\n",
       "      <td>1.000</td>\n",
       "      <td>22.000</td>\n",
       "      <td>367.000</td>\n",
       "      <td>2000.000</td>\n",
       "      <td>3296457.000</td>\n",
       "    </tr>\n",
       "    <tr>\n",
       "      <th>Max Dialog Turns</th>\n",
       "      <td>3223.000</td>\n",
       "      <td>12.664</td>\n",
       "      <td>267.718</td>\n",
       "      <td>1.000</td>\n",
       "      <td>2.000</td>\n",
       "      <td>2.000</td>\n",
       "      <td>2.000</td>\n",
       "      <td>9756.000</td>\n",
       "    </tr>\n",
       "    <tr>\n",
       "      <th>Max Inputs Length</th>\n",
       "      <td>3223.000</td>\n",
       "      <td>5758.212</td>\n",
       "      <td>83345.004</td>\n",
       "      <td>32.000</td>\n",
       "      <td>581.000</td>\n",
       "      <td>1217.000</td>\n",
       "      <td>2120.000</td>\n",
       "      <td>3296457.000</td>\n",
       "    </tr>\n",
       "    <tr>\n",
       "      <th>Num Dialogs</th>\n",
       "      <td>3223.000</td>\n",
       "      <td>283350.501</td>\n",
       "      <td>1058682.812</td>\n",
       "      <td>1.000</td>\n",
       "      <td>300.000</td>\n",
       "      <td>800.000</td>\n",
       "      <td>9734.000</td>\n",
       "      <td>12775284.000</td>\n",
       "    </tr>\n",
       "    <tr>\n",
       "      <th>Mean Dialog Turns</th>\n",
       "      <td>3223.000</td>\n",
       "      <td>9.342</td>\n",
       "      <td>249.581</td>\n",
       "      <td>1.000</td>\n",
       "      <td>2.000</td>\n",
       "      <td>2.000</td>\n",
       "      <td>2.000</td>\n",
       "      <td>9756.000</td>\n",
       "    </tr>\n",
       "    <tr>\n",
       "      <th>Min Dialog Turns</th>\n",
       "      <td>3223.000</td>\n",
       "      <td>9.129</td>\n",
       "      <td>249.577</td>\n",
       "      <td>1.000</td>\n",
       "      <td>2.000</td>\n",
       "      <td>2.000</td>\n",
       "      <td>2.000</td>\n",
       "      <td>9756.000</td>\n",
       "    </tr>\n",
       "    <tr>\n",
       "      <th rowspan=\"13\" valign=\"top\">True</th>\n",
       "      <th>Total Tokens</th>\n",
       "      <td>424.000</td>\n",
       "      <td>258495771.104</td>\n",
       "      <td>1205606564.650</td>\n",
       "      <td>2396.000</td>\n",
       "      <td>665018.076</td>\n",
       "      <td>9088187.838</td>\n",
       "      <td>77660867.964</td>\n",
       "      <td>18249124438.035</td>\n",
       "    </tr>\n",
       "    <tr>\n",
       "      <th>Total Turns</th>\n",
       "      <td>424.000</td>\n",
       "      <td>256380.516</td>\n",
       "      <td>1008906.252</td>\n",
       "      <td>2.000</td>\n",
       "      <td>1981.000</td>\n",
       "      <td>11110.000</td>\n",
       "      <td>100000.000</td>\n",
       "      <td>11371684.000</td>\n",
       "    </tr>\n",
       "    <tr>\n",
       "      <th>Mean Turn Length</th>\n",
       "      <td>424.000</td>\n",
       "      <td>1755.869</td>\n",
       "      <td>9815.179</td>\n",
       "      <td>116.574</td>\n",
       "      <td>364.825</td>\n",
       "      <td>771.878</td>\n",
       "      <td>1396.173</td>\n",
       "      <td>194269.220</td>\n",
       "    </tr>\n",
       "    <tr>\n",
       "      <th>Min Targets Length</th>\n",
       "      <td>424.000</td>\n",
       "      <td>18.354</td>\n",
       "      <td>74.755</td>\n",
       "      <td>0.000</td>\n",
       "      <td>1.000</td>\n",
       "      <td>2.000</td>\n",
       "      <td>9.000</td>\n",
       "      <td>816.000</td>\n",
       "    </tr>\n",
       "    <tr>\n",
       "      <th>Min Inputs Length</th>\n",
       "      <td>424.000</td>\n",
       "      <td>380.189</td>\n",
       "      <td>790.442</td>\n",
       "      <td>0.000</td>\n",
       "      <td>16.000</td>\n",
       "      <td>109.500</td>\n",
       "      <td>315.250</td>\n",
       "      <td>6957.000</td>\n",
       "    </tr>\n",
       "    <tr>\n",
       "      <th>Mean Targets Length</th>\n",
       "      <td>424.000</td>\n",
       "      <td>821.211</td>\n",
       "      <td>9410.505</td>\n",
       "      <td>0.000</td>\n",
       "      <td>6.994</td>\n",
       "      <td>70.240</td>\n",
       "      <td>494.841</td>\n",
       "      <td>193752.064</td>\n",
       "    </tr>\n",
       "    <tr>\n",
       "      <th>Mean Inputs Length</th>\n",
       "      <td>424.000</td>\n",
       "      <td>934.658</td>\n",
       "      <td>2857.320</td>\n",
       "      <td>14.000</td>\n",
       "      <td>189.062</td>\n",
       "      <td>334.000</td>\n",
       "      <td>885.537</td>\n",
       "      <td>51881.217</td>\n",
       "    </tr>\n",
       "    <tr>\n",
       "      <th>Max Targets Length</th>\n",
       "      <td>424.000</td>\n",
       "      <td>30927.620</td>\n",
       "      <td>348435.900</td>\n",
       "      <td>0.000</td>\n",
       "      <td>15.000</td>\n",
       "      <td>325.000</td>\n",
       "      <td>4871.250</td>\n",
       "      <td>6179627.000</td>\n",
       "    </tr>\n",
       "    <tr>\n",
       "      <th>Max Dialog Turns</th>\n",
       "      <td>424.000</td>\n",
       "      <td>53.783</td>\n",
       "      <td>597.261</td>\n",
       "      <td>1.000</td>\n",
       "      <td>2.000</td>\n",
       "      <td>2.000</td>\n",
       "      <td>2.000</td>\n",
       "      <td>11491.000</td>\n",
       "    </tr>\n",
       "    <tr>\n",
       "      <th>Max Inputs Length</th>\n",
       "      <td>424.000</td>\n",
       "      <td>7631.575</td>\n",
       "      <td>32408.293</td>\n",
       "      <td>29.000</td>\n",
       "      <td>649.500</td>\n",
       "      <td>1574.500</td>\n",
       "      <td>4487.000</td>\n",
       "      <td>394465.000</td>\n",
       "    </tr>\n",
       "    <tr>\n",
       "      <th>Num Dialogs</th>\n",
       "      <td>424.000</td>\n",
       "      <td>90723.757</td>\n",
       "      <td>378261.637</td>\n",
       "      <td>1.000</td>\n",
       "      <td>800.000</td>\n",
       "      <td>4653.000</td>\n",
       "      <td>30000.000</td>\n",
       "      <td>5685842.000</td>\n",
       "    </tr>\n",
       "    <tr>\n",
       "      <th>Mean Dialog Turns</th>\n",
       "      <td>424.000</td>\n",
       "      <td>17.807</td>\n",
       "      <td>205.864</td>\n",
       "      <td>1.000</td>\n",
       "      <td>2.000</td>\n",
       "      <td>2.000</td>\n",
       "      <td>2.000</td>\n",
       "      <td>3294.000</td>\n",
       "    </tr>\n",
       "    <tr>\n",
       "      <th>Min Dialog Turns</th>\n",
       "      <td>424.000</td>\n",
       "      <td>16.795</td>\n",
       "      <td>205.895</td>\n",
       "      <td>1.000</td>\n",
       "      <td>2.000</td>\n",
       "      <td>2.000</td>\n",
       "      <td>2.000</td>\n",
       "      <td>3294.000</td>\n",
       "    </tr>\n",
       "  </tbody>\n",
       "</table>\n",
       "</div>"
      ],
      "text/plain": [
       "                                    count          mean            std  \\\n",
       "is_synthetic                                                             \n",
       "False        Total Tokens        3223.000 612847629.804 4417490032.906   \n",
       "             Total Turns         3223.000    592616.718    2404715.498   \n",
       "             Mean Turn Length    3223.000      1065.586       2395.264   \n",
       "             Min Targets Length  3223.000        46.948        152.070   \n",
       "             Min Inputs Length   3223.000       254.762        559.907   \n",
       "             Mean Targets Length 3223.000       299.064       1124.008   \n",
       "             Mean Inputs Length  3223.000       766.521       2025.147   \n",
       "             Max Targets Length  3223.000      3306.591      66846.051   \n",
       "             Max Dialog Turns    3223.000        12.664        267.718   \n",
       "             Max Inputs Length   3223.000      5758.212      83345.004   \n",
       "             Num Dialogs         3223.000    283350.501    1058682.812   \n",
       "             Mean Dialog Turns   3223.000         9.342        249.581   \n",
       "             Min Dialog Turns    3223.000         9.129        249.577   \n",
       "True         Total Tokens         424.000 258495771.104 1205606564.650   \n",
       "             Total Turns          424.000    256380.516    1008906.252   \n",
       "             Mean Turn Length     424.000      1755.869       9815.179   \n",
       "             Min Targets Length   424.000        18.354         74.755   \n",
       "             Min Inputs Length    424.000       380.189        790.442   \n",
       "             Mean Targets Length  424.000       821.211       9410.505   \n",
       "             Mean Inputs Length   424.000       934.658       2857.320   \n",
       "             Max Targets Length   424.000     30927.620     348435.900   \n",
       "             Max Dialog Turns     424.000        53.783        597.261   \n",
       "             Max Inputs Length    424.000      7631.575      32408.293   \n",
       "             Num Dialogs          424.000     90723.757     378261.637   \n",
       "             Mean Dialog Turns    424.000        17.807        205.864   \n",
       "             Min Dialog Turns     424.000        16.795        205.895   \n",
       "\n",
       "                                      min        25%         50%          75%  \\\n",
       "is_synthetic                                                                    \n",
       "False        Total Tokens         398.000 355576.000 1217648.000 11587344.000   \n",
       "             Total Turns            2.000    600.000    1600.000    22156.000   \n",
       "             Mean Turn Length      42.526    316.000     648.755     1424.634   \n",
       "             Min Targets Length     0.000      2.000       5.000       30.000   \n",
       "             Min Inputs Length      0.000     42.000     114.000      240.000   \n",
       "             Mean Targets Length    1.000     10.542      80.329      469.434   \n",
       "             Mean Inputs Length    10.090    186.000     427.786      853.051   \n",
       "             Max Targets Length     1.000     22.000     367.000     2000.000   \n",
       "             Max Dialog Turns       1.000      2.000       2.000        2.000   \n",
       "             Max Inputs Length     32.000    581.000    1217.000     2120.000   \n",
       "             Num Dialogs            1.000    300.000     800.000     9734.000   \n",
       "             Mean Dialog Turns      1.000      2.000       2.000        2.000   \n",
       "             Min Dialog Turns       1.000      2.000       2.000        2.000   \n",
       "True         Total Tokens        2396.000 665018.076 9088187.838 77660867.964   \n",
       "             Total Turns            2.000   1981.000   11110.000   100000.000   \n",
       "             Mean Turn Length     116.574    364.825     771.878     1396.173   \n",
       "             Min Targets Length     0.000      1.000       2.000        9.000   \n",
       "             Min Inputs Length      0.000     16.000     109.500      315.250   \n",
       "             Mean Targets Length    0.000      6.994      70.240      494.841   \n",
       "             Mean Inputs Length    14.000    189.062     334.000      885.537   \n",
       "             Max Targets Length     0.000     15.000     325.000     4871.250   \n",
       "             Max Dialog Turns       1.000      2.000       2.000        2.000   \n",
       "             Max Inputs Length     29.000    649.500    1574.500     4487.000   \n",
       "             Num Dialogs            1.000    800.000    4653.000    30000.000   \n",
       "             Mean Dialog Turns      1.000      2.000       2.000        2.000   \n",
       "             Min Dialog Turns       1.000      2.000       2.000        2.000   \n",
       "\n",
       "                                             max  \n",
       "is_synthetic                                      \n",
       "False        Total Tokens        58136100000.000  \n",
       "             Total Turns            62444540.580  \n",
       "             Mean Turn Length          83508.111  \n",
       "             Min Targets Length         2568.000  \n",
       "             Min Inputs Length         17617.000  \n",
       "             Mean Targets Length       59595.000  \n",
       "             Mean Inputs Length        83185.568  \n",
       "             Max Targets Length      3296457.000  \n",
       "             Max Dialog Turns           9756.000  \n",
       "             Max Inputs Length       3296457.000  \n",
       "             Num Dialogs            12775284.000  \n",
       "             Mean Dialog Turns          9756.000  \n",
       "             Min Dialog Turns           9756.000  \n",
       "True         Total Tokens        18249124438.035  \n",
       "             Total Turns            11371684.000  \n",
       "             Mean Turn Length         194269.220  \n",
       "             Min Targets Length          816.000  \n",
       "             Min Inputs Length          6957.000  \n",
       "             Mean Targets Length      193752.064  \n",
       "             Mean Inputs Length        51881.217  \n",
       "             Max Targets Length      6179627.000  \n",
       "             Max Dialog Turns          11491.000  \n",
       "             Max Inputs Length        394465.000  \n",
       "             Num Dialogs             5685842.000  \n",
       "             Mean Dialog Turns          3294.000  \n",
       "             Min Dialog Turns           3294.000  "
      ]
     },
     "execution_count": 21,
     "metadata": {},
     "output_type": "execute_result"
    }
   ],
   "source": [
    "tmp.groupby('is_synthetic')[[\n",
    "    'Total Tokens',\n",
    "    'Total Turns',\n",
    "    'Mean Turn Length',\n",
    "    'Min Targets Length',\n",
    "    'Min Inputs Length',\n",
    "    'Mean Targets Length',\n",
    "    'Mean Inputs Length',\n",
    "    'Max Targets Length',\n",
    "    'Max Dialog Turns',\n",
    "    'Max Inputs Length',\n",
    "    'Num Dialogs',\n",
    "    'Mean Dialog Turns',\n",
    "    'Min Dialog Turns',\n",
    "]].describe().T.unstack(0).T"
   ]
  },
  {
   "cell_type": "markdown",
   "id": "792d927a-b625-44af-abba-6a37df58edba",
   "metadata": {},
   "source": [
    "## Are human-generated datasets cited/downloaded more?"
   ]
  },
  {
   "cell_type": "code",
   "execution_count": 22,
   "id": "d45aed89-d2f7-44c4-bfc1-3d23b751653c",
   "metadata": {},
   "outputs": [
    {
     "data": {
      "text/plain": [
       "0.47481243301178994"
      ]
     },
     "execution_count": 22,
     "metadata": {},
     "output_type": "execute_result"
    }
   ],
   "source": [
    "tmp['S2 Citation Count (May 2024)'].isna().mean()"
   ]
  },
  {
   "cell_type": "code",
   "execution_count": 23,
   "id": "d8f1755b-ec09-4f85-8a4e-1d8b73d6c449",
   "metadata": {},
   "outputs": [
    {
     "data": {
      "text/plain": [
       "0.6195069667738478"
      ]
     },
     "execution_count": 23,
     "metadata": {},
     "output_type": "execute_result"
    }
   ],
   "source": [
    "tmp['HF Downloads (June 2024)'].isna().mean()"
   ]
  },
  {
   "cell_type": "code",
   "execution_count": 24,
   "id": "5ee1bbf6-d20a-4975-a64a-bd3fc81a8b56",
   "metadata": {},
   "outputs": [
    {
     "data": {
      "text/html": [
       "<div>\n",
       "<style scoped>\n",
       "    .dataframe tbody tr th:only-of-type {\n",
       "        vertical-align: middle;\n",
       "    }\n",
       "\n",
       "    .dataframe tbody tr th {\n",
       "        vertical-align: top;\n",
       "    }\n",
       "\n",
       "    .dataframe thead th {\n",
       "        text-align: right;\n",
       "    }\n",
       "</style>\n",
       "<table border=\"1\" class=\"dataframe\">\n",
       "  <thead>\n",
       "    <tr style=\"text-align: right;\">\n",
       "      <th></th>\n",
       "      <th></th>\n",
       "      <th>count</th>\n",
       "      <th>mean</th>\n",
       "      <th>std</th>\n",
       "      <th>min</th>\n",
       "      <th>25%</th>\n",
       "      <th>50%</th>\n",
       "      <th>75%</th>\n",
       "      <th>max</th>\n",
       "    </tr>\n",
       "    <tr>\n",
       "      <th>is_synthetic</th>\n",
       "      <th></th>\n",
       "      <th></th>\n",
       "      <th></th>\n",
       "      <th></th>\n",
       "      <th></th>\n",
       "      <th></th>\n",
       "      <th></th>\n",
       "      <th></th>\n",
       "      <th></th>\n",
       "    </tr>\n",
       "  </thead>\n",
       "  <tbody>\n",
       "    <tr>\n",
       "      <th rowspan=\"4\" valign=\"top\">False</th>\n",
       "      <th>S2 Citation Count (May 2024)</th>\n",
       "      <td>1595.000</td>\n",
       "      <td>304.049</td>\n",
       "      <td>715.774</td>\n",
       "      <td>0.000</td>\n",
       "      <td>36.000</td>\n",
       "      <td>111.000</td>\n",
       "      <td>336.000</td>\n",
       "      <td>7302.000</td>\n",
       "    </tr>\n",
       "    <tr>\n",
       "      <th>HF Downloads (June 2024)</th>\n",
       "      <td>1388.000</td>\n",
       "      <td>13516.981</td>\n",
       "      <td>63926.380</td>\n",
       "      <td>0.000</td>\n",
       "      <td>23.500</td>\n",
       "      <td>834.000</td>\n",
       "      <td>8973.000</td>\n",
       "      <td>557744.000</td>\n",
       "    </tr>\n",
       "    <tr>\n",
       "      <th>citations_per_year</th>\n",
       "      <td>1518.000</td>\n",
       "      <td>67.371</td>\n",
       "      <td>104.328</td>\n",
       "      <td>0.000</td>\n",
       "      <td>23.500</td>\n",
       "      <td>36.000</td>\n",
       "      <td>67.200</td>\n",
       "      <td>1207.500</td>\n",
       "    </tr>\n",
       "    <tr>\n",
       "      <th>downloads_per_year</th>\n",
       "      <td>1388.000</td>\n",
       "      <td>10303.695</td>\n",
       "      <td>61027.259</td>\n",
       "      <td>0.000</td>\n",
       "      <td>8.000</td>\n",
       "      <td>278.000</td>\n",
       "      <td>2991.000</td>\n",
       "      <td>452417.000</td>\n",
       "    </tr>\n",
       "    <tr>\n",
       "      <th rowspan=\"4\" valign=\"top\">True</th>\n",
       "      <th>S2 Citation Count (May 2024)</th>\n",
       "      <td>365.000</td>\n",
       "      <td>248.222</td>\n",
       "      <td>449.172</td>\n",
       "      <td>0.000</td>\n",
       "      <td>13.000</td>\n",
       "      <td>84.000</td>\n",
       "      <td>291.000</td>\n",
       "      <td>5470.000</td>\n",
       "    </tr>\n",
       "    <tr>\n",
       "      <th>HF Downloads (June 2024)</th>\n",
       "      <td>32.000</td>\n",
       "      <td>5746.062</td>\n",
       "      <td>4283.989</td>\n",
       "      <td>0.000</td>\n",
       "      <td>8.000</td>\n",
       "      <td>8929.000</td>\n",
       "      <td>8973.000</td>\n",
       "      <td>8973.000</td>\n",
       "    </tr>\n",
       "    <tr>\n",
       "      <th>citations_per_year</th>\n",
       "      <td>350.000</td>\n",
       "      <td>75.154</td>\n",
       "      <td>114.969</td>\n",
       "      <td>0.000</td>\n",
       "      <td>6.812</td>\n",
       "      <td>24.000</td>\n",
       "      <td>119.111</td>\n",
       "      <td>1068.000</td>\n",
       "    </tr>\n",
       "    <tr>\n",
       "      <th>downloads_per_year</th>\n",
       "      <td>32.000</td>\n",
       "      <td>2014.646</td>\n",
       "      <td>1500.835</td>\n",
       "      <td>0.000</td>\n",
       "      <td>8.000</td>\n",
       "      <td>2976.333</td>\n",
       "      <td>2991.000</td>\n",
       "      <td>4635.000</td>\n",
       "    </tr>\n",
       "  </tbody>\n",
       "</table>\n",
       "</div>"
      ],
      "text/plain": [
       "                                             count      mean       std   min  \\\n",
       "is_synthetic                                                                   \n",
       "False        S2 Citation Count (May 2024) 1595.000   304.049   715.774 0.000   \n",
       "             HF Downloads (June 2024)     1388.000 13516.981 63926.380 0.000   \n",
       "             citations_per_year           1518.000    67.371   104.328 0.000   \n",
       "             downloads_per_year           1388.000 10303.695 61027.259 0.000   \n",
       "True         S2 Citation Count (May 2024)  365.000   248.222   449.172 0.000   \n",
       "             HF Downloads (June 2024)       32.000  5746.062  4283.989 0.000   \n",
       "             citations_per_year            350.000    75.154   114.969 0.000   \n",
       "             downloads_per_year             32.000  2014.646  1500.835 0.000   \n",
       "\n",
       "                                             25%      50%      75%        max  \n",
       "is_synthetic                                                                   \n",
       "False        S2 Citation Count (May 2024) 36.000  111.000  336.000   7302.000  \n",
       "             HF Downloads (June 2024)     23.500  834.000 8973.000 557744.000  \n",
       "             citations_per_year           23.500   36.000   67.200   1207.500  \n",
       "             downloads_per_year            8.000  278.000 2991.000 452417.000  \n",
       "True         S2 Citation Count (May 2024) 13.000   84.000  291.000   5470.000  \n",
       "             HF Downloads (June 2024)      8.000 8929.000 8973.000   8973.000  \n",
       "             citations_per_year            6.812   24.000  119.111   1068.000  \n",
       "             downloads_per_year            8.000 2976.333 2991.000   4635.000  "
      ]
     },
     "execution_count": 24,
     "metadata": {},
     "output_type": "execute_result"
    }
   ],
   "source": [
    "tmp.groupby('is_synthetic')[['S2 Citation Count (May 2024)', 'HF Downloads (June 2024)',\n",
    "                             'citations_per_year', 'downloads_per_year']].describe().T.unstack(0).T"
   ]
  },
  {
   "cell_type": "markdown",
   "id": "30c92f3d-86a6-4402-88e8-f11eec092538",
   "metadata": {},
   "source": [
    "# Changes in synthetic data prevalence over time"
   ]
  },
  {
   "cell_type": "code",
   "execution_count": 25,
   "id": "bd18e6f9-7c7c-442c-b653-a6016ac8669b",
   "metadata": {},
   "outputs": [
    {
     "data": {
      "text/plain": [
       "<Axes: xlabel='Year Released'>"
      ]
     },
     "execution_count": 25,
     "metadata": {},
     "output_type": "execute_result"
    },
    {
     "data": {
      "image/png": "[encoded data removed]",
      "text/plain": [
       "<Figure size 640x480 with 1 Axes>"
      ]
     },
     "metadata": {},
     "output_type": "display_data"
    }
   ],
   "source": [
    "tmp.groupby('Year Released')['is_synthetic'].mean().plot()"
   ]
  },
  {
   "cell_type": "code",
   "execution_count": 26,
   "id": "19e25710-f62e-4d60-90a8-aa5cbd1eae9c",
   "metadata": {},
   "outputs": [
    {
     "data": {
      "text/plain": [
       "<Axes: xlabel='Year Released'>"
      ]
     },
     "execution_count": 26,
     "metadata": {},
     "output_type": "execute_result"
    },
    {
     "data": {
      "image/png": "[encoded data removed]",
      "text/plain": [
       "<Figure size 640x480 with 1 Axes>"
      ]
     },
     "metadata": {},
     "output_type": "display_data"
    }
   ],
   "source": [
    "tmp.loc[tmp['Year Released'] >= 2016].groupby('Year Released')['is_synthetic'].mean().plot()"
   ]
  },
  {
   "cell_type": "code",
   "execution_count": 27,
   "id": "148ae1fb-cd15-44da-9887-a9154c3401d5",
   "metadata": {},
   "outputs": [
    {
     "data": {
      "text/plain": [
       "<Axes: xlabel='Year Released'>"
      ]
     },
     "execution_count": 27,
     "metadata": {},
     "output_type": "execute_result"
    },
    {
     "data": {
      "image/png": "[encoded data removed]",
      "text/plain": [
       "<Figure size 640x480 with 1 Axes>"
      ]
     },
     "metadata": {},
     "output_type": "display_data"
    }
   ],
   "source": [
    "tmp_recent = tmp.loc[tmp['Year Released'] >= 2016].copy()\n",
    "tmp_recent['synthetic_total_tokens'] = tmp_recent['is_synthetic'] * tmp_recent['Total Tokens']\n",
    "\n",
    "tmp_recent.groupby('Year Released')['synthetic_total_tokens'].mean().plot()"
   ]
  },
  {
   "cell_type": "code",
   "execution_count": 28,
   "id": "c24b6a2a-14e0-47d9-8bec-ba2a635dfdf3",
   "metadata": {},
   "outputs": [],
   "source": [
    "# with pd.option_context('display.max_rows', None):\n",
    "#     display(tmp.loc[tmp['Year Released'] == 2024, ['is_synthetic', 'Total Tokens', 'Dataset Name']].sort_values(['is_synthetic', 'Total Tokens'],\n",
    "#                                                                                                         ascending=False))"
   ]
  },
  {
   "cell_type": "code",
   "execution_count": 29,
   "id": "13e292c1-1d1d-4264-9f52-f1562745a269",
   "metadata": {},
   "outputs": [
    {
     "data": {
      "text/plain": [
       "<Axes: xlabel='Year Released'>"
      ]
     },
     "execution_count": 29,
     "metadata": {},
     "output_type": "execute_result"
    },
    {
     "data": {
      "image/png": "[encoded data removed]",
      "text/plain": [
       "<Figure size 640x480 with 1 Axes>"
      ]
     },
     "metadata": {},
     "output_type": "display_data"
    }
   ],
   "source": [
    "tmp_recent = tmp.loc[tmp['Year Released'] >= 2016].copy()\n",
    "tmp_recent['synthetic_total_tokens'] = tmp_recent['is_synthetic'] * tmp_recent['Total Tokens']\n",
    "\n",
    "ttt = tmp_recent.groupby('Year Released')['Total Tokens'].sum()\n",
    "stt = tmp_recent.groupby('Year Released')['synthetic_total_tokens'].sum()\n",
    "\n",
    "(stt / ttt).plot()"
   ]
  },
  {
   "cell_type": "markdown",
   "id": "4fa259f1-7e7f-4184-8350-505692400e02",
   "metadata": {},
   "source": [
    "## Topics"
   ]
  },
  {
   "cell_type": "code",
   "execution_count": 30,
   "id": "ba96d117-b20f-4612-9dfe-2f1689301b72",
   "metadata": {},
   "outputs": [],
   "source": [
    "tmp_t = tmp.copy()\n",
    "\n",
    "gm_names = tmp_t['Task Groups'].apply(lambda s: list(set(s)) if not isinstance(s, float) else []).tolist()\n",
    "gm_names = [y for x in gm_names for y in x]\n",
    "gm_names = set(gm_names)\n",
    "\n",
    "for name in gm_names:\n",
    "    tmp_t['task_' + name] = tmp_t['Task Groups'].apply(lambda s: sum(v == name for v in s) if not isinstance(s, float) else np.nan)\n",
    "\n",
    "tmp_t['num_sub_datasets'] = tmp_t['Task Groups'].apply(len)\n",
    "\n",
    "tmp_t.drop('Task Groups', axis=1, inplace=True)"
   ]
  },
  {
   "cell_type": "code",
   "execution_count": 31,
   "id": "f818ee9f-a2eb-4b2e-a4bc-63cbe2970bf9",
   "metadata": {},
   "outputs": [],
   "source": [
    "task_cols = [c for c in list(tmp_t) if c.startswith('task_')]"
   ]
  },
  {
   "cell_type": "code",
   "execution_count": 32,
   "id": "d5f03db2-14aa-40b9-ac42-b78342d6f982",
   "metadata": {},
   "outputs": [
    {
     "data": {
      "text/html": [
       "<div>\n",
       "<style scoped>\n",
       "    .dataframe tbody tr th:only-of-type {\n",
       "        vertical-align: middle;\n",
       "    }\n",
       "\n",
       "    .dataframe tbody tr th {\n",
       "        vertical-align: top;\n",
       "    }\n",
       "\n",
       "    .dataframe thead th {\n",
       "        text-align: right;\n",
       "    }\n",
       "</style>\n",
       "<table border=\"1\" class=\"dataframe\">\n",
       "  <thead>\n",
       "    <tr style=\"text-align: right;\">\n",
       "      <th>is_synthetic</th>\n",
       "      <th>False</th>\n",
       "      <th>True</th>\n",
       "    </tr>\n",
       "  </thead>\n",
       "  <tbody>\n",
       "    <tr>\n",
       "      <th>task_Translation</th>\n",
       "      <td>1.179</td>\n",
       "      <td>0.292</td>\n",
       "    </tr>\n",
       "    <tr>\n",
       "      <th>task_Other</th>\n",
       "      <td>0.573</td>\n",
       "      <td>0.205</td>\n",
       "    </tr>\n",
       "    <tr>\n",
       "      <th>task_Generation</th>\n",
       "      <td>18.484</td>\n",
       "      <td>6.773</td>\n",
       "    </tr>\n",
       "    <tr>\n",
       "      <th>task_Creativity</th>\n",
       "      <td>9.318</td>\n",
       "      <td>2.848</td>\n",
       "    </tr>\n",
       "    <tr>\n",
       "      <th>task_Classification</th>\n",
       "      <td>28.362</td>\n",
       "      <td>14.355</td>\n",
       "    </tr>\n",
       "    <tr>\n",
       "      <th>task_Q&amp;A</th>\n",
       "      <td>23.203</td>\n",
       "      <td>10.485</td>\n",
       "    </tr>\n",
       "    <tr>\n",
       "      <th>task_Summarization</th>\n",
       "      <td>4.445</td>\n",
       "      <td>1.842</td>\n",
       "    </tr>\n",
       "    <tr>\n",
       "      <th>task_Bias Detection</th>\n",
       "      <td>3.507</td>\n",
       "      <td>2.041</td>\n",
       "    </tr>\n",
       "    <tr>\n",
       "      <th>task_Reasoning</th>\n",
       "      <td>13.731</td>\n",
       "      <td>5.949</td>\n",
       "    </tr>\n",
       "    <tr>\n",
       "      <th>task_Code</th>\n",
       "      <td>7.494</td>\n",
       "      <td>1.176</td>\n",
       "    </tr>\n",
       "    <tr>\n",
       "      <th>task_Resp. Ranking</th>\n",
       "      <td>0.862</td>\n",
       "      <td>0.140</td>\n",
       "    </tr>\n",
       "  </tbody>\n",
       "</table>\n",
       "</div>"
      ],
      "text/plain": [
       "is_synthetic         False  True \n",
       "task_Translation     1.179  0.292\n",
       "task_Other           0.573  0.205\n",
       "task_Generation     18.484  6.773\n",
       "task_Creativity      9.318  2.848\n",
       "task_Classification 28.362 14.355\n",
       "task_Q&A            23.203 10.485\n",
       "task_Summarization   4.445  1.842\n",
       "task_Bias Detection  3.507  2.041\n",
       "task_Reasoning      13.731  5.949\n",
       "task_Code            7.494  1.176\n",
       "task_Resp. Ranking   0.862  0.140"
      ]
     },
     "execution_count": 32,
     "metadata": {},
     "output_type": "execute_result"
    }
   ],
   "source": [
    "task_stats = tmp_t.groupby('is_synthetic')[task_cols].mean().T\n",
    "\n",
    "task_stats"
   ]
  },
  {
   "cell_type": "code",
   "execution_count": 33,
   "id": "d79a2f75-fd68-4cc2-aa00-7021d5588a62",
   "metadata": {},
   "outputs": [
    {
     "data": {
      "text/html": [
       "<div>\n",
       "<style scoped>\n",
       "    .dataframe tbody tr th:only-of-type {\n",
       "        vertical-align: middle;\n",
       "    }\n",
       "\n",
       "    .dataframe tbody tr th {\n",
       "        vertical-align: top;\n",
       "    }\n",
       "\n",
       "    .dataframe thead th {\n",
       "        text-align: right;\n",
       "    }\n",
       "</style>\n",
       "<table border=\"1\" class=\"dataframe\">\n",
       "  <thead>\n",
       "    <tr style=\"text-align: right;\">\n",
       "      <th>is_synthetic</th>\n",
       "      <th>False</th>\n",
       "      <th>True</th>\n",
       "    </tr>\n",
       "  </thead>\n",
       "  <tbody>\n",
       "    <tr>\n",
       "      <th>task_Translation</th>\n",
       "      <td>0.022</td>\n",
       "      <td>0.010</td>\n",
       "    </tr>\n",
       "    <tr>\n",
       "      <th>task_Other</th>\n",
       "      <td>0.007</td>\n",
       "      <td>0.006</td>\n",
       "    </tr>\n",
       "    <tr>\n",
       "      <th>task_Generation</th>\n",
       "      <td>0.150</td>\n",
       "      <td>0.119</td>\n",
       "    </tr>\n",
       "    <tr>\n",
       "      <th>task_Creativity</th>\n",
       "      <td>0.058</td>\n",
       "      <td>0.058</td>\n",
       "    </tr>\n",
       "    <tr>\n",
       "      <th>task_Classification</th>\n",
       "      <td>0.249</td>\n",
       "      <td>0.219</td>\n",
       "    </tr>\n",
       "    <tr>\n",
       "      <th>task_Q&amp;A</th>\n",
       "      <td>0.163</td>\n",
       "      <td>0.327</td>\n",
       "    </tr>\n",
       "    <tr>\n",
       "      <th>task_Summarization</th>\n",
       "      <td>0.056</td>\n",
       "      <td>0.038</td>\n",
       "    </tr>\n",
       "    <tr>\n",
       "      <th>task_Bias Detection</th>\n",
       "      <td>0.027</td>\n",
       "      <td>0.031</td>\n",
       "    </tr>\n",
       "    <tr>\n",
       "      <th>task_Reasoning</th>\n",
       "      <td>0.088</td>\n",
       "      <td>0.140</td>\n",
       "    </tr>\n",
       "    <tr>\n",
       "      <th>task_Code</th>\n",
       "      <td>0.175</td>\n",
       "      <td>0.042</td>\n",
       "    </tr>\n",
       "    <tr>\n",
       "      <th>task_Resp. Ranking</th>\n",
       "      <td>0.005</td>\n",
       "      <td>0.011</td>\n",
       "    </tr>\n",
       "  </tbody>\n",
       "</table>\n",
       "</div>"
      ],
      "text/plain": [
       "is_synthetic         False  True \n",
       "task_Translation     0.022  0.010\n",
       "task_Other           0.007  0.006\n",
       "task_Generation      0.150  0.119\n",
       "task_Creativity      0.058  0.058\n",
       "task_Classification  0.249  0.219\n",
       "task_Q&A             0.163  0.327\n",
       "task_Summarization   0.056  0.038\n",
       "task_Bias Detection  0.027  0.031\n",
       "task_Reasoning       0.088  0.140\n",
       "task_Code            0.175  0.042\n",
       "task_Resp. Ranking   0.005  0.011"
      ]
     },
     "execution_count": 33,
     "metadata": {},
     "output_type": "execute_result"
    }
   ],
   "source": [
    "tmp_tf = tmp_t.copy()\n",
    "for c in task_cols:\n",
    "    tmp_tf[c] = tmp_tf[c] / tmp_tf['num_sub_datasets']\n",
    "\n",
    "task_stats_frac = tmp_tf.groupby('is_synthetic')[task_cols].mean().T\n",
    "\n",
    "task_stats_frac"
   ]
  },
  {
   "cell_type": "code",
   "execution_count": 34,
   "id": "605b6a85-e02d-446c-a92b-6169c3d15a9f",
   "metadata": {},
   "outputs": [],
   "source": [
    "def cos_sim(a, b):\n",
    "    a /= np.linalg.norm(a)\n",
    "    b /= np.linalg.norm(b)\n",
    "\n",
    "    return np.dot(a, b)"
   ]
  },
  {
   "cell_type": "code",
   "execution_count": 35,
   "id": "11fee2cb-e711-49fc-8c51-201d233cd74a",
   "metadata": {},
   "outputs": [
    {
     "data": {
      "text/plain": [
       "0.9855769006792909"
      ]
     },
     "execution_count": 35,
     "metadata": {},
     "output_type": "execute_result"
    }
   ],
   "source": [
    "cos_sim(task_stats[True], task_stats[False])"
   ]
  },
  {
   "cell_type": "code",
   "execution_count": 36,
   "id": "eb6c8d4f-1901-4b51-8838-f1d60b9ce026",
   "metadata": {},
   "outputs": [
    {
     "data": {
      "text/plain": [
       "0.8645996200430868"
      ]
     },
     "execution_count": 36,
     "metadata": {},
     "output_type": "execute_result"
    }
   ],
   "source": [
    "cos_sim(task_stats_frac[True], task_stats_frac[False])"
   ]
  },
  {
   "cell_type": "markdown",
   "id": "a8ef9d2f-faa7-4476-b259-b69ef5cff032",
   "metadata": {},
   "source": [
    "## Languages"
   ]
  },
  {
   "cell_type": "code",
   "execution_count": 37,
   "id": "5e8a46de-70f9-4771-9966-c55e79bc01da",
   "metadata": {},
   "outputs": [
    {
     "data": {
      "text/plain": [
       "english_status\n",
       "english-only    2461\n",
       "non-english      634\n",
       "multilingual     401\n",
       "Name: count, dtype: int64"
      ]
     },
     "execution_count": 37,
     "metadata": {},
     "output_type": "execute_result"
    }
   ],
   "source": [
    "tmp['english_status'].value_counts()"
   ]
  },
  {
   "cell_type": "code",
   "execution_count": 38,
   "id": "45dfad63-b8fd-4c80-b961-7fec31d0d97f",
   "metadata": {},
   "outputs": [
    {
     "data": {
      "text/plain": [
       "english_status\n",
       "english-only   0.126\n",
       "multilingual   0.102\n",
       "non-english    0.087\n",
       "dtype: float64"
      ]
     },
     "execution_count": 38,
     "metadata": {},
     "output_type": "execute_result"
    }
   ],
   "source": [
    "est = tmp.groupby(['is_synthetic', 'english_status']).size().unstack(0)\n",
    "\n",
    "est[True] / (est[False] + est[True])"
   ]
  },
  {
   "cell_type": "code",
   "execution_count": 39,
   "id": "744dde9c-863f-4089-af90-5043f4ed7ff5",
   "metadata": {},
   "outputs": [
    {
     "data": {
      "text/plain": [
       "english_status\n",
       "english-only   0.335\n",
       "multilingual   0.194\n",
       "non-english    0.007\n",
       "dtype: float64"
      ]
     },
     "execution_count": 39,
     "metadata": {},
     "output_type": "execute_result"
    }
   ],
   "source": [
    "est = tmp.groupby(['is_synthetic', 'english_status'])['Total Tokens'].sum().unstack(0)\n",
    "\n",
    "est[True] / (est[False] + est[True])"
   ]
  },
  {
   "cell_type": "code",
   "execution_count": 40,
   "id": "e1ea0eb4-a249-4886-836c-a26156c9e568",
   "metadata": {},
   "outputs": [
    {
     "data": {
      "text/plain": [
       "english_status\n",
       "english-only   0.339\n",
       "multilingual   0.191\n",
       "non-english    0.007\n",
       "dtype: float64"
      ]
     },
     "execution_count": 40,
     "metadata": {},
     "output_type": "execute_result"
    }
   ],
   "source": [
    "tmp_recent = tmp.loc[tmp['Year Released'] >= 2016].copy()\n",
    "tmp_recent['synthetic_total_tokens'] = tmp_recent['is_synthetic'] * tmp_recent['Total Tokens']\n",
    "\n",
    "est = tmp_recent.groupby(['is_synthetic', 'english_status'])['Total Tokens'].sum().unstack(0)\n",
    "\n",
    "est[True] / (est[False] + est[True])"
   ]
  },
  {
   "cell_type": "code",
   "execution_count": null,
   "id": "4cfb948a-f3c4-4669-bad1-150585b0c0c6",
   "metadata": {},
   "outputs": [],
   "source": []
  }
 ],
 "metadata": {
  "kernelspec": {
   "display_name": "DPC",
   "language": "python",
   "name": "pdc"
  },
  "language_info": {
   "codemirror_mode": {
    "name": "ipython",
    "version": 3
   },
   "file_extension": ".py",
   "mimetype": "text/x-python",
   "name": "python",
   "nbconvert_exporter": "python",
   "pygments_lexer": "ipython3",
   "version": "3.10.13"
  },
  "widgets": {
   "application/vnd.jupyter.widget-state+json": {
    "state": {},
    "version_major": 2,
    "version_minor": 0
   }
  }
 },
 "nbformat": 4,
 "nbformat_minor": 5
}
