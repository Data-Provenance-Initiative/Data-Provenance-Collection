{
 "cells": [
  {
   "cell_type": "code",
   "execution_count": 312,
   "id": "271834be-94ee-4002-8ced-73a0790fbf16",
   "metadata": {},
   "outputs": [
    {
     "name": "stdout",
     "output_type": "stream",
     "text": [
      "The autoreload extension is already loaded. To reload it, use:\n",
      "  %reload_ext autoreload\n"
     ]
    }
   ],
   "source": [
    "import sys\n",
    "import os\n",
    "import json\n",
    "import pandas as pd\n",
    "import numpy as np\n",
    "import random\n",
    "import copy\n",
    "from datetime import datetime\n",
    "from collections import Counter, defaultdict\n",
    "\n",
    "# Visualization packages\n",
    "import altair as alt\n",
    "import matplotlib.pyplot as plt\n",
    "import seaborn as sns\n",
    "from matplotlib.patches import Patch\n",
    "\n",
    "# Append system path\n",
    "sys.path = [p for p in sys.path if not p.endswith('../..')]  # Cleans duplicated '../..'\n",
    "sys.path.insert(0, '../')  # This adds `src` to the path\n",
    "\n",
    "from helpers import io, filters, constants\n",
    "from analysis import analysis_util, analysis_constants, visualization_util\n",
    "from web_analysis import parse_robots\n",
    "from web_analysis import robots_util\n",
    "\n",
    "\n",
    "%load_ext autoreload\n",
    "%autoreload 2"
   ]
  },
  {
   "cell_type": "code",
   "execution_count": 370,
   "id": "f2133323-eca3-44bc-9694-d8b0fbd51069",
   "metadata": {},
   "outputs": [],
   "source": [
    "COMPANIES_TO_ANALYZE = [\"Google\", \"OpenAI\", \"Anthropic\", \"Cohere\", \"Common Crawl\", \"Meta\"]"
   ]
  },
  {
   "cell_type": "code",
   "execution_count": 288,
   "id": "3a3b2a93-5a35-4c7e-b087-73dd4db273f9",
   "metadata": {},
   "outputs": [],
   "source": [
    "url_token_lookup = robots_util.URLTokenLookup('pretrain_data/relevant_url_token_counts.csv') # 'c4', 'rf', 'dolma'\n",
    "c4_url_to_counts = url_token_lookup.get_url_to_token_map(\"c4\")"
   ]
  },
  {
   "cell_type": "code",
   "execution_count": 8,
   "id": "41e969a9-1d0b-4b95-9ccf-ff15840d94e3",
   "metadata": {},
   "outputs": [
    {
     "name": "stdout",
     "output_type": "stream",
     "text": [
      "830\n",
      "6230\n",
      "7059\n"
     ]
    }
   ],
   "source": [
    "# URL -> Date -> Robots.txt raw text\n",
    "head_robots = io.read_json(\"robots_data/temporal_robots_head.json\")\n",
    "random_10k_robots = io.read_json(\"robots_data/temporal_robots_rand_10k.json\")\n",
    "joined_robots = copy.deepcopy(head_robots)\n",
    "joined_robots.update(random_10k_robots)\n",
    "print(len(head_robots))\n",
    "print(len(random_10k_robots))\n",
    "print(len(joined_robots))"
   ]
  },
  {
   "cell_type": "code",
   "execution_count": null,
   "id": "70351b94-b889-4f16-9c31-56fd61f43464",
   "metadata": {},
   "outputs": [],
   "source": []
  },
  {
   "cell_type": "code",
   "execution_count": null,
   "id": "2218c408-8619-4018-8856-f64ab27f02e5",
   "metadata": {},
   "outputs": [],
   "source": []
  },
  {
   "cell_type": "code",
   "execution_count": 326,
   "id": "7adaf63c-a894-41db-8d4d-0e4df880ae17",
   "metadata": {},
   "outputs": [],
   "source": []
  },
  {
   "cell_type": "code",
   "execution_count": null,
   "id": "3c0275ee-dce5-4c46-85fe-054d003cc430",
   "metadata": {},
   "outputs": [],
   "source": []
  },
  {
   "cell_type": "code",
   "execution_count": null,
   "id": "810a9336-5adf-40f6-a65a-9d6384b01599",
   "metadata": {},
   "outputs": [],
   "source": []
  },
  {
   "cell_type": "code",
   "execution_count": 9,
   "id": "9362bb7c-376f-41af-84eb-bd6cb8bcbb56",
   "metadata": {},
   "outputs": [
    {
     "name": "stdout",
     "output_type": "stream",
     "text": [
      "2016-01-01\n",
      "2024-04-19\n",
      "['2016-01-01', '2016-01-02', '2016-01-03', '2016-01-04', '2016-01-05', '2016-01-06', '2016-01-07', '2016-01-08', '2016-01-09', '2016-01-10']\n",
      "['2024-04-10', '2024-04-11', '2024-04-12', '2024-04-13', '2024-04-14', '2024-04-15', '2024-04-16', '2024-04-17', '2024-04-18', '2024-04-19']\n"
     ]
    }
   ],
   "source": [
    "# Print out start and end years of the data:\n",
    "\n",
    "all_times = []\n",
    "for k, vs in joined_robots.items():\n",
    "    for time in vs:\n",
    "        all_times.append(time)\n",
    "all_times = set(all_times)\n",
    "print(min(all_times))\n",
    "print(max(all_times))\n",
    "print(sorted(all_times)[:10])\n",
    "print(sorted(all_times)[-10:])"
   ]
  },
  {
   "cell_type": "code",
   "execution_count": null,
   "id": "0be9fbd0-74cb-4c64-93d9-845de420057b",
   "metadata": {},
   "outputs": [],
   "source": []
  },
  {
   "cell_type": "code",
   "execution_count": null,
   "id": "bb8b750e-3c52-4578-a486-b8ad1a2a88a1",
   "metadata": {},
   "outputs": [],
   "source": []
  },
  {
   "cell_type": "code",
   "execution_count": null,
   "id": "7f1b7028-19bc-4011-9e44-45c7f63c3647",
   "metadata": {},
   "outputs": [],
   "source": []
  },
  {
   "cell_type": "code",
   "execution_count": 371,
   "id": "95af6c29-6b79-44c0-b98f-199376387ebf",
   "metadata": {},
   "outputs": [],
   "source": [
    "agent_groups_to_track = robots_util.get_bot_groups(COMPANIES_TO_ANALYZE)\n",
    "agents_to_track = robots_util.get_bots()\n",
    "# {URL --> Date --> Agent --> Status}\n",
    "url_robots_summary = robots_util.compute_url_date_agent_status(\n",
    "    data=joined_robots, \n",
    "    # relevant_agents=agents_to_track)\n",
    "    relevant_agents=[v for vs in agent_groups_to_track.values() for v in vs])"
   ]
  },
  {
   "cell_type": "code",
   "execution_count": 12,
   "id": "d0239870-9790-48bb-8222-b2174a4f0ec1",
   "metadata": {},
   "outputs": [
    {
     "name": "stdout",
     "output_type": "stream",
     "text": [
      "Number of tokens in 1000 URLs: 13808461301 | 8.12% of c4\n"
     ]
    }
   ],
   "source": [
    "# top N sample: TODO: Top 1k vs top 800 token info.\n",
    "top_c4_urls = url_token_lookup.top_k_urls(\"c4\", 1000)\n",
    "url_robots_summary_head = {k: url_robots_summary[k] for k in top_c4_urls if k in top_c4_urls}\n",
    "url_robots_summary_rand = {k: url_robots_summary[k] for k, _ in random_10k_robots.items()}"
   ]
  },
  {
   "cell_type": "code",
   "execution_count": null,
   "id": "e1829918-f4c8-4bc9-a1a5-d947eb9e0b1d",
   "metadata": {},
   "outputs": [],
   "source": []
  },
  {
   "cell_type": "code",
   "execution_count": null,
   "id": "780c050e-da04-4075-83f3-7db9c3b76105",
   "metadata": {},
   "outputs": [],
   "source": []
  },
  {
   "cell_type": "code",
   "execution_count": null,
   "id": "960845ad-62c7-49d7-8f38-f80d04ffdea5",
   "metadata": {},
   "outputs": [],
   "source": []
  },
  {
   "cell_type": "code",
   "execution_count": 13,
   "id": "8ec0037e-10d4-4e31-9d22-43ea43ff69b2",
   "metadata": {},
   "outputs": [],
   "source": [
    "\n"
   ]
  },
  {
   "cell_type": "code",
   "execution_count": 289,
   "id": "4bb1d912-236d-44fc-8512-f8f4058c9ec4",
   "metadata": {},
   "outputs": [
    {
     "name": "stdout",
     "output_type": "stream",
     "text": [
      "Bucket 0-1000: 4729\n",
      "Bucket 1000-10000: 4064\n",
      "Bucket 10000-50000: 1411\n",
      "Bucket 50000-1000000: 896\n",
      "Bucket 1000000-10000000: 2441\n",
      "Bucket 10000000-50000000: 429\n",
      "Bucket 50000000-9999999999999999: 19\n"
     ]
    }
   ],
   "source": [
    "size_bucket_to_urls = robots_util.bucket_urls_by_size(\n",
    "    c4_url_to_counts, \n",
    "    bucket_boundaries=[0, 1000, 10000, 50000, 1000000, 10000000, 50000000, 9999999999999999]\n",
    ")"
   ]
  },
  {
   "cell_type": "code",
   "execution_count": 307,
   "id": "4ba4c685-e865-4ea6-bf06-ca91edd923ae",
   "metadata": {},
   "outputs": [
    {
     "name": "stdout",
     "output_type": "stream",
     "text": [
      "7059\n",
      "defaultdict(<function plot_size_against_restrictions.<locals>.<lambda> at 0x1366ec820>, {'10000000-50000000': [77, 167, 109], '1000000-10000000': [73, 223, 172], '50000000-9999999999999999': [5, 8, 4], '10000-50000': [16, 636, 327], '0-1000': [36, 1315, 886], '50000-1000000': [11, 220, 133], '1000-10000': [43, 1684, 914]})\n"
     ]
    },
    {
     "data": {
      "text/html": [
       "\n",
       "<style>\n",
       "  #altair-viz-85bf5cf3e1f74ca2a9f5e117db5ad248.vega-embed {\n",
       "    width: 100%;\n",
       "    display: flex;\n",
       "  }\n",
       "\n",
       "  #altair-viz-85bf5cf3e1f74ca2a9f5e117db5ad248.vega-embed details,\n",
       "  #altair-viz-85bf5cf3e1f74ca2a9f5e117db5ad248.vega-embed details summary {\n",
       "    position: relative;\n",
       "  }\n",
       "</style>\n",
       "<div id=\"altair-viz-85bf5cf3e1f74ca2a9f5e117db5ad248\"></div>\n",
       "<script type=\"text/javascript\">\n",
       "  var VEGA_DEBUG = (typeof VEGA_DEBUG == \"undefined\") ? {} : VEGA_DEBUG;\n",
       "  (function(spec, embedOpt){\n",
       "    let outputDiv = document.currentScript.previousElementSibling;\n",
       "    if (outputDiv.id !== \"altair-viz-85bf5cf3e1f74ca2a9f5e117db5ad248\") {\n",
       "      outputDiv = document.getElementById(\"altair-viz-85bf5cf3e1f74ca2a9f5e117db5ad248\");\n",
       "    }\n",
       "    const paths = {\n",
       "      \"vega\": \"https://cdn.jsdelivr.net/npm/vega@5?noext\",\n",
       "      \"vega-lib\": \"https://cdn.jsdelivr.net/npm/vega-lib?noext\",\n",
       "      \"vega-lite\": \"https://cdn.jsdelivr.net/npm/vega-lite@5.17.0?noext\",\n",
       "      \"vega-embed\": \"https://cdn.jsdelivr.net/npm/vega-embed@6?noext\",\n",
       "    };\n",
       "\n",
       "    function maybeLoadScript(lib, version) {\n",
       "      var key = `${lib.replace(\"-\", \"\")}_version`;\n",
       "      return (VEGA_DEBUG[key] == version) ?\n",
       "        Promise.resolve(paths[lib]) :\n",
       "        new Promise(function(resolve, reject) {\n",
       "          var s = document.createElement('script');\n",
       "          document.getElementsByTagName(\"head\")[0].appendChild(s);\n",
       "          s.async = true;\n",
       "          s.onload = () => {\n",
       "            VEGA_DEBUG[key] = version;\n",
       "            return resolve(paths[lib]);\n",
       "          };\n",
       "          s.onerror = () => reject(`Error loading script: ${paths[lib]}`);\n",
       "          s.src = paths[lib];\n",
       "        });\n",
       "    }\n",
       "\n",
       "    function showError(err) {\n",
       "      outputDiv.innerHTML = `<div class=\"error\" style=\"color:red;\">${err}</div>`;\n",
       "      throw err;\n",
       "    }\n",
       "\n",
       "    function displayChart(vegaEmbed) {\n",
       "      vegaEmbed(outputDiv, spec, embedOpt)\n",
       "        .catch(err => showError(`Javascript Error: ${err.message}<br>This usually means there's a typo in your chart specification. See the javascript console for the full traceback.`));\n",
       "    }\n",
       "\n",
       "    if(typeof define === \"function\" && define.amd) {\n",
       "      requirejs.config({paths});\n",
       "      require([\"vega-embed\"], displayChart, err => showError(`Error loading script: ${err.message}`));\n",
       "    } else {\n",
       "      maybeLoadScript(\"vega\", \"5\")\n",
       "        .then(() => maybeLoadScript(\"vega-lite\", \"5.17.0\"))\n",
       "        .then(() => maybeLoadScript(\"vega-embed\", \"6\"))\n",
       "        .catch(showError)\n",
       "        .then(() => displayChart(vegaEmbed));\n",
       "    }\n",
       "  })({\"config\": {\"view\": {\"continuousWidth\": 300, \"continuousHeight\": 300}}, \"layer\": [{\"mark\": {\"type\": \"bar\", \"width\": 50}, \"encoding\": {\"color\": {\"field\": \"category\", \"legend\": {\"title\": null}, \"scale\": {\"range\": [\"#e04c71\", \"#e0cd92\", \"#82b5cf\"]}, \"sort\": [\"Full Restrictions\", \"Some Restrictions\", \"No Restrictions\"], \"type\": \"nominal\"}, \"order\": {\"field\": \"order\", \"type\": \"ordinal\"}, \"x\": {\"axis\": {\"labelAngle\": -25, \"labelFontSize\": 14}, \"field\": \"index\", \"sort\": [\"0-1000\", \"1000-10000\", \"10000-50000\", \"50000-1000000\", \"1000000-10000000\", \"10000000-50000000\", \"50000000-9999999999999999\"], \"title\": null, \"type\": \"nominal\"}, \"y\": {\"axis\": {\"format\": \"%\", \"labelFontSize\": 14, \"title\": \"Percentage (%)\", \"titleFontSize\": 16, \"titleFontWeight\": \"normal\"}, \"field\": \"percentage\", \"scale\": {\"domain\": [0, 1]}, \"sort\": [\"Full Restrictions\", \"Some Restrictions\", \"No Restrictions\"], \"stack\": \"normalize\", \"type\": \"quantitative\"}}}, {\"mark\": {\"type\": \"text\", \"align\": \"center\", \"baseline\": \"middle\", \"color\": \"white\", \"dx\": 0, \"dy\": -7, \"fontSize\": 14}, \"encoding\": {\"color\": {\"field\": \"category\", \"legend\": {\"title\": null}, \"scale\": {\"range\": [\"#e04c71\", \"#e0cd92\", \"#82b5cf\"]}, \"sort\": [\"Full Restrictions\", \"Some Restrictions\", \"No Restrictions\"], \"type\": \"nominal\"}, \"order\": {\"field\": \"order\", \"type\": \"ordinal\"}, \"text\": {\"condition\": {\"test\": \"(datum.percentage > 0.05)\", \"field\": \"percentage\", \"format\": \".1f\", \"type\": \"quantitative\"}, \"value\": \"\"}, \"x\": {\"axis\": {\"labelAngle\": -25, \"labelFontSize\": 14}, \"field\": \"index\", \"sort\": [\"0-1000\", \"1000-10000\", \"10000-50000\", \"50000-1000000\", \"1000000-10000000\", \"10000000-50000000\", \"50000000-9999999999999999\"], \"title\": null, \"type\": \"nominal\"}, \"y\": {\"axis\": {\"format\": \"%\", \"labelFontSize\": 14, \"title\": \"Percentage (%)\", \"titleFontSize\": 16, \"titleFontWeight\": \"normal\"}, \"field\": \"percentage\", \"scale\": {\"domain\": [0, 1]}, \"sort\": [\"Full Restrictions\", \"Some Restrictions\", \"No Restrictions\"], \"stack\": \"normalize\", \"type\": \"quantitative\"}}}, {\"data\": {\"name\": \"data-82582c223e837c779f3b8e4f89c6849c\"}, \"mark\": {\"type\": \"text\", \"align\": \"center\", \"baseline\": \"top\", \"dy\": -32, \"fontSize\": 14}, \"encoding\": {\"text\": {\"field\": \"text_label\", \"type\": \"nominal\"}, \"x\": {\"field\": \"index\", \"sort\": [\"Full Restrictions\", \"Some Restrictions\", \"No Restrictions\"], \"title\": null, \"type\": \"nominal\"}, \"y\": {\"value\": 0}}}], \"data\": {\"name\": \"data-1ff5956d7449084efdf7a6bcbe3e4f29\"}, \"height\": 140, \"title\": \"\", \"width\": 850, \"$schema\": \"https://vega.github.io/schema/vega-lite/v5.17.0.json\", \"datasets\": {\"data-1ff5956d7449084efdf7a6bcbe3e4f29\": [{\"index\": \"0-1000\", \"category\": \"Full Restrictions\", \"value\": 36, \"percentage\": 1.6092981671881983, \"order\": 0}, {\"index\": \"1000-10000\", \"category\": \"Full Restrictions\", \"value\": 43, \"percentage\": 1.628171147292692, \"order\": 0}, {\"index\": \"10000-50000\", \"category\": \"Full Restrictions\", \"value\": 16, \"percentage\": 1.634320735444331, \"order\": 0}, {\"index\": \"50000-1000000\", \"category\": \"Full Restrictions\", \"value\": 11, \"percentage\": 3.021978021978022, \"order\": 0}, {\"index\": \"1000000-10000000\", \"category\": \"Full Restrictions\", \"value\": 73, \"percentage\": 15.598290598290598, \"order\": 0}, {\"index\": \"10000000-50000000\", \"category\": \"Full Restrictions\", \"value\": 77, \"percentage\": 21.813031161473088, \"order\": 0}, {\"index\": \"\\n50000000-9999999999999999\", \"category\": \"Full Restrictions\", \"value\": 5, \"percentage\": 29.411764705882355, \"order\": 0}, {\"index\": \"0-1000\", \"category\": \"Some Restrictions\", \"value\": 1315, \"percentage\": 58.784085829235586, \"order\": 1}, {\"index\": \"1000-10000\", \"category\": \"Some Restrictions\", \"value\": 1684, \"percentage\": 63.763725861416134, \"order\": 1}, {\"index\": \"10000-50000\", \"category\": \"Some Restrictions\", \"value\": 636, \"percentage\": 64.96424923391216, \"order\": 1}, {\"index\": \"50000-1000000\", \"category\": \"Some Restrictions\", \"value\": 220, \"percentage\": 60.43956043956044, \"order\": 1}, {\"index\": \"1000000-10000000\", \"category\": \"Some Restrictions\", \"value\": 223, \"percentage\": 47.64957264957265, \"order\": 1}, {\"index\": \"10000000-50000000\", \"category\": \"Some Restrictions\", \"value\": 167, \"percentage\": 47.30878186968839, \"order\": 1}, {\"index\": \"\\n50000000-9999999999999999\", \"category\": \"Some Restrictions\", \"value\": 8, \"percentage\": 47.05882352941176, \"order\": 1}, {\"index\": \"0-1000\", \"category\": \"No Restrictions\", \"value\": 886, \"percentage\": 39.606616003576214, \"order\": 2}, {\"index\": \"1000-10000\", \"category\": \"No Restrictions\", \"value\": 914, \"percentage\": 34.608102991291176, \"order\": 2}, {\"index\": \"10000-50000\", \"category\": \"No Restrictions\", \"value\": 327, \"percentage\": 33.40143003064352, \"order\": 2}, {\"index\": \"50000-1000000\", \"category\": \"No Restrictions\", \"value\": 133, \"percentage\": 36.53846153846153, \"order\": 2}, {\"index\": \"1000000-10000000\", \"category\": \"No Restrictions\", \"value\": 172, \"percentage\": 36.75213675213676, \"order\": 2}, {\"index\": \"10000000-50000000\", \"category\": \"No Restrictions\", \"value\": 109, \"percentage\": 30.878186968838527, \"order\": 2}, {\"index\": \"\\n50000000-9999999999999999\", \"category\": \"No Restrictions\", \"value\": 4, \"percentage\": 23.52941176470588, \"order\": 2}], \"data-82582c223e837c779f3b8e4f89c6849c\": [{\"index\": \"0-1000\", \"total\": 2237, \"text_label\": \"(2237)\"}, {\"index\": \"1000-10000\", \"total\": 2641, \"text_label\": \"(2641)\"}, {\"index\": \"10000-50000\", \"total\": 979, \"text_label\": \"(979)\"}, {\"index\": \"50000-1000000\", \"total\": 364, \"text_label\": \"(364)\"}, {\"index\": \"1000000-10000000\", \"total\": 468, \"text_label\": \"(468)\"}, {\"index\": \"10000000-50000000\", \"total\": 353, \"text_label\": \"(353)\"}, {\"index\": \"\\n50000000-9999999999999999\", \"total\": 17, \"text_label\": \"(17)\"}]}}, {\"mode\": \"vega-lite\"});\n",
       "</script>"
      ],
      "text/plain": [
       "alt.LayerChart(...)"
      ]
     },
     "execution_count": 307,
     "metadata": {},
     "output_type": "execute_result"
    }
   ],
   "source": [
    "robots_util.plot_size_against_restrictions(\n",
    "    url_robots_summary,\n",
    "    size_bucket_to_urls,\n",
    "    \"OpenAI\",\n",
    "    setting=\"train\"\n",
    ")"
   ]
  },
  {
   "cell_type": "code",
   "execution_count": null,
   "id": "67f44999-1367-42ec-8b5b-a44acdc0388a",
   "metadata": {},
   "outputs": [],
   "source": []
  },
  {
   "cell_type": "code",
   "execution_count": 296,
   "id": "4455c52b-b3c5-4da6-a5f2-6c9e3a6b8113",
   "metadata": {},
   "outputs": [
    {
     "name": "stdout",
     "output_type": "stream",
     "text": [
      "2016-01\n"
     ]
    },
    {
     "name": "stderr",
     "output_type": "stream",
     "text": [
      "../web_analysis/robots_util.py:242: UserWarning: Discarding nonzero nanoseconds in conversion.\n",
      "  \n"
     ]
    },
    {
     "name": "stdout",
     "output_type": "stream",
     "text": [
      "2016-11\n",
      "2017-09\n",
      "2018-07\n",
      "2019-05\n",
      "2020-03\n",
      "2021-01\n",
      "2021-11\n",
      "2022-09\n",
      "2023-07\n",
      "2016-01\n",
      "2016-11\n",
      "2017-09\n",
      "2018-07\n",
      "2019-05\n",
      "2020-03\n",
      "2021-01\n",
      "2021-11\n",
      "2022-09\n",
      "2023-07\n"
     ]
    }
   ],
   "source": [
    "\n",
    "# {Period --> Agent --> Status --> set(URLs)}\n",
    "robots_filled_status_head_summary = robots_util.prepare_robots_temporal_summary(\n",
    "    url_robots_summary=url_robots_summary_head, \n",
    "    # group_to_agents={k: [k] for k in agents_to_track},\n",
    "    group_to_agents=agent_groups_to_track,\n",
    "    start_time='2016-01-01', \n",
    "    end_time='2024-04-30',\n",
    "    time_frequency=\"M\",\n",
    ")\n",
    "robots_filled_status_rand_summary = robots_util.prepare_robots_temporal_summary(\n",
    "    url_robots_summary=url_robots_summary_rand, \n",
    "    # group_to_agents={k: [k] for k in agents_to_track},\n",
    "    group_to_agents=agent_groups_to_track,\n",
    "    start_time='2016-01-01', \n",
    "    end_time='2024-04-30',\n",
    "    time_frequency=\"M\",\n",
    ")\n"
   ]
  },
  {
   "cell_type": "code",
   "execution_count": 297,
   "id": "88ac88c6-1413-47a9-9338-994ff2f2f44d",
   "metadata": {},
   "outputs": [],
   "source": [
    "\n",
    "# Dataframe w/ [Period, Agent, Status, count(URLs or tokens)]\n",
    "robots_temporal_head_summary = robots_util.robots_temporal_to_df(\n",
    "    robots_filled_status_head_summary,\n",
    "    url_to_counts=c4_url_to_counts,\n",
    ")\n",
    "# Dataframe w/ [Period, Agent, Status, count(URLs or tokens)]\n",
    "robots_temporal_rand_summary = robots_util.robots_temporal_to_df(\n",
    "    robots_filled_status_rand_summary,\n",
    "    url_to_counts=c4_url_to_counts,\n",
    ")"
   ]
  },
  {
   "cell_type": "code",
   "execution_count": 285,
   "id": "62e60b8b-863c-4558-827a-4ce9b2b99623",
   "metadata": {},
   "outputs": [],
   "source": [
    "# robots_temporal_head_summary"
   ]
  },
  {
   "cell_type": "code",
   "execution_count": null,
   "id": "20bc2244-2f4f-49ff-ac0d-7fdd177bd796",
   "metadata": {},
   "outputs": [],
   "source": []
  },
  {
   "cell_type": "code",
   "execution_count": 349,
   "id": "1a44426e-5eb3-4ba0-8d39-6036cc4b1d66",
   "metadata": {},
   "outputs": [
    {
     "name": "stdout",
     "output_type": "stream",
     "text": [
      "6663 rows before filtering.\n",
      "3017 rows after filtering. 1550 issues, 2096 unannotated.\n",
      "7059\n",
      "Num URLs in Top-100: 68\n",
      "Num URLs in Top-500: 323\n",
      "Num URLs in Top-2000: 1013\n",
      "Num URLs in random sample: 1056\n",
      "\\begin{tabular}{lrrrrll}\n",
      "\\toprule\n",
      " & Top 100 & Top 500 & Top 2000 & Random & Chi-Squared Stat & P-value \\\\\n",
      "\\midrule\n",
      "User Content & 22.1 & 19.5 & 18.9 & 19.1 & 2.44 & 0.12 \\\\\n",
      "Paywall & 30.9 & 35.9 & 29.8 & 1.8 & 0.00 & 1.00 \\\\\n",
      "Ads & 51.5 & 56.0 & 52.0 & 5.8 & 9.35 & 0.00 \\\\\n",
      "Modality: Image & 92.7 & 98.1 & 98.3 & 94.0 & 0.03 & 0.86 \\\\\n",
      "Modality: Video & 85.3 & 81.7 & 68.2 & 19.9 & 9.14 & 0.00 \\\\\n",
      "Modality: Audio & 82.3 & 75.2 & 53.7 & 3.2 & 2.77 & 0.10 \\\\\n",
      "Sensitive Content & 0.0 & 0.6 & 0.9 & 0.6 & 0.00 & 1.00 \\\\\n",
      "Restrictive Robots.txt & 27.9 & 18.6 & 10.6 & 1.1 & 0.61 & 0.43 \\\\\n",
      "Restrictive Terms & 23.5 & 23.2 & 17.5 & 3.9 & 2.89 & 0.09 \\\\\n",
      "domain\\_Blogs & 1.5 & 1.9 & 2.8 & 16.5 & 2.65 & 0.10 \\\\\n",
      "domain\\_Books & 7.3 & 4.3 & 3.8 & 2.9 & 0.05 & 0.82 \\\\\n",
      "domain\\_Business \\& E-Commerce & 13.2 & 18.0 & 20.4 & 58.1 & 0.66 & 0.42 \\\\\n",
      "domain\\_Entertainment \\& Culture & 17.6 & 25.1 & 31.6 & 40.9 & 2.59 & 0.11 \\\\\n",
      "domain\\_General Information \\& Education & 27.9 & 19.8 & 18.4 & 17.7 & 0.66 & 0.42 \\\\\n",
      "domain\\_Legal \\& Policy & 19.1 & 10.8 & 8.8 & 4.5 & 0.67 & 0.41 \\\\\n",
      "domain\\_News & 36.8 & 52.9 & 50.6 & 6.8 & 4.40 & 0.04 \\\\\n",
      "domain\\_Other & 4.4 & 2.8 & 4.2 & 12.6 & 0.12 & 0.73 \\\\\n",
      "domain\\_Science, Academia, \\& Technology & 25.0 & 20.7 & 20.8 & 27.2 & 1.23 & 0.27 \\\\\n",
      "domain\\_Social Media/Forums & 13.2 & 9.6 & 12.4 & 2.6 & 0.68 & 0.41 \\\\\n",
      "services\\_Academic & 16.2 & 10.2 & 9.7 & 4.8 & 0.60 & 0.44 \\\\\n",
      "services\\_Blogs & 1.5 & 1.9 & 2.8 & 16.5 & 2.65 & 0.10 \\\\\n",
      "services\\_E-Commerce & 5.9 & 9.3 & 12.4 & 12.9 & 1.21 & 0.27 \\\\\n",
      "services\\_Encyclopedia/Database & 19.1 & 13.6 & 11.0 & 0.8 & 1.58 & 0.21 \\\\\n",
      "services\\_Government & 5.9 & 3.4 & 3.1 & 0.8 & 0.00 & 1.00 \\\\\n",
      "services\\_News/Periodicals & 36.8 & 52.9 & 50.6 & 6.8 & 4.40 & 0.04 \\\\\n",
      "services\\_Organization/Personal Website & 14.7 & 13.0 & 13.5 & 66.6 & 8.62 & 0.00 \\\\\n",
      "services\\_Other & 17.6 & 9.9 & 10.3 & 17.4 & 0.99 & 0.32 \\\\\n",
      "services\\_Social Media/Forums & 13.2 & 9.6 & 12.4 & 2.6 & 0.68 & 0.41 \\\\\n",
      "\\bottomrule\n",
      "\\end{tabular}\n",
      "\n"
     ]
    }
   ],
   "source": [
    "url_to_info = analysis_util.extract_url_annotations([\"annotated_websites/Task 1\", \"annotated_websites/Task 2\"])\n",
    "url_results_df = pd.DataFrame(analysis_util.process_url_annotations(url_to_info))\n",
    "url_results_df = analysis_util.encode_size_columns(url_results_df, url_token_lookup)\n",
    "url_results_df = robots_util.encode_latest_tos_robots_into_df(\n",
    "    url_results_df, tos_policies, url_robots_summary,\n",
    "    [\"Google\", \"OpenAI\", \"Anthropic\", \"Cohere\", \"Common Crawl\", \"Meta\"]\n",
    ")\n",
    "\n",
    "url_correlation_df = analysis_util.analyze_url_variable_correlations(url_results_df, [100, 500, 2000], \"dolma\")\n",
    "\n",
    "# Convert the dataframe to a LaTeX table\n",
    "latex_table = url_correlation_df.to_latex(index=True, escape=True, float_format=\"{:.1f}\".format)\n",
    "print(latex_table)"
   ]
  },
  {
   "cell_type": "code",
   "execution_count": null,
   "id": "a4bdfd16-c68d-4f0a-ad41-243834ca8d0c",
   "metadata": {},
   "outputs": [],
   "source": [
    "companies = [\"Google\", \"OpenAI\", \"Anthropic\", \"Cohere\", \"Common Crawl\", \"Meta\"]\n",
    "for company in companies:\n",
    "    # {URL --> Date --> Agent --> Status}\n",
    "    url_robots_summary[url][date][company]\n",
    "    # get latest\n",
    "    # df: [company1, company2, status1, status2]\n",
    "    # plot confusion matrix.\n",
    "    \n",
    "    \n",
    "\n"
   ]
  },
  {
   "cell_type": "code",
   "execution_count": 346,
   "id": "e29a9266-3668-4cfe-882a-e4a6dd77c57f",
   "metadata": {},
   "outputs": [
    {
     "name": "stdout",
     "output_type": "stream",
     "text": [
      "7059\n"
     ]
    }
   ],
   "source": []
  },
  {
   "cell_type": "code",
   "execution_count": null,
   "id": "fd70e864-fcd7-4c08-8d25-1aef3d298937",
   "metadata": {},
   "outputs": [],
   "source": []
  },
  {
   "cell_type": "code",
   "execution_count": null,
   "id": "1cf458b4-89c7-41dd-838e-c4413f0062ae",
   "metadata": {},
   "outputs": [],
   "source": []
  },
  {
   "cell_type": "code",
   "execution_count": null,
   "id": "176452ac-e781-4f7f-9708-cb2742aa570c",
   "metadata": {},
   "outputs": [],
   "source": []
  },
  {
   "cell_type": "code",
   "execution_count": null,
   "id": "27acc05b-ccb1-465e-bda6-ed87c06e2d3f",
   "metadata": {},
   "outputs": [],
   "source": []
  },
  {
   "cell_type": "code",
   "execution_count": 350,
   "id": "b759c067-7994-410d-8132-14ff7c579af9",
   "metadata": {},
   "outputs": [],
   "source": [
    "\n",
    "\n",
    "# for agent in agents_to_track:\n",
    "#     robots_util.plot_robots_time_map(robots_temporal_summary, agent)\n",
    "\n",
    "# for group in agent_groups_to_track:\n",
    "#     robots_util.plot_robots_time_map(robots_temporal_head_summary, group, val_key=\"count\")"
   ]
  },
  {
   "cell_type": "code",
   "execution_count": null,
   "id": "6a9f42bc-073a-4226-8ce9-a4ab837b62f3",
   "metadata": {},
   "outputs": [],
   "source": []
  },
  {
   "cell_type": "code",
   "execution_count": null,
   "id": "af4a5efa-5790-4ee4-9953-0a2aca25aca8",
   "metadata": {},
   "outputs": [],
   "source": [
    "Notes:\n",
    "\n",
    "* Take All Agents and subtract it from the other plots to see the diffs between agents.\n",
    "* How do these charts vary with different quantiles for number of tokens. (Behavior diffs for token rich and token poor)\n",
    "\n",
    "* Incompatability between Robots.txt and ToS? Robots.txt is an encoded ToS for scrapers. Is there more intention detailed in the ToS than the robots?\n",
    "* Robots and ToS update rate. --> How often that the other is updated within T time (robots and ToS).\n",
    "* Analysis: Of all websites that restrict at least one AI bot, what other bots do they restrict? E.g. if you restrict cohere, you probaby also restrict OpenAI\n",
    "P(Cohere restricted | OpenAI restricted)\n",
    "* Include Midjourney, CCBot, IAbot, etc\n",
    "* Vertical lines that show when bots get introduced.\n",
    "\n",
    "* Restrictions are rising across the board.\n",
    "* Company-wise restrictions\n",
    "* Compare for each company their scraping restrictions vs RAG restrictions vs AI bot restrictions (OpenAI, Anthropic)"
   ]
  },
  {
   "cell_type": "code",
   "execution_count": null,
   "id": "d16431c4-51ad-410c-9e46-1052e8a88c93",
   "metadata": {},
   "outputs": [],
   "source": [
    "- company-wise analysis: by agent, by RAG, by scraping\n",
    "- rate of change over time\n",
    "- most added agent in each period (bi-annually?)\n",
    "- token quantity-adjusted\n",
    "- correlation between token size and robots.txt restrictions?\n",
    "- overleaf table for agent mentions and status"
   ]
  },
  {
   "cell_type": "code",
   "execution_count": 133,
   "id": "f5f5ca34-69f3-46b8-b047-45e0470fb764",
   "metadata": {},
   "outputs": [],
   "source": []
  },
  {
   "cell_type": "code",
   "execution_count": null,
   "id": "ef178227-4e4b-4e87-877c-ba52bc2d7f12",
   "metadata": {},
   "outputs": [],
   "source": [
    "tos_policies = io.read_json(\"robots_data/tos_ai_scraping_policies.json\")\n",
    "print(len(tos_policies))"
   ]
  },
  {
   "cell_type": "code",
   "execution_count": 367,
   "id": "b36fc429-a88b-4ddc-b0c0-0fff1ce9bef3",
   "metadata": {},
   "outputs": [],
   "source": [
    "def prepare_tos_robots_confusion_matrix(\n",
    "    tos_policies,\n",
    "    url_robots_summary,\n",
    "    companies,\n",
    "    url_token_lookup,\n",
    "    use_token_counts=True,\n",
    "    corpora_choice=\"c4\",\n",
    "    font_size=20, \n",
    "    font_style='sans-serif',\n",
    "    width=400,\n",
    "    height=400,\n",
    "):\n",
    "    recent_url_robots, recent_tos_verdicts = robots_util.prepare_recent_robots_tos_info(\n",
    "        tos_policies, url_robots_summary, companies,\n",
    "    )\n",
    "\n",
    "    ROBOTS_LABELS = {\n",
    "        \"none\": \"None\",\n",
    "        \"some\": \"Partial\",\n",
    "        \"all\": \"Restricted\",\n",
    "    }\n",
    "    yaxis_order = [\"Restricted\", \"Partial\", \"None\"]\n",
    "    xaxis_order = [\"No Restrictions\", \"Conditional Restrictions\", \"Prohibits AI\", \"Prohibits Scraping\", \"Prohibits Scraping & AI\"]\n",
    "    \n",
    "    # Create a defaultdict to store counts\n",
    "    counts = defaultdict(lambda: defaultdict(int))\n",
    "    token_counts = defaultdict(lambda: defaultdict(int))\n",
    "    \n",
    "    # Count the occurrences of each (status, policy) pair\n",
    "    total_instances, total_tokens = 0, 0\n",
    "    url_token_counts = url_token_lookup.get_url_to_token_map(corpora_choice)\n",
    "    for url in set(recent_url_robots.keys()).intersection(set(recent_tos_verdicts.keys())):\n",
    "    # for url in url_to_status.keys():\n",
    "        status = ROBOTS_LABELS[recent_url_robots.get(url, \"none\")]\n",
    "        policy = recent_tos_verdicts.get(url, \"No Restrictions\")\n",
    "        counts[status][policy] += 1\n",
    "        total_instances += 1\n",
    "        token_counts[status][policy] += url_token_counts[url]\n",
    "        total_tokens += url_token_counts[url]\n",
    "    \n",
    "    # Create a list of tuples (status, policy, count)\n",
    "    data = [{\"Robots Restrictions\": status, \"Terms of Service Policies\": policy, \"Count\": count, \"Token Counts\": token_counts[status][policy],\n",
    "             \"Percent\": round(100 * count / total_instances, 2), \n",
    "             \"Percent Tokens\": round(100 * token_counts[status][policy] / total_tokens, 2),}\n",
    "            for status in yaxis_order\n",
    "            for policy in xaxis_order\n",
    "            if (count := counts[status][policy]) > 0]\n",
    "    \n",
    "    # Create a DataFrame from the list of tuples\n",
    "    df = pd.DataFrame(data)\n",
    "    df['Formatted Percent'] = df['Percent'].apply(lambda x: f\"{x:.1f} %\")\n",
    "    df['Formatted Percent Tokens'] = df['Percent Tokens'].apply(lambda x: f\"{x:.1f} %\")\n",
    "    \n",
    "    if use_token_counts:\n",
    "        color_axis, text_axis = \"Percent Tokens\", \"Formatted Percent Tokens\"\n",
    "    else:\n",
    "        color_axis, text_axis = \"Percent\", \"Formatted Percent\"\n",
    "\n",
    "    # print(df)\n",
    "    return visualization_util.plot_confusion_matrix(\n",
    "        df,\n",
    "        yaxis_order=yaxis_order, \n",
    "        xaxis_order=xaxis_order,\n",
    "        text_axis=text_axis,\n",
    "        color_axis=color_axis,\n",
    "        yaxis_title=\"Robots Restrictions\",\n",
    "        xaxis_title=\"Terms of Service Policies\",\n",
    "        font_size=20, \n",
    "        font_style='sans-serif',\n",
    "        width=400,\n",
    "        height=400,\n",
    "    )\n",
    "\n"
   ]
  },
  {
   "cell_type": "code",
   "execution_count": null,
   "id": "0be22604-7b45-4002-86b6-545c1dcc890e",
   "metadata": {},
   "outputs": [],
   "source": []
  },
  {
   "cell_type": "code",
   "execution_count": 368,
   "id": "c9fa9195-b1e7-491b-b3b6-3e0cc156058b",
   "metadata": {},
   "outputs": [
    {
     "name": "stdout",
     "output_type": "stream",
     "text": [
      "7059\n",
      "   Robots Restrictions Terms of Service Policies  Count  Token Counts  \\\n",
      "0           Restricted           No Restrictions    124    1881478619   \n",
      "1           Restricted  Conditional Restrictions      2       6100820   \n",
      "2           Restricted        Prohibits Scraping     33     398210781   \n",
      "3           Restricted   Prohibits Scraping & AI      9     192894509   \n",
      "4              Partial           No Restrictions    538    4352218487   \n",
      "5              Partial  Conditional Restrictions      9      92340616   \n",
      "6              Partial        Prohibits Scraping     64     578228505   \n",
      "7              Partial   Prohibits Scraping & AI      7      73522104   \n",
      "8                 None           No Restrictions    290    1691396249   \n",
      "9                 None  Conditional Restrictions     10     131290077   \n",
      "10                None        Prohibits Scraping     35     419625075   \n",
      "11                None   Prohibits Scraping & AI      4      47134951   \n",
      "\n",
      "    Percent  Percent Tokens Formatted Percent Formatted Percent Tokens  \n",
      "0     11.02           19.07            11.0 %                   19.1 %  \n",
      "1      0.18            0.06             0.2 %                    0.1 %  \n",
      "2      2.93            4.04             2.9 %                    4.0 %  \n",
      "3      0.80            1.96             0.8 %                    2.0 %  \n",
      "4     47.82           44.12            47.8 %                   44.1 %  \n",
      "5      0.80            0.94             0.8 %                    0.9 %  \n",
      "6      5.69            5.86             5.7 %                    5.9 %  \n",
      "7      0.62            0.75             0.6 %                    0.8 %  \n",
      "8     25.78           17.15            25.8 %                   17.1 %  \n",
      "9      0.89            1.33             0.9 %                    1.3 %  \n",
      "10     3.11            4.25             3.1 %                    4.2 %  \n",
      "11     0.36            0.48             0.4 %                    0.5 %  \n"
     ]
    },
    {
     "data": {
      "text/html": [
       "\n",
       "<style>\n",
       "  #altair-viz-c22eaa27c66944bb830a523f69231500.vega-embed {\n",
       "    width: 100%;\n",
       "    display: flex;\n",
       "  }\n",
       "\n",
       "  #altair-viz-c22eaa27c66944bb830a523f69231500.vega-embed details,\n",
       "  #altair-viz-c22eaa27c66944bb830a523f69231500.vega-embed details summary {\n",
       "    position: relative;\n",
       "  }\n",
       "</style>\n",
       "<div id=\"altair-viz-c22eaa27c66944bb830a523f69231500\"></div>\n",
       "<script type=\"text/javascript\">\n",
       "  var VEGA_DEBUG = (typeof VEGA_DEBUG == \"undefined\") ? {} : VEGA_DEBUG;\n",
       "  (function(spec, embedOpt){\n",
       "    let outputDiv = document.currentScript.previousElementSibling;\n",
       "    if (outputDiv.id !== \"altair-viz-c22eaa27c66944bb830a523f69231500\") {\n",
       "      outputDiv = document.getElementById(\"altair-viz-c22eaa27c66944bb830a523f69231500\");\n",
       "    }\n",
       "    const paths = {\n",
       "      \"vega\": \"https://cdn.jsdelivr.net/npm/vega@5?noext\",\n",
       "      \"vega-lib\": \"https://cdn.jsdelivr.net/npm/vega-lib?noext\",\n",
       "      \"vega-lite\": \"https://cdn.jsdelivr.net/npm/vega-lite@5.17.0?noext\",\n",
       "      \"vega-embed\": \"https://cdn.jsdelivr.net/npm/vega-embed@6?noext\",\n",
       "    };\n",
       "\n",
       "    function maybeLoadScript(lib, version) {\n",
       "      var key = `${lib.replace(\"-\", \"\")}_version`;\n",
       "      return (VEGA_DEBUG[key] == version) ?\n",
       "        Promise.resolve(paths[lib]) :\n",
       "        new Promise(function(resolve, reject) {\n",
       "          var s = document.createElement('script');\n",
       "          document.getElementsByTagName(\"head\")[0].appendChild(s);\n",
       "          s.async = true;\n",
       "          s.onload = () => {\n",
       "            VEGA_DEBUG[key] = version;\n",
       "            return resolve(paths[lib]);\n",
       "          };\n",
       "          s.onerror = () => reject(`Error loading script: ${paths[lib]}`);\n",
       "          s.src = paths[lib];\n",
       "        });\n",
       "    }\n",
       "\n",
       "    function showError(err) {\n",
       "      outputDiv.innerHTML = `<div class=\"error\" style=\"color:red;\">${err}</div>`;\n",
       "      throw err;\n",
       "    }\n",
       "\n",
       "    function displayChart(vegaEmbed) {\n",
       "      vegaEmbed(outputDiv, spec, embedOpt)\n",
       "        .catch(err => showError(`Javascript Error: ${err.message}<br>This usually means there's a typo in your chart specification. See the javascript console for the full traceback.`));\n",
       "    }\n",
       "\n",
       "    if(typeof define === \"function\" && define.amd) {\n",
       "      requirejs.config({paths});\n",
       "      require([\"vega-embed\"], displayChart, err => showError(`Error loading script: ${err.message}`));\n",
       "    } else {\n",
       "      maybeLoadScript(\"vega\", \"5\")\n",
       "        .then(() => maybeLoadScript(\"vega-lite\", \"5.17.0\"))\n",
       "        .then(() => maybeLoadScript(\"vega-embed\", \"6\"))\n",
       "        .catch(showError)\n",
       "        .then(() => displayChart(vegaEmbed));\n",
       "    }\n",
       "  })({\"config\": {\"view\": {\"continuousWidth\": 300, \"continuousHeight\": 300, \"stroke\": \"black\"}, \"axis\": {\"domain\": true, \"labelFont\": \"sans-serif\", \"labelFontSize\": 20, \"titleFont\": \"sans-serif\", \"titleFontSize\": 20}, \"axisX\": {\"domain\": true, \"labelAngle\": 20}, \"axisY\": {\"domain\": true}, \"legend\": {\"labelFont\": \"sans-serif\", \"labelFontSize\": 20, \"titleFont\": \"sans-serif\", \"titleFontSize\": 20}}, \"layer\": [{\"mark\": {\"type\": \"rect\"}, \"encoding\": {\"color\": {\"field\": \"Percent Tokens\", \"scale\": {\"scheme\": \"blues\"}, \"type\": \"quantitative\"}, \"order\": {\"field\": \"order\", \"type\": \"quantitative\"}, \"x\": {\"field\": \"Terms of Service Policies\", \"sort\": [\"No Restrictions\", \"Conditional Restrictions\", \"Prohibits AI\", \"Prohibits Scraping\", \"Prohibits Scraping & AI\"], \"title\": \"Terms of Service Policies\", \"type\": \"nominal\"}, \"y\": {\"field\": \"Robots Restrictions\", \"sort\": [\"Restricted\", \"Partial\", \"None\"], \"title\": \"Robots Restrictions\", \"type\": \"nominal\"}}}, {\"mark\": {\"type\": \"text\", \"align\": \"center\", \"baseline\": \"middle\", \"font\": \"sans-serif\", \"fontSize\": 20}, \"encoding\": {\"color\": {\"condition\": {\"test\": \"(datum.Percent > 30)\", \"value\": \"white\"}, \"value\": \"black\"}, \"order\": {\"field\": \"order\", \"type\": \"quantitative\"}, \"text\": {\"field\": \"Formatted Percent Tokens\", \"type\": \"nominal\"}, \"x\": {\"field\": \"Terms of Service Policies\", \"sort\": [\"No Restrictions\", \"Conditional Restrictions\", \"Prohibits AI\", \"Prohibits Scraping\", \"Prohibits Scraping & AI\"], \"title\": \"Terms of Service Policies\", \"type\": \"nominal\"}, \"y\": {\"field\": \"Robots Restrictions\", \"sort\": [\"Restricted\", \"Partial\", \"None\"], \"title\": \"Robots Restrictions\", \"type\": \"nominal\"}}}], \"data\": {\"name\": \"data-d59d56a3814bc07d5894e08bc580c354\"}, \"height\": 400, \"width\": 400, \"$schema\": \"https://vega.github.io/schema/vega-lite/v5.17.0.json\", \"datasets\": {\"data-d59d56a3814bc07d5894e08bc580c354\": [{\"Robots Restrictions\": \"Restricted\", \"Terms of Service Policies\": \"No Restrictions\", \"Count\": 124, \"Token Counts\": 1881478619, \"Percent\": 11.02, \"Percent Tokens\": 19.07, \"Formatted Percent\": \"11.0 %\", \"Formatted Percent Tokens\": \"19.1 %\"}, {\"Robots Restrictions\": \"Restricted\", \"Terms of Service Policies\": \"Conditional Restrictions\", \"Count\": 2, \"Token Counts\": 6100820, \"Percent\": 0.18, \"Percent Tokens\": 0.06, \"Formatted Percent\": \"0.2 %\", \"Formatted Percent Tokens\": \"0.1 %\"}, {\"Robots Restrictions\": \"Restricted\", \"Terms of Service Policies\": \"Prohibits Scraping\", \"Count\": 33, \"Token Counts\": 398210781, \"Percent\": 2.93, \"Percent Tokens\": 4.04, \"Formatted Percent\": \"2.9 %\", \"Formatted Percent Tokens\": \"4.0 %\"}, {\"Robots Restrictions\": \"Restricted\", \"Terms of Service Policies\": \"Prohibits Scraping & AI\", \"Count\": 9, \"Token Counts\": 192894509, \"Percent\": 0.8, \"Percent Tokens\": 1.96, \"Formatted Percent\": \"0.8 %\", \"Formatted Percent Tokens\": \"2.0 %\"}, {\"Robots Restrictions\": \"Partial\", \"Terms of Service Policies\": \"No Restrictions\", \"Count\": 538, \"Token Counts\": 4352218487, \"Percent\": 47.82, \"Percent Tokens\": 44.12, \"Formatted Percent\": \"47.8 %\", \"Formatted Percent Tokens\": \"44.1 %\"}, {\"Robots Restrictions\": \"Partial\", \"Terms of Service Policies\": \"Conditional Restrictions\", \"Count\": 9, \"Token Counts\": 92340616, \"Percent\": 0.8, \"Percent Tokens\": 0.94, \"Formatted Percent\": \"0.8 %\", \"Formatted Percent Tokens\": \"0.9 %\"}, {\"Robots Restrictions\": \"Partial\", \"Terms of Service Policies\": \"Prohibits Scraping\", \"Count\": 64, \"Token Counts\": 578228505, \"Percent\": 5.69, \"Percent Tokens\": 5.86, \"Formatted Percent\": \"5.7 %\", \"Formatted Percent Tokens\": \"5.9 %\"}, {\"Robots Restrictions\": \"Partial\", \"Terms of Service Policies\": \"Prohibits Scraping & AI\", \"Count\": 7, \"Token Counts\": 73522104, \"Percent\": 0.62, \"Percent Tokens\": 0.75, \"Formatted Percent\": \"0.6 %\", \"Formatted Percent Tokens\": \"0.8 %\"}, {\"Robots Restrictions\": \"None\", \"Terms of Service Policies\": \"No Restrictions\", \"Count\": 290, \"Token Counts\": 1691396249, \"Percent\": 25.78, \"Percent Tokens\": 17.15, \"Formatted Percent\": \"25.8 %\", \"Formatted Percent Tokens\": \"17.1 %\"}, {\"Robots Restrictions\": \"None\", \"Terms of Service Policies\": \"Conditional Restrictions\", \"Count\": 10, \"Token Counts\": 131290077, \"Percent\": 0.89, \"Percent Tokens\": 1.33, \"Formatted Percent\": \"0.9 %\", \"Formatted Percent Tokens\": \"1.3 %\"}, {\"Robots Restrictions\": \"None\", \"Terms of Service Policies\": \"Prohibits Scraping\", \"Count\": 35, \"Token Counts\": 419625075, \"Percent\": 3.11, \"Percent Tokens\": 4.25, \"Formatted Percent\": \"3.1 %\", \"Formatted Percent Tokens\": \"4.2 %\"}, {\"Robots Restrictions\": \"None\", \"Terms of Service Policies\": \"Prohibits Scraping & AI\", \"Count\": 4, \"Token Counts\": 47134951, \"Percent\": 0.36, \"Percent Tokens\": 0.48, \"Formatted Percent\": \"0.4 %\", \"Formatted Percent Tokens\": \"0.5 %\"}]}}, {\"mode\": \"vega-lite\"});\n",
       "</script>"
      ],
      "text/plain": [
       "alt.LayerChart(...)"
      ]
     },
     "execution_count": 368,
     "metadata": {},
     "output_type": "execute_result"
    }
   ],
   "source": [
    "prepare_tos_robots_confusion_matrix(\n",
    "    tos_policies,\n",
    "    url_robots_summary,\n",
    "    [\"Google\", \"OpenAI\", \"Anthropic\", \"Cohere\", \"Common Crawl\", \"Meta\"],\n",
    "    url_token_lookup,\n",
    "    corpora_choice=\"c4\",\n",
    ")"
   ]
  },
  {
   "cell_type": "code",
   "execution_count": null,
   "id": "3f102465-057e-4413-a063-9e654be83b95",
   "metadata": {},
   "outputs": [],
   "source": []
  },
  {
   "cell_type": "code",
   "execution_count": null,
   "id": "6787a63a-207e-4716-9ff6-f0f95c3049b9",
   "metadata": {},
   "outputs": [],
   "source": []
  },
  {
   "cell_type": "code",
   "execution_count": null,
   "id": "32d46dd5-ea4b-4bb9-9f39-f05515c7b439",
   "metadata": {},
   "outputs": [],
   "source": []
  },
  {
   "cell_type": "code",
   "execution_count": null,
   "id": "ede00a27-84b8-4cfa-80cb-a87f0b4781d1",
   "metadata": {},
   "outputs": [],
   "source": []
  },
  {
   "cell_type": "code",
   "execution_count": null,
   "id": "77a7fb09-5927-4453-8b15-0384fc3d9a22",
   "metadata": {},
   "outputs": [],
   "source": []
  },
  {
   "cell_type": "code",
   "execution_count": 247,
   "id": "18bfaaeb-2a2c-436c-9fc0-84370e0dbae1",
   "metadata": {},
   "outputs": [],
   "source": [
    "\n",
    "\n"
   ]
  },
  {
   "cell_type": "code",
   "execution_count": 281,
   "id": "c3f6b032-c4d0-4443-bfb3-c0e6c45e83eb",
   "metadata": {},
   "outputs": [],
   "source": []
  },
  {
   "cell_type": "code",
   "execution_count": null,
   "id": "55a94479-ef4a-44ce-9f0b-b33929436965",
   "metadata": {},
   "outputs": [],
   "source": []
  },
  {
   "cell_type": "code",
   "execution_count": null,
   "id": "ac8b36da-3bd6-44e6-8927-29c5f7fec032",
   "metadata": {},
   "outputs": [],
   "source": []
  },
  {
   "cell_type": "code",
   "execution_count": 278,
   "id": "cb7a1f44-2f69-45ae-8bf1-a569251efa79",
   "metadata": {},
   "outputs": [],
   "source": []
  },
  {
   "cell_type": "code",
   "execution_count": null,
   "id": "f928550a-a063-489f-934d-6f7d05e9f793",
   "metadata": {},
   "outputs": [],
   "source": []
  },
  {
   "cell_type": "code",
   "execution_count": null,
   "id": "add08973-a0a0-44a0-90dd-07808ee16cee",
   "metadata": {},
   "outputs": [],
   "source": [
    "# clean-up\n",
    "# Legend\n",
    "# set fonts and sizes and legend"
   ]
  },
  {
   "cell_type": "code",
   "execution_count": 261,
   "id": "ff15b8d4-6ec2-4a02-8a98-f7120e7aa3a9",
   "metadata": {},
   "outputs": [],
   "source": [
    "# c4_top2k_counts"
   ]
  },
  {
   "cell_type": "code",
   "execution_count": null,
   "id": "f0c7c342-c06a-4da0-826a-807845598cce",
   "metadata": {},
   "outputs": [],
   "source": []
  },
  {
   "cell_type": "code",
   "execution_count": null,
   "id": "2b94143e-3aa5-45e0-af3e-7216117067e2",
   "metadata": {},
   "outputs": [],
   "source": []
  },
  {
   "cell_type": "code",
   "execution_count": null,
   "id": "1fc42112-fe35-4d6c-b2d2-8e0fc08a5eab",
   "metadata": {},
   "outputs": [],
   "source": [
    "Data Sources Analysis:\n",
    "\n",
    "0. Table: Methodology -- what metadata we collected/annotated (and how). [WIP]\n",
    "1. Figure: Temporal changes in Robots / ToS (somehow over a collection or multiple companies?) [Waiting on ToS]\n",
    "    C4/RF/(Dolma) vs (2k-Head)/Random vs Company(6)\n",
    "2. Figure: Robots / ToS contradiction matrix [Waiting on ToS]\n",
    "    Creative Commons.\n",
    "3. Table: Robots permission differences by company + Stella(pairwise differences by confusion matrix) [WIP]\n",
    "4. Table: Robots / ToS / other indicators variability by website num tokens (i.e. head vs tail) [WIP]\n",
    "5. Figure: Commercial/market copyright concerns and comparison to WildChat + EU AI Act [WIP, waiting on WildChat]"
   ]
  },
  {
   "cell_type": "code",
   "execution_count": null,
   "id": "c963221b-e1f2-48a7-b8d2-30e5d87a3926",
   "metadata": {},
   "outputs": [],
   "source": [
    "Datasets Analysis:\n",
    "\n",
    "(License: NC, C, Unspecified) x (Terms: Unspecified/None, NC, C).\n",
    "Text =~ 200\n",
    "Video = 11\n",
    "Speech ~= 50\n",
    "\n",
    "0. Tables for Text, Video, Speech [Will: WIP]\n",
    "1. License & source (terms) restriction differences between Text, Video, Speech. (normalized stacked bar chart) [WIP]\n",
    "2. Source domains by Text, Video, Speech: scraped, synthetic, crowdsourced, ....  (normalized stacked bar chart) [WIP]\n",
    "2b. Include pretraining (broken down by modality + user content + illicit content)\n",
    "3. Creator distribution for Text, Video, Speech by geography and organization type [WIP]\n",
    "\n",
    "Extension: \n",
    "\n",
    "\n",
    "4. Temporal breakdown of license restriction categories by Text, Video, Speech [WIP]\n",
    "5. License Type by modality for Text, Video, Speech [WIP]\n",
    "6. Languages / Tasks.\n",
    "(Will run statistical tests checking if diffs between Text,Video,Speech are significant on all of these. [WIP]"
   ]
  },
  {
   "cell_type": "code",
   "execution_count": null,
   "id": "38d020db-98ae-45a8-9fdd-c344b13d7d31",
   "metadata": {},
   "outputs": [],
   "source": [
    "\n",
    "\n",
    "# People who restrict Anthropic but not OpenAI. <-- public awareness of organizations is the driving force here. \n",
    "# Ordered by notoriety. (Confusion matrix)"
   ]
  },
  {
   "cell_type": "code",
   "execution_count": 31,
   "id": "2172ae3a-8d2b-474b-9f02-c662511792c7",
   "metadata": {},
   "outputs": [],
   "source": [
    "nayan = pd.read_csv(\"test_data/wildchat_annotations.csv\")"
   ]
  },
  {
   "cell_type": "code",
   "execution_count": 3,
   "id": "be02a05f-cec5-4e6e-8778-7275d1b7e1fa",
   "metadata": {},
   "outputs": [],
   "source": [
    "# nayan"
   ]
  },
  {
   "cell_type": "code",
   "execution_count": 400,
   "id": "78dfdc6f-be9b-4009-89cc-dc0db5b85791",
   "metadata": {},
   "outputs": [],
   "source": [
    "def sample_nayan(df, i):\n",
    "    row = df.iloc[i]\n",
    "    prompt = row[\"WildChat Example Prompt\"]\n",
    "    response = row[\"WildChat Example Response\"]\n",
    "    typs = row[\"Types of Service\"]\n",
    "    cd = row[\"Content Domain\"]\n",
    "    print(prompt)\n",
    "    # print(\"*************\" + response[:100])\n",
    "    print(cd)\n",
    "    print()"
   ]
  },
  {
   "cell_type": "code",
   "execution_count": 1,
   "id": "b71a3a69-d7f8-4d45-b3b4-c22b834d338c",
   "metadata": {},
   "outputs": [],
   "source": [
    "# for i in range(30, 60):\n",
    "#     sample_nayan(nayan, i)"
   ]
  },
  {
   "cell_type": "code",
   "execution_count": null,
   "id": "79e40b72-92c7-41c6-ac55-8a0b0ac3bda8",
   "metadata": {},
   "outputs": [],
   "source": []
  },
  {
   "cell_type": "code",
   "execution_count": null,
   "id": "0a179f1e-ff84-49b1-8aad-81ff92b39896",
   "metadata": {},
   "outputs": [],
   "source": []
  }
 ],
 "metadata": {
  "kernelspec": {
   "display_name": "Python 3 (ipykernel)",
   "language": "python",
   "name": "python3"
  },
  "language_info": {
   "codemirror_mode": {
    "name": "ipython",
    "version": 3
   },
   "file_extension": ".py",
   "mimetype": "text/x-python",
   "name": "python",
   "nbconvert_exporter": "python",
   "pygments_lexer": "ipython3",
   "version": "3.8.9"
  }
 },
 "nbformat": 4,
 "nbformat_minor": 5
}
