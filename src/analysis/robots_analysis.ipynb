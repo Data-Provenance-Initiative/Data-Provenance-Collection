{
 "cells": [
  {
   "cell_type": "code",
   "execution_count": null,
   "id": "271834be-94ee-4002-8ced-73a0790fbf16",
   "metadata": {},
   "outputs": [],
   "source": [
    "import sys\n",
    "import os\n",
    "import json\n",
    "import pandas as pd\n",
    "import numpy as np\n",
    "import random\n",
    "import copy\n",
    "import typing\n",
    "from datetime import datetime\n",
    "from collections import Counter, defaultdict\n",
    "\n",
    "# Visualization packages\n",
    "import altair as alt\n",
    "import matplotlib.pyplot as plt\n",
    "import seaborn as sns\n",
    "from matplotlib.patches import Patch\n",
    "\n",
    "# Append system path\n",
    "sys.path = [p for p in sys.path if not p.endswith('../..')]  # Cleans duplicated '../..'\n",
    "sys.path.insert(0, '../')  # This adds `src` to the path\n",
    "\n",
    "from helpers import io, filters, constants\n",
    "from analysis import analysis_util, analysis_constants, visualization_util\n",
    "from web_analysis import parse_robots\n",
    "from web_analysis import robots_util, forecasting_util\n",
    "\n",
    "\n",
    "%load_ext autoreload\n",
    "%autoreload 2"
   ]
  },
  {
   "cell_type": "markdown",
   "id": "cbe935ae-6338-4e3b-bd10-13123b0a978a",
   "metadata": {},
   "source": [
    "### Define Paths to all relevant files"
   ]
  },
  {
   "cell_type": "code",
   "execution_count": null,
   "id": "f2133323-eca3-44bc-9694-d8b0fbd51069",
   "metadata": {},
   "outputs": [],
   "source": [
    "EXCEL_FNAME_ROBOTS = \"forecasted_robots_data.xlsx\"\n",
    "EXCEL_FNAME_TOS = \"forecasted_tos_data.xlsx\"\n",
    "FPATH_TO_RELEVANT_URL_TOKENS = 'pretrain_data/relevant_url_token_counts.csv'\n",
    "FPATH_to_HEAD_ROBOTS = \"robots_data/temporal_robots_head_test.json\"\n",
    "FPATH_TO_RAND_ROBOTS = \"robots_data/temporal_robots_rand_10k.json\"\n",
    "FPATH_TO_TOS_DATA = \"robots_data/tos_ai_scraping_policies.json\"\n",
    "FPATH_TO_TOS_LICENSE_DATA = \"robots_data/tos_license_type_verdicts.json\"\n",
    "FPATH_TO_TOS_COMPETE_DATA = \"robots_data/tos_competing_services_policies.json\"\n",
    "FPATH_TO_C4_TOKEN_ESTIMATES = \"robots_data/c4_total_token_estimates.csv\"\n",
    "FPATH_TO_DOLMA_TOKEN_ESTIMATES = \"robots_data/dolma_total_token_estimates.csv\"\n",
    "FPATH_TO_RF_TOKEN_ESTIMATES = \"robots_data/rf_total_token_estimates.csv\"\n",
    "DIRPATHS_TO_ANNOTATED_TASKS = [\"annotated_websites/Task 1\", \"annotated_websites/Task 2\"]\n",
    "START_DATES = \"robots_data/domain_start_dates.json\"\n",
    "\n",
    "ALL_COMPANIES_TO_TRACK = [\"Google\", \"OpenAI\", \"Anthropic\", \"Cohere\", \"Common Crawl\", \"Meta\", \"Internet Archive\", \"Google Search\", \"False Anthropic\"]\n",
    "COMPANIES_TO_ANALYZE = [\"Google\", \"OpenAI\", \"Anthropic\", \"Cohere\", \"Common Crawl\", \"Meta\"]\n",
    "TEMPORAL_ANALYSIS_START_DATE = '2016-01-01'\n",
    "TEMPORAL_ANALYSIS_END_DATE = '2024-04-30'"
   ]
  },
  {
   "cell_type": "markdown",
   "id": "ee96fd8b-6342-476c-bff6-72a525e1da36",
   "metadata": {},
   "source": [
    "### Load all URL splits (top vs random) and maps to Token Counts"
   ]
  },
  {
   "cell_type": "code",
   "execution_count": null,
   "id": "3a3b2a93-5a35-4c7e-b087-73dd4db273f9",
   "metadata": {},
   "outputs": [],
   "source": [
    "url_token_lookup = robots_util.URLTokenLookup(FPATH_TO_RELEVANT_URL_TOKENS) # 'c4', 'rf', 'dolma'\n",
    "c4_url_to_counts = url_token_lookup.get_url_to_token_map(\"c4\")\n",
    "rf_url_to_counts = url_token_lookup.get_url_to_token_map(\"rf\")\n",
    "dolma_url_to_counts = url_token_lookup.get_url_to_token_map(\"dolma\")\n",
    "top_c4_urls = url_token_lookup.top_k_urls(\"c4\", 2000)\n",
    "top_rf_urls = url_token_lookup.top_k_urls(\"rf\", 2000)\n",
    "top_dolma_urls = url_token_lookup.top_k_urls(\"dolma\", 2000)\n",
    "random_10k_urls = url_token_lookup.get_10k_random_sample()\n",
    "all_urls = set(random_10k_urls + top_c4_urls + top_rf_urls + top_dolma_urls)\n",
    "\n",
    "# Load website snapshots for relevant URLs\n",
    "website_start_dates = robots_util.read_start_dates(START_DATES, all_urls) # THIS WON'T WORK FOR THE 10k SAMPLE"
   ]
  },
  {
   "cell_type": "markdown",
   "id": "4a54f01e-6c3a-4f48-a889-ba765dc9450f",
   "metadata": {},
   "source": [
    "### Define Agents and Agent Groups"
   ]
  },
  {
   "cell_type": "code",
   "execution_count": null,
   "id": "bb8b750e-3c52-4578-a486-b8ad1a2a88a1",
   "metadata": {},
   "outputs": [],
   "source": [
    "agent_groups_to_track = robots_util.get_bot_groups(ALL_COMPANIES_TO_TRACK)\n",
    "agent_subset_to_track = robots_util.get_bot_groups(COMPANIES_TO_ANALYZE)\n",
    "agents_to_track = robots_util.get_bots()"
   ]
  },
  {
   "cell_type": "markdown",
   "id": "b09644e3-d075-4a46-8445-d8179ae29bc9",
   "metadata": {},
   "source": [
    "### Load Robots.txt info"
   ]
  },
  {
   "cell_type": "code",
   "execution_count": null,
   "id": "41e969a9-1d0b-4b95-9ccf-ff15840d94e3",
   "metadata": {},
   "outputs": [],
   "source": [
    "# URL -> Date -> Robots.txt raw text\n",
    "head_robots = io.read_json(FPATH_to_HEAD_ROBOTS)\n",
    "random_10k_robots = io.read_json(FPATH_TO_RAND_ROBOTS)\n",
    "joined_robots = copy.deepcopy(head_robots)\n",
    "joined_robots.update(random_10k_robots)\n",
    "robots_util.print_out_robots_info(head_robots)\n",
    "robots_util.print_out_robots_info(random_10k_robots)\n",
    "\n",
    "# {URL --> Date --> Agent --> Status}\n",
    "url_robots_summary, agent_counter_df = robots_util.compute_url_date_agent_status(\n",
    "    data=joined_robots,\n",
    "    # relevant_agents=agents_to_track)\n",
    "    relevant_agents=[v for vs in agent_groups_to_track.values() for v in vs])\n",
    "\n",
    "agent_counter_df.to_csv(\"all_agents_counter.csv\", index=False)"
   ]
  },
  {
   "cell_type": "code",
   "execution_count": null,
   "id": "4a3988a4-0a7c-427f-a311-4b36cd8b5774",
   "metadata": {},
   "outputs": [],
   "source": [
    "url_robots_summary_detailed = robots_util.compute_url_date_agent_status_detailed(\n",
    "    data=joined_robots,\n",
    "    relevant_agents=[v for vs in agent_groups_to_track.values() for v in vs]\n",
    ")"
   ]
  },
  {
   "cell_type": "markdown",
   "id": "d5e26ade-d9e9-4900-a3b3-a01af4a698b1",
   "metadata": {},
   "source": [
    "### Load ToS info"
   ]
  },
  {
   "cell_type": "code",
   "execution_count": null,
   "id": "70351b94-b889-4f16-9c31-56fd61f43464",
   "metadata": {},
   "outputs": [],
   "source": [
    "# URL --> Date --> ToS-suburl --> {\"verdict\": X, \"evidence\": Y}\n",
    "tos_policies = io.read_json(FPATH_TO_TOS_DATA)\n",
    "tos_license_policies = io.read_json(FPATH_TO_TOS_LICENSE_DATA)\n",
    "tos_compete_policies = io.read_json(FPATH_TO_TOS_COMPETE_DATA)\n",
    "# tos_license_policies = robots_util.switch_dates_yearly_to_monthly(tos_license_policies)\n",
    "print(f\"Num ToS AI/Scraping URLs: {len(tos_policies)}\")\n",
    "print(f\"Num ToS License URLs: {len(tos_license_policies)}\")\n",
    "print(f\"Num ToS Compete URLs: {len(tos_compete_policies)}\")"
   ]
  },
  {
   "cell_type": "code",
   "execution_count": null,
   "id": "c31cb8c7-84c5-4cdf-a102-d4ca8c8393b4",
   "metadata": {},
   "outputs": [],
   "source": [
    "# verdicts_cc = []\n",
    "# for url, date_suburl_verdicts in tos_license_policies.items():\n",
    "#     for suburl_verdicts in date_suburl_verdicts.values():\n",
    "#         for verdicts in suburl_verdicts.values():\n",
    "#             verdicts_cc.append(verdicts[\"verdict\"])\n",
    "# print(Counter(verdicts_cc))"
   ]
  },
  {
   "cell_type": "code",
   "execution_count": null,
   "id": "3c1fa249-fe2e-46e3-a76a-2dd3cde7d867",
   "metadata": {},
   "outputs": [],
   "source": [
    "# url_results_df"
   ]
  },
  {
   "cell_type": "markdown",
   "id": "36901240-db00-4c04-9ac3-6f5377233736",
   "metadata": {},
   "source": [
    "### Load Manual Pretraining Annotations"
   ]
  },
  {
   "cell_type": "code",
   "execution_count": null,
   "id": "31e586df-d0ba-44f0-ba5c-e260380107c8",
   "metadata": {},
   "outputs": [],
   "source": [
    "url_to_info = analysis_util.extract_url_annotations(DIRPATHS_TO_ANNOTATED_TASKS)\n",
    "url_results_df = analysis_util.process_url_annotations(url_to_info)\n",
    "url_results_df = analysis_util.encode_size_columns(url_results_df, url_token_lookup)\n",
    "url_results_df = robots_util.encode_latest_tos_robots_into_df(\n",
    "    url_results_df, tos_policies, tos_license_policies, tos_compete_policies, url_robots_summary,\n",
    "    COMPANIES_TO_ANALYZE\n",
    ")"
   ]
  },
  {
   "cell_type": "markdown",
   "id": "8e3002a9-b499-4a0f-bee1-9e433c4cf5e3",
   "metadata": {},
   "source": [
    "# Create Plots"
   ]
  },
  {
   "cell_type": "markdown",
   "id": "298fa261-5171-4c9a-9b1a-de5a70cc8490",
   "metadata": {},
   "source": [
    "### Preprocessing for Robots Head & Random URL splits"
   ]
  },
  {
   "cell_type": "code",
   "execution_count": null,
   "id": "15b876db-605f-424d-af51-7e3b7cb98242",
   "metadata": {},
   "outputs": [],
   "source": [
    "### DECISION POINT: Use C4, Dolma, or RefinedWeb here?\n",
    "\n",
    "CHOSEN_CORPUS = \"c4\" # 'c4', 'rf', 'dolma'\n",
    "if CHOSEN_CORPUS == \"c4\":\n",
    "    HEAD_URL_SET = top_c4_urls\n",
    "    URL_TO_COUNTS = c4_url_to_counts\n",
    "elif CHOSEN_CORPUS == \"rf\":\n",
    "    HEAD_URL_SET = top_rf_urls\n",
    "    URL_TO_COUNTS = rf_url_to_counts\n",
    "elif CHOSEN_CORPUS == \"dolma\":\n",
    "    HEAD_URL_SET = top_dolma_urls\n",
    "    URL_TO_COUNTS = dolma_url_to_counts"
   ]
  },
  {
   "cell_type": "code",
   "execution_count": null,
   "id": "840d10e9-9586-46e2-91a5-a4910e1340ba",
   "metadata": {},
   "outputs": [],
   "source": [
    "url_robots_summary_head = {url: url_robots_summary[url] for url in HEAD_URL_SET if url in url_robots_summary}\n",
    "url_robots_summary_head_detailed = {url: url_robots_summary_detailed[url] for url in HEAD_URL_SET if url in url_robots_summary_detailed}\n",
    "url_robots_summary_rand = {url: url_robots_summary[url] for url in random_10k_urls if url in url_robots_summary}\n",
    "url_robots_summary_rand_detailed = {url: url_robots_summary_detailed[url] for url in random_10k_urls if url in url_robots_summary_detailed}"
   ]
  },
  {
   "cell_type": "code",
   "execution_count": null,
   "id": "bd4de08b-09be-4247-8354-a4b9120e9d5a",
   "metadata": {},
   "outputs": [],
   "source": [
    "# HEAD URL SPLIT\n",
    "# {Period --> Agent --> Status --> set(URLs)}\n",
    "robots_filled_status_head_summary = robots_util.prepare_robots_temporal_summary(\n",
    "    url_robots_summary=url_robots_summary_head,\n",
    "    # group_to_agents={k: [k] for k in agents_to_track},\n",
    "    group_to_agents=agent_groups_to_track,\n",
    "    start_time=TEMPORAL_ANALYSIS_START_DATE,\n",
    "    end_time=TEMPORAL_ANALYSIS_END_DATE,\n",
    "    time_frequency=\"M\",\n",
    "    website_start_dates=website_start_dates,\n",
    ")\n",
    "# RANDOM URL SPLIT\n",
    "robots_filled_status_rand_summary = robots_util.prepare_robots_temporal_summary(\n",
    "    url_robots_summary=url_robots_summary_rand,\n",
    "    # group_to_agents={k: [k] for k in agents_to_track},\n",
    "    group_to_agents=agent_groups_to_track,\n",
    "    start_time=TEMPORAL_ANALYSIS_START_DATE,\n",
    "    end_time=TEMPORAL_ANALYSIS_END_DATE,\n",
    "    time_frequency=\"M\",\n",
    "    website_start_dates=website_start_dates,\n",
    ")\n",
    "\n",
    "# DETAILED HEAD\n",
    "robots_filled_status_head_summary_detailed = robots_util.prepare_robots_temporal_summary_detailed(\n",
    "    url_robots_summary=url_robots_summary_head_detailed,\n",
    "    group_to_agents=agent_groups_to_track,\n",
    "    start_time=TEMPORAL_ANALYSIS_START_DATE,\n",
    "    end_time=TEMPORAL_ANALYSIS_END_DATE,\n",
    "    time_frequency=\"M\",\n",
    "    website_start_dates=website_start_dates,\n",
    ")\n",
    "\n",
    "# DETAILED RAND\n",
    "robots_filled_status_rand_summary_detailed = robots_util.prepare_robots_temporal_summary_detailed(\n",
    "    url_robots_summary=url_robots_summary_rand_detailed,\n",
    "    group_to_agents=agent_groups_to_track,\n",
    "    start_time=TEMPORAL_ANALYSIS_START_DATE,\n",
    "    end_time=TEMPORAL_ANALYSIS_END_DATE,\n",
    "    time_frequency=\"M\",\n",
    "    website_start_dates=website_start_dates,\n",
    ")"
   ]
  },
  {
   "cell_type": "code",
   "execution_count": null,
   "id": "d0239870-9790-48bb-8222-b2174a4f0ec1",
   "metadata": {},
   "outputs": [],
   "source": [
    "# Dataframe w/ [Period, Agent, Status, count(URLs or tokens)]\n",
    "robots_temporal_head_summary = robots_util.robots_temporal_to_df(\n",
    "    robots_filled_status_head_summary,\n",
    "    strictness_order=['no_robots', 'none', 'some', 'all'],\n",
    "    url_to_counts=c4_url_to_counts,\n",
    ")\n",
    "# Dataframe w/ [Period, Agent, Status, count(URLs), count(tokens)]\n",
    "robots_temporal_rand_summary = robots_util.robots_temporal_to_df(\n",
    "    robots_filled_status_rand_summary,\n",
    "    strictness_order=['no_robots', 'none', 'some', 'all'],\n",
    "    url_to_counts=URL_TO_COUNTS,\n",
    ")\n",
    "\n",
    "detailed_strictness_order = [\n",
    "    'no_robots', 'none', 'none_sitemap', 'none_crawl_delay', 'some_pattern_restrictions', 'some_disallow_important_dir', 'some_other', 'all'\n",
    "]\n",
    "robots_temporal_head_summary_detailed = robots_util.robots_temporal_to_df(\n",
    "    robots_filled_status_head_summary_detailed,\n",
    "    strictness_order=detailed_strictness_order,\n",
    "    url_to_counts=URL_TO_COUNTS,\n",
    ")\n",
    "robots_temporal_rand_summary_detailed = robots_util.robots_temporal_to_df(\n",
    "    robots_filled_status_rand_summary_detailed,\n",
    "    strictness_order=detailed_strictness_order,\n",
    "    url_to_counts=URL_TO_COUNTS,\n",
    ")"
   ]
  },
  {
   "cell_type": "markdown",
   "id": "76a0f2c9-9b93-4e7b-8fdd-49e67f0de4db",
   "metadata": {},
   "source": [
    "### Preprocessing for ToS"
   ]
  },
  {
   "cell_type": "code",
   "execution_count": null,
   "id": "7620dcbd-c869-42d0-b12b-83986a65ffb9",
   "metadata": {},
   "outputs": [],
   "source": [
    "# URL --> time --> ToS verdict string.\n",
    "url_to_time_to_tos_verdict = robots_util.get_tos_url_time_verdicts(\n",
    "    tos_policies, tos_license_policies, tos_compete_policies)\n",
    "# Period --> Status --> set(URLs)\n",
    "period_tos_verdict_urls = robots_util.prepare_tos_temporal_summary(\n",
    "    url_to_time_to_tos_verdict,\n",
    "    start_time=TEMPORAL_ANALYSIS_START_DATE,\n",
    "    end_time=TEMPORAL_ANALYSIS_END_DATE,\n",
    "    time_frequency=\"M\",\n",
    "    website_start_dates=website_start_dates,\n",
    ")\n",
    "# Dataframe: [Period, Status, Count, Tokens]\n",
    "tos_summary_df_head = robots_util.tos_temporal_to_df(\n",
    "    period_tos_verdict_urls,\n",
    "    url_set=HEAD_URL_SET,\n",
    "    url_to_counts=URL_TO_COUNTS,\n",
    ")\n",
    "tos_summary_df_rand = robots_util.tos_temporal_to_df(\n",
    "    period_tos_verdict_urls,\n",
    "    url_set=random_10k_urls,\n",
    "    url_to_counts=URL_TO_COUNTS,\n",
    ")"
   ]
  },
  {
   "cell_type": "markdown",
   "id": "41415d1c",
   "metadata": {},
   "source": [
    "## Plotting Constants"
   ]
  },
  {
   "cell_type": "markdown",
   "id": "86753e10",
   "metadata": {},
   "source": [
    "#### Event Markers"
   ]
  },
  {
   "cell_type": "code",
   "execution_count": null,
   "id": "97dc10b9",
   "metadata": {},
   "outputs": [],
   "source": [
    "# Test Events (Date, Text)\n",
    "# EVENTS = [\n",
    "#     (\"2016-08-01\", \"Event A\"),\n",
    "#     (\"2020-06-01\", \"Event B\"),\n",
    "#     (\"2021-06-01\", \"Event C\"),\n",
    "#     (\"2022-07-01\", \"Event D\"),\n",
    "#     (\"2023-02-01\", \"Event E\")\n",
    "# ]\n",
    "\n",
    "EVENTS = []"
   ]
  },
  {
   "cell_type": "markdown",
   "id": "b0e2dc1b",
   "metadata": {},
   "source": [
    "#### Plot Style"
   ]
  },
  {
   "cell_type": "code",
   "execution_count": null,
   "id": "7bf0d977",
   "metadata": {},
   "outputs": [],
   "source": [
    "PLOT_WIDTH = 1000\n",
    "PLOT_HEIGHT = 160\n",
    "LABEL_FONTSIZE = 14\n",
    "TITLE_FONTSIZE = 16\n",
    "LEGEND_COLS = 6\n",
    "\n",
    "\n",
    "PLOT_KWARGS = {\n",
    "    \"width\": PLOT_WIDTH,\n",
    "    \"height\": PLOT_HEIGHT,\n",
    "    \"label_fontsize\": LABEL_FONTSIZE,\n",
    "    \"title_fontsize\": TITLE_FONTSIZE,\n",
    "    \"legend_cols\": LEGEND_COLS,\n",
    "    \"vertical_line_dates\": EVENTS\n",
    "}"
   ]
  },
  {
   "cell_type": "markdown",
   "id": "edbd515c",
   "metadata": {},
   "source": [
    "#### Forecasting Hyperparameters"
   ]
  },
  {
   "cell_type": "code",
   "execution_count": null,
   "id": "be75a817",
   "metadata": {},
   "outputs": [],
   "source": [
    "# ANALYSIS_TYPE = \"autoregression\"\n",
    "# ANALYSIS_TYPE = \"prophet\"\n",
    "# ANALYSIS_TYPE = \"arima\"\n",
    "ANALYSIS_TYPE = \"sarima\"\n",
    "# ANALYSIS_TYPE = None # No forecasting\n",
    "LAGS = [1, 3, 6, 12, 24, 48]\n",
    "ORDER = (2, 1, 2)\n",
    "SEASONAL_ORDER = (1, 1, 1, 6)\n",
    "N_PERIODS = 12 # Number of periods to forecast (months, by default)"
   ]
  },
  {
   "cell_type": "markdown",
   "id": "adce8436",
   "metadata": {},
   "source": [
    "#### Helper Function for Forecasting"
   ]
  },
  {
   "cell_type": "code",
   "execution_count": null,
   "id": "ec00e91a",
   "metadata": {},
   "outputs": [],
   "source": [
    "def forecast_plot(\n",
    "    df: pd.DataFrame,\n",
    "    agent: str,\n",
    "    lags: typing.List[int],\n",
    "    val_col: str = \"tokens\", # \"count\" / \"tokens\"\n",
    "    n_periods: int = 6,\n",
    "    ordered_statuses: typing.List[str] = None,\n",
    "    status_colors: typing.Dict[str, str] = None,\n",
    "    chosen_corpus: str = \"c4\",\n",
    "    **kwargs\n",
    ") -> alt.Chart:\n",
    "    \"\"\"Forecast and plot time series data (robots plots).\n",
    "\n",
    "    Args:\n",
    "        df (pd.DataFrame): Dataframe with columns like period, agent, status, count\n",
    "        agent (str): Which agent to use\n",
    "        lags (list[int]): List of lags to include in autoregression model\n",
    "        val_col (str, optional): Column to forecast. Defaults to \"tokens\".\n",
    "        n_periods (int, optional): Number of periods to forecast. Defaults to 6.\n",
    "        seaonal_order (tuple[int], optional): Seasonal order for SARIMA. Defaults to None, which means no seasonal component.\n",
    "        ordered_statuses (list[str], optional): Order of statuses in the legend.\n",
    "        status_colors (dict[str, str], optional): Mapping of status to plot colors.\n",
    "\n",
    "    Returns:\n",
    "        alt.Chart: Altair chart\n",
    "    \"\"\"\n",
    "    if ANALYSIS_TYPE == \"autoregression\":\n",
    "        chart, _ = forecasting_util.forecast_and_plot(\n",
    "            df,\n",
    "            agent=agent,\n",
    "            lags=lags,\n",
    "            status_colors=status_colors,\n",
    "            ordered_statuses=ordered_statuses,\n",
    "            val_col=val_col,\n",
    "            n_periods=n_periods,\n",
    "            detailed=True,\n",
    "            **kwargs\n",
    "        )\n",
    "    elif ANALYSIS_TYPE == \"prophet\":\n",
    "        chart = forecasting_util.forecast_and_plot_prophet(\n",
    "            df,\n",
    "            agent=agent,\n",
    "            lags=lags,\n",
    "            status_colors=status_colors,\n",
    "            ordered_statuses=ordered_statuses,\n",
    "            n_periods=n_periods,\n",
    "            **kwargs\n",
    "        )\n",
    "    elif ANALYSIS_TYPE == \"arima\":\n",
    "        chart = forecasting_util.forecast_and_plot_arima(\n",
    "            df,\n",
    "            agent=agent,\n",
    "            lags=lags,\n",
    "            status_colors=status_colors,\n",
    "            ordered_statuses=ordered_statuses,\n",
    "            n_periods=n_periods,\n",
    "            **kwargs\n",
    "        )\n",
    "    elif ANALYSIS_TYPE == \"sarima\":\n",
    "        chart = forecasting_util.forecast_and_plot_sarima(\n",
    "            df,\n",
    "            agent=agent,\n",
    "            order=ORDER,\n",
    "            seasonal_order=SEASONAL_ORDER,\n",
    "            status_colors=status_colors,\n",
    "            ordered_statuses=ordered_statuses,\n",
    "            n_periods=n_periods,\n",
    "            chosen_corpus=chosen_corpus,\n",
    "            **kwargs\n",
    "        )\n",
    "    else:\n",
    "        chart = robots_util.plot_robots_time_map_altair_detailed(\n",
    "            df,\n",
    "            agent_type=agent,\n",
    "            period_col=\"period\",\n",
    "            status_col=\"status\",\n",
    "            val_col=\"tokens\", # \"count\" / \"tokens\"\n",
    "            ordered_statuses=ordered_statuses,\n",
    "            status_colors=status_colors,\n",
    "            **kwargs\n",
    "        )\n",
    "\n",
    "    return chart"
   ]
  },
  {
   "cell_type": "markdown",
   "id": "c7377b7c",
   "metadata": {},
   "source": [
    "#### Other Parameters"
   ]
  },
  {
   "cell_type": "code",
   "execution_count": null,
   "id": "0199b561",
   "metadata": {},
   "outputs": [],
   "source": [
    "AGENT = \"Combined Agent\""
   ]
  },
  {
   "cell_type": "code",
   "execution_count": null,
   "id": "29616d01",
   "metadata": {},
   "outputs": [],
   "source": [
    "def times_newroman():\n",
    "    font = \"Times New Roman\"\n",
    "\n",
    "    return {\n",
    "          \"config\" : {\n",
    "               \"title\": {\"font\": font},\n",
    "               \"axis\": {\n",
    "               \"labelFont\": font,\n",
    "               \"titleFont\": font\n",
    "          },\n",
    "          \"header\": {\n",
    "               \"labelFont\": font,\n",
    "               \"titleFont\": font\n",
    "          },\n",
    "          \"legend\": {\n",
    "               \"labelFont\": font,\n",
    "               \"titleFont\": font\n",
    "          },\n",
    "          \"text\": {\n",
    "               \"font\": font\n",
    "          }\n",
    "     }\n",
    "}\n",
    "\n",
    "alt.themes.register(\"times_newroman\", times_newroman)\n",
    "alt.themes.enable(\"times_newroman\")"
   ]
  },
  {
   "cell_type": "markdown",
   "id": "27870094",
   "metadata": {},
   "source": [
    "## Plot Temporal Robots Chart"
   ]
  },
  {
   "cell_type": "code",
   "execution_count": null,
   "id": "ebf2a786",
   "metadata": {},
   "outputs": [],
   "source": [
    "ORDERED_STATUSES = [\n",
    "    \"no_robots\",\n",
    "    \"none\",\n",
    "    \"none_sitemap\",\n",
    "    \"none_crawl_delay\",\n",
    "    \"some_other\",\n",
    "    \"some_disallow_important_dir\",\n",
    "    # \"some_disallow_file_types\",\n",
    "    \"some_pattern_restrictions\",\n",
    "    \"all\"\n",
    "]\n",
    "\n",
    "STATUS_COLORS = {\n",
    "    \"all\": \"#a32a31\",\n",
    "    \"some_pattern_restrictions\": \"#c76753\",\n",
    "    # \"some_disallow_file_types\": \"#e8a888\",\n",
    "    \"some_disallow_important_dir\": \"#f7dcca\",\n",
    "    \"some_other\": \"#f7f7f7\",\n",
    "    \"none_crawl_delay\": \"#d5e4ef\",\n",
    "    \"none_sitemap\": \"#9dc4db\",\n",
    "    \"none\": \"#5891bf\",\n",
    "    \"no_robots\": \"#d9d9d9\"\n",
    "}\n",
    "\n",
    "LEGEND_MAPPING = {\n",
    "    \"all\": \"Full restrictions\",\n",
    "    \"some_pattern_restrictions\": \"Pattern-based restrictions\",\n",
    "    # \"some_disallow_file_types\": \"Disallow specific file types\",\n",
    "    \"some_disallow_important_dir\": \"Disallow private directories\",\n",
    "    \"some_other\": \"Other restrictions\",\n",
    "    \"none_crawl_delay\": \"Crawl delay specified\",\n",
    "    \"none_sitemap\": \"Sitemap provided\",\n",
    "    \"none\": \"No restrictions or sitemap\",\n",
    "    \"no_robots\": \"No Robots.txt\"\n",
    "}\n",
    "\n",
    "\n",
    "# Copy and remap data for plotting\n",
    "df = robots_temporal_head_summary_detailed.copy()\n",
    "df[\"status\"] = df[\"status\"].map(LEGEND_MAPPING)\n",
    "ordered_statuses = [LEGEND_MAPPING[s] for s in ORDERED_STATUSES]\n",
    "status_colors = {LEGEND_MAPPING[k]: v for k, v in STATUS_COLORS.items()}\n",
    "\n",
    "chart_robots = forecast_plot(\n",
    "    df,\n",
    "    agent=AGENT,\n",
    "    lags=LAGS,\n",
    "    val_col=\"tokens\",\n",
    "    n_periods=N_PERIODS,\n",
    "    ordered_statuses=ordered_statuses,\n",
    "    status_colors=status_colors,\n",
    "    legend_title=\"Robots.txt Agent Restrictions\",\n",
    "    excel_file=EXCEL_FNAME_ROBOTS,\n",
    "    chosen_corpus=CHOSEN_CORPUS,\n",
    "    **PLOT_KWARGS\n",
    ")\n",
    "\n",
    "\n",
    "#chart_robots.save(\n",
    "#    \"%s_%s-%s.pdf\" % (AGENT, CHOSEN_CORPUS, ANALYSIS_TYPE),\n",
    "#    ppi=300\n",
    "#)\n",
    "\n",
    "chart_robots"
   ]
  },
  {
   "cell_type": "markdown",
   "id": "341c6e1b-b7d7-4e25-abf7-45ad343de81a",
   "metadata": {},
   "source": [
    "## Plot Temporal ToS Area Chart + Forecast"
   ]
  },
  {
   "cell_type": "code",
   "execution_count": null,
   "id": "4ff6418b",
   "metadata": {},
   "outputs": [],
   "source": [
    "ORDERED_STATUSES = [\n",
    "    \"No Terms Pages\", \"Unrestricted Use\", \"Conditional Use\", \"No Re-Distribution\", \"Non-Compete\", \"NC Only\", \"No AI\", \"No Scraping\", \"No Scraping & AI\"\n",
    "]\n",
    "\n",
    "STATUS_COLORS = {\n",
    "    \"No Terms Pages\": \"#d9d9d9\",\n",
    "    \"Unrestricted Use\": \"#5891bf\",\n",
    "    \"Conditional Use\": \"#d5e4ef\",\n",
    "    \"No Re-Distribution\": \"#f7dcca\",\n",
    "    \"Non-Compete\": \"#f7dcca\",\n",
    "    \"NC Only\": \"#f7dcca\",\n",
    "    \"No AI\": \"#f7dcca\",\n",
    "    \"No Scraping\": \"#e8a888\",\n",
    "    \"No Scraping & AI\": \"#a32a31\"\n",
    "}\n",
    "\n",
    "# 'No Terms Pages' 'Unrestricted Use' 'No Scraping + NC Only'\n",
    "#  'Conditional Use' 'NC Only' 'No Scraping' 'No Scraping & AI + NC Only'\n",
    "#  'No Scraping & AI' 'No AI']\n",
    "\n",
    "\n",
    "df = tos_summary_df_rand.copy()\n",
    "# print(df[\"status\"].unique())\n",
    "\n",
    "\n",
    "chart_tos = forecasting_util.plot_and_forecast_tos_sarima(\n",
    "    df,\n",
    "    period_col=\"period\",\n",
    "    status_col=\"status\",\n",
    "    val_col=\"tokens\",  # \"count\" / \"tokens\"\n",
    "    title=\"\",\n",
    "    ordered_statuses=ORDERED_STATUSES,\n",
    "    status_colors=STATUS_COLORS,\n",
    "    order=ORDER,\n",
    "    seasonal_order=SEASONAL_ORDER,\n",
    "    configure=False,\n",
    "    legend_title=\"Web Domain Terms of Service Restrictions\",\n",
    "    excel_file=EXCEL_FNAME_TOS,\n",
    "    chosen_corpus=CHOSEN_CORPUS,\n",
    "    **PLOT_KWARGS\n",
    ")\n",
    "\n",
    "#chart_tos.save(\n",
    "#    \"TOS_%s.png\" % (ANALYSIS_TYPE),\n",
    "#    ppi=300\n",
    "#)\n",
    "\n",
    "chart_tos"
   ]
  },
  {
   "cell_type": "markdown",
   "metadata": {},
   "source": [
    "## Final Predictions"
   ]
  },
  {
   "cell_type": "code",
   "execution_count": null,
   "id": "90428442",
   "metadata": {},
   "outputs": [],
   "source": [
    "data = pd.read_csv(\n",
    "    FPATH_TO_C4_TOKEN_ESTIMATES if CHOSEN_CORPUS == \"c4\" else FPATH_TO_RF_TOKEN_ESTIMATES if CHOSEN_CORPUS == \"rf\" else FPATH_TO_DOLMA_TOKEN_ESTIMATES,\n",
    "    parse_dates=[\"period\"],\n",
    ")\n",
    "\n",
    "forecast_df = forecasting_util.forecast_restrictive_tokens_sarima(data)"
   ]
  },
  {
   "cell_type": "markdown",
   "id": "deefc077-ecb9-4bc9-81c7-52e82c85dd26",
   "metadata": {},
   "source": [
    "## Plot Restrictions by Company"
   ]
  },
  {
   "cell_type": "code",
   "execution_count": null,
   "id": "0a42fe8b-15e0-48ba-a751-ee4d1c22d44f",
   "metadata": {},
   "outputs": [],
   "source": [
    "df = robots_temporal_head_summary.copy()\n",
    "\n",
    "forecast_startdate = df[\"period\"].max().strftime(\"%Y-%m-%d\")\n",
    "if ANALYSIS_TYPE == \"autoregression\":\n",
    "    df = forecasting_util.forecast_company_comparisons_autoregression(\n",
    "        df,\n",
    "        lags=LAGS,\n",
    "        val_col=\"tokens\",\n",
    "        n_periods=N_PERIODS\n",
    "    )\n",
    "elif ANALYSIS_TYPE == \"sarima\":\n",
    "    df = forecasting_util.forecast_company_comparisons_sarima(\n",
    "        df,\n",
    "        val_col=\"tokens\",\n",
    "        n_periods=N_PERIODS,\n",
    "        order=ORDER,\n",
    "        seasonal_order=SEASONAL_ORDER,\n",
    "    )\n",
    "\n",
    "AGENT_COLORMAP = {\n",
    "    \"Google\": \"#4D58D5\",          # blue\n",
    "    \"OpenAI\": \"#519BEE\",          # coral\n",
    "    \"Anthropic\": \"#68D4C4\",       # green\n",
    "    \"Cohere\": \"#83F590\",          # red\n",
    "    \"Common Crawl\": \"#DEDD56\",    # muted purple\n",
    "    \"Meta\": \"#ADF86C\",            # slate gray\n",
    "    \"Internet Archive\": \"#5D6D7E\",# golden yellow\n",
    "    \"Google Search\": \"#D7EDEE\",   # light gray\n",
    "    \"False Anthropic\": \"#D9D9D9\"  # teal\n",
    "}\n",
    "\n",
    "chart_companies = visualization_util.plot_company_comparisons_altair(\n",
    "    df,\n",
    "    color_mapping=AGENT_COLORMAP,\n",
    "    scale_y=\"log\",\n",
    "    configure=False,\n",
    "    eventline_scaling=4, # How tall the event marker lines should be (scaling is relative to the span of data at the event time)\n",
    "    forecast_startdate=forecast_startdate,\n",
    "    skip_pct=True,\n",
    "    legend_title=\"Restrictions by Organization Agent\",\n",
    "    **PLOT_KWARGS\n",
    ")\n",
    "\n",
    "#chart_companies.save(\n",
    "#    \"Company_Comparisons_%s.png\" % (ANALYSIS_TYPE),\n",
    "#    ppi=300\n",
    "#)\n",
    "\n",
    "chart_companies"
   ]
  },
  {
   "cell_type": "markdown",
   "id": "d49285e8",
   "metadata": {},
   "source": [
    "## Combine Charts"
   ]
  },
  {
   "cell_type": "code",
   "execution_count": null,
   "id": "6464c2af",
   "metadata": {},
   "outputs": [],
   "source": [
    "combined_chart = alt.vconcat(chart_robots, chart_tos, chart_companies).configure_axis(\n",
    "    grid=False,\n",
    "    labelFontSize=PLOT_KWARGS[\"label_fontsize\"],\n",
    "    titleFontSize=PLOT_KWARGS[\"title_fontsize\"],\n",
    "    labelAngle=0,\n",
    "    tickCount=len(range(df[\"period\"].dt.year.min(), df[\"period\"].dt.year.max()))\n",
    ").configure_legend(\n",
    "    labelFontSize=PLOT_KWARGS[\"label_fontsize\"],\n",
    "    titleFontSize=PLOT_KWARGS[\"title_fontsize\"],\n",
    "    columns=PLOT_KWARGS[\"legend_cols\"]\n",
    ").configure_view(\n",
    "    strokeWidth=0\n",
    ").resolve_scale(\n",
    "    color=\"independent\",\n",
    "    x=\"shared\"\n",
    ")\n",
    "\n",
    "#combined_chart.save(\n",
    "#    \"Combined_%s.png\" % (ANALYSIS_TYPE),\n",
    "#    ppi=300\n",
    "#)\n",
    "\n",
    "combined_chart"
   ]
  },
  {
   "cell_type": "markdown",
   "id": "65002141-7f02-45f7-9edb-4d7395366e67",
   "metadata": {},
   "source": [
    "## Create Correlations Tables"
   ]
  },
  {
   "cell_type": "code",
   "execution_count": null,
   "id": "76b2d9f3-5539-4d44-9a68-b2702c157235",
   "metadata": {},
   "outputs": [],
   "source": [
    "c4_estimates = analysis_util.run_population_analysis(\n",
    "    url_results_df,\n",
    "    top_c4_urls,\n",
    "    \"c4\",\n",
    "    \"pretrain_data/corpus_token_bucket_counts/c4_buckets.csv\",\n",
    "    url_token_lookup,\n",
    "    verbose=False,\n",
    ")\n",
    "rf_estimates = analysis_util.run_population_analysis(\n",
    "    url_results_df,\n",
    "    top_rf_urls,\n",
    "    \"rf\",\n",
    "    \"pretrain_data/corpus_token_bucket_counts/rf_buckets.csv\",\n",
    "    url_token_lookup,\n",
    "    verbose=False,\n",
    ")\n",
    "dolma_estimates = analysis_util.run_population_analysis(\n",
    "    url_results_df,\n",
    "    top_dolma_urls,\n",
    "    \"dolma\",\n",
    "    \"pretrain_data/corpus_token_bucket_counts/dolma_buckets.csv\",\n",
    "    url_token_lookup,\n",
    "    verbose=False,\n",
    ")"
   ]
  },
  {
   "cell_type": "code",
   "execution_count": null,
   "id": "1cf458b4-89c7-41dd-838e-c4413f0062ae",
   "metadata": {},
   "outputs": [],
   "source": [
    "url_correlation_df = analysis_util.analyze_url_variable_correlations(\n",
    "    url_results_df,\n",
    "    [100, 500, 2000],\n",
    "    c4_estimates,\n",
    "    rf_estimates,\n",
    "    dolma_estimates\n",
    ")\n",
    "\n",
    "# Convert the dataframe to a LaTeX table\n",
    "latex_table = url_correlation_df.to_latex(index=True, escape=True, float_format=\"{:.1f}\".format)\n",
    "print(latex_table)"
   ]
  },
  {
   "cell_type": "markdown",
   "id": "de77b84a-3b07-4768-917b-883b559f6b6f",
   "metadata": {},
   "source": [
    "## Robots & ToS Confusion Matrix"
   ]
  },
  {
   "cell_type": "code",
   "execution_count": null,
   "id": "c9fa9195-b1e7-491b-b3b6-3e0cc156058b",
   "metadata": {},
   "outputs": [],
   "source": [
    "robots_util.prepare_tos_robots_confusion_matrix(\n",
    "    tos_policies,\n",
    "    url_robots_summary,\n",
    "    COMPANIES_TO_ANALYZE,\n",
    "    url_token_lookup,\n",
    "    corpora_choice=\"dolma\",\n",
    ")"
   ]
  },
  {
   "cell_type": "code",
   "execution_count": null,
   "id": "03e9f1c0-3e76-42c8-b63d-6e746b778923",
   "metadata": {},
   "outputs": [],
   "source": [
    "type(url_robots_summary)"
   ]
  },
  {
   "cell_type": "code",
   "execution_count": null,
   "id": "a4f3a452-1450-4da7-af4d-08631ebd03ef",
   "metadata": {},
   "outputs": [],
   "source": [
    "def company_to_company_restrictions(url_robots_summary, companies):\n",
    "    # Create a dictionary to hold the URL statuses for each company\n",
    "    url_status_dict = {}\n",
    "\n",
    "    for company in companies:\n",
    "        # Get the latest URL robot statuses for the company\n",
    "        agent_names = robots_util.get_bots(company)\n",
    "        url_status = robots_util.get_latest_url_robot_statuses(url_robots_summary, agent_names)\n",
    "        url_status_dict[company] = url_status\n",
    "\n",
    "    # print(url_status_dict[\"OpenAI\"].values())\n",
    "    # Create a list to hold the conditional probability data\n",
    "    conditional_prob_data = []\n",
    "\n",
    "    # Compare each pair of companies\n",
    "    for company_a in companies:\n",
    "        for company_b in companies:\n",
    "            if company_a == company_b:\n",
    "                continue  # Skip self-comparison\n",
    "\n",
    "            status_a = url_status_dict[company_a]\n",
    "            status_b = url_status_dict[company_b]\n",
    "\n",
    "            total_restricted_a = sum(1 for status in status_a.values() if status == 'all')\n",
    "            restricted_b_if_a_restricted = sum(1 for url, status in status_a.items() if status == 'all' and status_b.get(url) == 'all')\n",
    "\n",
    "            if total_restricted_a > 0:\n",
    "                pct_b_restricted_if_a_restricted = round((restricted_b_if_a_restricted / total_restricted_a) * 100, 1)\n",
    "            else:\n",
    "                pct_b_restricted_if_a_restricted = 0\n",
    "\n",
    "            conditional_prob_data.append({\n",
    "                'Company A': company_a,\n",
    "                'Company B': company_b,\n",
    "                'pct_a_restricted_if_b_restricted': pct_b_restricted_if_a_restricted\n",
    "            })\n",
    "\n",
    "    # Convert the conditional probability data to a DataFrame\n",
    "    df = pd.DataFrame(conditional_prob_data)\n",
    "    # print(df)\n",
    "\n",
    "    # Plot the confusion matrix\n",
    "    return visualization_util.plot_confusion_matrix(\n",
    "        df,\n",
    "        yaxis_order=companies,\n",
    "        xaxis_order=companies,\n",
    "        text_axis='pct_a_restricted_if_b_restricted',\n",
    "        color_axis='pct_a_restricted_if_b_restricted',\n",
    "        yaxis_title=\"Company A\",\n",
    "        xaxis_title=\"Company B\",\n",
    "        font_size=20,\n",
    "        font_style='sans-serif',\n",
    "        width=600,\n",
    "        height=400,\n",
    "    )\n",
    "\n",
    "# Assuming robots_util and visualization_util are already imported and configured correctly\n"
   ]
  },
  {
   "cell_type": "code",
   "execution_count": null,
   "id": "033d5aea-be98-4838-b28d-0b2b57864b3a",
   "metadata": {},
   "outputs": [],
   "source": [
    "company_to_company_restrictions(url_robots_summary_head, ALL_COMPANIES_TO_TRACK)"
   ]
  },
  {
   "cell_type": "markdown",
   "id": "00f8bdfc-23e0-4eb2-9b11-84ff8c4b927a",
   "metadata": {},
   "source": [
    "## Plot Num Tokens against Robots Restrictions per Company"
   ]
  },
  {
   "cell_type": "code",
   "execution_count": null,
   "id": "55a94479-ef4a-44ce-9f0b-b33929436965",
   "metadata": {},
   "outputs": [],
   "source": [
    "size_bucket_to_urls = robots_util.bucket_urls_by_size(\n",
    "    c4_url_to_counts,\n",
    "    bucket_boundaries=[0, 1000, 10000, 50000, 1000000, 10000000, 50000000, 9999999999999999]\n",
    ")\n",
    "robots_util.plot_size_against_restrictions(\n",
    "    url_robots_summary,\n",
    "    size_bucket_to_urls,\n",
    "    \"OpenAI\",\n",
    "    setting=\"train\"\n",
    ")"
   ]
  }
 ],
 "metadata": {
  "kernelspec": {
   "display_name": "Python 3 (ipykernel)",
   "language": "python",
   "name": "python3"
  },
  "language_info": {
   "codemirror_mode": {
    "name": "ipython",
    "version": 3
   },
   "file_extension": ".py",
   "mimetype": "text/x-python",
   "name": "python",
   "nbconvert_exporter": "python",
   "pygments_lexer": "ipython3",
   "version": "3.10.13"
  }
 },
 "nbformat": 4,
 "nbformat_minor": 5
}
