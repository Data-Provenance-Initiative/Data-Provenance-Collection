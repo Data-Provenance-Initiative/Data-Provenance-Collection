{
 "cells": [
  {
   "cell_type": "code",
   "execution_count": 1,
   "id": "271834be-94ee-4002-8ced-73a0790fbf16",
   "metadata": {},
   "outputs": [],
   "source": [
    "import sys\n",
    "import os\n",
    "import json\n",
    "import pandas as pd\n",
    "import numpy as np\n",
    "import random\n",
    "import copy\n",
    "from datetime import datetime\n",
    "from collections import Counter, defaultdict\n",
    "\n",
    "# Visualization packages\n",
    "import altair as alt\n",
    "import matplotlib.pyplot as plt\n",
    "import seaborn as sns\n",
    "from matplotlib.patches import Patch\n",
    "\n",
    "# Append system path\n",
    "sys.path = [p for p in sys.path if not p.endswith('../..')]  # Cleans duplicated '../..'\n",
    "sys.path.insert(0, '../')  # This adds `src` to the path\n",
    "\n",
    "from helpers import io, filters, constants\n",
    "from analysis import analysis_util, analysis_constants, visualization_util\n",
    "from web_analysis import parse_robots\n",
    "from web_analysis import robots_util\n",
    "\n",
    "\n",
    "%load_ext autoreload\n",
    "%autoreload 2"
   ]
  },
  {
   "cell_type": "markdown",
   "id": "cbe935ae-6338-4e3b-bd10-13123b0a978a",
   "metadata": {},
   "source": [
    "### Define Paths to all relevant files"
   ]
  },
  {
   "cell_type": "code",
   "execution_count": 22,
   "id": "f2133323-eca3-44bc-9694-d8b0fbd51069",
   "metadata": {},
   "outputs": [],
   "source": [
    "COMPANIES_TO_ANALYZE = [\"Google\", \"OpenAI\", \"Anthropic\", \"Cohere\", \"Common Crawl\", \"Meta\"]\n",
    "FPATH_TO_RELEVANT_URL_TOKENS = 'pretrain_data/relevant_url_token_counts.csv'\n",
    "FPATH_to_HEAD_ROBOTS = \"robots_data/temporal_robots_head.json\"\n",
    "FPATH_TO_RAND_ROBOTS = \"robots_data/temporal_robots_rand_10k.json\"\n",
    "FPATH_TO_TOS_DATA = \"robots_data/tos_ai_scraping_policies.json\"\n",
    "DIRPATHS_TO_ANNOTATED_TASKS = [\"annotated_websites/Task 1\", \"annotated_websites/Task 2\"]\n",
    "\n",
    "TEMPORAL_ANALYSIS_START_DATE = '2016-01-01'\n",
    "TEMPORAL_ANALYSIS_END_DATE = '2024-04-30'"
   ]
  },
  {
   "cell_type": "markdown",
   "id": "ee96fd8b-6342-476c-bff6-72a525e1da36",
   "metadata": {},
   "source": [
    "### Load all URL splits (top vs random) and maps to Token Counts"
   ]
  },
  {
   "cell_type": "code",
   "execution_count": 3,
   "id": "3a3b2a93-5a35-4c7e-b087-73dd4db273f9",
   "metadata": {},
   "outputs": [
    {
     "name": "stdout",
     "output_type": "stream",
     "text": [
      "Number of tokens in 2000 URLs: 18447797380 | 10.85% of c4\n",
      "Number of tokens in 2000 URLs: 67098747294 | 15.56% of rf\n",
      "Number of tokens in 2000 URLs: 429152555144 | 21.74% of dolma\n"
     ]
    }
   ],
   "source": [
    "url_token_lookup = robots_util.URLTokenLookup(FPATH_TO_RELEVANT_URL_TOKENS) # 'c4', 'rf', 'dolma'\n",
    "c4_url_to_counts = url_token_lookup.get_url_to_token_map(\"c4\")\n",
    "rf_url_to_counts = url_token_lookup.get_url_to_token_map(\"rf\")\n",
    "dolma_url_to_counts = url_token_lookup.get_url_to_token_map(\"dolma\")\n",
    "top_c4_urls = url_token_lookup.top_k_urls(\"c4\", 2000)\n",
    "top_rf_urls = url_token_lookup.top_k_urls(\"rf\", 2000)\n",
    "top_dolma_urls = url_token_lookup.top_k_urls(\"dolma\", 2000)\n",
    "random_10k_urls = url_token_lookup.get_10k_random_sample()"
   ]
  },
  {
   "cell_type": "markdown",
   "id": "4a54f01e-6c3a-4f48-a889-ba765dc9450f",
   "metadata": {},
   "source": [
    "### Define Agents and Agent Groups"
   ]
  },
  {
   "cell_type": "code",
   "execution_count": 8,
   "id": "bb8b750e-3c52-4578-a486-b8ad1a2a88a1",
   "metadata": {},
   "outputs": [],
   "source": [
    "agent_groups_to_track = robots_util.get_bot_groups(COMPANIES_TO_ANALYZE)\n",
    "agents_to_track = robots_util.get_bots()"
   ]
  },
  {
   "cell_type": "markdown",
   "id": "b09644e3-d075-4a46-8445-d8179ae29bc9",
   "metadata": {},
   "source": [
    "### Load Robots.txt info"
   ]
  },
  {
   "cell_type": "code",
   "execution_count": 10,
   "id": "41e969a9-1d0b-4b95-9ccf-ff15840d94e3",
   "metadata": {},
   "outputs": [
    {
     "name": "stdout",
     "output_type": "stream",
     "text": [
      "Num robot URLs loaded: 830\n",
      "Earliest time: 2016-01-01\n",
      "Last time: 2024-04-19\n",
      "Num robot URLs loaded: 6230\n",
      "Earliest time: 2016-01-01\n",
      "Last time: 2024-04-19\n"
     ]
    }
   ],
   "source": [
    "# URL -> Date -> Robots.txt raw text\n",
    "head_robots = io.read_json(FPATH_to_HEAD_ROBOTS)\n",
    "random_10k_robots = io.read_json(FPATH_TO_RAND_ROBOTS)\n",
    "joined_robots = copy.deepcopy(head_robots)\n",
    "joined_robots.update(random_10k_robots)\n",
    "robots_util.print_out_robots_info(head_robots)\n",
    "robots_util.print_out_robots_info(random_10k_robots)\n",
    "\n",
    "# {URL --> Date --> Agent --> Status}\n",
    "url_robots_summary = robots_util.compute_url_date_agent_status(\n",
    "    data=joined_robots, \n",
    "    # relevant_agents=agents_to_track)\n",
    "    relevant_agents=[v for vs in agent_groups_to_track.values() for v in vs])"
   ]
  },
  {
   "cell_type": "markdown",
   "id": "d5e26ade-d9e9-4900-a3b3-a01af4a698b1",
   "metadata": {},
   "source": [
    "### Load ToS info"
   ]
  },
  {
   "cell_type": "code",
   "execution_count": 11,
   "id": "70351b94-b889-4f16-9c31-56fd61f43464",
   "metadata": {},
   "outputs": [
    {
     "name": "stdout",
     "output_type": "stream",
     "text": [
      "Num ToS URLs: 3068\n"
     ]
    }
   ],
   "source": [
    "# URL --> Date --> ToS-suburl --> {\"verdict\": X, \"evidence\": Y}\n",
    "tos_policies = io.read_json(FPATH_TO_TOS_DATA)\n",
    "print(f\"Num ToS URLs: {len(tos_policies)}\")"
   ]
  },
  {
   "cell_type": "markdown",
   "id": "36901240-db00-4c04-9ac3-6f5377233736",
   "metadata": {},
   "source": [
    "### Load Manual Pretraining Annotations"
   ]
  },
  {
   "cell_type": "code",
   "execution_count": 12,
   "id": "31e586df-d0ba-44f0-ba5c-e260380107c8",
   "metadata": {},
   "outputs": [
    {
     "name": "stdout",
     "output_type": "stream",
     "text": [
      "6663 rows before filtering.\n",
      "3017 rows after filtering. 1550 issues, 2096 unannotated.\n",
      "7059\n"
     ]
    }
   ],
   "source": [
    "url_to_info = analysis_util.extract_url_annotations(DIRPATHS_TO_ANNOTATED_TASKS)\n",
    "url_results_df = pd.DataFrame(analysis_util.process_url_annotations(url_to_info))\n",
    "url_results_df = analysis_util.encode_size_columns(url_results_df, url_token_lookup)\n",
    "url_results_df = robots_util.encode_latest_tos_robots_into_df(\n",
    "    url_results_df, tos_policies, url_robots_summary,\n",
    "    COMPANIES_TO_ANALYZE\n",
    ")"
   ]
  },
  {
   "cell_type": "markdown",
   "id": "8e3002a9-b499-4a0f-bee1-9e433c4cf5e3",
   "metadata": {},
   "source": [
    "# Create Plots"
   ]
  },
  {
   "cell_type": "markdown",
   "id": "298fa261-5171-4c9a-9b1a-de5a70cc8490",
   "metadata": {},
   "source": [
    "### Preprocessing for Robots Head & Random URL splits"
   ]
  },
  {
   "cell_type": "code",
   "execution_count": 13,
   "id": "15b876db-605f-424d-af51-7e3b7cb98242",
   "metadata": {},
   "outputs": [],
   "source": [
    "### DECISION POINT: Use C4, Dolma, or RefinedWeb here?\n",
    "\n",
    "CHOSEN_CORPUS = \"c4\" # 'c4', 'rf', 'dolma'\n",
    "if CHOSEN_CORPUS == \"c4\":\n",
    "    HEAD_URL_SET = top_c4_urls\n",
    "    URL_TO_COUNTS = c4_url_to_counts\n",
    "elif CHOSEN_CORPUS == \"rf\":\n",
    "    HEAD_URL_SET = top_rf_urls\n",
    "    URL_TO_COUNTS = rf_url_to_counts\n",
    "elif CHOSEN_CORPUS == \"dolma\":\n",
    "    HEAD_URL_SET = top_dolma_urls\n",
    "    URL_TO_COUNTS = dolma_url_to_counts"
   ]
  },
  {
   "cell_type": "code",
   "execution_count": null,
   "id": "95af6c29-6b79-44c0-b98f-199376387ebf",
   "metadata": {},
   "outputs": [],
   "source": []
  },
  {
   "cell_type": "code",
   "execution_count": 14,
   "id": "840d10e9-9586-46e2-91a5-a4910e1340ba",
   "metadata": {},
   "outputs": [],
   "source": [
    "url_robots_summary_head = {url: url_robots_summary[url] for url in HEAD_URL_SET if url in url_robots_summary}\n",
    "url_robots_summary_rand = {url: url_robots_summary[url] for url in random_10k_urls if url in url_robots_summary}"
   ]
  },
  {
   "cell_type": "code",
   "execution_count": 438,
   "id": "bd4de08b-09be-4247-8354-a4b9120e9d5a",
   "metadata": {},
   "outputs": [
    {
     "ename": "AttributeError",
     "evalue": "'NoneType' object has no attribute 'items'",
     "output_type": "error",
     "traceback": [
      "\u001b[0;31m---------------------------------------------------------------------------\u001b[0m",
      "\u001b[0;31mAttributeError\u001b[0m                            Traceback (most recent call last)",
      "Cell \u001b[0;32mIn[438], line 3\u001b[0m\n\u001b[1;32m      1\u001b[0m \u001b[38;5;66;03m# HEAD SPLIT\u001b[39;00m\n\u001b[1;32m      2\u001b[0m \u001b[38;5;66;03m# {Period --> Agent --> Status --> set(URLs)}\u001b[39;00m\n\u001b[0;32m----> 3\u001b[0m robots_filled_status_head_summary \u001b[38;5;241m=\u001b[39m \u001b[43mrobots_util\u001b[49m\u001b[38;5;241;43m.\u001b[39;49m\u001b[43mprepare_robots_temporal_summary\u001b[49m\u001b[43m(\u001b[49m\n\u001b[1;32m      4\u001b[0m \u001b[43m    \u001b[49m\u001b[43murl_robots_summary\u001b[49m\u001b[38;5;241;43m=\u001b[39;49m\u001b[43murl_robots_summary_head\u001b[49m\u001b[43m,\u001b[49m\u001b[43m \u001b[49m\n\u001b[1;32m      5\u001b[0m \u001b[43m    \u001b[49m\u001b[38;5;66;43;03m# group_to_agents={k: [k] for k in agents_to_track},\u001b[39;49;00m\n\u001b[1;32m      6\u001b[0m \u001b[43m    \u001b[49m\u001b[43mgroup_to_agents\u001b[49m\u001b[38;5;241;43m=\u001b[39;49m\u001b[43magent_groups_to_track\u001b[49m\u001b[43m,\u001b[49m\n\u001b[1;32m      7\u001b[0m \u001b[43m    \u001b[49m\u001b[43mstart_time\u001b[49m\u001b[38;5;241;43m=\u001b[39;49m\u001b[38;5;124;43m'\u001b[39;49m\u001b[38;5;124;43m2016-01-01\u001b[39;49m\u001b[38;5;124;43m'\u001b[39;49m\u001b[43m,\u001b[49m\u001b[43m \u001b[49m\n\u001b[1;32m      8\u001b[0m \u001b[43m    \u001b[49m\u001b[43mend_time\u001b[49m\u001b[38;5;241;43m=\u001b[39;49m\u001b[38;5;124;43m'\u001b[39;49m\u001b[38;5;124;43m2024-04-30\u001b[39;49m\u001b[38;5;124;43m'\u001b[39;49m\u001b[43m,\u001b[49m\n\u001b[1;32m      9\u001b[0m \u001b[43m    \u001b[49m\u001b[43mtime_frequency\u001b[49m\u001b[38;5;241;43m=\u001b[39;49m\u001b[38;5;124;43m\"\u001b[39;49m\u001b[38;5;124;43mM\u001b[39;49m\u001b[38;5;124;43m\"\u001b[39;49m\u001b[43m,\u001b[49m\n\u001b[1;32m     10\u001b[0m \u001b[43m)\u001b[49m\n\u001b[1;32m     11\u001b[0m robots_filled_status_rand_summary \u001b[38;5;241m=\u001b[39m robots_util\u001b[38;5;241m.\u001b[39mprepare_robots_temporal_summary(\n\u001b[1;32m     12\u001b[0m     url_robots_summary\u001b[38;5;241m=\u001b[39murl_robots_summary_rand, \n\u001b[1;32m     13\u001b[0m     \u001b[38;5;66;03m# group_to_agents={k: [k] for k in agents_to_track},\u001b[39;00m\n\u001b[0;32m   (...)\u001b[0m\n\u001b[1;32m     17\u001b[0m     time_frequency\u001b[38;5;241m=\u001b[39m\u001b[38;5;124m\"\u001b[39m\u001b[38;5;124mM\u001b[39m\u001b[38;5;124m\"\u001b[39m,\n\u001b[1;32m     18\u001b[0m )\n",
      "File \u001b[0;32m~/Documents/research/opal/Data-Provenance-Collection/src/web_analysis/robots_util.py:365\u001b[0m, in \u001b[0;36mprepare_robots_temporal_summary\u001b[0;34m(url_robots_summary, group_to_agents, start_time, end_time, time_frequency, website_start_dates)\u001b[0m\n\u001b[1;32m    362\u001b[0m filled_status_summary \u001b[38;5;241m=\u001b[39m defaultdict(\u001b[38;5;28;01mlambda\u001b[39;00m: defaultdict(\u001b[38;5;28;01mlambda\u001b[39;00m: defaultdict(\u001b[38;5;28mset\u001b[39m)))\n\u001b[1;32m    364\u001b[0m \u001b[38;5;28;01mfor\u001b[39;00m period \u001b[38;5;129;01min\u001b[39;00m date_range:\n\u001b[0;32m--> 365\u001b[0m     \u001b[38;5;28;01mfor\u001b[39;00m url, start_date \u001b[38;5;129;01min\u001b[39;00m \u001b[43mwebsite_start_dates\u001b[49m\u001b[38;5;241;43m.\u001b[39;49m\u001b[43mitems\u001b[49m():\n\u001b[1;32m    366\u001b[0m         \u001b[38;5;28;01mif\u001b[39;00m pd\u001b[38;5;241m.\u001b[39misnull(start_date):  \u001b[38;5;66;03m# Skip URLs without a start date\u001b[39;00m\n\u001b[1;32m    367\u001b[0m             \u001b[38;5;28;01mcontinue\u001b[39;00m\n",
      "\u001b[0;31mAttributeError\u001b[0m: 'NoneType' object has no attribute 'items'"
     ]
    }
   ],
   "source": [
    "# HEAD URL SPLIT\n",
    "# {Period --> Agent --> Status --> set(URLs)}\n",
    "robots_filled_status_head_summary = robots_util.prepare_robots_temporal_summary(\n",
    "    url_robots_summary=url_robots_summary_head, \n",
    "    # group_to_agents={k: [k] for k in agents_to_track},\n",
    "    group_to_agents=agent_groups_to_track,\n",
    "    start_time=TEMPORAL_ANALYSIS_START_DATE, \n",
    "    end_time=TEMPORAL_ANALYSIS_END_DATE,\n",
    "    time_frequency=\"M\",\n",
    ")\n",
    "# RANDOM URL SPLIT\n",
    "robots_filled_status_rand_summary = robots_util.prepare_robots_temporal_summary(\n",
    "    url_robots_summary=url_robots_summary_rand, \n",
    "    # group_to_agents={k: [k] for k in agents_to_track},\n",
    "    group_to_agents=agent_groups_to_track,\n",
    "    start_time=TEMPORAL_ANALYSIS_START_DATE, \n",
    "    end_time=TEMPORAL_ANALYSIS_END_DATE,\n",
    "    time_frequency=\"M\",\n",
    ")\n"
   ]
  },
  {
   "cell_type": "code",
   "execution_count": null,
   "id": "d0239870-9790-48bb-8222-b2174a4f0ec1",
   "metadata": {},
   "outputs": [],
   "source": [
    "# Dataframe w/ [Period, Agent, Status, count(URLs or tokens)]\n",
    "robots_temporal_head_summary = robots_util.robots_temporal_to_df(\n",
    "    robots_filled_status_head_summary,\n",
    "    url_to_counts=c4_url_to_counts,\n",
    ")\n",
    "# Dataframe w/ [Period, Agent, Status, count(URLs), count(tokens)]\n",
    "robots_temporal_rand_summary = robots_util.robots_temporal_to_df(\n",
    "    robots_filled_status_rand_summary,\n",
    "    url_to_counts=URL_TO_COUNTS,\n",
    ")"
   ]
  },
  {
   "cell_type": "markdown",
   "id": "e9e1d2cb-22af-4b5e-854b-ed7fb58c3f36",
   "metadata": {},
   "source": [
    "### Create Temporal Robots & ToS plots"
   ]
  },
  {
   "cell_type": "code",
   "execution_count": null,
   "id": "20bc2244-2f4f-49ff-ac0d-7fdd177bd796",
   "metadata": {},
   "outputs": [],
   "source": [
    "# for agent in agents_to_track:\n",
    "#     robots_util.plot_robots_time_map(robots_temporal_summary, agent)\n",
    "\n",
    "for group in agent_groups_to_track:\n",
    "    chart = robots_util.plot_robots_time_map_altair(\n",
    "        robots_temporal_head_summary, \n",
    "        agent_type=group, \n",
    "        period_col='period', \n",
    "        status_col='status', \n",
    "        val_col='tokens',  # \"count\" / \"tokens\"\n",
    "        title='Restriction Status over Time', \n",
    "        ordered_statuses=['N/A', 'none', 'some', 'all'], \n",
    "        status_colors={'N/A': 'gray', 'none': 'blue', 'some': 'orange', 'all': 'red'}\n",
    "    )\n",
    "    chart.show()\n",
    "#     robots_util.plot_robots_time_map(robots_temporal_head_summary, group, val_key=\"count\")"
   ]
  },
  {
   "cell_type": "code",
   "execution_count": null,
   "id": "00262d1d-256e-4f36-8c98-d475523f92c7",
   "metadata": {},
   "outputs": [],
   "source": [
    "def plot_tos_time_map(\n",
    "    df,\n",
    "    period_col, \n",
    "    status_col, \n",
    "    val_col, \n",
    "    title='', \n",
    "    ordered_statuses=None, \n",
    "    status_colors=None\n",
    "):\n",
    "    \n",
    "    # Group by 'period' and 'status', and sum up the 'count'\n",
    "    grouped_df = filtered_df.groupby([period_col, status_col])[val_col].sum().unstack(fill_value=0)\n",
    "    \n",
    "    # Reorder the columns as desired\n",
    "    if ordered_statuses is None:\n",
    "        ordered_statuses = grouped_df.columns.tolist()\n",
    "    grouped_df = grouped_df[ordered_statuses]\n",
    "    \n",
    "    # Calculate the total counts for each period\n",
    "    total_counts = grouped_df.sum(axis=1)\n",
    "    \n",
    "\n",
    "    # Calculate the percentage of each status per period\n",
    "    percent_df = grouped_df.div(total_counts, axis=0).reset_index()\n",
    "    percent_df[period_col] = percent_df[period_col].dt.to_timestamp()\n",
    "    \n",
    "    # Convert to long format for Altair\n",
    "    percent_long_df = percent_df.melt(id_vars=period_col, var_name=status_col, value_name='percentage')\n",
    "    \n",
    "    # Create the chart using the general plotting function\n",
    "    chart = visualization_util.create_stacked_area_chart(\n",
    "        df=percent_long_df,\n",
    "        period_col=period_col,\n",
    "        status_col=status_col,\n",
    "        percentage_col='percentage',\n",
    "        title=title,\n",
    "        ordered_statuses=ordered_statuses,\n",
    "        status_colors=status_colors\n",
    "    )\n",
    "    \n",
    "    return chart"
   ]
  },
  {
   "cell_type": "code",
   "execution_count": 15,
   "id": "9234e3ba-e2e5-492f-b0f4-265c4efdcdb2",
   "metadata": {},
   "outputs": [
    {
     "data": {
      "text/plain": [
       "'www.eurekalert.org'"
      ]
     },
     "execution_count": 15,
     "metadata": {},
     "output_type": "execute_result"
    }
   ],
   "source": [
    "list(tos_policies.keys())[0]"
   ]
  },
  {
   "cell_type": "code",
   "execution_count": null,
   "id": "ef7be3d2-b62d-4e71-8c26-fe31b001b0a5",
   "metadata": {},
   "outputs": [],
   "source": []
  },
  {
   "cell_type": "code",
   "execution_count": null,
   "id": "339353b3-da86-44c3-8144-3bc56cc5d6c3",
   "metadata": {},
   "outputs": [],
   "source": [
    "# URL --> time --> ToS verdict string. \n",
    "url_to_time_to_tos_verdict = robots_util.get_tos_url_time_verdicts(tos_policies)\n",
    "# Period --> Status --> set(URLs)\n",
    "period_tos_verdict_urls = robots_util.prepare_tos_temporal_summary(\n",
    "    url_to_time_to_tos_verdict,\n",
    "    start_time=TEMPORAL_ANALYSIS_START_DATE, \n",
    "    end_time=TEMPORAL_ANALYSIS_END_DATE,\n",
    "    time_frequency=\"M\",\n",
    "    website_start_dates=None,\n",
    "):\n",
    "\n",
    "# Dataframe: [Period, Status, Count, Tokens]\n",
    "tos_summary_df = robots_util.tos_temporal_to_df(\n",
    "    filled_status_summary, url_to_counts=URL_TO_COUNTS,\n",
    ")"
   ]
  },
  {
   "cell_type": "code",
   "execution_count": null,
   "id": "892bd510-067f-4b88-a8eb-14c735f098f5",
   "metadata": {},
   "outputs": [],
   "source": [
    "chart = robots_util.plot_temporal_area_map_altair(\n",
    "    robots_temporal_head_summary, \n",
    "    agent_type=group, \n",
    "    period_col='period', \n",
    "    status_col='status', \n",
    "    val_col='tokens',  # \"count\" / \"tokens\"\n",
    "    title='Restriction Status over Time', \n",
    "    ordered_statuses=['N/A', 'none', 'some', 'all'], \n",
    "    status_colors={'N/A': 'gray', 'none': 'blue', 'some': 'orange', 'all': 'red'}\n",
    ")\n",
    "chart.show()"
   ]
  },
  {
   "cell_type": "code",
   "execution_count": 17,
   "id": "1a44426e-5eb3-4ba0-8d39-6036cc4b1d66",
   "metadata": {},
   "outputs": [],
   "source": []
  },
  {
   "cell_type": "code",
   "execution_count": 21,
   "id": "a4bdfd16-c68d-4f0a-ad41-243834ca8d0c",
   "metadata": {},
   "outputs": [],
   "source": [
    "# Dataframe w/ [Period, Agent, Status, count(URLs), count(tokens)]\n"
   ]
  },
  {
   "cell_type": "code",
   "execution_count": 20,
   "id": "4ed73eeb-dea3-4f67-8b3d-bda9c5653233",
   "metadata": {},
   "outputs": [],
   "source": []
  },
  {
   "cell_type": "code",
   "execution_count": null,
   "id": "6ddd078b-0c8c-4e41-90c3-36eed0c674b1",
   "metadata": {},
   "outputs": [],
   "source": []
  },
  {
   "cell_type": "code",
   "execution_count": 346,
   "id": "e29a9266-3668-4cfe-882a-e4a6dd77c57f",
   "metadata": {},
   "outputs": [
    {
     "name": "stdout",
     "output_type": "stream",
     "text": [
      "7059\n"
     ]
    }
   ],
   "source": []
  },
  {
   "cell_type": "markdown",
   "id": "65002141-7f02-45f7-9edb-4d7395366e67",
   "metadata": {},
   "source": [
    "### Create Correlations Tables"
   ]
  },
  {
   "cell_type": "code",
   "execution_count": 449,
   "id": "1cf458b4-89c7-41dd-838e-c4413f0062ae",
   "metadata": {},
   "outputs": [
    {
     "name": "stdout",
     "output_type": "stream",
     "text": [
      "Num URLs in Top-100: 68\n",
      "Num URLs in Top-500: 323\n",
      "Num URLs in Top-2000: 1013\n",
      "Num URLs in random sample: 1056\n",
      "\\begin{tabular}{lrrrrll}\n",
      "\\toprule\n",
      " & Top 100 & Top 500 & Top 2000 & Random & Chi-Squared Stat & P-value \\\\\n",
      "\\midrule\n",
      "User Content & 22.1 & 19.5 & 18.9 & 19.1 & 2.44 & 0.12 \\\\\n",
      "Paywall & 30.9 & 35.9 & 29.8 & 1.8 & 0.00 & 1.00 \\\\\n",
      "Ads & 51.5 & 56.0 & 52.0 & 5.8 & 9.35 & 0.00 \\\\\n",
      "Modality: Image & 92.7 & 98.1 & 98.3 & 94.0 & 0.03 & 0.86 \\\\\n",
      "Modality: Video & 85.3 & 81.7 & 68.2 & 19.9 & 9.14 & 0.00 \\\\\n",
      "Modality: Audio & 82.3 & 75.2 & 53.7 & 3.2 & 2.77 & 0.10 \\\\\n",
      "Sensitive Content & 0.0 & 0.6 & 0.9 & 0.6 & 0.00 & 1.00 \\\\\n",
      "Restrictive Robots.txt & 27.9 & 18.6 & 10.6 & 1.1 & 0.61 & 0.43 \\\\\n",
      "Restrictive Terms & 23.5 & 23.2 & 17.5 & 3.9 & 2.89 & 0.09 \\\\\n",
      "domain\\_Blogs & 1.5 & 1.9 & 2.8 & 16.5 & 2.65 & 0.10 \\\\\n",
      "domain\\_Books & 7.3 & 4.3 & 3.8 & 2.9 & 0.05 & 0.82 \\\\\n",
      "domain\\_Business \\& E-Commerce & 13.2 & 18.0 & 20.4 & 58.1 & 0.66 & 0.42 \\\\\n",
      "domain\\_Entertainment \\& Culture & 17.6 & 25.1 & 31.6 & 40.9 & 2.59 & 0.11 \\\\\n",
      "domain\\_General Information \\& Education & 27.9 & 19.8 & 18.4 & 17.7 & 0.66 & 0.42 \\\\\n",
      "domain\\_Legal \\& Policy & 19.1 & 10.8 & 8.8 & 4.5 & 0.67 & 0.41 \\\\\n",
      "domain\\_News & 36.8 & 52.9 & 50.6 & 6.8 & 4.40 & 0.04 \\\\\n",
      "domain\\_Other & 4.4 & 2.8 & 4.2 & 12.6 & 0.12 & 0.73 \\\\\n",
      "domain\\_Science, Academia, \\& Technology & 25.0 & 20.7 & 20.8 & 27.2 & 1.23 & 0.27 \\\\\n",
      "domain\\_Social Media/Forums & 13.2 & 9.6 & 12.4 & 2.6 & 0.68 & 0.41 \\\\\n",
      "services\\_Academic & 16.2 & 10.2 & 9.7 & 4.8 & 0.60 & 0.44 \\\\\n",
      "services\\_Blogs & 1.5 & 1.9 & 2.8 & 16.5 & 2.65 & 0.10 \\\\\n",
      "services\\_E-Commerce & 5.9 & 9.3 & 12.4 & 12.9 & 1.21 & 0.27 \\\\\n",
      "services\\_Encyclopedia/Database & 19.1 & 13.6 & 11.0 & 0.8 & 1.58 & 0.21 \\\\\n",
      "services\\_Government & 5.9 & 3.4 & 3.1 & 0.8 & 0.00 & 1.00 \\\\\n",
      "services\\_News/Periodicals & 36.8 & 52.9 & 50.6 & 6.8 & 4.40 & 0.04 \\\\\n",
      "services\\_Organization/Personal Website & 14.7 & 13.0 & 13.5 & 66.6 & 8.62 & 0.00 \\\\\n",
      "services\\_Other & 17.6 & 9.9 & 10.3 & 17.4 & 0.99 & 0.32 \\\\\n",
      "services\\_Social Media/Forums & 13.2 & 9.6 & 12.4 & 2.6 & 0.68 & 0.41 \\\\\n",
      "\\bottomrule\n",
      "\\end{tabular}\n",
      "\n"
     ]
    }
   ],
   "source": [
    "url_correlation_df = analysis_util.analyze_url_variable_correlations(url_results_df, [100, 500, 2000], \"dolma\")\n",
    "\n",
    "# Convert the dataframe to a LaTeX table\n",
    "latex_table = url_correlation_df.to_latex(index=True, escape=True, float_format=\"{:.1f}\".format)\n",
    "print(latex_table)"
   ]
  },
  {
   "cell_type": "markdown",
   "id": "de77b84a-3b07-4768-917b-883b559f6b6f",
   "metadata": {},
   "source": [
    "### Robots & ToS Confusion Matrix"
   ]
  },
  {
   "cell_type": "code",
   "execution_count": 448,
   "id": "c9fa9195-b1e7-491b-b3b6-3e0cc156058b",
   "metadata": {},
   "outputs": [
    {
     "name": "stdout",
     "output_type": "stream",
     "text": [
      "7059\n"
     ]
    },
    {
     "data": {
      "text/html": [
       "\n",
       "<style>\n",
       "  #altair-viz-aa6c4a32fa48491ea27bdf871bba7308.vega-embed {\n",
       "    width: 100%;\n",
       "    display: flex;\n",
       "  }\n",
       "\n",
       "  #altair-viz-aa6c4a32fa48491ea27bdf871bba7308.vega-embed details,\n",
       "  #altair-viz-aa6c4a32fa48491ea27bdf871bba7308.vega-embed details summary {\n",
       "    position: relative;\n",
       "  }\n",
       "</style>\n",
       "<div id=\"altair-viz-aa6c4a32fa48491ea27bdf871bba7308\"></div>\n",
       "<script type=\"text/javascript\">\n",
       "  var VEGA_DEBUG = (typeof VEGA_DEBUG == \"undefined\") ? {} : VEGA_DEBUG;\n",
       "  (function(spec, embedOpt){\n",
       "    let outputDiv = document.currentScript.previousElementSibling;\n",
       "    if (outputDiv.id !== \"altair-viz-aa6c4a32fa48491ea27bdf871bba7308\") {\n",
       "      outputDiv = document.getElementById(\"altair-viz-aa6c4a32fa48491ea27bdf871bba7308\");\n",
       "    }\n",
       "    const paths = {\n",
       "      \"vega\": \"https://cdn.jsdelivr.net/npm/vega@5?noext\",\n",
       "      \"vega-lib\": \"https://cdn.jsdelivr.net/npm/vega-lib?noext\",\n",
       "      \"vega-lite\": \"https://cdn.jsdelivr.net/npm/vega-lite@5.17.0?noext\",\n",
       "      \"vega-embed\": \"https://cdn.jsdelivr.net/npm/vega-embed@6?noext\",\n",
       "    };\n",
       "\n",
       "    function maybeLoadScript(lib, version) {\n",
       "      var key = `${lib.replace(\"-\", \"\")}_version`;\n",
       "      return (VEGA_DEBUG[key] == version) ?\n",
       "        Promise.resolve(paths[lib]) :\n",
       "        new Promise(function(resolve, reject) {\n",
       "          var s = document.createElement('script');\n",
       "          document.getElementsByTagName(\"head\")[0].appendChild(s);\n",
       "          s.async = true;\n",
       "          s.onload = () => {\n",
       "            VEGA_DEBUG[key] = version;\n",
       "            return resolve(paths[lib]);\n",
       "          };\n",
       "          s.onerror = () => reject(`Error loading script: ${paths[lib]}`);\n",
       "          s.src = paths[lib];\n",
       "        });\n",
       "    }\n",
       "\n",
       "    function showError(err) {\n",
       "      outputDiv.innerHTML = `<div class=\"error\" style=\"color:red;\">${err}</div>`;\n",
       "      throw err;\n",
       "    }\n",
       "\n",
       "    function displayChart(vegaEmbed) {\n",
       "      vegaEmbed(outputDiv, spec, embedOpt)\n",
       "        .catch(err => showError(`Javascript Error: ${err.message}<br>This usually means there's a typo in your chart specification. See the javascript console for the full traceback.`));\n",
       "    }\n",
       "\n",
       "    if(typeof define === \"function\" && define.amd) {\n",
       "      requirejs.config({paths});\n",
       "      require([\"vega-embed\"], displayChart, err => showError(`Error loading script: ${err.message}`));\n",
       "    } else {\n",
       "      maybeLoadScript(\"vega\", \"5\")\n",
       "        .then(() => maybeLoadScript(\"vega-lite\", \"5.17.0\"))\n",
       "        .then(() => maybeLoadScript(\"vega-embed\", \"6\"))\n",
       "        .catch(showError)\n",
       "        .then(() => displayChart(vegaEmbed));\n",
       "    }\n",
       "  })({\"config\": {\"view\": {\"continuousWidth\": 300, \"continuousHeight\": 300, \"stroke\": \"black\"}, \"axis\": {\"domain\": true, \"labelFont\": \"sans-serif\", \"labelFontSize\": 20, \"titleFont\": \"sans-serif\", \"titleFontSize\": 20}, \"axisX\": {\"domain\": true, \"labelAngle\": 20}, \"axisY\": {\"domain\": true}, \"legend\": {\"labelFont\": \"sans-serif\", \"labelFontSize\": 20, \"titleFont\": \"sans-serif\", \"titleFontSize\": 20}}, \"layer\": [{\"mark\": {\"type\": \"rect\"}, \"encoding\": {\"color\": {\"field\": \"Percent Tokens\", \"scale\": {\"scheme\": \"blues\"}, \"type\": \"quantitative\"}, \"order\": {\"field\": \"order\", \"type\": \"quantitative\"}, \"x\": {\"field\": \"Terms of Service Policies\", \"sort\": [\"No Restrictions\", \"Conditional Restrictions\", \"Prohibits AI\", \"Prohibits Scraping\", \"Prohibits Scraping & AI\"], \"title\": \"Terms of Service Policies\", \"type\": \"nominal\"}, \"y\": {\"field\": \"Robots Restrictions\", \"sort\": [\"Restricted\", \"Partial\", \"None\"], \"title\": \"Robots Restrictions\", \"type\": \"nominal\"}}}, {\"mark\": {\"type\": \"text\", \"align\": \"center\", \"baseline\": \"middle\", \"font\": \"sans-serif\", \"fontSize\": 20}, \"encoding\": {\"color\": {\"condition\": {\"test\": \"(datum.Percent > 30)\", \"value\": \"white\"}, \"value\": \"black\"}, \"order\": {\"field\": \"order\", \"type\": \"quantitative\"}, \"text\": {\"field\": \"Formatted Percent Tokens\", \"type\": \"nominal\"}, \"x\": {\"field\": \"Terms of Service Policies\", \"sort\": [\"No Restrictions\", \"Conditional Restrictions\", \"Prohibits AI\", \"Prohibits Scraping\", \"Prohibits Scraping & AI\"], \"title\": \"Terms of Service Policies\", \"type\": \"nominal\"}, \"y\": {\"field\": \"Robots Restrictions\", \"sort\": [\"Restricted\", \"Partial\", \"None\"], \"title\": \"Robots Restrictions\", \"type\": \"nominal\"}}}], \"data\": {\"name\": \"data-9757f3de0d3d90375dd203fde73bdc0e\"}, \"height\": 400, \"width\": 400, \"$schema\": \"https://vega.github.io/schema/vega-lite/v5.17.0.json\", \"datasets\": {\"data-9757f3de0d3d90375dd203fde73bdc0e\": [{\"Robots Restrictions\": \"Restricted\", \"Terms of Service Policies\": \"No Restrictions\", \"Count\": 125, \"Token Counts\": 14057629413, \"Percent\": 11.11, \"Percent Tokens\": 18.54, \"Formatted Percent\": \"11.1 %\", \"Formatted Percent Tokens\": \"18.5 %\"}, {\"Robots Restrictions\": \"Restricted\", \"Terms of Service Policies\": \"Conditional Restrictions\", \"Count\": 2, \"Token Counts\": 17150145, \"Percent\": 0.18, \"Percent Tokens\": 0.02, \"Formatted Percent\": \"0.2 %\", \"Formatted Percent Tokens\": \"0.0 %\"}, {\"Robots Restrictions\": \"Restricted\", \"Terms of Service Policies\": \"Prohibits Scraping\", \"Count\": 33, \"Token Counts\": 3056292753, \"Percent\": 2.93, \"Percent Tokens\": 4.03, \"Formatted Percent\": \"2.9 %\", \"Formatted Percent Tokens\": \"4.0 %\"}, {\"Robots Restrictions\": \"Restricted\", \"Terms of Service Policies\": \"Prohibits Scraping & AI\", \"Count\": 9, \"Token Counts\": 1027780209, \"Percent\": 0.8, \"Percent Tokens\": 1.36, \"Formatted Percent\": \"0.8 %\", \"Formatted Percent Tokens\": \"1.4 %\"}, {\"Robots Restrictions\": \"Partial\", \"Terms of Service Policies\": \"No Restrictions\", \"Count\": 537, \"Token Counts\": 30826470238, \"Percent\": 47.73, \"Percent Tokens\": 40.66, \"Formatted Percent\": \"47.7 %\", \"Formatted Percent Tokens\": \"40.7 %\"}, {\"Robots Restrictions\": \"Partial\", \"Terms of Service Policies\": \"Conditional Restrictions\", \"Count\": 9, \"Token Counts\": 650448031, \"Percent\": 0.8, \"Percent Tokens\": 0.86, \"Formatted Percent\": \"0.8 %\", \"Formatted Percent Tokens\": \"0.9 %\"}, {\"Robots Restrictions\": \"Partial\", \"Terms of Service Policies\": \"Prohibits Scraping\", \"Count\": 64, \"Token Counts\": 6926901740, \"Percent\": 5.69, \"Percent Tokens\": 9.14, \"Formatted Percent\": \"5.7 %\", \"Formatted Percent Tokens\": \"9.1 %\"}, {\"Robots Restrictions\": \"Partial\", \"Terms of Service Policies\": \"Prohibits Scraping & AI\", \"Count\": 7, \"Token Counts\": 440043360, \"Percent\": 0.62, \"Percent Tokens\": 0.58, \"Formatted Percent\": \"0.6 %\", \"Formatted Percent Tokens\": \"0.6 %\"}, {\"Robots Restrictions\": \"None\", \"Terms of Service Policies\": \"No Restrictions\", \"Count\": 290, \"Token Counts\": 12604245114, \"Percent\": 25.78, \"Percent Tokens\": 16.63, \"Formatted Percent\": \"25.8 %\", \"Formatted Percent Tokens\": \"16.6 %\"}, {\"Robots Restrictions\": \"None\", \"Terms of Service Policies\": \"Conditional Restrictions\", \"Count\": 10, \"Token Counts\": 1608392620, \"Percent\": 0.89, \"Percent Tokens\": 2.12, \"Formatted Percent\": \"0.9 %\", \"Formatted Percent Tokens\": \"2.1 %\"}, {\"Robots Restrictions\": \"None\", \"Terms of Service Policies\": \"Prohibits Scraping\", \"Count\": 35, \"Token Counts\": 4269786936, \"Percent\": 3.11, \"Percent Tokens\": 5.63, \"Formatted Percent\": \"3.1 %\", \"Formatted Percent Tokens\": \"5.6 %\"}, {\"Robots Restrictions\": \"None\", \"Terms of Service Policies\": \"Prohibits Scraping & AI\", \"Count\": 4, \"Token Counts\": 321029790, \"Percent\": 0.36, \"Percent Tokens\": 0.42, \"Formatted Percent\": \"0.4 %\", \"Formatted Percent Tokens\": \"0.4 %\"}]}}, {\"mode\": \"vega-lite\"});\n",
       "</script>"
      ],
      "text/plain": [
       "alt.LayerChart(...)"
      ]
     },
     "execution_count": 448,
     "metadata": {},
     "output_type": "execute_result"
    }
   ],
   "source": [
    "robots_util.prepare_tos_robots_confusion_matrix(\n",
    "    tos_policies,\n",
    "    url_robots_summary,\n",
    "    COMPANIES_TO_ANALYZE,\n",
    "    url_token_lookup,\n",
    "    corpora_choice=\"dolma\",\n",
    ")"
   ]
  },
  {
   "cell_type": "code",
   "execution_count": null,
   "id": "a4f3a452-1450-4da7-af4d-08631ebd03ef",
   "metadata": {},
   "outputs": [],
   "source": [
    "# companies = [\"Google\", \"OpenAI\", \"Anthropic\", \"Cohere\", \"Common Crawl\", \"Meta\"]\n",
    "# for company in companies:\n",
    "#     # {URL --> Date --> Agent --> Status}\n",
    "#     url_robots_summary[url][date][company]\n",
    "#     # get latest\n",
    "#     # df: [company1, company2, status1, status2]\n",
    "#     # plot confusion matrix.\n",
    "    "
   ]
  },
  {
   "cell_type": "code",
   "execution_count": null,
   "id": "033d5aea-be98-4838-b28d-0b2b57864b3a",
   "metadata": {},
   "outputs": [],
   "source": []
  },
  {
   "cell_type": "code",
   "execution_count": null,
   "id": "40451dc5-6f9b-4e7c-bebe-19d9b305be7b",
   "metadata": {},
   "outputs": [],
   "source": []
  },
  {
   "cell_type": "markdown",
   "id": "00f8bdfc-23e0-4eb2-9b11-84ff8c4b927a",
   "metadata": {},
   "source": [
    "### Plot Num Tokens against Robots Restrictions per Company"
   ]
  },
  {
   "cell_type": "code",
   "execution_count": 450,
   "id": "55a94479-ef4a-44ce-9f0b-b33929436965",
   "metadata": {},
   "outputs": [
    {
     "name": "stdout",
     "output_type": "stream",
     "text": [
      "Bucket 0-1000: 4729\n",
      "Bucket 1000-10000: 4064\n",
      "Bucket 10000-50000: 1411\n",
      "Bucket 50000-1000000: 896\n",
      "Bucket 1000000-10000000: 2441\n",
      "Bucket 10000000-50000000: 429\n",
      "Bucket 50000000-9999999999999999: 19\n",
      "7059\n",
      "defaultdict(<function plot_size_against_restrictions.<locals>.<lambda> at 0x37eb5ea60>, {'10000000-50000000': [77, 167, 109], '1000000-10000000': [73, 223, 172], '50000000-9999999999999999': [5, 8, 4], '10000-50000': [16, 636, 327], '0-1000': [36, 1315, 886], '50000-1000000': [11, 220, 133], '1000-10000': [43, 1684, 914]})\n"
     ]
    },
    {
     "data": {
      "text/html": [
       "\n",
       "<style>\n",
       "  #altair-viz-cd931ba00b4447f09b9c689ad5457491.vega-embed {\n",
       "    width: 100%;\n",
       "    display: flex;\n",
       "  }\n",
       "\n",
       "  #altair-viz-cd931ba00b4447f09b9c689ad5457491.vega-embed details,\n",
       "  #altair-viz-cd931ba00b4447f09b9c689ad5457491.vega-embed details summary {\n",
       "    position: relative;\n",
       "  }\n",
       "</style>\n",
       "<div id=\"altair-viz-cd931ba00b4447f09b9c689ad5457491\"></div>\n",
       "<script type=\"text/javascript\">\n",
       "  var VEGA_DEBUG = (typeof VEGA_DEBUG == \"undefined\") ? {} : VEGA_DEBUG;\n",
       "  (function(spec, embedOpt){\n",
       "    let outputDiv = document.currentScript.previousElementSibling;\n",
       "    if (outputDiv.id !== \"altair-viz-cd931ba00b4447f09b9c689ad5457491\") {\n",
       "      outputDiv = document.getElementById(\"altair-viz-cd931ba00b4447f09b9c689ad5457491\");\n",
       "    }\n",
       "    const paths = {\n",
       "      \"vega\": \"https://cdn.jsdelivr.net/npm/vega@5?noext\",\n",
       "      \"vega-lib\": \"https://cdn.jsdelivr.net/npm/vega-lib?noext\",\n",
       "      \"vega-lite\": \"https://cdn.jsdelivr.net/npm/vega-lite@5.17.0?noext\",\n",
       "      \"vega-embed\": \"https://cdn.jsdelivr.net/npm/vega-embed@6?noext\",\n",
       "    };\n",
       "\n",
       "    function maybeLoadScript(lib, version) {\n",
       "      var key = `${lib.replace(\"-\", \"\")}_version`;\n",
       "      return (VEGA_DEBUG[key] == version) ?\n",
       "        Promise.resolve(paths[lib]) :\n",
       "        new Promise(function(resolve, reject) {\n",
       "          var s = document.createElement('script');\n",
       "          document.getElementsByTagName(\"head\")[0].appendChild(s);\n",
       "          s.async = true;\n",
       "          s.onload = () => {\n",
       "            VEGA_DEBUG[key] = version;\n",
       "            return resolve(paths[lib]);\n",
       "          };\n",
       "          s.onerror = () => reject(`Error loading script: ${paths[lib]}`);\n",
       "          s.src = paths[lib];\n",
       "        });\n",
       "    }\n",
       "\n",
       "    function showError(err) {\n",
       "      outputDiv.innerHTML = `<div class=\"error\" style=\"color:red;\">${err}</div>`;\n",
       "      throw err;\n",
       "    }\n",
       "\n",
       "    function displayChart(vegaEmbed) {\n",
       "      vegaEmbed(outputDiv, spec, embedOpt)\n",
       "        .catch(err => showError(`Javascript Error: ${err.message}<br>This usually means there's a typo in your chart specification. See the javascript console for the full traceback.`));\n",
       "    }\n",
       "\n",
       "    if(typeof define === \"function\" && define.amd) {\n",
       "      requirejs.config({paths});\n",
       "      require([\"vega-embed\"], displayChart, err => showError(`Error loading script: ${err.message}`));\n",
       "    } else {\n",
       "      maybeLoadScript(\"vega\", \"5\")\n",
       "        .then(() => maybeLoadScript(\"vega-lite\", \"5.17.0\"))\n",
       "        .then(() => maybeLoadScript(\"vega-embed\", \"6\"))\n",
       "        .catch(showError)\n",
       "        .then(() => displayChart(vegaEmbed));\n",
       "    }\n",
       "  })({\"config\": {\"view\": {\"continuousWidth\": 300, \"continuousHeight\": 300}}, \"layer\": [{\"mark\": {\"type\": \"bar\", \"width\": 50}, \"encoding\": {\"color\": {\"field\": \"category\", \"legend\": {\"title\": null}, \"scale\": {\"range\": [\"#e04c71\", \"#e0cd92\", \"#82b5cf\"]}, \"sort\": [\"Full Restrictions\", \"Some Restrictions\", \"No Restrictions\"], \"type\": \"nominal\"}, \"order\": {\"field\": \"order\", \"type\": \"ordinal\"}, \"x\": {\"axis\": {\"labelAngle\": -25, \"labelFontSize\": 14}, \"field\": \"index\", \"sort\": [\"0-1000\", \"1000-10000\", \"10000-50000\", \"50000-1000000\", \"1000000-10000000\", \"10000000-50000000\", \"50000000-9999999999999999\"], \"title\": null, \"type\": \"nominal\"}, \"y\": {\"axis\": {\"format\": \"%\", \"labelFontSize\": 14, \"title\": \"Percentage (%)\", \"titleFontSize\": 16, \"titleFontWeight\": \"normal\"}, \"field\": \"percentage\", \"scale\": {\"domain\": [0, 1]}, \"sort\": [\"Full Restrictions\", \"Some Restrictions\", \"No Restrictions\"], \"stack\": \"normalize\", \"type\": \"quantitative\"}}}, {\"mark\": {\"type\": \"text\", \"align\": \"center\", \"baseline\": \"middle\", \"color\": \"white\", \"dx\": 0, \"dy\": -7, \"fontSize\": 14}, \"encoding\": {\"color\": {\"field\": \"category\", \"legend\": {\"title\": null}, \"scale\": {\"range\": [\"#e04c71\", \"#e0cd92\", \"#82b5cf\"]}, \"sort\": [\"Full Restrictions\", \"Some Restrictions\", \"No Restrictions\"], \"type\": \"nominal\"}, \"order\": {\"field\": \"order\", \"type\": \"ordinal\"}, \"text\": {\"condition\": {\"test\": \"(datum.percentage > 0.05)\", \"field\": \"percentage\", \"format\": \".1f\", \"type\": \"quantitative\"}, \"value\": \"\"}, \"x\": {\"axis\": {\"labelAngle\": -25, \"labelFontSize\": 14}, \"field\": \"index\", \"sort\": [\"0-1000\", \"1000-10000\", \"10000-50000\", \"50000-1000000\", \"1000000-10000000\", \"10000000-50000000\", \"50000000-9999999999999999\"], \"title\": null, \"type\": \"nominal\"}, \"y\": {\"axis\": {\"format\": \"%\", \"labelFontSize\": 14, \"title\": \"Percentage (%)\", \"titleFontSize\": 16, \"titleFontWeight\": \"normal\"}, \"field\": \"percentage\", \"scale\": {\"domain\": [0, 1]}, \"sort\": [\"Full Restrictions\", \"Some Restrictions\", \"No Restrictions\"], \"stack\": \"normalize\", \"type\": \"quantitative\"}}}, {\"data\": {\"name\": \"data-82582c223e837c779f3b8e4f89c6849c\"}, \"mark\": {\"type\": \"text\", \"align\": \"center\", \"baseline\": \"top\", \"dy\": -32, \"fontSize\": 14}, \"encoding\": {\"text\": {\"field\": \"text_label\", \"type\": \"nominal\"}, \"x\": {\"field\": \"index\", \"sort\": [\"Full Restrictions\", \"Some Restrictions\", \"No Restrictions\"], \"title\": null, \"type\": \"nominal\"}, \"y\": {\"value\": 0}}}], \"data\": {\"name\": \"data-1ff5956d7449084efdf7a6bcbe3e4f29\"}, \"height\": 140, \"title\": \"\", \"width\": 850, \"$schema\": \"https://vega.github.io/schema/vega-lite/v5.17.0.json\", \"datasets\": {\"data-1ff5956d7449084efdf7a6bcbe3e4f29\": [{\"index\": \"0-1000\", \"category\": \"Full Restrictions\", \"value\": 36, \"percentage\": 1.6092981671881983, \"order\": 0}, {\"index\": \"1000-10000\", \"category\": \"Full Restrictions\", \"value\": 43, \"percentage\": 1.628171147292692, \"order\": 0}, {\"index\": \"10000-50000\", \"category\": \"Full Restrictions\", \"value\": 16, \"percentage\": 1.634320735444331, \"order\": 0}, {\"index\": \"50000-1000000\", \"category\": \"Full Restrictions\", \"value\": 11, \"percentage\": 3.021978021978022, \"order\": 0}, {\"index\": \"1000000-10000000\", \"category\": \"Full Restrictions\", \"value\": 73, \"percentage\": 15.598290598290598, \"order\": 0}, {\"index\": \"10000000-50000000\", \"category\": \"Full Restrictions\", \"value\": 77, \"percentage\": 21.813031161473088, \"order\": 0}, {\"index\": \"\\n50000000-9999999999999999\", \"category\": \"Full Restrictions\", \"value\": 5, \"percentage\": 29.411764705882355, \"order\": 0}, {\"index\": \"0-1000\", \"category\": \"Some Restrictions\", \"value\": 1315, \"percentage\": 58.784085829235586, \"order\": 1}, {\"index\": \"1000-10000\", \"category\": \"Some Restrictions\", \"value\": 1684, \"percentage\": 63.763725861416134, \"order\": 1}, {\"index\": \"10000-50000\", \"category\": \"Some Restrictions\", \"value\": 636, \"percentage\": 64.96424923391216, \"order\": 1}, {\"index\": \"50000-1000000\", \"category\": \"Some Restrictions\", \"value\": 220, \"percentage\": 60.43956043956044, \"order\": 1}, {\"index\": \"1000000-10000000\", \"category\": \"Some Restrictions\", \"value\": 223, \"percentage\": 47.64957264957265, \"order\": 1}, {\"index\": \"10000000-50000000\", \"category\": \"Some Restrictions\", \"value\": 167, \"percentage\": 47.30878186968839, \"order\": 1}, {\"index\": \"\\n50000000-9999999999999999\", \"category\": \"Some Restrictions\", \"value\": 8, \"percentage\": 47.05882352941176, \"order\": 1}, {\"index\": \"0-1000\", \"category\": \"No Restrictions\", \"value\": 886, \"percentage\": 39.606616003576214, \"order\": 2}, {\"index\": \"1000-10000\", \"category\": \"No Restrictions\", \"value\": 914, \"percentage\": 34.608102991291176, \"order\": 2}, {\"index\": \"10000-50000\", \"category\": \"No Restrictions\", \"value\": 327, \"percentage\": 33.40143003064352, \"order\": 2}, {\"index\": \"50000-1000000\", \"category\": \"No Restrictions\", \"value\": 133, \"percentage\": 36.53846153846153, \"order\": 2}, {\"index\": \"1000000-10000000\", \"category\": \"No Restrictions\", \"value\": 172, \"percentage\": 36.75213675213676, \"order\": 2}, {\"index\": \"10000000-50000000\", \"category\": \"No Restrictions\", \"value\": 109, \"percentage\": 30.878186968838527, \"order\": 2}, {\"index\": \"\\n50000000-9999999999999999\", \"category\": \"No Restrictions\", \"value\": 4, \"percentage\": 23.52941176470588, \"order\": 2}], \"data-82582c223e837c779f3b8e4f89c6849c\": [{\"index\": \"0-1000\", \"total\": 2237, \"text_label\": \"(2237)\"}, {\"index\": \"1000-10000\", \"total\": 2641, \"text_label\": \"(2641)\"}, {\"index\": \"10000-50000\", \"total\": 979, \"text_label\": \"(979)\"}, {\"index\": \"50000-1000000\", \"total\": 364, \"text_label\": \"(364)\"}, {\"index\": \"1000000-10000000\", \"total\": 468, \"text_label\": \"(468)\"}, {\"index\": \"10000000-50000000\", \"total\": 353, \"text_label\": \"(353)\"}, {\"index\": \"\\n50000000-9999999999999999\", \"total\": 17, \"text_label\": \"(17)\"}]}}, {\"mode\": \"vega-lite\"});\n",
       "</script>"
      ],
      "text/plain": [
       "alt.LayerChart(...)"
      ]
     },
     "execution_count": 450,
     "metadata": {},
     "output_type": "execute_result"
    }
   ],
   "source": [
    "size_bucket_to_urls = robots_util.bucket_urls_by_size(\n",
    "    c4_url_to_counts, \n",
    "    bucket_boundaries=[0, 1000, 10000, 50000, 1000000, 10000000, 50000000, 9999999999999999]\n",
    ")\n",
    "robots_util.plot_size_against_restrictions(\n",
    "    url_robots_summary,\n",
    "    size_bucket_to_urls,\n",
    "    \"OpenAI\",\n",
    "    setting=\"train\"\n",
    ")"
   ]
  },
  {
   "cell_type": "code",
   "execution_count": null,
   "id": "ac8b36da-3bd6-44e6-8927-29c5f7fec032",
   "metadata": {},
   "outputs": [],
   "source": []
  },
  {
   "cell_type": "code",
   "execution_count": 278,
   "id": "cb7a1f44-2f69-45ae-8bf1-a569251efa79",
   "metadata": {},
   "outputs": [],
   "source": []
  },
  {
   "cell_type": "markdown",
   "id": "81e66e2f-e5f0-4c13-a41a-ae66d2f2fc20",
   "metadata": {},
   "source": [
    "# Scratch / Notes"
   ]
  },
  {
   "cell_type": "code",
   "execution_count": null,
   "id": "85134ae0-036b-41c3-b8e5-9f65b71c0624",
   "metadata": {},
   "outputs": [],
   "source": []
  },
  {
   "cell_type": "code",
   "execution_count": null,
   "id": "add08973-a0a0-44a0-90dd-07808ee16cee",
   "metadata": {},
   "outputs": [],
   "source": [
    "Notes:\n",
    "\n",
    "* Take All Agents and subtract it from the other plots to see the diffs between agents.\n",
    "* How do these charts vary with different quantiles for number of tokens. (Behavior diffs for token rich and token poor)\n",
    "\n",
    "* Incompatability between Robots.txt and ToS? Robots.txt is an encoded ToS for scrapers. Is there more intention detailed in the ToS than the robots?\n",
    "* Robots and ToS update rate. --> How often that the other is updated within T time (robots and ToS).\n",
    "* Analysis: Of all websites that restrict at least one AI bot, what other bots do they restrict? E.g. if you restrict cohere, you probaby also restrict OpenAI\n",
    "P(Cohere restricted | OpenAI restricted)\n",
    "* Include Midjourney, CCBot, IAbot, etc\n",
    "* Vertical lines that show when bots get introduced.\n",
    "\n",
    "* Restrictions are rising across the board.\n",
    "* Company-wise restrictions\n",
    "* Compare for each company their scraping restrictions vs RAG restrictions vs AI bot restrictions (OpenAI, Anthropic)"
   ]
  },
  {
   "cell_type": "code",
   "execution_count": null,
   "id": "ff15b8d4-6ec2-4a02-8a98-f7120e7aa3a9",
   "metadata": {},
   "outputs": [],
   "source": []
  },
  {
   "cell_type": "code",
   "execution_count": null,
   "id": "f0c7c342-c06a-4da0-826a-807845598cce",
   "metadata": {},
   "outputs": [],
   "source": []
  },
  {
   "cell_type": "code",
   "execution_count": null,
   "id": "2b94143e-3aa5-45e0-af3e-7216117067e2",
   "metadata": {},
   "outputs": [],
   "source": []
  },
  {
   "cell_type": "code",
   "execution_count": null,
   "id": "1fc42112-fe35-4d6c-b2d2-8e0fc08a5eab",
   "metadata": {},
   "outputs": [],
   "source": [
    "Data Sources Analysis:\n",
    "\n",
    "0. Table: Methodology -- what metadata we collected/annotated (and how). [WIP]\n",
    "1. Figure: Temporal changes in Robots / ToS (somehow over a collection or multiple companies?) [Waiting on ToS]\n",
    "    C4/RF/(Dolma) vs (2k-Head)/Random vs Company(6)\n",
    "2. Figure: Robots / ToS contradiction matrix [Waiting on ToS]\n",
    "    Creative Commons.\n",
    "3. Table: Robots permission differences by company + Stella(pairwise differences by confusion matrix) [WIP]\n",
    "4. Table: Robots / ToS / other indicators variability by website num tokens (i.e. head vs tail) [WIP]\n",
    "5. Figure: Commercial/market copyright concerns and comparison to WildChat + EU AI Act [WIP, waiting on WildChat]"
   ]
  },
  {
   "cell_type": "code",
   "execution_count": null,
   "id": "c963221b-e1f2-48a7-b8d2-30e5d87a3926",
   "metadata": {},
   "outputs": [],
   "source": [
    "Datasets Analysis:\n",
    "\n",
    "(License: NC, C, Unspecified) x (Terms: Unspecified/None, NC, C).\n",
    "Text =~ 200\n",
    "Video = 11\n",
    "Speech ~= 50\n",
    "\n",
    "0. Tables for Text, Video, Speech [Will: WIP]\n",
    "1. License & source (terms) restriction differences between Text, Video, Speech. (normalized stacked bar chart) [WIP]\n",
    "2. Source domains by Text, Video, Speech: scraped, synthetic, crowdsourced, ....  (normalized stacked bar chart) [WIP]\n",
    "2b. Include pretraining (broken down by modality + user content + illicit content)\n",
    "3. Creator distribution for Text, Video, Speech by geography and organization type [WIP]\n",
    "\n",
    "Extension: \n",
    "\n",
    "\n",
    "4. Temporal breakdown of license restriction categories by Text, Video, Speech [WIP]\n",
    "5. License Type by modality for Text, Video, Speech [WIP]\n",
    "6. Languages / Tasks.\n",
    "(Will run statistical tests checking if diffs between Text,Video,Speech are significant on all of these. [WIP]"
   ]
  },
  {
   "cell_type": "code",
   "execution_count": null,
   "id": "38d020db-98ae-45a8-9fdd-c344b13d7d31",
   "metadata": {},
   "outputs": [],
   "source": [
    "\n",
    "\n",
    "# People who restrict Anthropic but not OpenAI. <-- public awareness of organizations is the driving force here. \n",
    "# Ordered by notoriety. (Confusion matrix)"
   ]
  },
  {
   "cell_type": "code",
   "execution_count": 31,
   "id": "2172ae3a-8d2b-474b-9f02-c662511792c7",
   "metadata": {},
   "outputs": [],
   "source": [
    "nayan = pd.read_csv(\"test_data/wildchat_annotations.csv\")"
   ]
  },
  {
   "cell_type": "code",
   "execution_count": 3,
   "id": "be02a05f-cec5-4e6e-8778-7275d1b7e1fa",
   "metadata": {},
   "outputs": [],
   "source": [
    "# nayan"
   ]
  },
  {
   "cell_type": "code",
   "execution_count": 400,
   "id": "78dfdc6f-be9b-4009-89cc-dc0db5b85791",
   "metadata": {},
   "outputs": [],
   "source": [
    "def sample_nayan(df, i):\n",
    "    row = df.iloc[i]\n",
    "    prompt = row[\"WildChat Example Prompt\"]\n",
    "    response = row[\"WildChat Example Response\"]\n",
    "    typs = row[\"Types of Service\"]\n",
    "    cd = row[\"Content Domain\"]\n",
    "    print(prompt)\n",
    "    # print(\"*************\" + response[:100])\n",
    "    print(cd)\n",
    "    print()"
   ]
  },
  {
   "cell_type": "code",
   "execution_count": 1,
   "id": "b71a3a69-d7f8-4d45-b3b4-c22b834d338c",
   "metadata": {},
   "outputs": [],
   "source": [
    "# for i in range(30, 60):\n",
    "#     sample_nayan(nayan, i)"
   ]
  },
  {
   "cell_type": "code",
   "execution_count": null,
   "id": "79e40b72-92c7-41c6-ac55-8a0b0ac3bda8",
   "metadata": {},
   "outputs": [],
   "source": []
  },
  {
   "cell_type": "code",
   "execution_count": null,
   "id": "0a179f1e-ff84-49b1-8aad-81ff92b39896",
   "metadata": {},
   "outputs": [],
   "source": []
  }
 ],
 "metadata": {
  "kernelspec": {
   "display_name": "Python 3 (ipykernel)",
   "language": "python",
   "name": "python3"
  },
  "language_info": {
   "codemirror_mode": {
    "name": "ipython",
    "version": 3
   },
   "file_extension": ".py",
   "mimetype": "text/x-python",
   "name": "python",
   "nbconvert_exporter": "python",
   "pygments_lexer": "ipython3",
   "version": "3.8.9"
  }
 },
 "nbformat": 4,
 "nbformat_minor": 5
}
