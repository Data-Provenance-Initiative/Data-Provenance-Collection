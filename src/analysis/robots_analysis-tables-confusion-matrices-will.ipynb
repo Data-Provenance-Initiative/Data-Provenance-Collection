{
 "cells": [
  {
   "cell_type": "code",
   "execution_count": 313,
   "id": "271834be-94ee-4002-8ced-73a0790fbf16",
   "metadata": {},
   "outputs": [
    {
     "name": "stdout",
     "output_type": "stream",
     "text": [
      "The autoreload extension is already loaded. To reload it, use:\n",
      "  %reload_ext autoreload\n"
     ]
    }
   ],
   "source": [
    "import sys\n",
    "import os\n",
    "import json\n",
    "import pandas as pd\n",
    "import numpy as np\n",
    "import random\n",
    "import copy\n",
    "\n",
    "from datetime import datetime\n",
    "from collections import Counter, defaultdict\n",
    "\n",
    "from scipy.stats import norm, normaltest, percentileofscore\n",
    "\n",
    "import altair as alt\n",
    "import matplotlib.pyplot as plt\n",
    "import seaborn as sns\n",
    "from matplotlib.patches import Patch\n",
    "\n",
    "from tqdm.notebook import tqdm\n",
    "\n",
    "# Append system path\n",
    "sys.path = [p for p in sys.path if not p.endswith('../..')]  # Cleans duplicated '../..'\n",
    "sys.path.insert(0, '../')  # This adds `src` to the path\n",
    "\n",
    "from helpers import io, filters, constants\n",
    "from analysis import analysis_util, analysis_constants, visualization_util\n",
    "from web_analysis import parse_robots\n",
    "from web_analysis import robots_util, forecasting_util\n",
    "\n",
    "%load_ext autoreload\n",
    "%autoreload 2"
   ]
  },
  {
   "cell_type": "code",
   "execution_count": 314,
   "id": "4328e2d4-2ad6-49d6-b6cc-681cf754982e",
   "metadata": {},
   "outputs": [],
   "source": [
    "# os.chdir(os.path.expanduser('~/github/Data-Provenance-Collection/'))"
   ]
  },
  {
   "cell_type": "code",
   "execution_count": 315,
   "id": "34bb20c3-9ae5-4b07-9cad-57ba6be704b3",
   "metadata": {},
   "outputs": [
    {
     "data": {
      "text/plain": [
       "ThemeRegistry.enable('times_newroman')"
      ]
     },
     "execution_count": 315,
     "metadata": {},
     "output_type": "execute_result"
    }
   ],
   "source": [
    "def times_newroman():\n",
    "    font = \"Times New Roman\"\n",
    "\n",
    "    return {\n",
    "          \"config\" : {\n",
    "               \"title\": {\"font\": font},\n",
    "               \"axis\": {\n",
    "               \"labelFont\": font,\n",
    "               \"titleFont\": font\n",
    "          },\n",
    "          \"header\": {\n",
    "               \"labelFont\": font,\n",
    "               \"titleFont\": font\n",
    "          },\n",
    "          \"legend\": {\n",
    "               \"labelFont\": font,\n",
    "               \"titleFont\": font\n",
    "          },\n",
    "          \"text\": {\n",
    "               \"font\": font\n",
    "          }\n",
    "     }\n",
    "}\n",
    "\n",
    "alt.themes.register(\"times_newroman\", times_newroman)\n",
    "alt.themes.enable(\"times_newroman\")"
   ]
  },
  {
   "cell_type": "code",
   "execution_count": 316,
   "id": "0ff9fe53-c58f-4e63-8540-abeec244540d",
   "metadata": {},
   "outputs": [],
   "source": [
    "pd.set_option('display.float_format', lambda x: '%.3f' % x)"
   ]
  },
  {
   "cell_type": "markdown",
   "id": "cbe935ae-6338-4e3b-bd10-13123b0a978a",
   "metadata": {},
   "source": [
    "### Define Paths to all relevant files"
   ]
  },
  {
   "cell_type": "code",
   "execution_count": 317,
   "id": "9911b890-bd6c-40ca-a15b-02a30aa70ad4",
   "metadata": {},
   "outputs": [],
   "source": [
    "# FPATH_TO_RELEVANT_URL_TOKENS = 'src/analysis/pretrain_data/relevant_url_token_counts.csv'\n",
    "# FPATH_to_HEAD_ROBOTS = \"plot-stuff/temporal_robots_head.json\"\n",
    "# FPATH_TO_RAND_ROBOTS = \"plot-stuff/temporal_robots_rand_10k.json\"\n",
    "# FPATH_TO_TOS_DATA = \"plot-stuff/tos_ai_scraping_policies.json\"\n",
    "# FPATH_TO_TOS_COMPETE_DATA = \"plot-stuff/tos_competing_services_policies.json\"\n",
    "# FPATH_TO_TOS_LICENSE_DATA = \"plot-stuff/tos_license_policies.json\"\n",
    "# DIRPATHS_TO_ANNOTATED_TASKS = [\"plot-stuff/task-1\", \"plot-stuff/task-2\"]\n",
    "# START_DATES = \"plot-stuff/domain_start_dates.json\"\n",
    "\n",
    "# ALL_COMPANIES_TO_TRACK = [\"Google\", \"OpenAI\", \"Anthropic\", \"Cohere\", \"Meta\", \"Common Crawl\", \"Internet Archive\", \"Google Search\", \"False Anthropic\"]\n",
    "# COMPANIES_TO_ANALYZE = [\"Google\", \"OpenAI\", \"Anthropic\", \"Cohere\", \"Common Crawl\", \"Meta\"]\n",
    "# TEMPORAL_ANALYSIS_START_DATE = '2016-01-01'\n",
    "# TEMPORAL_ANALYSIS_END_DATE = '2024-04-30'\n",
    "\n",
    "EXCEL_FNAME_ROBOTS = \"forecasted_robots_data.xlsx\"\n",
    "EXCEL_FNAME_TOS = \"forecasted_tos_data.xlsx\"\n",
    "FPATH_TO_RELEVANT_URL_TOKENS = 'pretrain_data/relevant_url_token_counts.csv'\n",
    "FPATH_to_HEAD_ROBOTS = \"robots_data/temporal_robots_head.json\"\n",
    "FPATH_TO_RAND_ROBOTS = \"robots_data/temporal_robots_rand_10k.json\"\n",
    "FPATH_TO_TOS_DATA = \"robots_data/tos_ai_scraping_policies.json\"\n",
    "FPATH_TO_TOS_LICENSE_DATA = \"robots_data/tos_license_type_verdicts.json\"\n",
    "FPATH_TO_TOS_COMPETE_DATA = \"robots_data/tos_competing_services_policies.json\"\n",
    "FPATH_TO_C4_TOKEN_ESTIMATES = \"robots_data/c4_total_token_estimates.csv\"\n",
    "FPATH_TO_DOLMA_TOKEN_ESTIMATES = \"robots_data/dolma_total_token_estimates.csv\"\n",
    "FPATH_TO_RF_TOKEN_ESTIMATES = \"robots_data/rf_total_token_estimates.csv\"\n",
    "DIRPATHS_TO_ANNOTATED_TASKS = [\"annotated_websites/Task 1\", \"annotated_websites/Task 2\"]\n",
    "START_DATES = \"robots_data/domain_start_dates.json\"\n",
    "\n",
    "ALL_COMPANIES_TO_TRACK = [\"Google\", \"OpenAI\", \"Anthropic\", \"Cohere\", \"Common Crawl\", \"Meta\", \"Internet Archive\", \"Google Search\", \"False Anthropic\"]\n",
    "COMPANIES_TO_ANALYZE = [\"Google\", \"OpenAI\", \"Anthropic\", \"Cohere\", \"Common Crawl\", \"Meta\"]\n",
    "TEMPORAL_ANALYSIS_START_DATE = '2016-01-01'\n",
    "TEMPORAL_ANALYSIS_END_DATE = '2024-04-30'"
   ]
  },
  {
   "cell_type": "markdown",
   "id": "ee96fd8b-6342-476c-bff6-72a525e1da36",
   "metadata": {},
   "source": [
    "### Load all URL splits (top vs random) and maps to Token Counts"
   ]
  },
  {
   "cell_type": "code",
   "execution_count": 318,
   "id": "3a3b2a93-5a35-4c7e-b087-73dd4db273f9",
   "metadata": {},
   "outputs": [
    {
     "name": "stdout",
     "output_type": "stream",
     "text": [
      "Number of tokens in 2000 URLs: 18474389540 | 10.87% of c4\n",
      "Number of tokens in 2000 URLs: 67475607564 | 15.65% of rf\n",
      "Number of tokens in 2000 URLs: 430006034594 | 21.78% of dolma\n"
     ]
    }
   ],
   "source": [
    "url_token_lookup = robots_util.URLTokenLookup(FPATH_TO_RELEVANT_URL_TOKENS) # 'c4', 'rf', 'dolma'\n",
    "c4_url_to_counts = url_token_lookup.get_url_to_token_map(\"c4\")\n",
    "rf_url_to_counts = url_token_lookup.get_url_to_token_map(\"rf\")\n",
    "dolma_url_to_counts = url_token_lookup.get_url_to_token_map(\"dolma\")\n",
    "top_c4_urls = url_token_lookup.top_k_urls(\"c4\", 2000)\n",
    "top_rf_urls = url_token_lookup.top_k_urls(\"rf\", 2000)\n",
    "top_dolma_urls = url_token_lookup.top_k_urls(\"dolma\", 2000)\n",
    "random_10k_urls = url_token_lookup.get_10k_random_sample()\n",
    "all_urls = set(random_10k_urls + top_c4_urls + top_rf_urls + top_dolma_urls)\n",
    "\n",
    "# Load website snapshots for relevant URLs\n",
    "website_start_dates = robots_util.read_start_dates(START_DATES, all_urls) # THIS WON'T WORK FOR THE 10k SAMPLE"
   ]
  },
  {
   "cell_type": "markdown",
   "id": "4a54f01e-6c3a-4f48-a889-ba765dc9450f",
   "metadata": {},
   "source": [
    "### Define Agents and Agent Groups"
   ]
  },
  {
   "cell_type": "code",
   "execution_count": 319,
   "id": "bb8b750e-3c52-4578-a486-b8ad1a2a88a1",
   "metadata": {},
   "outputs": [],
   "source": [
    "agent_groups_to_track = robots_util.get_bot_groups(ALL_COMPANIES_TO_TRACK)\n",
    "agents_to_track = robots_util.get_bots()"
   ]
  },
  {
   "cell_type": "markdown",
   "id": "b09644e3-d075-4a46-8445-d8179ae29bc9",
   "metadata": {},
   "source": [
    "### Load Robots.txt info"
   ]
  },
  {
   "cell_type": "code",
   "execution_count": 320,
   "id": "41e969a9-1d0b-4b95-9ccf-ff15840d94e3",
   "metadata": {},
   "outputs": [
    {
     "name": "stdout",
     "output_type": "stream",
     "text": [
      "Num robot URLs loaded: 3834\n",
      "Earliest time: 2016-01-01\n",
      "Last time: 2024-04-19\n",
      "Num robot URLs loaded: 8981\n",
      "Earliest time: 2016-01-01\n",
      "Last time: 2024-04-19\n"
     ]
    }
   ],
   "source": [
    "# URL -> Date -> Robots.txt raw text\n",
    "head_robots = io.read_json(FPATH_to_HEAD_ROBOTS)\n",
    "random_10k_robots = io.read_json(FPATH_TO_RAND_ROBOTS)\n",
    "joined_robots = copy.deepcopy(head_robots)\n",
    "joined_robots.update(random_10k_robots)\n",
    "robots_util.print_out_robots_info(head_robots)\n",
    "robots_util.print_out_robots_info(random_10k_robots)\n",
    "\n",
    "# {URL --> Date --> Agent --> Status}\n",
    "url_robots_summary, agent_counter_df = robots_util.compute_url_date_agent_status(\n",
    "    data=joined_robots, \n",
    "    # relevant_agents=agents_to_track)\n",
    "    relevant_agents=[v for vs in agent_groups_to_track.values() for v in vs])\n",
    "\n",
    "# agent_counter_df.to_csv(\"src/analysis/all_agents_counter.csv\", index=False)"
   ]
  },
  {
   "cell_type": "code",
   "execution_count": 321,
   "id": "4a3988a4-0a7c-427f-a311-4b36cd8b5774",
   "metadata": {},
   "outputs": [],
   "source": [
    "url_robots_summary_detailed = robots_util.compute_url_date_agent_status_detailed(\n",
    "    data=joined_robots, \n",
    "    relevant_agents=[v for vs in agent_groups_to_track.values() for v in vs]\n",
    ")"
   ]
  },
  {
   "cell_type": "code",
   "execution_count": 322,
   "id": "495117e2-7b03-4169-ba1a-da2a7f145b4a",
   "metadata": {},
   "outputs": [],
   "source": [
    "# url_robots_summary_detailed[list(url_robots_summary_detailed.keys())[0]]"
   ]
  },
  {
   "cell_type": "markdown",
   "id": "d5e26ade-d9e9-4900-a3b3-a01af4a698b1",
   "metadata": {},
   "source": [
    "### Load ToS info"
   ]
  },
  {
   "cell_type": "code",
   "execution_count": 324,
   "id": "70351b94-b889-4f16-9c31-56fd61f43464",
   "metadata": {},
   "outputs": [
    {
     "name": "stdout",
     "output_type": "stream",
     "text": [
      "Num ToS AI/Scraping URLs: 3054\n",
      "Num ToS License URLs: 3056\n",
      "Num ToS Compete URLs: 3056\n"
     ]
    }
   ],
   "source": [
    "# URL --> Date --> ToS-suburl --> {\"verdict\": X, \"evidence\": Y}\n",
    "tos_policies = {robots_util.normalize_url(url): info for url, info in io.read_json(FPATH_TO_TOS_DATA).items()}\n",
    "tos_license_policies = {robots_util.normalize_url(url): info for url, info in io.read_json(FPATH_TO_TOS_LICENSE_DATA).items()}\n",
    "tos_compete_policies = {robots_util.normalize_url(url): info for url, info in io.read_json(FPATH_TO_TOS_COMPETE_DATA).items()}\n",
    "# tos_license_policies = robots_util.switch_dates_yearly_to_monthly(tos_license_policies)\n",
    "print(f\"Num ToS AI/Scraping URLs: {len(tos_policies)}\")\n",
    "print(f\"Num ToS License URLs: {len(tos_license_policies)}\")\n",
    "print(f\"Num ToS Compete URLs: {len(tos_compete_policies)}\")"
   ]
  },
  {
   "cell_type": "markdown",
   "id": "36901240-db00-4c04-9ac3-6f5377233736",
   "metadata": {},
   "source": [
    "### Load Manual Pretraining Annotations"
   ]
  },
  {
   "cell_type": "code",
   "execution_count": 326,
   "id": "31e586df-d0ba-44f0-ba5c-e260380107c8",
   "metadata": {},
   "outputs": [
    {
     "name": "stdout",
     "output_type": "stream",
     "text": [
      "5963 rows before filtering.\n",
      "4397 rows after filtering. 1493 issues, 73 unannotated.\n",
      "<class 'collections.defaultdict'>\n",
      "www.digg.com\n",
      "2024-01-01\n",
      "NC Only\n",
      "start\n",
      "3054\n",
      "4397\n",
      "1342\n",
      "788\n",
      "1131\n",
      "News_Periodicals: 1485\n",
      "all: 4397\n",
      "Organization_Personal Website: 1373\n",
      "Other: 427\n",
      "E_Commerce: 481\n",
      "Social Media_Forums: 417\n",
      "Encyclopedia_Database: 358\n",
      "Academic: 347\n",
      "Blogs: 336\n",
      "Government: 93\n"
     ]
    }
   ],
   "source": [
    "url_to_info, unannotated_urls = analysis_util.extract_url_annotations(DIRPATHS_TO_ANNOTATED_TASKS)\n",
    "url_results_df = analysis_util.process_url_annotations(url_to_info)\n",
    "url_results_df = analysis_util.encode_size_columns(url_results_df, url_token_lookup)\n",
    "manually_annotated_urls = url_results_df[\"URL\"].tolist()\n",
    "url_results_df = robots_util.encode_latest_tos_robots_into_df(\n",
    "    url_results_df, tos_policies, tos_license_policies, tos_compete_policies, url_robots_summary_detailed,\n",
    "    COMPANIES_TO_ANALYZE, True\n",
    ")\n",
    "service_to_urls = analysis_util.map_services_to_urls(url_results_df)\n",
    "\n",
    "assert url_results_df['URL'].nunique() == url_results_df.shape[0]"
   ]
  },
  {
   "cell_type": "code",
   "execution_count": null,
   "id": "bcc0caaa-d2df-44fc-b78c-841182d284cd",
   "metadata": {},
   "outputs": [],
   "source": [
    "start\n",
    "3054\n",
    "4397\n",
    "1342\n",
    "788\n",
    "1131"
   ]
  },
  {
   "cell_type": "code",
   "execution_count": 327,
   "id": "0c168f15-80ad-48dc-b57b-64473d91aa9c",
   "metadata": {},
   "outputs": [],
   "source": [
    "rand_rows = url_results_df[url_results_df[\"sample\"] == \"random\"]\n",
    "head_rows = url_results_df[url_results_df[\"URL\"].isin(top_c4_urls)]\n",
    "\n",
    "restrictive_rows_rand = rand_rows[rand_rows[\"Restrictive Terms\"] == 1]\n",
    "restrictive_rows_head = head_rows[head_rows[\"Restrictive Terms\"] == 1]"
   ]
  },
  {
   "cell_type": "code",
   "execution_count": 328,
   "id": "565532f9-f6d5-4233-8a7e-da8a21388f64",
   "metadata": {},
   "outputs": [
    {
     "name": "stdout",
     "output_type": "stream",
     "text": [
      "1342\n",
      "802\n",
      "211\n",
      "0.5556741527236383\n",
      "0.41733473313383357\n"
     ]
    }
   ],
   "source": [
    "print(len(rand_rows))\n",
    "print(len(restrictive_rows_head))\n",
    "print(len(restrictive_rows_rand))\n",
    "print(restrictive_rows_head[\"c4 tokens\"].sum() / head_rows[\"c4 tokens\"].sum())\n",
    "print(restrictive_rows_rand[\"c4 tokens\"].sum() / rand_rows[\"c4 tokens\"].sum())"
   ]
  },
  {
   "cell_type": "code",
   "execution_count": null,
   "id": "843205ae-eb49-491f-b8cd-9b578f181d3d",
   "metadata": {},
   "outputs": [],
   "source": []
  },
  {
   "cell_type": "code",
   "execution_count": null,
   "id": "6010d513-67a0-46c7-a759-ef09fd30b79f",
   "metadata": {},
   "outputs": [],
   "source": []
  },
  {
   "cell_type": "code",
   "execution_count": null,
   "id": "c8c276b5-3cb0-46ca-b47e-d1566bf7cfc1",
   "metadata": {},
   "outputs": [],
   "source": [
    "1640\n",
    "1342\n",
    "15559615488\n",
    "154445835898\n",
    "0.3601074874453864\n",
    "0.07749627421758569\n",
    "0.03295855511290634\n",
    "0.07040348855249295\n",
    "0.10336204366539929"
   ]
  },
  {
   "cell_type": "code",
   "execution_count": null,
   "id": "839c25e4-59c2-49d2-a75c-f952fed10ed4",
   "metadata": {},
   "outputs": [],
   "source": []
  },
  {
   "cell_type": "code",
   "execution_count": null,
   "id": "cdeb7258-493b-4380-9d3d-262022c64ab8",
   "metadata": {},
   "outputs": [],
   "source": []
  },
  {
   "cell_type": "code",
   "execution_count": null,
   "id": "d5db28cf-4e96-49a8-a95b-c36b014e7158",
   "metadata": {},
   "outputs": [],
   "source": []
  },
  {
   "cell_type": "markdown",
   "id": "269da64d-baab-4bfe-8988-1c5527411ad5",
   "metadata": {},
   "source": [
    "### DECISION POINT: Use C4, Dolma, or RefinedWeb here?"
   ]
  },
  {
   "cell_type": "code",
   "execution_count": 332,
   "id": "1345cd5b-51c5-4545-92be-0f1245c1ece2",
   "metadata": {},
   "outputs": [],
   "source": [
    "CHOSEN_CORPUS = \"c4\" # 'c4', 'rf', 'dolma'\n",
    "if CHOSEN_CORPUS == \"c4\":\n",
    "    HEAD_URL_SET = top_c4_urls\n",
    "    URL_TO_COUNTS = c4_url_to_counts\n",
    "elif CHOSEN_CORPUS == \"rf\":\n",
    "    HEAD_URL_SET = top_rf_urls\n",
    "    URL_TO_COUNTS = rf_url_to_counts\n",
    "elif CHOSEN_CORPUS == \"dolma\":\n",
    "    HEAD_URL_SET = top_dolma_urls\n",
    "    URL_TO_COUNTS = dolma_url_to_counts"
   ]
  },
  {
   "cell_type": "code",
   "execution_count": 333,
   "id": "d29cd94f-5f99-482a-ad60-beb4e8872de4",
   "metadata": {},
   "outputs": [],
   "source": [
    "url_robots_summary_head = {url: url_robots_summary[url] for url in HEAD_URL_SET if url in url_robots_summary}\n",
    "url_robots_summary_head_detailed = {url: url_robots_summary_detailed[url] for url in HEAD_URL_SET if url in url_robots_summary_detailed}\n",
    "url_robots_summary_rand = {url: url_robots_summary[url] for url in random_10k_urls if url in url_robots_summary}\n",
    "url_robots_summary_rand_detailed = {url: url_robots_summary_detailed[url] for url in random_10k_urls if url in url_robots_summary_detailed}"
   ]
  },
  {
   "cell_type": "markdown",
   "id": "d68ecf56-190e-4bf0-b689-a22f24213028",
   "metadata": {},
   "source": [
    "# Robots Data for Ariel"
   ]
  },
  {
   "cell_type": "code",
   "execution_count": 334,
   "id": "c7e1f4df-7ab7-46f4-beeb-285c6ecad057",
   "metadata": {},
   "outputs": [],
   "source": [
    "# url_robots_summary_detailed"
   ]
  },
  {
   "cell_type": "code",
   "execution_count": 335,
   "id": "eda0daa7-c5da-4c9d-806f-c796817c3477",
   "metadata": {},
   "outputs": [],
   "source": [
    "DETAILED_ROBOTS_STRICTNESS_ORDER = [\n",
    "    'no_robots', 'none', 'none_sitemap', 'none_crawl_delay', 'some_pattern_restrictions', 'some_disallow_important_dir', 'some_other', 'all'\n",
    "]\n",
    "\n",
    "# C4\n",
    "urlsubset_to_robots_summary_c4, c4_url_subsets = robots_util.prepare_temporal_robots_for_corpus(\n",
    "    url_robots_summary_detailed,\n",
    "    top_c4_urls,\n",
    "    random_10k_urls,\n",
    "    service_to_urls,\n",
    "    c4_url_to_counts,\n",
    "    agent_groups_to_track,\n",
    "    DETAILED_ROBOTS_STRICTNESS_ORDER,\n",
    "    TEMPORAL_ANALYSIS_START_DATE,\n",
    "    TEMPORAL_ANALYSIS_END_DATE,\n",
    "    website_start_dates,   \n",
    ")\n",
    "# REFINEDWEB\n",
    "urlsubset_to_robots_summary_rf, rf_url_subsets = robots_util.prepare_temporal_robots_for_corpus(\n",
    "    url_robots_summary_detailed,\n",
    "    top_rf_urls,\n",
    "    random_10k_urls,\n",
    "    service_to_urls,\n",
    "    rf_url_to_counts,\n",
    "    agent_groups_to_track,\n",
    "    DETAILED_ROBOTS_STRICTNESS_ORDER,\n",
    "    TEMPORAL_ANALYSIS_START_DATE,\n",
    "    TEMPORAL_ANALYSIS_END_DATE,\n",
    "    website_start_dates,   \n",
    ")\n",
    "# DOLMA\n",
    "urlsubset_to_robots_summary_dolma, dolma_url_subsets = robots_util.prepare_temporal_robots_for_corpus(\n",
    "    url_robots_summary_detailed,\n",
    "    top_dolma_urls,\n",
    "    random_10k_urls,\n",
    "    service_to_urls,\n",
    "    dolma_url_to_counts,\n",
    "    agent_groups_to_track,\n",
    "    DETAILED_ROBOTS_STRICTNESS_ORDER,\n",
    "    TEMPORAL_ANALYSIS_START_DATE,\n",
    "    TEMPORAL_ANALYSIS_END_DATE,\n",
    "    website_start_dates,   \n",
    ")\n"
   ]
  },
  {
   "cell_type": "markdown",
   "id": "847e3034-7dd6-41ef-b45d-77bec4d67892",
   "metadata": {},
   "source": [
    "# ToS Data for Ariel"
   ]
  },
  {
   "cell_type": "code",
   "execution_count": 338,
   "id": "edef2c5b-6cd5-4dc0-9d3d-f5c004496905",
   "metadata": {},
   "outputs": [
    {
     "name": "stdout",
     "output_type": "stream",
     "text": [
      "3054\n",
      "4541\n",
      "6 / 26364 dates missed due to time mismatches.\n",
      "3054\n",
      "4541\n",
      "6 / 26364 dates missed due to time mismatches.\n",
      "3054\n",
      "4541\n",
      "6 / 26364 dates missed due to time mismatches.\n"
     ]
    }
   ],
   "source": [
    "# C4\n",
    "urlsubset_to_tos_summary_c4, c4_tos_url_subsets = robots_util.prepare_temporal_tos_for_corpus(\n",
    "    tos_policies,\n",
    "    tos_license_policies,\n",
    "    tos_compete_policies,\n",
    "    top_c4_urls,\n",
    "    random_10k_urls,\n",
    "    service_to_urls,\n",
    "    c4_url_to_counts,\n",
    "    agent_groups_to_track,\n",
    "    TEMPORAL_ANALYSIS_START_DATE,\n",
    "    TEMPORAL_ANALYSIS_END_DATE,\n",
    "    manually_annotated_urls,\n",
    "    website_start_dates,\n",
    ")\n",
    "# REFINEDWEB\n",
    "urlsubset_to_tos_summary_rf, rf_tos_url_subsets = robots_util.prepare_temporal_tos_for_corpus(\n",
    "    tos_policies,\n",
    "    tos_license_policies,\n",
    "    tos_compete_policies,\n",
    "    top_rf_urls,\n",
    "    random_10k_urls,\n",
    "    service_to_urls,\n",
    "    rf_url_to_counts,\n",
    "    agent_groups_to_track,\n",
    "    TEMPORAL_ANALYSIS_START_DATE,\n",
    "    TEMPORAL_ANALYSIS_END_DATE,\n",
    "    manually_annotated_urls,\n",
    "    website_start_dates,\n",
    ")\n",
    "# DOLMA\n",
    "urlsubset_to_tos_summary_dolma, dolma_tos_url_subsets = robots_util.prepare_temporal_tos_for_corpus(\n",
    "    tos_policies,\n",
    "    tos_license_policies,\n",
    "    tos_compete_policies,\n",
    "    top_dolma_urls,\n",
    "    random_10k_urls,\n",
    "    service_to_urls,\n",
    "    dolma_url_to_counts,\n",
    "    agent_groups_to_track,\n",
    "    TEMPORAL_ANALYSIS_START_DATE,\n",
    "    TEMPORAL_ANALYSIS_END_DATE,\n",
    "    manually_annotated_urls,\n",
    "    website_start_dates,\n",
    ")"
   ]
  },
  {
   "cell_type": "code",
   "execution_count": null,
   "id": "24c9dfba-95c2-4c5e-b9ae-c3a928fe5452",
   "metadata": {},
   "outputs": [],
   "source": []
  },
  {
   "cell_type": "code",
   "execution_count": null,
   "id": "5a0ffe70-1263-4aee-bd42-1059bc827454",
   "metadata": {},
   "outputs": [],
   "source": [
    "# statuses_to_include = ['all', 'some_pattern_restrictions', 'some_disallow_important_dir']\n",
    "ROBOTS_STATUSES_TO_INCLUDE = ['all']\n",
    "TARGET_AGENT = 'Combined Agent'"
   ]
  },
  {
   "cell_type": "code",
   "execution_count": null,
   "id": "d2fffde7-c98f-43af-9c74-9ba130f73fdc",
   "metadata": {},
   "outputs": [],
   "source": [
    "\n",
    "# C4\n",
    "robots_util.generate_corpus_restriction_estimates_per_url_split(\n",
    "    urlsubset_to_robots_summary_c4,\n",
    "    c4_url_subsets,\n",
    "    \"c4\",\n",
    "    url_token_lookup,\n",
    "    TARGET_AGENT,\n",
    "    ROBOTS_STATUSES_TO_INCLUDE,\n",
    ")\n",
    "# REFINEDWEB\n",
    "robots_util.generate_corpus_restriction_estimates_per_url_split(\n",
    "    urlsubset_to_robots_summary_rf,\n",
    "    rf_url_subsets,\n",
    "    \"rf\",\n",
    "    url_token_lookup,\n",
    "    TARGET_AGENT,\n",
    "    ROBOTS_STATUSES_TO_INCLUDE,\n",
    ")\n",
    "# DOLMA\n",
    "robots_util.generate_corpus_restriction_estimates_per_url_split(\n",
    "    urlsubset_to_robots_summary_dolma,\n",
    "    dolma_url_subsets,\n",
    "    \"dolma\",\n",
    "    url_token_lookup,\n",
    "    TARGET_AGENT,\n",
    "    ROBOTS_STATUSES_TO_INCLUDE,\n",
    ")"
   ]
  },
  {
   "cell_type": "code",
   "execution_count": 41,
   "id": "b4fb6485-c28e-447f-ae71-d307e1a93f8e",
   "metadata": {},
   "outputs": [],
   "source": [
    "# for k, vs in c4_tos_url_subsets.items():\n",
    "#     print(k)\n",
    "#     print(len(vs))"
   ]
  },
  {
   "cell_type": "code",
   "execution_count": null,
   "id": "c083ff8f-d215-46e5-8217-a89b708984e3",
   "metadata": {},
   "outputs": [],
   "source": [
    "TOS_STATUSES_TO_EXCLUDE = [\n",
    "    'No Scraping & AI', 'NC Only', 'No Scraping', 'No Re-Distribution', 'Non-Compete', 'No AI', 'Conditional Use'\n",
    "]\n",
    "\n",
    "# # C4\n",
    "robots_util.generate_corpus_restriction_estimates_per_url_split(\n",
    "    urlsubset_to_tos_summary_c4,\n",
    "    c4_tos_url_subsets,\n",
    "    \"c4\",\n",
    "    url_token_lookup,\n",
    "    TARGET_AGENT,\n",
    "    TOS_STATUSES_TO_EXCLUDE,\n",
    "    save_dir=\"output_data_tos\",\n",
    ")\n",
    "# # REFINEDWEB\n",
    "robots_util.generate_corpus_restriction_estimates_per_url_split(\n",
    "    urlsubset_to_tos_summary_rf,\n",
    "    rf_tos_url_subsets,\n",
    "    \"rf\",\n",
    "    url_token_lookup,\n",
    "    TARGET_AGENT,\n",
    "    TOS_STATUSES_TO_EXCLUDE,\n",
    "    save_dir=\"output_data_tos\",\n",
    ")\n",
    "# DOLMA\n",
    "robots_util.generate_corpus_restriction_estimates_per_url_split(\n",
    "    urlsubset_to_tos_summary_dolma,\n",
    "    dolma_tos_url_subsets,\n",
    "    \"dolma\",\n",
    "    url_token_lookup,\n",
    "    TARGET_AGENT,\n",
    "    TOS_STATUSES_TO_EXCLUDE,\n",
    "    save_dir=\"output_data_tos\",\n",
    ")"
   ]
  },
  {
   "cell_type": "code",
   "execution_count": 46,
   "id": "0b0a6415-3c94-4b0f-a8fa-94df8d5075e3",
   "metadata": {},
   "outputs": [],
   "source": [
    "# 1640 (head urls)\n",
    "# 1342 (rand urls)\n",
    "# 524 (num head restricted)\n",
    "# 104 (num rand restricted)\n",
    "# 0.3601074874453864 (rate of head)\n",
    "# 0.22500425859904777 (rate of rand)\n",
    "# 0.03295855511290634 (total prop from head)\n",
    "# 0.20441092045358636 (total prop from rand)\n",
    "# 0.2373694755664927 (total percent)\n"
   ]
  },
  {
   "cell_type": "code",
   "execution_count": 284,
   "id": "3badcf2f-f40f-435b-a144-1c585ba6ae2f",
   "metadata": {},
   "outputs": [],
   "source": [
    "latest_c4_tos_summ = urlsubset_to_tos_summary_c4[\"rand-all\"][urlsubset_to_tos_summary_c4[\"rand-all\"][\"period\"] == \"2024-04\"]"
   ]
  },
  {
   "cell_type": "code",
   "execution_count": 285,
   "id": "97836282-eb87-4c01-b796-fd61c14ab3fc",
   "metadata": {},
   "outputs": [
    {
     "data": {
      "text/html": [
       "<div>\n",
       "<style scoped>\n",
       "    .dataframe tbody tr th:only-of-type {\n",
       "        vertical-align: middle;\n",
       "    }\n",
       "\n",
       "    .dataframe tbody tr th {\n",
       "        vertical-align: top;\n",
       "    }\n",
       "\n",
       "    .dataframe thead th {\n",
       "        text-align: right;\n",
       "    }\n",
       "</style>\n",
       "<table border=\"1\" class=\"dataframe\">\n",
       "  <thead>\n",
       "    <tr style=\"text-align: right;\">\n",
       "      <th></th>\n",
       "      <th>period</th>\n",
       "      <th>status</th>\n",
       "      <th>count</th>\n",
       "      <th>tokens</th>\n",
       "      <th>agent</th>\n",
       "    </tr>\n",
       "  </thead>\n",
       "  <tbody>\n",
       "    <tr>\n",
       "      <th>598</th>\n",
       "      <td>2024-04</td>\n",
       "      <td>Unrestricted Use</td>\n",
       "      <td>343</td>\n",
       "      <td>3023638</td>\n",
       "      <td>Combined Agent</td>\n",
       "    </tr>\n",
       "    <tr>\n",
       "      <th>599</th>\n",
       "      <td>2024-04</td>\n",
       "      <td>No Terms Pages</td>\n",
       "      <td>788</td>\n",
       "      <td>6622234</td>\n",
       "      <td>Combined Agent</td>\n",
       "    </tr>\n",
       "    <tr>\n",
       "      <th>600</th>\n",
       "      <td>2024-04</td>\n",
       "      <td>NC Only</td>\n",
       "      <td>99</td>\n",
       "      <td>2221267</td>\n",
       "      <td>Combined Agent</td>\n",
       "    </tr>\n",
       "    <tr>\n",
       "      <th>601</th>\n",
       "      <td>2024-04</td>\n",
       "      <td>No Scraping</td>\n",
       "      <td>87</td>\n",
       "      <td>4493457</td>\n",
       "      <td>Combined Agent</td>\n",
       "    </tr>\n",
       "    <tr>\n",
       "      <th>602</th>\n",
       "      <td>2024-04</td>\n",
       "      <td>Non-Compete</td>\n",
       "      <td>6</td>\n",
       "      <td>6506</td>\n",
       "      <td>Combined Agent</td>\n",
       "    </tr>\n",
       "    <tr>\n",
       "      <th>603</th>\n",
       "      <td>2024-04</td>\n",
       "      <td>No Re-Distribution</td>\n",
       "      <td>18</td>\n",
       "      <td>184310</td>\n",
       "      <td>Combined Agent</td>\n",
       "    </tr>\n",
       "    <tr>\n",
       "      <th>604</th>\n",
       "      <td>2024-04</td>\n",
       "      <td>Conditional Use</td>\n",
       "      <td>1</td>\n",
       "      <td>3328</td>\n",
       "      <td>Combined Agent</td>\n",
       "    </tr>\n",
       "  </tbody>\n",
       "</table>\n",
       "</div>"
      ],
      "text/plain": [
       "      period              status  count   tokens           agent\n",
       "598  2024-04    Unrestricted Use    343  3023638  Combined Agent\n",
       "599  2024-04      No Terms Pages    788  6622234  Combined Agent\n",
       "600  2024-04             NC Only     99  2221267  Combined Agent\n",
       "601  2024-04         No Scraping     87  4493457  Combined Agent\n",
       "602  2024-04         Non-Compete      6     6506  Combined Agent\n",
       "603  2024-04  No Re-Distribution     18   184310  Combined Agent\n",
       "604  2024-04     Conditional Use      1     3328  Combined Agent"
      ]
     },
     "execution_count": 285,
     "metadata": {},
     "output_type": "execute_result"
    }
   ],
   "source": [
    "latest_c4_tos_summ"
   ]
  },
  {
   "cell_type": "code",
   "execution_count": 286,
   "id": "d8dbd31f-8af9-45a4-bf9e-4b776fa8dd24",
   "metadata": {},
   "outputs": [
    {
     "data": {
      "text/plain": [
       "1342"
      ]
     },
     "execution_count": 286,
     "metadata": {},
     "output_type": "execute_result"
    }
   ],
   "source": [
    "latest_c4_tos_summ[\"count\"].sum()"
   ]
  },
  {
   "cell_type": "code",
   "execution_count": 212,
   "id": "73574ec3-28ef-4685-8f25-f46e298f69a3",
   "metadata": {},
   "outputs": [
    {
     "data": {
      "text/plain": [
       "0.582866296903485"
      ]
     },
     "execution_count": 212,
     "metadata": {},
     "output_type": "execute_result"
    }
   ],
   "source": [
    "(3023638+6622234+3328)/16554740"
   ]
  },
  {
   "cell_type": "code",
   "execution_count": 104,
   "id": "4d88cd16-2460-45b1-9d98-9b7f87a7a560",
   "metadata": {},
   "outputs": [
    {
     "data": {
      "text/plain": [
       "2982"
      ]
     },
     "execution_count": 104,
     "metadata": {},
     "output_type": "execute_result"
    }
   ],
   "source": [
    "1640+1342"
   ]
  },
  {
   "cell_type": "code",
   "execution_count": 279,
   "id": "0ceec3cb-e1ad-4d52-bd27-63606f79caad",
   "metadata": {},
   "outputs": [
    {
     "data": {
      "text/plain": [
       "802"
      ]
     },
     "execution_count": 279,
     "metadata": {},
     "output_type": "execute_result"
    }
   ],
   "source": [
    "1640 - (323+515)"
   ]
  },
  {
   "cell_type": "code",
   "execution_count": 164,
   "id": "a02c2113-151d-4e35-b2b2-1d39f55bb9d5",
   "metadata": {},
   "outputs": [
    {
     "data": {
      "text/plain": [
       "'www.eurekalert.org'"
      ]
     },
     "execution_count": 164,
     "metadata": {},
     "output_type": "execute_result"
    }
   ],
   "source": [
    "list(tos_policies.keys())[0]"
   ]
  },
  {
   "cell_type": "code",
   "execution_count": 295,
   "id": "9a68b369-299d-4d90-8d76-104cad0164a7",
   "metadata": {},
   "outputs": [
    {
     "name": "stdout",
     "output_type": "stream",
     "text": [
      "3054\n",
      "4541\n",
      "6 / 26364 dates missed due to time mismatches.\n",
      "4541\n"
     ]
    }
   ],
   "source": [
    "url_to_time_to_tos_verdict = robots_util.get_tos_url_time_verdicts(\n",
    "    tos_policies, tos_license_policies, tos_compete_policies, manually_annotated_urls, website_start_dates)\n",
    "print(len(url_to_time_to_tos_verdict))"
   ]
  },
  {
   "cell_type": "code",
   "execution_count": 291,
   "id": "25779e3c-eb5d-4d31-ba29-918082730f66",
   "metadata": {},
   "outputs": [
    {
     "data": {
      "text/plain": [
       "3068"
      ]
     },
     "execution_count": 291,
     "metadata": {},
     "output_type": "execute_result"
    }
   ],
   "source": [
    "len(tos_verdicts_test)"
   ]
  },
  {
   "cell_type": "code",
   "execution_count": 302,
   "id": "f5a069d6-865e-40e8-9b4b-a8e3407c99b3",
   "metadata": {},
   "outputs": [],
   "source": [
    "pairs = []\n",
    "issue_urls = []\n",
    "for url, verdict in tos_verdicts_test.items():\n",
    "    if url in url_to_time_to_tos_verdict:\n",
    "        latest = max(sorted(url_to_time_to_tos_verdict[url].keys()))\n",
    "        temp_verdict = url_to_time_to_tos_verdict[url][latest]\n",
    "        pairs.append((verdict, temp_verdict))\n",
    "        if verdict == \"No Terms Pages\" and temp_verdict not in [\"No Terms Pages\", \"Unrestricted Use\"]:\n",
    "            issue_urls.append(url)\n",
    "            "
   ]
  },
  {
   "cell_type": "code",
   "execution_count": 303,
   "id": "1ce24e94-b8f0-453f-b20f-0be5552e0a97",
   "metadata": {
    "jupyter": {
     "source_hidden": true
    }
   },
   "outputs": [],
   "source": [
    "# Counter(pairs).most_common()"
   ]
  },
  {
   "cell_type": "code",
   "execution_count": 305,
   "id": "8ae284f4-7e53-4c7f-aeb8-10fd90046313",
   "metadata": {},
   "outputs": [
    {
     "data": {
      "text/plain": [
       "{'2016-01-01': 'NC Only',\n",
       " '2017-01-01': 'No Re-Distribution',\n",
       " '2018-01-01': 'No Re-Distribution',\n",
       " '2019-01-01': 'NC Only',\n",
       " '2020-01-01': 'NC Only',\n",
       " '2021-01-01': 'NC Only',\n",
       " '2022-01-01': 'No Re-Distribution',\n",
       " '2023-01-01': 'NC Only',\n",
       " '2024-01-01': 'NC Only'}"
      ]
     },
     "execution_count": 305,
     "metadata": {},
     "output_type": "execute_result"
    }
   ],
   "source": [
    "url_to_time_to_tos_verdict['www.digg.com']"
   ]
  },
  {
   "cell_type": "code",
   "execution_count": 306,
   "id": "c574b089-05fb-4076-9f94-590ca2529bcd",
   "metadata": {},
   "outputs": [
    {
     "data": {
      "text/plain": [
       "'No Terms Pages'"
      ]
     },
     "execution_count": 306,
     "metadata": {},
     "output_type": "execute_result"
    }
   ],
   "source": [
    "tos_verdicts_test['www.digg.com']"
   ]
  },
  {
   "cell_type": "code",
   "execution_count": 311,
   "id": "ad0b880a-564c-4824-920c-867e461f8e50",
   "metadata": {},
   "outputs": [
    {
     "data": {
      "text/plain": [
       "dict_keys(['2016-01-01', '2017-01-01', '2018-01-01', '2019-01-01', '2020-01-01', '2021-01-01', '2022-01-01', '2023-01-01', '2024-01-01'])"
      ]
     },
     "execution_count": 311,
     "metadata": {},
     "output_type": "execute_result"
    }
   ],
   "source": [
    "tos_license_policies['digg.com'].keys()"
   ]
  },
  {
   "cell_type": "code",
   "execution_count": null,
   "id": "be3c335b-c39c-461f-a1b2-56e5d96f1e7f",
   "metadata": {},
   "outputs": [],
   "source": []
  },
  {
   "cell_type": "code",
   "execution_count": null,
   "id": "acde6292-e0cf-4840-9551-33bd3272ab47",
   "metadata": {},
   "outputs": [],
   "source": []
  },
  {
   "cell_type": "code",
   "execution_count": null,
   "id": "55bac94a-fd17-4b01-862c-f691761eac0a",
   "metadata": {},
   "outputs": [],
   "source": [
    "# issue_urls"
   ]
  },
  {
   "cell_type": "code",
   "execution_count": null,
   "id": "e4ac53c6-1ac1-463d-9724-9c4349a1c4ce",
   "metadata": {},
   "outputs": [],
   "source": []
  },
  {
   "cell_type": "code",
   "execution_count": null,
   "id": "a9c98821-7e93-4915-a978-9a5c892e8565",
   "metadata": {},
   "outputs": [],
   "source": []
  },
  {
   "cell_type": "markdown",
   "id": "8e3002a9-b499-4a0f-bee1-9e433c4cf5e3",
   "metadata": {},
   "source": [
    "# Table"
   ]
  },
  {
   "cell_type": "code",
   "execution_count": null,
   "id": "4ef5ed97-51c1-48e6-a76a-9eedc501db9b",
   "metadata": {},
   "outputs": [],
   "source": [
    "from sklearn.linear_model import LogisticRegression\n",
    "\n",
    "ALL_VARS = [\n",
    "    'User Content', 'Paywall', 'Ads','Modality: Image', 'Modality: Video', 'Modality: Audio',\n",
    "    'Sensitive Content', 'services_Academic', 'services_Blogs',\n",
    "    'services_E-Commerce', 'services_Encyclopedia/Database',\n",
    "    'services_Government', 'services_News/Periodicals',\n",
    "    'services_Organization/Personal Website', 'services_Other',\n",
    "    'services_Social Media/Forums', 'Restrictive Robots.txt', 'Restrictive Terms'\n",
    "]\n",
    "\n",
    "\n",
    "\n",
    "def url_variable_instance(url_token_lookup, url_results_df, n_resamples=100000, n_pa_resamples=200):\n",
    "    url_correlation_df = analysis_util.analyze_url_variable_correlations(url_results_df, ALL_VARS)\n",
    "\n",
    "    def pop_analysis(df, domains=None):\n",
    "        if domains is not None:\n",
    "            c4_domains, rf_domains, dolma_domains = domains, domains, domains\n",
    "        else:\n",
    "            c4_domains = url_token_lookup.top_k_urls('c4', 2000)\n",
    "            rf_domains = url_token_lookup.top_k_urls('rf', 2000)\n",
    "            dolma_domains = url_token_lookup.top_k_urls('dolma', 2000)\n",
    "        \n",
    "        return {\n",
    "            'C4': analysis_util.run_population_analysis(\n",
    "                df,\n",
    "                url_token_lookup,\n",
    "                c4_domains,\n",
    "                'c4',\n",
    "                ALL_VARS,\n",
    "                True\n",
    "            )['est_tokens_pct'],\n",
    "            \n",
    "            'RW': analysis_util.run_population_analysis(\n",
    "                df, \n",
    "                url_token_lookup,\n",
    "                rf_domains,\n",
    "                'rf',\n",
    "                ALL_VARS,\n",
    "                True\n",
    "            )['est_tokens_pct'],\n",
    "            \n",
    "            'Dolma': analysis_util.run_population_analysis(\n",
    "                df, \n",
    "                url_token_lookup,\n",
    "                dolma_domains,\n",
    "                'dolma',\n",
    "                ALL_VARS,\n",
    "                True\n",
    "            )['est_tokens_pct']\n",
    "        }\n",
    "\n",
    "    print(len(url_results_df))\n",
    "    pct_tokens_in_corpus = pop_analysis(url_results_df)\n",
    "    url_correlation_df['C4'] = pct_tokens_in_corpus['C4']\n",
    "    url_correlation_df['RW'] = pct_tokens_in_corpus['RW']\n",
    "    url_correlation_df['Dolma'] = pct_tokens_in_corpus['Dolma']\n",
    "    return url_correlation_df, None, None\n",
    "\n",
    "    if n_resamples is not None and n_resamples > 0:\n",
    "        tmp = url_results_df.copy().set_index('URL')\n",
    "        keys = tmp.loc[tmp['sample'] == 'random'].index.unique().tolist()\n",
    "        \n",
    "        resamples = {}\n",
    "        for i in tqdm(range(n_resamples)):\n",
    "            domains = np.random.choice(keys, len(keys), replace=True)\n",
    "            resamples[i] = tmp.loc[domains, ALL_VARS].mean()\n",
    "        resamples = pd.DataFrame(resamples)\n",
    "            \n",
    "    pct_resamples = []\n",
    "    for i in tqdm(range(n_pa_resamples)):\n",
    "        tmp = url_results_df.copy().set_index('URL')\n",
    "        tmp = tmp.loc[tmp['sample'] == 'random']\n",
    "        \n",
    "        keys = tmp.index.unique().tolist()\n",
    "        domains = np.random.choice(keys, len(keys), replace=True)\n",
    "        tmp = tmp.loc[domains].reset_index()\n",
    "        \n",
    "        try:\n",
    "            pct_resamples += [pd.DataFrame(pop_analysis(tmp, domains)).T.reset_index().rename({'index': 'corpus'}, axis=1).assign(i=i)]\n",
    "        except ValueError:  # <2 classes for LogisticRegression\n",
    "            continue\n",
    "    pct_resamples = pd.concat(pct_resamples).set_index(['i', 'corpus'])\n",
    "    \n",
    "    url_correlation_df.columns = pd.MultiIndex.from_tuples([\n",
    "        ('URL Group', 'Top 100'),\n",
    "        ('URL Group', 'Top 500'),\n",
    "        ('URL Group', 'Top 2000'),\n",
    "        ('URL Group', 'Random'),\n",
    "        ('Pct. Tokens in Corpus', 'C4'),\n",
    "        ('Pct. Tokens in Corpus', 'RW'),\n",
    "        ('Pct. Tokens in Corpus', 'Dolma'),\n",
    "    ])\n",
    "    \n",
    "    url_correlation_df[('Stats', 'Diff')] = url_correlation_df[('URL Group', 'Top 2000')] - url_correlation_df[('URL Group', 'Random')]\n",
    "    \n",
    "    url_correlation_df = url_correlation_df[[\n",
    "        ('URL Group', 'Top 100'),\n",
    "        ('URL Group', 'Top 500'),\n",
    "        ('URL Group', 'Top 2000'),\n",
    "        ('URL Group', 'Random'),\n",
    "        ('Stats', 'Diff'),\n",
    "        ('Pct. Tokens in Corpus', 'C4'),\n",
    "        ('Pct. Tokens in Corpus', 'RW'),\n",
    "        ('Pct. Tokens in Corpus', 'Dolma'),\n",
    "    ]]\n",
    "    \n",
    "    url_correlation_df.index = url_correlation_df.index.str.replace('services_', '')\n",
    "    url_correlation_df.index.name = 'Variable'\n",
    "\n",
    "    resamples.index = resamples.index.str.replace('services_', '')\n",
    "    resamples.index.name = 'Variable'\n",
    "\n",
    "    pct_resamples = pct_resamples.reset_index().drop('i', axis=1).groupby('corpus').std().T\n",
    "    pct_resamples.index.name = 'Variable'\n",
    "    pct_resamples.columns = pd.MultiIndex.from_tuples([('Pct. Tokens in Corpus', c) for c in pct_resamples.columns])\n",
    "    pct_resamples.index = pct_resamples.index.str.replace('services_', '')\n",
    "    \n",
    "    return url_correlation_df, resamples, pct_resamples"
   ]
  },
  {
   "cell_type": "code",
   "execution_count": null,
   "id": "386f297b-648b-4315-99f3-d06bd48b824e",
   "metadata": {},
   "outputs": [],
   "source": [
    "url_correlation_df, url_correlation_resamples, url_correlation_pct_resamples = url_variable_instance(url_token_lookup, url_results_df)"
   ]
  },
  {
   "cell_type": "code",
   "execution_count": 60,
   "id": "e1d381a6-f23a-4a5b-9d87-ea338c21e889",
   "metadata": {},
   "outputs": [],
   "source": [
    "1342\n",
    "1640\n",
    "170005451386\n",
    "154445835898\n",
    "0.03295855511290634\n",
    "0.07040348855249295\n",
    "0.10336204366539929"
   ]
  },
  {
   "cell_type": "code",
   "execution_count": null,
   "id": "23900950-86b7-420c-94c4-ca0f843093b6",
   "metadata": {},
   "outputs": [],
   "source": []
  },
  {
   "cell_type": "code",
   "execution_count": null,
   "id": "04c33f91-270a-4235-a458-1ee45e7b3941",
   "metadata": {},
   "outputs": [],
   "source": []
  },
  {
   "cell_type": "code",
   "execution_count": null,
   "id": "69de4f91-937a-474b-ba64-35d75bb00508",
   "metadata": {},
   "outputs": [],
   "source": []
  },
  {
   "cell_type": "code",
   "execution_count": null,
   "id": "27aa1025-62bc-4e88-a138-99066289cf05",
   "metadata": {},
   "outputs": [],
   "source": []
  },
  {
   "cell_type": "code",
   "execution_count": 49,
   "id": "574b1c5d-4541-4e4f-b26a-08c4259c79de",
   "metadata": {},
   "outputs": [
    {
     "data": {
      "text/html": [
       "<div>\n",
       "<style scoped>\n",
       "    .dataframe tbody tr th:only-of-type {\n",
       "        vertical-align: middle;\n",
       "    }\n",
       "\n",
       "    .dataframe tbody tr th {\n",
       "        vertical-align: top;\n",
       "    }\n",
       "\n",
       "    .dataframe thead th {\n",
       "        text-align: right;\n",
       "    }\n",
       "</style>\n",
       "<table border=\"1\" class=\"dataframe\">\n",
       "  <thead>\n",
       "    <tr style=\"text-align: right;\">\n",
       "      <th></th>\n",
       "      <th>count</th>\n",
       "      <th>mean</th>\n",
       "      <th>std</th>\n",
       "      <th>min</th>\n",
       "      <th>25%</th>\n",
       "      <th>50%</th>\n",
       "      <th>75%</th>\n",
       "      <th>max</th>\n",
       "    </tr>\n",
       "    <tr>\n",
       "      <th>Variable</th>\n",
       "      <th></th>\n",
       "      <th></th>\n",
       "      <th></th>\n",
       "      <th></th>\n",
       "      <th></th>\n",
       "      <th></th>\n",
       "      <th></th>\n",
       "      <th></th>\n",
       "    </tr>\n",
       "  </thead>\n",
       "  <tbody>\n",
       "    <tr>\n",
       "      <th>User Content</th>\n",
       "      <td>100000.000</td>\n",
       "      <td>0.151</td>\n",
       "      <td>0.010</td>\n",
       "      <td>0.107</td>\n",
       "      <td>0.144</td>\n",
       "      <td>0.151</td>\n",
       "      <td>0.157</td>\n",
       "      <td>0.190</td>\n",
       "    </tr>\n",
       "    <tr>\n",
       "      <th>Paywall</th>\n",
       "      <td>100000.000</td>\n",
       "      <td>0.016</td>\n",
       "      <td>0.003</td>\n",
       "      <td>0.004</td>\n",
       "      <td>0.014</td>\n",
       "      <td>0.016</td>\n",
       "      <td>0.019</td>\n",
       "      <td>0.033</td>\n",
       "    </tr>\n",
       "    <tr>\n",
       "      <th>Ads</th>\n",
       "      <td>100000.000</td>\n",
       "      <td>0.054</td>\n",
       "      <td>0.006</td>\n",
       "      <td>0.030</td>\n",
       "      <td>0.049</td>\n",
       "      <td>0.054</td>\n",
       "      <td>0.058</td>\n",
       "      <td>0.082</td>\n",
       "    </tr>\n",
       "    <tr>\n",
       "      <th>Modality: Image</th>\n",
       "      <td>100000.000</td>\n",
       "      <td>0.950</td>\n",
       "      <td>0.006</td>\n",
       "      <td>0.920</td>\n",
       "      <td>0.946</td>\n",
       "      <td>0.950</td>\n",
       "      <td>0.955</td>\n",
       "      <td>0.975</td>\n",
       "    </tr>\n",
       "    <tr>\n",
       "      <th>Modality: Video</th>\n",
       "      <td>100000.000</td>\n",
       "      <td>0.189</td>\n",
       "      <td>0.011</td>\n",
       "      <td>0.147</td>\n",
       "      <td>0.181</td>\n",
       "      <td>0.189</td>\n",
       "      <td>0.196</td>\n",
       "      <td>0.233</td>\n",
       "    </tr>\n",
       "    <tr>\n",
       "      <th>Modality: Audio</th>\n",
       "      <td>100000.000</td>\n",
       "      <td>0.034</td>\n",
       "      <td>0.005</td>\n",
       "      <td>0.016</td>\n",
       "      <td>0.031</td>\n",
       "      <td>0.034</td>\n",
       "      <td>0.037</td>\n",
       "      <td>0.058</td>\n",
       "    </tr>\n",
       "    <tr>\n",
       "      <th>Sensitive Content</th>\n",
       "      <td>100000.000</td>\n",
       "      <td>0.006</td>\n",
       "      <td>0.002</td>\n",
       "      <td>0.000</td>\n",
       "      <td>0.004</td>\n",
       "      <td>0.006</td>\n",
       "      <td>0.007</td>\n",
       "      <td>0.016</td>\n",
       "    </tr>\n",
       "    <tr>\n",
       "      <th>Academic</th>\n",
       "      <td>100000.000</td>\n",
       "      <td>0.038</td>\n",
       "      <td>0.005</td>\n",
       "      <td>0.018</td>\n",
       "      <td>0.034</td>\n",
       "      <td>0.038</td>\n",
       "      <td>0.042</td>\n",
       "      <td>0.062</td>\n",
       "    </tr>\n",
       "    <tr>\n",
       "      <th>Blogs</th>\n",
       "      <td>100000.000</td>\n",
       "      <td>0.151</td>\n",
       "      <td>0.010</td>\n",
       "      <td>0.109</td>\n",
       "      <td>0.145</td>\n",
       "      <td>0.151</td>\n",
       "      <td>0.158</td>\n",
       "      <td>0.197</td>\n",
       "    </tr>\n",
       "    <tr>\n",
       "      <th>E-Commerce</th>\n",
       "      <td>100000.000</td>\n",
       "      <td>0.106</td>\n",
       "      <td>0.008</td>\n",
       "      <td>0.069</td>\n",
       "      <td>0.100</td>\n",
       "      <td>0.106</td>\n",
       "      <td>0.112</td>\n",
       "      <td>0.145</td>\n",
       "    </tr>\n",
       "    <tr>\n",
       "      <th>Encyclopedia/Database</th>\n",
       "      <td>100000.000</td>\n",
       "      <td>0.004</td>\n",
       "      <td>0.002</td>\n",
       "      <td>0.000</td>\n",
       "      <td>0.003</td>\n",
       "      <td>0.004</td>\n",
       "      <td>0.006</td>\n",
       "      <td>0.014</td>\n",
       "    </tr>\n",
       "    <tr>\n",
       "      <th>Government</th>\n",
       "      <td>100000.000</td>\n",
       "      <td>0.011</td>\n",
       "      <td>0.003</td>\n",
       "      <td>0.001</td>\n",
       "      <td>0.009</td>\n",
       "      <td>0.011</td>\n",
       "      <td>0.013</td>\n",
       "      <td>0.026</td>\n",
       "    </tr>\n",
       "    <tr>\n",
       "      <th>News/Periodicals</th>\n",
       "      <td>100000.000</td>\n",
       "      <td>0.053</td>\n",
       "      <td>0.006</td>\n",
       "      <td>0.027</td>\n",
       "      <td>0.048</td>\n",
       "      <td>0.053</td>\n",
       "      <td>0.057</td>\n",
       "      <td>0.080</td>\n",
       "    </tr>\n",
       "    <tr>\n",
       "      <th>Organization/Personal Website</th>\n",
       "      <td>100000.000</td>\n",
       "      <td>0.712</td>\n",
       "      <td>0.012</td>\n",
       "      <td>0.661</td>\n",
       "      <td>0.704</td>\n",
       "      <td>0.712</td>\n",
       "      <td>0.721</td>\n",
       "      <td>0.769</td>\n",
       "    </tr>\n",
       "    <tr>\n",
       "      <th>Other</th>\n",
       "      <td>100000.000</td>\n",
       "      <td>0.043</td>\n",
       "      <td>0.006</td>\n",
       "      <td>0.021</td>\n",
       "      <td>0.039</td>\n",
       "      <td>0.043</td>\n",
       "      <td>0.047</td>\n",
       "      <td>0.069</td>\n",
       "    </tr>\n",
       "    <tr>\n",
       "      <th>Social Media/Forums</th>\n",
       "      <td>100000.000</td>\n",
       "      <td>0.016</td>\n",
       "      <td>0.003</td>\n",
       "      <td>0.004</td>\n",
       "      <td>0.014</td>\n",
       "      <td>0.016</td>\n",
       "      <td>0.019</td>\n",
       "      <td>0.033</td>\n",
       "    </tr>\n",
       "    <tr>\n",
       "      <th>Restrictive Robots.txt</th>\n",
       "      <td>100000.000</td>\n",
       "      <td>0.015</td>\n",
       "      <td>0.003</td>\n",
       "      <td>0.003</td>\n",
       "      <td>0.013</td>\n",
       "      <td>0.015</td>\n",
       "      <td>0.017</td>\n",
       "      <td>0.031</td>\n",
       "    </tr>\n",
       "    <tr>\n",
       "      <th>Restrictive Terms</th>\n",
       "      <td>100000.000</td>\n",
       "      <td>0.078</td>\n",
       "      <td>0.007</td>\n",
       "      <td>0.046</td>\n",
       "      <td>0.072</td>\n",
       "      <td>0.077</td>\n",
       "      <td>0.083</td>\n",
       "      <td>0.113</td>\n",
       "    </tr>\n",
       "  </tbody>\n",
       "</table>\n",
       "</div>"
      ],
      "text/plain": [
       "                                   count  mean   std   min   25%   50%   75%  \\\n",
       "Variable                                                                       \n",
       "User Content                  100000.000 0.151 0.010 0.107 0.144 0.151 0.157   \n",
       "Paywall                       100000.000 0.016 0.003 0.004 0.014 0.016 0.019   \n",
       "Ads                           100000.000 0.054 0.006 0.030 0.049 0.054 0.058   \n",
       "Modality: Image               100000.000 0.950 0.006 0.920 0.946 0.950 0.955   \n",
       "Modality: Video               100000.000 0.189 0.011 0.147 0.181 0.189 0.196   \n",
       "Modality: Audio               100000.000 0.034 0.005 0.016 0.031 0.034 0.037   \n",
       "Sensitive Content             100000.000 0.006 0.002 0.000 0.004 0.006 0.007   \n",
       "Academic                      100000.000 0.038 0.005 0.018 0.034 0.038 0.042   \n",
       "Blogs                         100000.000 0.151 0.010 0.109 0.145 0.151 0.158   \n",
       "E-Commerce                    100000.000 0.106 0.008 0.069 0.100 0.106 0.112   \n",
       "Encyclopedia/Database         100000.000 0.004 0.002 0.000 0.003 0.004 0.006   \n",
       "Government                    100000.000 0.011 0.003 0.001 0.009 0.011 0.013   \n",
       "News/Periodicals              100000.000 0.053 0.006 0.027 0.048 0.053 0.057   \n",
       "Organization/Personal Website 100000.000 0.712 0.012 0.661 0.704 0.712 0.721   \n",
       "Other                         100000.000 0.043 0.006 0.021 0.039 0.043 0.047   \n",
       "Social Media/Forums           100000.000 0.016 0.003 0.004 0.014 0.016 0.019   \n",
       "Restrictive Robots.txt        100000.000 0.015 0.003 0.003 0.013 0.015 0.017   \n",
       "Restrictive Terms             100000.000 0.078 0.007 0.046 0.072 0.077 0.083   \n",
       "\n",
       "                                max  \n",
       "Variable                             \n",
       "User Content                  0.190  \n",
       "Paywall                       0.033  \n",
       "Ads                           0.082  \n",
       "Modality: Image               0.975  \n",
       "Modality: Video               0.233  \n",
       "Modality: Audio               0.058  \n",
       "Sensitive Content             0.016  \n",
       "Academic                      0.062  \n",
       "Blogs                         0.197  \n",
       "E-Commerce                    0.145  \n",
       "Encyclopedia/Database         0.014  \n",
       "Government                    0.026  \n",
       "News/Periodicals              0.080  \n",
       "Organization/Personal Website 0.769  \n",
       "Other                         0.069  \n",
       "Social Media/Forums           0.033  \n",
       "Restrictive Robots.txt        0.031  \n",
       "Restrictive Terms             0.113  "
      ]
     },
     "execution_count": 49,
     "metadata": {},
     "output_type": "execute_result"
    }
   ],
   "source": [
    "## Sanity-check the resampling results\n",
    "\n",
    "url_correlation_resamples.T.describe().T"
   ]
  },
  {
   "cell_type": "code",
   "execution_count": 50,
   "id": "4a4086e4-e592-4bf0-9d2e-e547d419e02d",
   "metadata": {},
   "outputs": [
    {
     "data": {
      "text/plain": [
       "Variable\n",
       "User Content                    0.000\n",
       "Paywall                         0.000\n",
       "Ads                             0.000\n",
       "Modality: Image                 0.000\n",
       "Modality: Video                 0.000\n",
       "Modality: Audio                 0.000\n",
       "Sensitive Content               0.000\n",
       "Academic                        0.000\n",
       "Blogs                           0.000\n",
       "E-Commerce                      0.000\n",
       "Encyclopedia/Database           0.000\n",
       "Government                      0.000\n",
       "News/Periodicals                0.000\n",
       "Organization/Personal Website   0.002\n",
       "Other                           0.000\n",
       "Social Media/Forums             0.000\n",
       "Restrictive Robots.txt          0.000\n",
       "Restrictive Terms               0.000\n",
       "dtype: float64"
      ]
     },
     "execution_count": 50,
     "metadata": {},
     "output_type": "execute_result"
    }
   ],
   "source": [
    "# These will usually fail, but it's fine -- exact normality will generally\n",
    "# not happen for large n, the histograms look good and show that there's\n",
    "# nothing wrong with the resampling process\n",
    "url_correlation_resamples.apply(lambda s: normaltest(s).pvalue, axis=1)"
   ]
  },
  {
   "cell_type": "code",
   "execution_count": 51,
   "id": "7fb5dcb2-864a-48d8-89c7-75c21a80facb",
   "metadata": {
    "scrolled": true
   },
   "outputs": [
    {
     "data": {
      "image/png": "[encoded data removed]",
      "text/plain": [
       "<Figure size 640x480 with 1 Axes>"
      ]
     },
     "metadata": {},
     "output_type": "display_data"
    },
    {
     "data": {
      "image/png": "[encoded data removed]",
      "text/plain": [
       "<Figure size 640x480 with 1 Axes>"
      ]
     },
     "metadata": {},
     "output_type": "display_data"
    },
    {
     "data": {
      "image/png": "[encoded data removed]",
      "text/plain": [
       "<Figure size 640x480 with 1 Axes>"
      ]
     },
     "metadata": {},
     "output_type": "display_data"
    },
    {
     "data": {
      "image/png": "[encoded data removed]",
      "text/plain": [
       "<Figure size 640x480 with 1 Axes>"
      ]
     },
     "metadata": {},
     "output_type": "display_data"
    },
    {
     "data": {
      "image/png": "[encoded data removed]",
      "text/plain": [
       "<Figure size 640x480 with 1 Axes>"
      ]
     },
     "metadata": {},
     "output_type": "display_data"
    },
    {
     "data": {
      "image/png": "[encoded data removed]",
      "text/plain": [
       "<Figure size 640x480 with 1 Axes>"
      ]
     },
     "metadata": {},
     "output_type": "display_data"
    },
    {
     "data": {
      "image/png": "[encoded data removed]",
      "text/plain": [
       "<Figure size 640x480 with 1 Axes>"
      ]
     },
     "metadata": {},
     "output_type": "display_data"
    },
    {
     "data": {
      "image/png": "[encoded data removed]",
      "text/plain": [
       "<Figure size 640x480 with 1 Axes>"
      ]
     },
     "metadata": {},
     "output_type": "display_data"
    },
    {
     "data": {
      "image/png": "[encoded data removed]",
      "text/plain": [
       "<Figure size 640x480 with 1 Axes>"
      ]
     },
     "metadata": {},
     "output_type": "display_data"
    },
    {
     "data": {
      "image/png": "[encoded data removed]",
      "text/plain": [
       "<Figure size 640x480 with 1 Axes>"
      ]
     },
     "metadata": {},
     "output_type": "display_data"
    },
    {
     "data": {
      "image/png": "[encoded data removed]",
      "text/plain": [
       "<Figure size 640x480 with 1 Axes>"
      ]
     },
     "metadata": {},
     "output_type": "display_data"
    },
    {
     "data": {
      "image/png": "[encoded data removed]",
      "text/plain": [
       "<Figure size 640x480 with 1 Axes>"
      ]
     },
     "metadata": {},
     "output_type": "display_data"
    },
    {
     "data": {
      "image/png": "[encoded data removed]",
      "text/plain": [
       "<Figure size 640x480 with 1 Axes>"
      ]
     },
     "metadata": {},
     "output_type": "display_data"
    },
    {
     "data": {
      "image/png": "[encoded data removed]",
      "text/plain": [
       "<Figure size 640x480 with 1 Axes>"
      ]
     },
     "metadata": {},
     "output_type": "display_data"
    },
    {
     "data": {
      "image/png": "[encoded data removed]",
      "text/plain": [
       "<Figure size 640x480 with 1 Axes>"
      ]
     },
     "metadata": {},
     "output_type": "display_data"
    },
    {
     "data": {
      "image/png": "[encoded data removed]",
      "text/plain": [
       "<Figure size 640x480 with 1 Axes>"
      ]
     },
     "metadata": {},
     "output_type": "display_data"
    },
    {
     "data": {
      "image/png": "[encoded data removed]",
      "text/plain": [
       "<Figure size 640x480 with 1 Axes>"
      ]
     },
     "metadata": {},
     "output_type": "display_data"
    },
    {
     "data": {
      "image/png": "[encoded data removed]",
      "text/plain": [
       "<Figure size 640x480 with 1 Axes>"
      ]
     },
     "metadata": {},
     "output_type": "display_data"
    }
   ],
   "source": [
    "for i in url_correlation_resamples.index:\n",
    "    fig, ax = plt.subplots()\n",
    "    url_correlation_resamples.loc[i].hist(ax=ax)\n",
    "    ax.set_title(i)"
   ]
  },
  {
   "cell_type": "code",
   "execution_count": 52,
   "id": "1d78ef0b-9011-4828-a5e3-7c6977e3c666",
   "metadata": {},
   "outputs": [
    {
     "data": {
      "text/plain": [
       "(0.8333333333333334, 0.9444444444444444)"
      ]
     },
     "execution_count": 52,
     "metadata": {},
     "output_type": "execute_result"
    }
   ],
   "source": [
    "def run_tests(point, boot, alpha=None):\n",
    "    if alpha is None:\n",
    "        alpha = norm.sf(5) / (3 * point.shape[0]) # 5 sigma level\n",
    "\n",
    "    tests = []\n",
    "    for i in point.index:\n",
    "        upper = boot.loc[i].quantile(1 - alpha / 2)\n",
    "        lower = boot.loc[i].quantile(alpha / 2)\n",
    "        \n",
    "        for col in ['Top 100', 'Top 500', 'Top 2000']:\n",
    "            observed = point.loc[i, ('URL Group', col)]\n",
    "            \n",
    "            tests += [{\n",
    "                'var': i,\n",
    "                'col': col,\n",
    "                'observed': observed,\n",
    "                'upper': upper,\n",
    "                'lower': lower,\n",
    "                'reject': (observed > upper or observed < lower),\n",
    "            }]\n",
    "    \n",
    "    return pd.DataFrame(tests).set_index(['var', 'col'])\n",
    "\n",
    "tests = run_tests(url_correlation_df, url_correlation_resamples)\n",
    "tests_05 = run_tests(url_correlation_df, url_correlation_resamples, alpha=0.05)\n",
    "\n",
    "(\n",
    "    tests['reject'].sum() / tests.shape[0],\n",
    "    tests_05['reject'].sum() / tests_05.shape[0],\n",
    ")"
   ]
  },
  {
   "cell_type": "code",
   "execution_count": 53,
   "id": "228074c2-7321-41b7-90d4-68eb0dbe7d3b",
   "metadata": {},
   "outputs": [
    {
     "name": "stdout",
     "output_type": "stream",
     "text": [
      "\\begin{table}\n",
      "\\caption[\\textbf{Mean incidence rates of web source features across C4, RefinedWeb, and Dolma.}]{\\textbf{Mean incidence rates of web source features across C4, RefinedWeb, and Dolma.} We measure incidence rates for the top 100, 500, and 2000 URLs, ranked by number of tokens, as well as the random sample. The `Diff' column reports the \\% difference between the top 2k and random samples. We test for significant differences between the overall corpus and each of the top-100, top-500 and top-2000 sets with a Bonferroni-corrected two-sided permutation test, where differences significant at the Bonferroni-corrected $5 \\sigma$ level are indicated in bold. 81\\% of differences are significant at this level, while 93\\% are significant at the less strict $p = 0.05$ level. We also estimate the percentage of tokens in each corpus, C4, RefinedWeb, and Dolma, for which the web feature is present (\\pm 95\\% bootstrap CI shown in gray).}\n",
      "\\label{tab:correlations}\n",
      "\\begin{tabular}{lrrrrrrrr}\n",
      "\\toprule\n",
      " & \\multicolumn{4}{c}{URL Group} & Stats & \\multicolumn{3}{c}{Pct. Tokens in Corpus} \\\\\n",
      " & Top 100 & Top 500 & Top 2000 & Random & Diff & C4 & RW & Dolma \\\\\n",
      "Variable &  &  &  &  &  &  &  &  \\\\\n",
      "\\midrule\n",
      "User Content & \\bfseries 21.3 & \\bfseries 19.1 & \\bfseries 19.4 & 15.1 & {\\cellcolor{green}} +4.4 & 15.3\\scriptsize{\\color{gray} \\textpm 2.1} & 15.4\\scriptsize{\\color{gray} \\textpm 2.1} & 18.4\\scriptsize{\\color{gray} \\textpm 2.1} \\\\\n",
      "Paywall & \\bfseries 31.8 & \\bfseries 31.3 & \\bfseries 24.6 & 1.6 & {\\cellcolor{green}} +23.0 & 4.1\\scriptsize{\\color{gray} \\textpm 0.7} & 5.4\\scriptsize{\\color{gray} \\textpm 0.7} & 6.8\\scriptsize{\\color{gray} \\textpm 0.7} \\\\\n",
      "Ads & \\bfseries 54.6 & \\bfseries 61.4 & \\bfseries 53.2 & 5.4 & {\\cellcolor{green}} +47.9 & 9.6\\scriptsize{\\color{gray} \\textpm 1.2} & 12.9\\scriptsize{\\color{gray} \\textpm 1.2} & 12.2\\scriptsize{\\color{gray} \\textpm 1.2} \\\\\n",
      "Modality: Image & 96.8 & 97.0 & 96.7 & 95.0 & {\\cellcolor{green}} +1.7 & 95.3\\scriptsize{\\color{gray} \\textpm 1.1} & 95.2\\scriptsize{\\color{gray} \\textpm 1.1} & 95.2\\scriptsize{\\color{gray} \\textpm 1.1} \\\\\n",
      "Modality: Video & \\bfseries 87.0 & \\bfseries 78.8 & \\bfseries 58.7 & 18.9 & {\\cellcolor{green}} +39.8 & 24.2\\scriptsize{\\color{gray} \\textpm 1.9} & 25.7\\scriptsize{\\color{gray} \\textpm 1.9} & 25.1\\scriptsize{\\color{gray} \\textpm 1.9} \\\\\n",
      "Modality: Audio & \\bfseries 80.7 & \\bfseries 68.3 & \\bfseries 41.8 & 3.4 & {\\cellcolor{green}} +38.4 & 9.5\\scriptsize{\\color{gray} \\textpm 1.0} & 10.1\\scriptsize{\\color{gray} \\textpm 1.0} & 10.4\\scriptsize{\\color{gray} \\textpm 1.0} \\\\\n",
      "Sensitive Content & 0.0 & 0.4 & 1.1 & 0.6 & {\\cellcolor{green}} +0.5 & 0.6\\scriptsize{\\color{gray} \\textpm 0.4} & 0.6\\scriptsize{\\color{gray} \\textpm 0.4} & 0.6\\scriptsize{\\color{gray} \\textpm 0.4} \\\\\n",
      "Academic & \\bfseries 14.1 & \\bfseries 10.1 & \\bfseries 9.8 & 3.8 & {\\cellcolor{green}} +6.0 & 4.3\\scriptsize{\\color{gray} \\textpm 1.1} & 4.6\\scriptsize{\\color{gray} \\textpm 1.1} & 4.4\\scriptsize{\\color{gray} \\textpm 1.1} \\\\\n",
      "Blogs & \\bfseries 2.6 & \\bfseries 2.9 & \\bfseries 3.9 & 15.1 & {\\cellcolor{red}} -11.2 & 14.2\\scriptsize{\\color{gray} \\textpm 2.2} & 13.4\\scriptsize{\\color{gray} \\textpm 2.2} & 13.6\\scriptsize{\\color{gray} \\textpm 2.2} \\\\\n",
      "E-Commerce & 8.4 & 9.9 & 10.1 & 10.6 & {\\cellcolor{red}} -0.5 & 10.4\\scriptsize{\\color{gray} \\textpm 1.5} & 10.4\\scriptsize{\\color{gray} \\textpm 1.5} & 10.2\\scriptsize{\\color{gray} \\textpm 1.5} \\\\\n",
      "Encyclopedia/Database & \\bfseries 20.5 & \\bfseries 13.2 & \\bfseries 11.1 & 0.4 & {\\cellcolor{green}} +10.7 & 2.0\\scriptsize{\\color{gray} \\textpm 0.3} & 2.4\\scriptsize{\\color{gray} \\textpm 0.3} & 1.9\\scriptsize{\\color{gray} \\textpm 0.3} \\\\\n",
      "Government & \\bfseries 3.2 & \\bfseries 2.8 & \\bfseries 2.8 & 1.1 & {\\cellcolor{green}} +1.7 & 1.3\\scriptsize{\\color{gray} \\textpm 0.6} & 1.3\\scriptsize{\\color{gray} \\textpm 0.6} & 1.2\\scriptsize{\\color{gray} \\textpm 0.6} \\\\\n",
      "News/Periodicals & \\bfseries 45.6 & \\bfseries 53.3 & \\bfseries 50.0 & 5.3 & {\\cellcolor{green}} +44.7 & 9.3\\scriptsize{\\color{gray} \\textpm 1.2} & 11.6\\scriptsize{\\color{gray} \\textpm 1.2} & 8.2\\scriptsize{\\color{gray} \\textpm 1.2} \\\\\n",
      "Organization/Personal Website & \\bfseries 15.3 & \\bfseries 13.2 & \\bfseries 12.7 & 71.2 & {\\cellcolor{red}} -58.5 & 65.9\\scriptsize{\\color{gray} \\textpm 2.3} & 63.3\\scriptsize{\\color{gray} \\textpm 2.3} & 64.2\\scriptsize{\\color{gray} \\textpm 2.3} \\\\\n",
      "Other & \\bfseries 15.0 & \\bfseries 10.9 & \\bfseries 11.8 & 4.3 & {\\cellcolor{green}} +7.4 & 5.3\\scriptsize{\\color{gray} \\textpm 1.1} & 5.2\\scriptsize{\\color{gray} \\textpm 1.1} & 4.7\\scriptsize{\\color{gray} \\textpm 1.1} \\\\\n",
      "Social Media/Forums & \\bfseries 9.4 & \\bfseries 9.3 & \\bfseries 11.8 & 1.6 & {\\cellcolor{green}} +10.1 & 2.4\\scriptsize{\\color{gray} \\textpm 0.7} & 2.7\\scriptsize{\\color{gray} \\textpm 0.7} & 5.8\\scriptsize{\\color{gray} \\textpm 0.7} \\\\\n",
      "Restrictive Robots.txt & \\bfseries 28.8 & \\bfseries 24.9 & \\bfseries 16.9 & 1.5 & {\\cellcolor{green}} +15.4 & 3.0\\scriptsize{\\color{gray} \\textpm 0.6} & 4.3\\scriptsize{\\color{gray} \\textpm 0.6} & 2.8\\scriptsize{\\color{gray} \\textpm 0.6} \\\\\n",
      "Restrictive Terms & \\bfseries 46.6 & \\bfseries 41.3 & \\bfseries 32.7 & 7.7 & {\\cellcolor{green}} +25.0 & 10.3\\scriptsize{\\color{gray} \\textpm 1.5} & 11.8\\scriptsize{\\color{gray} \\textpm 1.5} & 12.9\\scriptsize{\\color{gray} \\textpm 1.5} \\\\\n",
      "\\bottomrule\n",
      "\\end{tabular}\n",
      "\\end{table}\n",
      "\n"
     ]
    }
   ],
   "source": [
    "kwargs = {\n",
    "    'environment': 'table',\n",
    "    \n",
    "    'label': 'tab:correlations',\n",
    "    'column_format': 'l' + 'r' * url_correlation_df.shape[1],\n",
    "    'multicol_align': 'c',\n",
    "    \n",
    "    'caption': (r'''\n",
    "    \\textbf{Mean incidence rates of web source features across C4, RefinedWeb, and Dolma.} We measure incidence rates for the top 100, 500, and 2000 URLs, ranked by number of tokens, as well as the random sample. The `Diff' column reports the \\% difference between the top 2k and random samples. We test for significant differences between the overall corpus and each of the top-100, top-500 and top-2000 sets with a Bonferroni-corrected two-sided permutation test, where differences significant at the Bonferroni-corrected $5 \\sigma$ level are indicated in bold. 81\\% of differences are significant at this level, while 93\\% are significant at the less strict $p = 0.05$ level. We also estimate the percentage of tokens in each corpus, C4, RefinedWeb, and Dolma, for which the web feature is present (\\pm 95\\% bootstrap CI shown in gray).\n",
    "    '''.strip(), r'\\textbf{Mean incidence rates of web source features across C4, RefinedWeb, and Dolma.}'),\n",
    "    \n",
    "    'hrules': True,\n",
    "    'convert_css': True,\n",
    "}\n",
    "\n",
    "def color_values(val):\n",
    "    color = 'red' if val < 0 else 'green' if val > 0 else 'black'\n",
    "    return f'background-color: {color}'\n",
    "\n",
    "def bold_rejects(column):\n",
    "    def style_cell(cell_value, index, column_name):\n",
    "        if column_name[0] != 'URL Group':\n",
    "            return ''\n",
    "        elif column_name[1] not in ('Top 100', 'Top 500', 'Top 2000'):\n",
    "            return ''\n",
    "        else:\n",
    "            reject = tests.loc[(index, column_name[1]), 'reject']\n",
    "            if reject:\n",
    "                return 'font-weight: bold;'\n",
    "            else:\n",
    "                return ''\n",
    "\n",
    "    return [style_cell(cell, idx, column.name) for cell, idx in zip(column, column.index)]\n",
    "\n",
    "z = norm.ppf(1 - 0.05 / 2)\n",
    "tmp = url_correlation_df.copy()\n",
    "tmp[('Pct. Tokens in Corpus', 'C4')] = tmp[('Pct. Tokens in Corpus', 'C4')].apply(lambda s: '{:.1f}'.format(100*s)) + r'\\scriptsize{\\color{gray} \\textpm ' + (z*url_correlation_pct_resamples[('Pct. Tokens in Corpus', 'C4')]).apply(lambda s: '{:.1f}'.format(100*s)) + '}'\n",
    "tmp[('Pct. Tokens in Corpus', 'RW')] = tmp[('Pct. Tokens in Corpus', 'RW')].apply(lambda s: '{:.1f}'.format(100*s)) + r'\\scriptsize{\\color{gray} \\textpm ' + (z*url_correlation_pct_resamples[('Pct. Tokens in Corpus', 'RW')]).apply(lambda s: '{:.1f}'.format(100*s)) + '}'\n",
    "tmp[('Pct. Tokens in Corpus', 'Dolma')] = tmp[('Pct. Tokens in Corpus', 'Dolma')].apply(lambda s: '{:.1f}'.format(100*s)) + r'\\scriptsize{\\color{gray} \\textpm ' + (z*url_correlation_pct_resamples[('Pct. Tokens in Corpus', 'Dolma')]).apply(lambda s: '{:.1f}'.format(100*s)) + '}'\n",
    "\n",
    "formatters = {}\n",
    "for c in url_correlation_df.columns:\n",
    "    if c == ('Stats', 'Diff'):\n",
    "        formatters[c] = lambda s: '{:+.1f}'.format(100 * s)\n",
    "    elif c[0] == 'Pct. Tokens in Corpus':\n",
    "        formatters[c] = lambda s: s\n",
    "    else:\n",
    "        formatters[c] = lambda s: '{:.1f}'.format(100 * s)\n",
    "\n",
    "print(tmp \\\n",
    "    .style \\\n",
    "    .apply(bold_rejects, axis=0) \\\n",
    "    .applymap(color_values, subset=[('Stats', 'Diff')]) \\\n",
    "    .format(formatter=formatters) \\\n",
    "    .to_latex(**kwargs)\n",
    ")"
   ]
  },
  {
   "cell_type": "markdown",
   "id": "de77b84a-3b07-4768-917b-883b559f6b6f",
   "metadata": {},
   "source": [
    "# Overall confusion matrix"
   ]
  },
  {
   "cell_type": "code",
   "execution_count": 29,
   "id": "940ffb99-30e3-4c85-92da-4bed6335a892",
   "metadata": {},
   "outputs": [],
   "source": [
    "def plot_confusion_matrix(\n",
    "    df,\n",
    "    yaxis_order=None, \n",
    "    xaxis_order=None,\n",
    "    text_axis=None,\n",
    "    color_axis=None,\n",
    "    color_scale=None,\n",
    "    yaxis_title=\"\",\n",
    "    xaxis_title=\"\",\n",
    "    font_size=20,\n",
    "    text_font_size=None,\n",
    "    font_style='sans-serif',\n",
    "    width=400,\n",
    "    height=400,\n",
    "):\n",
    "    if text_font_size is None:\n",
    "        text_font_size = font_size\n",
    "    \n",
    "    if color_scale is None:\n",
    "        # color_scale = alt.Scale(scheme='blues')\n",
    "        color_scale = alt.Scale(domain=[df[color_axis].min(), df[color_axis].max()], range=['#7ec1be', '#101f5b'])\n",
    "    \n",
    "    if yaxis_order is None:\n",
    "        yaxis_order = df[yaxis_title].unique()\n",
    "    if xaxis_order is None:\n",
    "        xaxis_order = df[xaxis_title].unique()\n",
    "    full_matrix = pd.MultiIndex.from_product([yaxis_order, xaxis_order], names=[yaxis_title, xaxis_title]).to_frame(index=False)\n",
    "    df_full = pd.merge(full_matrix, df, on=[yaxis_title, xaxis_title], how='outer')\n",
    "    df_full[text_axis] = df_full[text_axis].fillna('--')\n",
    "    df_full['text_color'] = df_full[text_axis].astype(str).str.replace('%', '').str.strip().apply(lambda s: float(s) if s != '--' else np.nan) > 10\n",
    "    \n",
    "    # Create the heatmap\n",
    "    heatmap = alt.Chart(df_full).mark_rect(invalid=None).encode(\n",
    "        x=alt.X(f'{xaxis_title}:N', title=xaxis_title, sort=xaxis_order if xaxis_order else None),\n",
    "        y=alt.Y(f'{yaxis_title}:N', title=yaxis_title, sort=yaxis_order if yaxis_order else None),\n",
    "        color=alt.condition(\n",
    "            f\"isValid(datum['{color_axis}'])\",\n",
    "            alt.Color(f'{color_axis}:Q', scale=color_scale),\n",
    "            alt.value('lightgray'),\n",
    "        ),\n",
    "        order=\"order:Q\"\n",
    "    )\n",
    "\n",
    "    text = heatmap.mark_text(\n",
    "        align='center',\n",
    "        baseline='middle',\n",
    "        fontSize=text_font_size,\n",
    "        font=font_style,\n",
    "    ).encode(\n",
    "        text=alt.Text(f'{text_axis}:N'),  # Format the text as \"XX.Y\"\n",
    "        color=alt.condition(\n",
    "            alt.datum.text_color,\n",
    "            alt.value('white'),\n",
    "            alt.value('black')\n",
    "        )\n",
    "    )\n",
    "    \n",
    "    final_plot = (heatmap + text).properties(\n",
    "        width=width,\n",
    "        height=height,\n",
    "    ).configure_axis(\n",
    "        labelFontSize=font_size,\n",
    "        labelFont=font_style,\n",
    "        titleFontSize=font_size,\n",
    "        titleFont=font_style,\n",
    "        domain=True,\n",
    "    ).configure_axisX(\n",
    "        labelAngle=0,\n",
    "        domain=True\n",
    "    ).configure_axisY(\n",
    "        domain=True     # Ensure the Y-axis domain line is shown\n",
    "    ).configure_view(\n",
    "        stroke='black'  # Add borders around the entire plot\n",
    "    ).configure_legend(\n",
    "        disable=True,\n",
    "    )\n",
    "    \n",
    "    return final_plot"
   ]
  },
  {
   "cell_type": "code",
   "execution_count": 30,
   "id": "55459440-08f8-4445-a4ee-f49f7b6e8c4f",
   "metadata": {},
   "outputs": [],
   "source": [
    "def prepare_tos_robots_confusion_matrix(\n",
    "    tos_policies,\n",
    "    tos_license_policies,\n",
    "    tos_compete_policies,\n",
    "    url_robots_summary,\n",
    "    companies,\n",
    "    url_token_lookup,\n",
    "    use_token_counts=True,\n",
    "    corpora_choice=\"c4\",\n",
    "    font_size=20,\n",
    "    text_font_size=None,\n",
    "    font_style='sans-serif',\n",
    "    width=400,\n",
    "    height=400,\n",
    "):\n",
    "    recent_url_robots, recent_tos_verdicts = robots_util.prepare_recent_robots_tos_info(\n",
    "        tos_policies, tos_license_policies, tos_compete_policies, url_robots_summary, companies,\n",
    "    )\n",
    "\n",
    "    ROBOTS_LABELS = {\n",
    "        \"none\": \"None\",\n",
    "        \"some\": \"Partial\",\n",
    "        \"all\": \"Restricted\",\n",
    "    }\n",
    "\n",
    "\n",
    "    TOS_LABELS = {\n",
    "        \"Unrestricted Use\": \"None\",\n",
    "        \"Conditional Use\": \"Conditional\",\n",
    "        \"NC Only\": \"NC Only\",\n",
    "        \"No Re-Distribution\": \"No Distribution\",\n",
    "        \"Non-Compete\": \"Non-Compete\",\n",
    "        \"No AI\": \"No AI\",\n",
    "        \"No Scraping\": \"No Crawling\",\n",
    "        \"No Scraping & AI\": \"No Crawling or AI\",\n",
    "    }\n",
    "    \n",
    "    yaxis_order = [\"Restricted\", \"Partial\", \"None\"]\n",
    "    xaxis_order = [TOS_LABELS[\"Unrestricted Use\"],\n",
    "                   TOS_LABELS[\"Conditional Use\"],\n",
    "                   TOS_LABELS[\"No Re-Distribution\"],\n",
    "                   TOS_LABELS[\"Non-Compete\"],\n",
    "                   TOS_LABELS[\"NC Only\"],\n",
    "                   TOS_LABELS[\"No AI\"],\n",
    "                   TOS_LABELS[\"No Scraping\"],\n",
    "                   TOS_LABELS[\"No Scraping & AI\"]\n",
    "                  ]\n",
    "    \n",
    "    # Create a defaultdict to store counts\n",
    "    counts = defaultdict(lambda: defaultdict(int))\n",
    "    token_counts = defaultdict(lambda: defaultdict(int))\n",
    "    \n",
    "    # Count the occurrences of each (status, policy) pair\n",
    "    total_instances, total_tokens = 0, 0\n",
    "    url_token_counts = url_token_lookup.get_url_to_token_map(corpora_choice)\n",
    "    for url in set(recent_url_robots.keys()).intersection(set(recent_tos_verdicts.keys())):\n",
    "        status = ROBOTS_LABELS[recent_url_robots.get(url, \"none\")]\n",
    "        policy = TOS_LABELS[recent_tos_verdicts.get(url, \"No Restrictions\")]\n",
    "        counts[status][policy] += 1\n",
    "        total_instances += 1\n",
    "        token_counts[status][policy] += url_token_counts[url]\n",
    "        total_tokens += url_token_counts[url]\n",
    "    \n",
    "    # Create a list of tuples (status, policy, count)\n",
    "    data = [{\"Robots Restrictions\": status, \"Terms of Service Policies\": policy, \"Count\": count, \"Token Counts\": token_counts[status][policy],\n",
    "             \"Percent\": round(100 * count / total_instances, 2), \n",
    "             \"Percent Tokens\": round(100 * token_counts[status][policy] / total_tokens, 2),}\n",
    "            for status in yaxis_order\n",
    "            for policy in xaxis_order\n",
    "            if (count := counts[status][policy]) > 0]\n",
    "    \n",
    "    # Create a DataFrame from the list of tuples\n",
    "    df = pd.DataFrame(data)\n",
    "    df['Formatted Percent'] = df['Percent'].apply(lambda x: f\"{x:.1f} %\")\n",
    "    df['Formatted Percent Tokens'] = df['Percent Tokens'].apply(lambda x: f\"{x:.1f} %\")\n",
    "    \n",
    "    if use_token_counts:\n",
    "        color_axis, text_axis = \"Percent Tokens\", \"Formatted Percent Tokens\"\n",
    "    else:\n",
    "        color_axis, text_axis = \"Percent\", \"Formatted Percent\"\n",
    "\n",
    "    return plot_confusion_matrix(\n",
    "        df,\n",
    "        yaxis_order=yaxis_order, \n",
    "        xaxis_order=xaxis_order,\n",
    "        text_axis=text_axis,\n",
    "        color_axis=color_axis,\n",
    "        yaxis_title=\"Robots Restrictions\",\n",
    "        xaxis_title=\"Terms of Service Policies\",\n",
    "        font_size=font_size,\n",
    "        text_font_size=text_font_size,\n",
    "        font_style=font_style,\n",
    "        width=width,\n",
    "        height=height,\n",
    "    )"
   ]
  },
  {
   "cell_type": "code",
   "execution_count": 31,
   "id": "c9fa9195-b1e7-491b-b3b6-3e0cc156058b",
   "metadata": {},
   "outputs": [
    {
     "name": "stdout",
     "output_type": "stream",
     "text": [
      "<class 'collections.defaultdict'>\n",
      "9312\n"
     ]
    },
    {
     "data": {
      "text/html": [
       "\n",
       "<style>\n",
       "  #altair-viz-835d02a9b87544bcbcc3fa9da5645498.vega-embed {\n",
       "    width: 100%;\n",
       "    display: flex;\n",
       "  }\n",
       "\n",
       "  #altair-viz-835d02a9b87544bcbcc3fa9da5645498.vega-embed details,\n",
       "  #altair-viz-835d02a9b87544bcbcc3fa9da5645498.vega-embed details summary {\n",
       "    position: relative;\n",
       "  }\n",
       "</style>\n",
       "<div id=\"altair-viz-835d02a9b87544bcbcc3fa9da5645498\"></div>\n",
       "<script type=\"text/javascript\">\n",
       "  var VEGA_DEBUG = (typeof VEGA_DEBUG == \"undefined\") ? {} : VEGA_DEBUG;\n",
       "  (function(spec, embedOpt){\n",
       "    let outputDiv = document.currentScript.previousElementSibling;\n",
       "    if (outputDiv.id !== \"altair-viz-835d02a9b87544bcbcc3fa9da5645498\") {\n",
       "      outputDiv = document.getElementById(\"altair-viz-835d02a9b87544bcbcc3fa9da5645498\");\n",
       "    }\n",
       "    const paths = {\n",
       "      \"vega\": \"https://cdn.jsdelivr.net/npm/vega@5?noext\",\n",
       "      \"vega-lib\": \"https://cdn.jsdelivr.net/npm/vega-lib?noext\",\n",
       "      \"vega-lite\": \"https://cdn.jsdelivr.net/npm/vega-lite@5.17.0?noext\",\n",
       "      \"vega-embed\": \"https://cdn.jsdelivr.net/npm/vega-embed@6?noext\",\n",
       "    };\n",
       "\n",
       "    function maybeLoadScript(lib, version) {\n",
       "      var key = `${lib.replace(\"-\", \"\")}_version`;\n",
       "      return (VEGA_DEBUG[key] == version) ?\n",
       "        Promise.resolve(paths[lib]) :\n",
       "        new Promise(function(resolve, reject) {\n",
       "          var s = document.createElement('script');\n",
       "          document.getElementsByTagName(\"head\")[0].appendChild(s);\n",
       "          s.async = true;\n",
       "          s.onload = () => {\n",
       "            VEGA_DEBUG[key] = version;\n",
       "            return resolve(paths[lib]);\n",
       "          };\n",
       "          s.onerror = () => reject(`Error loading script: ${paths[lib]}`);\n",
       "          s.src = paths[lib];\n",
       "        });\n",
       "    }\n",
       "\n",
       "    function showError(err) {\n",
       "      outputDiv.innerHTML = `<div class=\"error\" style=\"color:red;\">${err}</div>`;\n",
       "      throw err;\n",
       "    }\n",
       "\n",
       "    function displayChart(vegaEmbed) {\n",
       "      vegaEmbed(outputDiv, spec, embedOpt)\n",
       "        .catch(err => showError(`Javascript Error: ${err.message}<br>This usually means there's a typo in your chart specification. See the javascript console for the full traceback.`));\n",
       "    }\n",
       "\n",
       "    if(typeof define === \"function\" && define.amd) {\n",
       "      requirejs.config({paths});\n",
       "      require([\"vega-embed\"], displayChart, err => showError(`Error loading script: ${err.message}`));\n",
       "    } else {\n",
       "      maybeLoadScript(\"vega\", \"5\")\n",
       "        .then(() => maybeLoadScript(\"vega-lite\", \"5.17.0\"))\n",
       "        .then(() => maybeLoadScript(\"vega-embed\", \"6\"))\n",
       "        .catch(showError)\n",
       "        .then(() => displayChart(vegaEmbed));\n",
       "    }\n",
       "  })({\"config\": {\"title\": {\"font\": \"Times New Roman\"}, \"axis\": {\"labelFont\": \"sans-serif\", \"titleFont\": \"sans-serif\", \"domain\": true, \"labelFontSize\": 18, \"titleFontSize\": 18}, \"header\": {\"labelFont\": \"Times New Roman\", \"titleFont\": \"Times New Roman\"}, \"legend\": {\"labelFont\": \"Times New Roman\", \"titleFont\": \"Times New Roman\", \"disable\": true}, \"text\": {\"font\": \"Times New Roman\"}, \"axisX\": {\"domain\": true, \"labelAngle\": 0}, \"axisY\": {\"domain\": true}, \"view\": {\"stroke\": \"black\"}}, \"layer\": [{\"mark\": {\"type\": \"rect\", \"invalid\": null}, \"encoding\": {\"color\": {\"condition\": {\"test\": \"isValid(datum['Percent Tokens'])\", \"field\": \"Percent Tokens\", \"scale\": {\"domain\": [0.09, 21.39], \"range\": [\"#7ec1be\", \"#101f5b\"]}, \"type\": \"quantitative\"}, \"value\": \"lightgray\"}, \"order\": {\"field\": \"order\", \"type\": \"quantitative\"}, \"x\": {\"field\": \"Terms of Service Policies\", \"sort\": [\"None\", \"Conditional\", \"No Distribution\", \"Non-Compete\", \"NC Only\", \"No AI\", \"No Crawling\", \"No Crawling or AI\"], \"title\": \"Terms of Service Policies\", \"type\": \"nominal\"}, \"y\": {\"field\": \"Robots Restrictions\", \"sort\": [\"Restricted\", \"Partial\", \"None\"], \"title\": \"Robots Restrictions\", \"type\": \"nominal\"}}}, {\"mark\": {\"type\": \"text\", \"align\": \"center\", \"baseline\": \"middle\", \"font\": \"sans-serif\", \"fontSize\": 24}, \"encoding\": {\"color\": {\"condition\": {\"test\": \"datum.text_color\", \"value\": \"white\"}, \"value\": \"black\"}, \"order\": {\"field\": \"order\", \"type\": \"quantitative\"}, \"text\": {\"field\": \"Formatted Percent Tokens\", \"type\": \"nominal\"}, \"x\": {\"field\": \"Terms of Service Policies\", \"sort\": [\"None\", \"Conditional\", \"No Distribution\", \"Non-Compete\", \"NC Only\", \"No AI\", \"No Crawling\", \"No Crawling or AI\"], \"title\": \"Terms of Service Policies\", \"type\": \"nominal\"}, \"y\": {\"field\": \"Robots Restrictions\", \"sort\": [\"Restricted\", \"Partial\", \"None\"], \"title\": \"Robots Restrictions\", \"type\": \"nominal\"}}}], \"data\": {\"name\": \"data-b9accfe82c98eeb62afd6c7e677a7ee6\"}, \"height\": 220, \"width\": 1000, \"$schema\": \"https://vega.github.io/schema/vega-lite/v5.17.0.json\", \"datasets\": {\"data-b9accfe82c98eeb62afd6c7e677a7ee6\": [{\"Robots Restrictions\": \"None\", \"Terms of Service Policies\": \"Conditional\", \"Count\": 5.0, \"Token Counts\": 233025861.0, \"Percent\": 0.23, \"Percent Tokens\": 0.18, \"Formatted Percent\": \"0.2 %\", \"Formatted Percent Tokens\": \"0.2 %\", \"text_color\": false}, {\"Robots Restrictions\": \"None\", \"Terms of Service Policies\": \"NC Only\", \"Count\": 91.0, \"Token Counts\": 3661938446.0, \"Percent\": 4.23, \"Percent Tokens\": 2.8, \"Formatted Percent\": \"4.2 %\", \"Formatted Percent Tokens\": \"2.8 %\", \"text_color\": false}, {\"Robots Restrictions\": \"None\", \"Terms of Service Policies\": \"No AI\", \"Count\": null, \"Token Counts\": null, \"Percent\": null, \"Percent Tokens\": null, \"Formatted Percent\": null, \"Formatted Percent Tokens\": \"--\", \"text_color\": false}, {\"Robots Restrictions\": \"None\", \"Terms of Service Policies\": \"No Crawling\", \"Count\": 211.0, \"Token Counts\": 11909696504.0, \"Percent\": 9.8, \"Percent Tokens\": 9.11, \"Formatted Percent\": \"9.8 %\", \"Formatted Percent Tokens\": \"9.1 %\", \"text_color\": false}, {\"Robots Restrictions\": \"None\", \"Terms of Service Policies\": \"No Crawling or AI\", \"Count\": 19.0, \"Token Counts\": 1360629026.0, \"Percent\": 0.88, \"Percent Tokens\": 1.04, \"Formatted Percent\": \"0.9 %\", \"Formatted Percent Tokens\": \"1.0 %\", \"text_color\": false}, {\"Robots Restrictions\": \"None\", \"Terms of Service Policies\": \"No Distribution\", \"Count\": 21.0, \"Token Counts\": 728570852.0, \"Percent\": 0.98, \"Percent Tokens\": 0.56, \"Formatted Percent\": \"1.0 %\", \"Formatted Percent Tokens\": \"0.6 %\", \"text_color\": false}, {\"Robots Restrictions\": \"None\", \"Terms of Service Policies\": \"Non-Compete\", \"Count\": 10.0, \"Token Counts\": 1497100989.0, \"Percent\": 0.46, \"Percent Tokens\": 1.15, \"Formatted Percent\": \"0.5 %\", \"Formatted Percent Tokens\": \"1.1 %\", \"text_color\": false}, {\"Robots Restrictions\": \"None\", \"Terms of Service Policies\": \"None\", \"Count\": 297.0, \"Token Counts\": 11484569216.0, \"Percent\": 13.8, \"Percent Tokens\": 8.79, \"Formatted Percent\": \"13.8 %\", \"Formatted Percent Tokens\": \"8.8 %\", \"text_color\": false}, {\"Robots Restrictions\": \"Partial\", \"Terms of Service Policies\": \"Conditional\", \"Count\": 6.0, \"Token Counts\": 281472821.0, \"Percent\": 0.28, \"Percent Tokens\": 0.22, \"Formatted Percent\": \"0.3 %\", \"Formatted Percent Tokens\": \"0.2 %\", \"text_color\": false}, {\"Robots Restrictions\": \"Partial\", \"Terms of Service Policies\": \"NC Only\", \"Count\": 191.0, \"Token Counts\": 9216643438.0, \"Percent\": 8.88, \"Percent Tokens\": 7.05, \"Formatted Percent\": \"8.9 %\", \"Formatted Percent Tokens\": \"7.0 %\", \"text_color\": false}, {\"Robots Restrictions\": \"Partial\", \"Terms of Service Policies\": \"No AI\", \"Count\": 2.0, \"Token Counts\": 122721803.0, \"Percent\": 0.09, \"Percent Tokens\": 0.09, \"Formatted Percent\": \"0.1 %\", \"Formatted Percent Tokens\": \"0.1 %\", \"text_color\": false}, {\"Robots Restrictions\": \"Partial\", \"Terms of Service Policies\": \"No Crawling\", \"Count\": 320.0, \"Token Counts\": 25177356533.0, \"Percent\": 14.87, \"Percent Tokens\": 19.27, \"Formatted Percent\": \"14.9 %\", \"Formatted Percent Tokens\": \"19.3 %\", \"text_color\": true}, {\"Robots Restrictions\": \"Partial\", \"Terms of Service Policies\": \"No Crawling or AI\", \"Count\": 26.0, \"Token Counts\": 2686983742.0, \"Percent\": 1.21, \"Percent Tokens\": 2.06, \"Formatted Percent\": \"1.2 %\", \"Formatted Percent Tokens\": \"2.1 %\", \"text_color\": false}, {\"Robots Restrictions\": \"Partial\", \"Terms of Service Policies\": \"No Distribution\", \"Count\": 31.0, \"Token Counts\": 3319767378.0, \"Percent\": 1.44, \"Percent Tokens\": 2.54, \"Formatted Percent\": \"1.4 %\", \"Formatted Percent Tokens\": \"2.5 %\", \"text_color\": false}, {\"Robots Restrictions\": \"Partial\", \"Terms of Service Policies\": \"Non-Compete\", \"Count\": 29.0, \"Token Counts\": 1918571760.0, \"Percent\": 1.35, \"Percent Tokens\": 1.47, \"Formatted Percent\": \"1.4 %\", \"Formatted Percent Tokens\": \"1.5 %\", \"text_color\": false}, {\"Robots Restrictions\": \"Partial\", \"Terms of Service Policies\": \"None\", \"Count\": 495.0, \"Token Counts\": 27951844513.0, \"Percent\": 23.0, \"Percent Tokens\": 21.39, \"Formatted Percent\": \"23.0 %\", \"Formatted Percent Tokens\": \"21.4 %\", \"text_color\": true}, {\"Robots Restrictions\": \"Restricted\", \"Terms of Service Policies\": \"Conditional\", \"Count\": 2.0, \"Token Counts\": 555898467.0, \"Percent\": 0.09, \"Percent Tokens\": 0.43, \"Formatted Percent\": \"0.1 %\", \"Formatted Percent Tokens\": \"0.4 %\", \"text_color\": false}, {\"Robots Restrictions\": \"Restricted\", \"Terms of Service Policies\": \"NC Only\", \"Count\": 43.0, \"Token Counts\": 3429741708.0, \"Percent\": 2.0, \"Percent Tokens\": 2.62, \"Formatted Percent\": \"2.0 %\", \"Formatted Percent Tokens\": \"2.6 %\", \"text_color\": false}, {\"Robots Restrictions\": \"Restricted\", \"Terms of Service Policies\": \"No AI\", \"Count\": null, \"Token Counts\": null, \"Percent\": null, \"Percent Tokens\": null, \"Formatted Percent\": null, \"Formatted Percent Tokens\": \"--\", \"text_color\": false}, {\"Robots Restrictions\": \"Restricted\", \"Terms of Service Policies\": \"No Crawling\", \"Count\": 150.0, \"Token Counts\": 12892212324.0, \"Percent\": 6.97, \"Percent Tokens\": 9.87, \"Formatted Percent\": \"7.0 %\", \"Formatted Percent Tokens\": \"9.9 %\", \"text_color\": false}, {\"Robots Restrictions\": \"Restricted\", \"Terms of Service Policies\": \"No Crawling or AI\", \"Count\": 48.0, \"Token Counts\": 3696081530.0, \"Percent\": 2.23, \"Percent Tokens\": 2.83, \"Formatted Percent\": \"2.2 %\", \"Formatted Percent Tokens\": \"2.8 %\", \"text_color\": false}, {\"Robots Restrictions\": \"Restricted\", \"Terms of Service Policies\": \"No Distribution\", \"Count\": 9.0, \"Token Counts\": 412020062.0, \"Percent\": 0.42, \"Percent Tokens\": 0.32, \"Formatted Percent\": \"0.4 %\", \"Formatted Percent Tokens\": \"0.3 %\", \"text_color\": false}, {\"Robots Restrictions\": \"Restricted\", \"Terms of Service Policies\": \"Non-Compete\", \"Count\": 20.0, \"Token Counts\": 326303047.0, \"Percent\": 0.93, \"Percent Tokens\": 0.25, \"Formatted Percent\": \"0.9 %\", \"Formatted Percent Tokens\": \"0.2 %\", \"text_color\": false}, {\"Robots Restrictions\": \"Restricted\", \"Terms of Service Policies\": \"None\", \"Count\": 126.0, \"Token Counts\": 7801182595.0, \"Percent\": 5.86, \"Percent Tokens\": 5.97, \"Formatted Percent\": \"5.9 %\", \"Formatted Percent Tokens\": \"6.0 %\", \"text_color\": false}]}}, {\"mode\": \"vega-lite\"});\n",
       "</script>"
      ],
      "text/plain": [
       "alt.LayerChart(...)"
      ]
     },
     "execution_count": 31,
     "metadata": {},
     "output_type": "execute_result"
    }
   ],
   "source": [
    "prepare_tos_robots_confusion_matrix(\n",
    "    tos_policies,\n",
    "    tos_license_policies,\n",
    "    tos_compete_policies,\n",
    "    url_robots_summary,\n",
    "    COMPANIES_TO_ANALYZE,\n",
    "    url_token_lookup,\n",
    "    corpora_choice=\"dolma\",\n",
    "    font_size=18,\n",
    "    text_font_size=24,\n",
    "    width=1000,\n",
    "    height=220,\n",
    ")"
   ]
  },
  {
   "cell_type": "markdown",
   "id": "4cbb624a-0fb1-4ccb-9241-b5d52261231c",
   "metadata": {},
   "source": [
    "# Company to company"
   ]
  },
  {
   "cell_type": "code",
   "execution_count": 32,
   "id": "2035e1f7-db57-4ae0-b51c-1df7583c70fc",
   "metadata": {},
   "outputs": [],
   "source": [
    "def company_to_company_restrictions(url_robots_summary, companies, font_size=20, font_style='sans-serif', width=600, height=400):\n",
    "    # Create a dictionary to hold the URL statuses for each company\n",
    "    url_status_dict = {}\n",
    "    \n",
    "    for company in companies:\n",
    "        # Get the latest URL robot statuses for the company\n",
    "        agent_names = robots_util.get_bots(company)\n",
    "        url_status = robots_util.get_latest_url_robot_statuses(url_robots_summary, agent_names)\n",
    "        url_status_dict[company] = url_status\n",
    "\n",
    "    # Create a list to hold the conditional probability data\n",
    "    conditional_prob_data = []\n",
    "    \n",
    "    # Compare each pair of companies\n",
    "    for company_a in companies:\n",
    "        for company_b in companies:\n",
    "            if company_a == company_b:\n",
    "                continue  # Skip self-comparison\n",
    "            \n",
    "            status_a = url_status_dict[company_a]\n",
    "            status_b = url_status_dict[company_b]\n",
    "            \n",
    "            total_restricted_a = sum(1 for status in status_a.values() if status == 'all')\n",
    "            restricted_b_if_a_restricted = sum(1 for url, status in status_a.items() if status == 'all' and status_b.get(url) == 'all')\n",
    "            \n",
    "            if total_restricted_a > 0:\n",
    "                pct_b_restricted_if_a_restricted = round((restricted_b_if_a_restricted / total_restricted_a) * 100, 1)\n",
    "            else:\n",
    "                pct_b_restricted_if_a_restricted = 0\n",
    "            \n",
    "            conditional_prob_data.append({\n",
    "                'Company A': company_a,\n",
    "                'Company B': company_b,\n",
    "                'pct_a_restricted_if_b_restricted': pct_b_restricted_if_a_restricted\n",
    "            })\n",
    "    \n",
    "    df = pd.DataFrame(conditional_prob_data)\n",
    "\n",
    "    COMPANY_MAP = {\n",
    "        'Google': 'Google',\n",
    "        'OpenAI': 'OpenAI',\n",
    "        'Anthropic': 'Anthr',\n",
    "        'Cohere': 'Cohere',\n",
    "        'Common Crawl': 'CC',\n",
    "        'Meta': 'Meta',\n",
    "        'Internet Archive': 'IA',\n",
    "        'Google Search': 'Search',\n",
    "        'False Anthropic': 'F. Anthr',\n",
    "    }\n",
    "\n",
    "    df['Company A'] = df['Company A'].map(COMPANY_MAP)\n",
    "    df['Company B'] = df['Company B'].map(COMPANY_MAP)\n",
    "\n",
    "    return plot_confusion_matrix(\n",
    "        df,\n",
    "        yaxis_order=[COMPANY_MAP[c] for c in companies], \n",
    "        xaxis_order=[COMPANY_MAP[c] for c in companies],\n",
    "        text_axis='pct_a_restricted_if_b_restricted',\n",
    "        color_axis='pct_a_restricted_if_b_restricted',\n",
    "        color_scale=alt.Scale(\n",
    "            domain=[\n",
    "                df['pct_a_restricted_if_b_restricted'].min(),\n",
    "                df['pct_a_restricted_if_b_restricted'].max()\n",
    "            ],\n",
    "            range=['#7ec1be', '#101f5b']\n",
    "        ),\n",
    "        yaxis_title=\"Company A\",\n",
    "        xaxis_title=\"Company B\",\n",
    "        font_size=font_size, \n",
    "        font_style=font_style,\n",
    "        width=width,\n",
    "        height=height,\n",
    "    )"
   ]
  },
  {
   "cell_type": "code",
   "execution_count": 33,
   "id": "5a4dcfe3-423c-42a3-95d2-670590683d6a",
   "metadata": {},
   "outputs": [
    {
     "name": "stdout",
     "output_type": "stream",
     "text": [
      "<class 'dict'>\n",
      "<class 'dict'>\n",
      "<class 'dict'>\n",
      "<class 'dict'>\n",
      "<class 'dict'>\n",
      "<class 'dict'>\n",
      "<class 'dict'>\n",
      "<class 'dict'>\n",
      "<class 'dict'>\n"
     ]
    },
    {
     "data": {
      "text/html": [
       "\n",
       "<style>\n",
       "  #altair-viz-6ccb0953bd4847f4a8bced297431931d.vega-embed {\n",
       "    width: 100%;\n",
       "    display: flex;\n",
       "  }\n",
       "\n",
       "  #altair-viz-6ccb0953bd4847f4a8bced297431931d.vega-embed details,\n",
       "  #altair-viz-6ccb0953bd4847f4a8bced297431931d.vega-embed details summary {\n",
       "    position: relative;\n",
       "  }\n",
       "</style>\n",
       "<div id=\"altair-viz-6ccb0953bd4847f4a8bced297431931d\"></div>\n",
       "<script type=\"text/javascript\">\n",
       "  var VEGA_DEBUG = (typeof VEGA_DEBUG == \"undefined\") ? {} : VEGA_DEBUG;\n",
       "  (function(spec, embedOpt){\n",
       "    let outputDiv = document.currentScript.previousElementSibling;\n",
       "    if (outputDiv.id !== \"altair-viz-6ccb0953bd4847f4a8bced297431931d\") {\n",
       "      outputDiv = document.getElementById(\"altair-viz-6ccb0953bd4847f4a8bced297431931d\");\n",
       "    }\n",
       "    const paths = {\n",
       "      \"vega\": \"https://cdn.jsdelivr.net/npm/vega@5?noext\",\n",
       "      \"vega-lib\": \"https://cdn.jsdelivr.net/npm/vega-lib?noext\",\n",
       "      \"vega-lite\": \"https://cdn.jsdelivr.net/npm/vega-lite@5.17.0?noext\",\n",
       "      \"vega-embed\": \"https://cdn.jsdelivr.net/npm/vega-embed@6?noext\",\n",
       "    };\n",
       "\n",
       "    function maybeLoadScript(lib, version) {\n",
       "      var key = `${lib.replace(\"-\", \"\")}_version`;\n",
       "      return (VEGA_DEBUG[key] == version) ?\n",
       "        Promise.resolve(paths[lib]) :\n",
       "        new Promise(function(resolve, reject) {\n",
       "          var s = document.createElement('script');\n",
       "          document.getElementsByTagName(\"head\")[0].appendChild(s);\n",
       "          s.async = true;\n",
       "          s.onload = () => {\n",
       "            VEGA_DEBUG[key] = version;\n",
       "            return resolve(paths[lib]);\n",
       "          };\n",
       "          s.onerror = () => reject(`Error loading script: ${paths[lib]}`);\n",
       "          s.src = paths[lib];\n",
       "        });\n",
       "    }\n",
       "\n",
       "    function showError(err) {\n",
       "      outputDiv.innerHTML = `<div class=\"error\" style=\"color:red;\">${err}</div>`;\n",
       "      throw err;\n",
       "    }\n",
       "\n",
       "    function displayChart(vegaEmbed) {\n",
       "      vegaEmbed(outputDiv, spec, embedOpt)\n",
       "        .catch(err => showError(`Javascript Error: ${err.message}<br>This usually means there's a typo in your chart specification. See the javascript console for the full traceback.`));\n",
       "    }\n",
       "\n",
       "    if(typeof define === \"function\" && define.amd) {\n",
       "      requirejs.config({paths});\n",
       "      require([\"vega-embed\"], displayChart, err => showError(`Error loading script: ${err.message}`));\n",
       "    } else {\n",
       "      maybeLoadScript(\"vega\", \"5\")\n",
       "        .then(() => maybeLoadScript(\"vega-lite\", \"5.17.0\"))\n",
       "        .then(() => maybeLoadScript(\"vega-embed\", \"6\"))\n",
       "        .catch(showError)\n",
       "        .then(() => displayChart(vegaEmbed));\n",
       "    }\n",
       "  })({\"config\": {\"title\": {\"font\": \"Times New Roman\"}, \"axis\": {\"labelFont\": \"sans-serif\", \"titleFont\": \"sans-serif\", \"domain\": true, \"labelFontSize\": 20, \"titleFontSize\": 20}, \"header\": {\"labelFont\": \"Times New Roman\", \"titleFont\": \"Times New Roman\"}, \"legend\": {\"labelFont\": \"Times New Roman\", \"titleFont\": \"Times New Roman\", \"disable\": true}, \"text\": {\"font\": \"Times New Roman\"}, \"axisX\": {\"domain\": true, \"labelAngle\": 0}, \"axisY\": {\"domain\": true}, \"view\": {\"stroke\": \"black\"}}, \"layer\": [{\"mark\": {\"type\": \"rect\", \"invalid\": null}, \"encoding\": {\"color\": {\"condition\": {\"test\": \"isValid(datum['pct_a_restricted_if_b_restricted'])\", \"field\": \"pct_a_restricted_if_b_restricted\", \"scale\": {\"domain\": [4.1, 100.0], \"range\": [\"#7ec1be\", \"#101f5b\"]}, \"type\": \"quantitative\"}, \"value\": \"lightgray\"}, \"order\": {\"field\": \"order\", \"type\": \"quantitative\"}, \"x\": {\"field\": \"Company B\", \"sort\": [\"Google\", \"OpenAI\", \"Anthr\", \"Cohere\", \"Meta\", \"CC\", \"IA\", \"Search\", \"F. Anthr\"], \"title\": \"Company B\", \"type\": \"nominal\"}, \"y\": {\"field\": \"Company A\", \"sort\": [\"Google\", \"OpenAI\", \"Anthr\", \"Cohere\", \"Meta\", \"CC\", \"IA\", \"Search\", \"F. Anthr\"], \"title\": \"Company A\", \"type\": \"nominal\"}}}, {\"mark\": {\"type\": \"text\", \"align\": \"center\", \"baseline\": \"middle\", \"font\": \"sans-serif\", \"fontSize\": 20}, \"encoding\": {\"color\": {\"condition\": {\"test\": \"datum.text_color\", \"value\": \"white\"}, \"value\": \"black\"}, \"order\": {\"field\": \"order\", \"type\": \"quantitative\"}, \"text\": {\"field\": \"pct_a_restricted_if_b_restricted\", \"type\": \"nominal\"}, \"x\": {\"field\": \"Company B\", \"sort\": [\"Google\", \"OpenAI\", \"Anthr\", \"Cohere\", \"Meta\", \"CC\", \"IA\", \"Search\", \"F. Anthr\"], \"title\": \"Company B\", \"type\": \"nominal\"}, \"y\": {\"field\": \"Company A\", \"sort\": [\"Google\", \"OpenAI\", \"Anthr\", \"Cohere\", \"Meta\", \"CC\", \"IA\", \"Search\", \"F. Anthr\"], \"title\": \"Company A\", \"type\": \"nominal\"}}}], \"data\": {\"name\": \"data-b06ee744262f4b29ad64909d3518434d\"}, \"height\": 400, \"width\": 800, \"$schema\": \"https://vega.github.io/schema/vega-lite/v5.17.0.json\", \"datasets\": {\"data-b06ee744262f4b29ad64909d3518434d\": [{\"Company A\": \"Anthr\", \"Company B\": \"Anthr\", \"pct_a_restricted_if_b_restricted\": \"--\", \"text_color\": false}, {\"Company A\": \"Anthr\", \"Company B\": \"CC\", \"pct_a_restricted_if_b_restricted\": 100.0, \"text_color\": true}, {\"Company A\": \"Anthr\", \"Company B\": \"Cohere\", \"pct_a_restricted_if_b_restricted\": 36.2, \"text_color\": true}, {\"Company A\": \"Anthr\", \"Company B\": \"F. Anthr\", \"pct_a_restricted_if_b_restricted\": 42.8, \"text_color\": true}, {\"Company A\": \"Anthr\", \"Company B\": \"Google\", \"pct_a_restricted_if_b_restricted\": 58.6, \"text_color\": true}, {\"Company A\": \"Anthr\", \"Company B\": \"IA\", \"pct_a_restricted_if_b_restricted\": 21.7, \"text_color\": true}, {\"Company A\": \"Anthr\", \"Company B\": \"Meta\", \"pct_a_restricted_if_b_restricted\": 24.3, \"text_color\": true}, {\"Company A\": \"Anthr\", \"Company B\": \"OpenAI\", \"pct_a_restricted_if_b_restricted\": 98.7, \"text_color\": true}, {\"Company A\": \"Anthr\", \"Company B\": \"Search\", \"pct_a_restricted_if_b_restricted\": 7.9, \"text_color\": false}, {\"Company A\": \"CC\", \"Company B\": \"Anthr\", \"pct_a_restricted_if_b_restricted\": 100.0, \"text_color\": true}, {\"Company A\": \"CC\", \"Company B\": \"CC\", \"pct_a_restricted_if_b_restricted\": \"--\", \"text_color\": false}, {\"Company A\": \"CC\", \"Company B\": \"Cohere\", \"pct_a_restricted_if_b_restricted\": 36.2, \"text_color\": true}, {\"Company A\": \"CC\", \"Company B\": \"F. Anthr\", \"pct_a_restricted_if_b_restricted\": 42.8, \"text_color\": true}, {\"Company A\": \"CC\", \"Company B\": \"Google\", \"pct_a_restricted_if_b_restricted\": 58.6, \"text_color\": true}, {\"Company A\": \"CC\", \"Company B\": \"IA\", \"pct_a_restricted_if_b_restricted\": 21.7, \"text_color\": true}, {\"Company A\": \"CC\", \"Company B\": \"Meta\", \"pct_a_restricted_if_b_restricted\": 24.3, \"text_color\": true}, {\"Company A\": \"CC\", \"Company B\": \"OpenAI\", \"pct_a_restricted_if_b_restricted\": 98.7, \"text_color\": true}, {\"Company A\": \"CC\", \"Company B\": \"Search\", \"pct_a_restricted_if_b_restricted\": 7.9, \"text_color\": false}, {\"Company A\": \"Cohere\", \"Company B\": \"Anthr\", \"pct_a_restricted_if_b_restricted\": 98.2, \"text_color\": true}, {\"Company A\": \"Cohere\", \"Company B\": \"CC\", \"pct_a_restricted_if_b_restricted\": 98.2, \"text_color\": true}, {\"Company A\": \"Cohere\", \"Company B\": \"Cohere\", \"pct_a_restricted_if_b_restricted\": \"--\", \"text_color\": false}, {\"Company A\": \"Cohere\", \"Company B\": \"F. Anthr\", \"pct_a_restricted_if_b_restricted\": 100.0, \"text_color\": true}, {\"Company A\": \"Cohere\", \"Company B\": \"Google\", \"pct_a_restricted_if_b_restricted\": 98.2, \"text_color\": true}, {\"Company A\": \"Cohere\", \"Company B\": \"IA\", \"pct_a_restricted_if_b_restricted\": 50.0, \"text_color\": true}, {\"Company A\": \"Cohere\", \"Company B\": \"Meta\", \"pct_a_restricted_if_b_restricted\": 58.9, \"text_color\": true}, {\"Company A\": \"Cohere\", \"Company B\": \"OpenAI\", \"pct_a_restricted_if_b_restricted\": 100.0, \"text_color\": true}, {\"Company A\": \"Cohere\", \"Company B\": \"Search\", \"pct_a_restricted_if_b_restricted\": 21.4, \"text_color\": true}, {\"Company A\": \"F. Anthr\", \"Company B\": \"Anthr\", \"pct_a_restricted_if_b_restricted\": 95.6, \"text_color\": true}, {\"Company A\": \"F. Anthr\", \"Company B\": \"CC\", \"pct_a_restricted_if_b_restricted\": 95.6, \"text_color\": true}, {\"Company A\": \"F. Anthr\", \"Company B\": \"Cohere\", \"pct_a_restricted_if_b_restricted\": 82.4, \"text_color\": true}, {\"Company A\": \"F. Anthr\", \"Company B\": \"F. Anthr\", \"pct_a_restricted_if_b_restricted\": \"--\", \"text_color\": false}, {\"Company A\": \"F. Anthr\", \"Company B\": \"Google\", \"pct_a_restricted_if_b_restricted\": 94.1, \"text_color\": true}, {\"Company A\": \"F. Anthr\", \"Company B\": \"IA\", \"pct_a_restricted_if_b_restricted\": 45.6, \"text_color\": true}, {\"Company A\": \"F. Anthr\", \"Company B\": \"Meta\", \"pct_a_restricted_if_b_restricted\": 54.4, \"text_color\": true}, {\"Company A\": \"F. Anthr\", \"Company B\": \"OpenAI\", \"pct_a_restricted_if_b_restricted\": 98.5, \"text_color\": true}, {\"Company A\": \"F. Anthr\", \"Company B\": \"Search\", \"pct_a_restricted_if_b_restricted\": 17.6, \"text_color\": true}, {\"Company A\": \"Google\", \"Company B\": \"Anthr\", \"pct_a_restricted_if_b_restricted\": 75.4, \"text_color\": true}, {\"Company A\": \"Google\", \"Company B\": \"CC\", \"pct_a_restricted_if_b_restricted\": 75.4, \"text_color\": true}, {\"Company A\": \"Google\", \"Company B\": \"Cohere\", \"pct_a_restricted_if_b_restricted\": 46.6, \"text_color\": true}, {\"Company A\": \"Google\", \"Company B\": \"F. Anthr\", \"pct_a_restricted_if_b_restricted\": 54.2, \"text_color\": true}, {\"Company A\": \"Google\", \"Company B\": \"Google\", \"pct_a_restricted_if_b_restricted\": \"--\", \"text_color\": false}, {\"Company A\": \"Google\", \"Company B\": \"IA\", \"pct_a_restricted_if_b_restricted\": 25.4, \"text_color\": true}, {\"Company A\": \"Google\", \"Company B\": \"Meta\", \"pct_a_restricted_if_b_restricted\": 32.2, \"text_color\": true}, {\"Company A\": \"Google\", \"Company B\": \"OpenAI\", \"pct_a_restricted_if_b_restricted\": 98.3, \"text_color\": true}, {\"Company A\": \"Google\", \"Company B\": \"Search\", \"pct_a_restricted_if_b_restricted\": 10.2, \"text_color\": true}, {\"Company A\": \"IA\", \"Company B\": \"Anthr\", \"pct_a_restricted_if_b_restricted\": 64.7, \"text_color\": true}, {\"Company A\": \"IA\", \"Company B\": \"CC\", \"pct_a_restricted_if_b_restricted\": 64.7, \"text_color\": true}, {\"Company A\": \"IA\", \"Company B\": \"Cohere\", \"pct_a_restricted_if_b_restricted\": 54.9, \"text_color\": true}, {\"Company A\": \"IA\", \"Company B\": \"F. Anthr\", \"pct_a_restricted_if_b_restricted\": 60.8, \"text_color\": true}, {\"Company A\": \"IA\", \"Company B\": \"Google\", \"pct_a_restricted_if_b_restricted\": 58.8, \"text_color\": true}, {\"Company A\": \"IA\", \"Company B\": \"IA\", \"pct_a_restricted_if_b_restricted\": \"--\", \"text_color\": false}, {\"Company A\": \"IA\", \"Company B\": \"Meta\", \"pct_a_restricted_if_b_restricted\": 37.3, \"text_color\": true}, {\"Company A\": \"IA\", \"Company B\": \"OpenAI\", \"pct_a_restricted_if_b_restricted\": 68.6, \"text_color\": true}, {\"Company A\": \"IA\", \"Company B\": \"Search\", \"pct_a_restricted_if_b_restricted\": 21.6, \"text_color\": true}, {\"Company A\": \"Meta\", \"Company B\": \"Anthr\", \"pct_a_restricted_if_b_restricted\": 97.4, \"text_color\": true}, {\"Company A\": \"Meta\", \"Company B\": \"CC\", \"pct_a_restricted_if_b_restricted\": 97.4, \"text_color\": true}, {\"Company A\": \"Meta\", \"Company B\": \"Cohere\", \"pct_a_restricted_if_b_restricted\": 86.8, \"text_color\": true}, {\"Company A\": \"Meta\", \"Company B\": \"F. Anthr\", \"pct_a_restricted_if_b_restricted\": 97.4, \"text_color\": true}, {\"Company A\": \"Meta\", \"Company B\": \"Google\", \"pct_a_restricted_if_b_restricted\": 100.0, \"text_color\": true}, {\"Company A\": \"Meta\", \"Company B\": \"IA\", \"pct_a_restricted_if_b_restricted\": 50.0, \"text_color\": true}, {\"Company A\": \"Meta\", \"Company B\": \"Meta\", \"pct_a_restricted_if_b_restricted\": \"--\", \"text_color\": false}, {\"Company A\": \"Meta\", \"Company B\": \"OpenAI\", \"pct_a_restricted_if_b_restricted\": 97.4, \"text_color\": true}, {\"Company A\": \"Meta\", \"Company B\": \"Search\", \"pct_a_restricted_if_b_restricted\": 31.6, \"text_color\": true}, {\"Company A\": \"OpenAI\", \"Company B\": \"Anthr\", \"pct_a_restricted_if_b_restricted\": 51.2, \"text_color\": true}, {\"Company A\": \"OpenAI\", \"Company B\": \"CC\", \"pct_a_restricted_if_b_restricted\": 51.2, \"text_color\": true}, {\"Company A\": \"OpenAI\", \"Company B\": \"Cohere\", \"pct_a_restricted_if_b_restricted\": 19.1, \"text_color\": true}, {\"Company A\": \"OpenAI\", \"Company B\": \"F. Anthr\", \"pct_a_restricted_if_b_restricted\": 22.9, \"text_color\": true}, {\"Company A\": \"OpenAI\", \"Company B\": \"Google\", \"pct_a_restricted_if_b_restricted\": 39.6, \"text_color\": true}, {\"Company A\": \"OpenAI\", \"Company B\": \"IA\", \"pct_a_restricted_if_b_restricted\": 11.9, \"text_color\": true}, {\"Company A\": \"OpenAI\", \"Company B\": \"Meta\", \"pct_a_restricted_if_b_restricted\": 12.6, \"text_color\": true}, {\"Company A\": \"OpenAI\", \"Company B\": \"OpenAI\", \"pct_a_restricted_if_b_restricted\": \"--\", \"text_color\": false}, {\"Company A\": \"OpenAI\", \"Company B\": \"Search\", \"pct_a_restricted_if_b_restricted\": 4.1, \"text_color\": false}, {\"Company A\": \"Search\", \"Company B\": \"Anthr\", \"pct_a_restricted_if_b_restricted\": 100.0, \"text_color\": true}, {\"Company A\": \"Search\", \"Company B\": \"CC\", \"pct_a_restricted_if_b_restricted\": 100.0, \"text_color\": true}, {\"Company A\": \"Search\", \"Company B\": \"Cohere\", \"pct_a_restricted_if_b_restricted\": 100.0, \"text_color\": true}, {\"Company A\": \"Search\", \"Company B\": \"F. Anthr\", \"pct_a_restricted_if_b_restricted\": 100.0, \"text_color\": true}, {\"Company A\": \"Search\", \"Company B\": \"Google\", \"pct_a_restricted_if_b_restricted\": 100.0, \"text_color\": true}, {\"Company A\": \"Search\", \"Company B\": \"IA\", \"pct_a_restricted_if_b_restricted\": 91.7, \"text_color\": true}, {\"Company A\": \"Search\", \"Company B\": \"Meta\", \"pct_a_restricted_if_b_restricted\": 100.0, \"text_color\": true}, {\"Company A\": \"Search\", \"Company B\": \"OpenAI\", \"pct_a_restricted_if_b_restricted\": 100.0, \"text_color\": true}, {\"Company A\": \"Search\", \"Company B\": \"Search\", \"pct_a_restricted_if_b_restricted\": \"--\", \"text_color\": false}]}}, {\"mode\": \"vega-lite\"});\n",
       "</script>"
      ],
      "text/plain": [
       "alt.LayerChart(...)"
      ]
     },
     "execution_count": 33,
     "metadata": {},
     "output_type": "execute_result"
    }
   ],
   "source": [
    "company_to_company_restrictions(url_robots_summary_head, ALL_COMPANIES_TO_TRACK, width=800, height=400)"
   ]
  },
  {
   "cell_type": "code",
   "execution_count": null,
   "id": "4f7c2a06-c294-40e2-9a49-86a9633269ba",
   "metadata": {},
   "outputs": [],
   "source": []
  }
 ],
 "metadata": {
  "kernelspec": {
   "display_name": "Python 3 (ipykernel)",
   "language": "python",
   "name": "python3"
  },
  "language_info": {
   "codemirror_mode": {
    "name": "ipython",
    "version": 3
   },
   "file_extension": ".py",
   "mimetype": "text/x-python",
   "name": "python",
   "nbconvert_exporter": "python",
   "pygments_lexer": "ipython3",
   "version": "3.8.9"
  },
  "widgets": {
   "application/vnd.jupyter.widget-state+json": {
    "state": {
     "0a7c669ac595445ca55920dfaae9292f": {
      "model_module": "@jupyter-widgets/controls",
      "model_module_version": "2.0.0",
      "model_name": "HBoxModel",
      "state": {
       "children": [
        "IPY_MODEL_8a4006cde43147adaad832934368c891",
        "IPY_MODEL_776107acd4844ae49950495e08033889",
        "IPY_MODEL_14f602c979a242eda8784d11053c6bfd"
       ],
       "layout": "IPY_MODEL_574f581eef354cb8a7ffef1bd9e069dc"
      }
     },
     "14f602c979a242eda8784d11053c6bfd": {
      "model_module": "@jupyter-widgets/controls",
      "model_module_version": "2.0.0",
      "model_name": "HTMLModel",
      "state": {
       "layout": "IPY_MODEL_39fec2e6e26c489598156c60b5c363a6",
       "style": "IPY_MODEL_204701b3b0ac4d4da7ef410dfc0b6326",
       "value": " 100000/100000 [03:17&lt;00:00, 506.70it/s]"
      }
     },
     "204701b3b0ac4d4da7ef410dfc0b6326": {
      "model_module": "@jupyter-widgets/controls",
      "model_module_version": "2.0.0",
      "model_name": "HTMLStyleModel",
      "state": {
       "description_width": "",
       "font_size": null,
       "text_color": null
      }
     },
     "30d6af9be7174ad39772d08236afc280": {
      "model_module": "@jupyter-widgets/base",
      "model_module_version": "2.0.0",
      "model_name": "LayoutModel",
      "state": {}
     },
     "39fec2e6e26c489598156c60b5c363a6": {
      "model_module": "@jupyter-widgets/base",
      "model_module_version": "2.0.0",
      "model_name": "LayoutModel",
      "state": {}
     },
     "44ba7e8e43fe4e5d9b37ea22ea2ebc89": {
      "model_module": "@jupyter-widgets/controls",
      "model_module_version": "2.0.0",
      "model_name": "HBoxModel",
      "state": {
       "children": [
        "IPY_MODEL_53d16c8ccbab42ab818d85f3481dc45a",
        "IPY_MODEL_aaa177813ccf4684840233ea53568fb2",
        "IPY_MODEL_cf5fe07c66904edeadc6671cad2e2b3d"
       ],
       "layout": "IPY_MODEL_c576ea5755c04b81b2fd835cd7a043de"
      }
     },
     "4d7b3fa5647d45b3b47b4b2d6933865d": {
      "model_module": "@jupyter-widgets/controls",
      "model_module_version": "2.0.0",
      "model_name": "HTMLStyleModel",
      "state": {
       "description_width": "",
       "font_size": null,
       "text_color": null
      }
     },
     "53d16c8ccbab42ab818d85f3481dc45a": {
      "model_module": "@jupyter-widgets/controls",
      "model_module_version": "2.0.0",
      "model_name": "HTMLModel",
      "state": {
       "layout": "IPY_MODEL_9ee62777d28842ea80d5e20a3b5d81cd",
       "style": "IPY_MODEL_4d7b3fa5647d45b3b47b4b2d6933865d",
       "value": "100%"
      }
     },
     "574f581eef354cb8a7ffef1bd9e069dc": {
      "model_module": "@jupyter-widgets/base",
      "model_module_version": "2.0.0",
      "model_name": "LayoutModel",
      "state": {}
     },
     "590e0a63eb96406d8bbd5714e5d79f16": {
      "model_module": "@jupyter-widgets/base",
      "model_module_version": "2.0.0",
      "model_name": "LayoutModel",
      "state": {}
     },
     "73fc144b590b4a21961a9c1c1155cb91": {
      "model_module": "@jupyter-widgets/base",
      "model_module_version": "2.0.0",
      "model_name": "LayoutModel",
      "state": {}
     },
     "776107acd4844ae49950495e08033889": {
      "model_module": "@jupyter-widgets/controls",
      "model_module_version": "2.0.0",
      "model_name": "FloatProgressModel",
      "state": {
       "bar_style": "success",
       "layout": "IPY_MODEL_30d6af9be7174ad39772d08236afc280",
       "max": 100000,
       "style": "IPY_MODEL_fbc598ab7d3440028c1d29a19ea854f6",
       "value": 100000
      }
     },
     "7c281c1881704eb3abcb04455876fc29": {
      "model_module": "@jupyter-widgets/controls",
      "model_module_version": "2.0.0",
      "model_name": "HTMLStyleModel",
      "state": {
       "description_width": "",
       "font_size": null,
       "text_color": null
      }
     },
     "8a4006cde43147adaad832934368c891": {
      "model_module": "@jupyter-widgets/controls",
      "model_module_version": "2.0.0",
      "model_name": "HTMLModel",
      "state": {
       "layout": "IPY_MODEL_73fc144b590b4a21961a9c1c1155cb91",
       "style": "IPY_MODEL_7c281c1881704eb3abcb04455876fc29",
       "value": "100%"
      }
     },
     "9bed7efc937b4647960d61c9aa800944": {
      "model_module": "@jupyter-widgets/base",
      "model_module_version": "2.0.0",
      "model_name": "LayoutModel",
      "state": {}
     },
     "9ee62777d28842ea80d5e20a3b5d81cd": {
      "model_module": "@jupyter-widgets/base",
      "model_module_version": "2.0.0",
      "model_name": "LayoutModel",
      "state": {}
     },
     "aaa177813ccf4684840233ea53568fb2": {
      "model_module": "@jupyter-widgets/controls",
      "model_module_version": "2.0.0",
      "model_name": "FloatProgressModel",
      "state": {
       "bar_style": "success",
       "layout": "IPY_MODEL_9bed7efc937b4647960d61c9aa800944",
       "max": 200,
       "style": "IPY_MODEL_c59b0c339d2f4a12882b2b7aa22a64c0",
       "value": 200
      }
     },
     "c576ea5755c04b81b2fd835cd7a043de": {
      "model_module": "@jupyter-widgets/base",
      "model_module_version": "2.0.0",
      "model_name": "LayoutModel",
      "state": {}
     },
     "c59b0c339d2f4a12882b2b7aa22a64c0": {
      "model_module": "@jupyter-widgets/controls",
      "model_module_version": "2.0.0",
      "model_name": "ProgressStyleModel",
      "state": {
       "description_width": ""
      }
     },
     "cf5fe07c66904edeadc6671cad2e2b3d": {
      "model_module": "@jupyter-widgets/controls",
      "model_module_version": "2.0.0",
      "model_name": "HTMLModel",
      "state": {
       "layout": "IPY_MODEL_590e0a63eb96406d8bbd5714e5d79f16",
       "style": "IPY_MODEL_eb4571d286e94d868d40e5d1a2823f7e",
       "value": " 200/200 [00:07&lt;00:00, 25.88it/s]"
      }
     },
     "eb4571d286e94d868d40e5d1a2823f7e": {
      "model_module": "@jupyter-widgets/controls",
      "model_module_version": "2.0.0",
      "model_name": "HTMLStyleModel",
      "state": {
       "description_width": "",
       "font_size": null,
       "text_color": null
      }
     },
     "fbc598ab7d3440028c1d29a19ea854f6": {
      "model_module": "@jupyter-widgets/controls",
      "model_module_version": "2.0.0",
      "model_name": "ProgressStyleModel",
      "state": {
       "description_width": ""
      }
     }
    },
    "version_major": 2,
    "version_minor": 0
   }
  }
 },
 "nbformat": 4,
 "nbformat_minor": 5
}
