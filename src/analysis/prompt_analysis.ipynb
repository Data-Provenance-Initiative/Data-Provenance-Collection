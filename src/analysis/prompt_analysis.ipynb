{
 "cells": [
  {
   "cell_type": "code",
   "execution_count": 1,
   "metadata": {},
   "outputs": [
    {
     "ename": "ModuleNotFoundError",
     "evalue": "No module named 'pandas'",
     "output_type": "error",
     "traceback": [
      "\u001b[0;31m---------------------------------------------------------------------------\u001b[0m",
      "\u001b[0;31mModuleNotFoundError\u001b[0m                       Traceback (most recent call last)",
      "Cell \u001b[0;32mIn[1], line 1\u001b[0m\n\u001b[0;32m----> 1\u001b[0m \u001b[38;5;28;01mimport\u001b[39;00m \u001b[38;5;21;01mpandas\u001b[39;00m \u001b[38;5;28;01mas\u001b[39;00m \u001b[38;5;21;01mpd\u001b[39;00m\n\u001b[1;32m      2\u001b[0m \u001b[38;5;28;01mimport\u001b[39;00m \u001b[38;5;21;01mmatplotlib\u001b[39;00m\u001b[38;5;21;01m.\u001b[39;00m\u001b[38;5;21;01mpyplot\u001b[39;00m \u001b[38;5;28;01mas\u001b[39;00m \u001b[38;5;21;01mplt\u001b[39;00m\n\u001b[1;32m      3\u001b[0m \u001b[38;5;28;01mimport\u001b[39;00m \u001b[38;5;21;01mast\u001b[39;00m\n",
      "\u001b[0;31mModuleNotFoundError\u001b[0m: No module named 'pandas'"
     ]
    }
   ],
   "source": [
    "import pandas as pd\n",
    "import matplotlib.pyplot as plt\n",
    "import ast\n",
    "\n",
    "# Load the provided CSV file\n",
    "file_path = 'src/analysis/wildchat_analysis_results.csv'\n",
    "data = pd.read_csv(file_path)\n",
    "\n",
    "# Define a function to check if a string represents a list\n",
    "def is_list(x):\n",
    "    try:\n",
    "        return isinstance(ast.literal_eval(x), list)\n",
    "    except:\n",
    "        return False\n",
    "\n",
    "# Apply the function to both columns\n",
    "domain_is_list = data['Content Domain'].apply(is_list)\n",
    "service_is_list = data['Types of Service'].apply(is_list)\n",
    "\n",
    "# Extract rows with lists and unpack the lists into individual rows\n",
    "expanded_data = pd.DataFrame(columns=data.columns)\n",
    "\n",
    "# Function to unpack rows with lists into separate rows\n",
    "def unpack_rows(row):\n",
    "    domains = ast.literal_eval(row['Content Domain']) if is_list(row['Content Domain']) else [row['Content Domain']]\n",
    "    services = ast.literal_eval(row['Types of Service']) if is_list(row['Types of Service']) else [row['Types of Service']]\n",
    "    \n",
    "    for domain in domains:\n",
    "        for service in services:\n",
    "            new_row = row.copy()\n",
    "            new_row['Content Domain'] = domain\n",
    "            new_row['Types of Service'] = service\n",
    "            global expanded_data\n",
    "            expanded_data = expanded_data.append(new_row, ignore_index=True)\n",
    "\n",
    "# Apply the unpacking function to the entire dataframe\n",
    "data.apply(unpack_rows, axis=1)\n",
    "\n",
    "# Append the expanded data to the original data\n",
    "data_expanded = pd.concat([data[~domain_is_list & ~service_is_list], expanded_data])\n",
    "\n",
    "\n"
   ]
  },
  {
   "cell_type": "code",
   "execution_count": null,
   "metadata": {},
   "outputs": [],
   "source": [
    "# Plot 1: Domain Distribution\n",
    "plt.figure(figsize=(10, 6))\n",
    "domain_counts = data_expanded['Content Domain'].value_counts()\n",
    "domain_counts.plot(kind='bar', color='skyblue')\n",
    "plt.title('Domain Distribution')\n",
    "plt.xlabel('Content Domain')\n",
    "plt.ylabel('Frequency')\n",
    "plt.xticks(rotation=45)\n",
    "plt.tight_layout()\n",
    "plt.show()\n",
    "\n"
   ]
  },
  {
   "cell_type": "code",
   "execution_count": null,
   "metadata": {},
   "outputs": [],
   "source": [
    "# Plot 2: Service Distribution\n",
    "plt.figure(figsize=(10, 6))\n",
    "service_counts = data_expanded['Types of Service'].value_counts()\n",
    "service_counts.plot(kind='bar', color='lightgreen')\n",
    "plt.title('Service Distribution')\n",
    "plt.xlabel('Types of Service')\n",
    "plt.ylabel('Frequency')\n",
    "plt.xticks(rotation=45)\n",
    "plt.tight_layout()\n",
    "plt.show()\n",
    "\n"
   ]
  },
  {
   "cell_type": "code",
   "execution_count": null,
   "metadata": {},
   "outputs": [],
   "source": [
    "# Plot 3: Model Usage\n",
    "plt.figure(figsize=(10, 6))\n",
    "model_counts = data_expanded['WildChat Model'].value_counts()\n",
    "model_counts.plot(kind='bar', color='salmon')\n",
    "plt.title('Model Usage')\n",
    "plt.xlabel('WildChat Model')\n",
    "plt.ylabel('Frequency')\n",
    "plt.xticks(rotation=45)\n",
    "plt.tight_layout()\n",
    "plt.show()"
   ]
  }
 ],
 "metadata": {
  "kernelspec": {
   "display_name": "Python 3",
   "language": "python",
   "name": "python3"
  },
  "language_info": {
   "codemirror_mode": {
    "name": "ipython",
    "version": 3
   },
   "file_extension": ".py",
   "mimetype": "text/x-python",
   "name": "python",
   "nbconvert_exporter": "python",
   "pygments_lexer": "ipython3",
   "version": "3.12.1"
  }
 },
 "nbformat": 4,
 "nbformat_minor": 2
}
