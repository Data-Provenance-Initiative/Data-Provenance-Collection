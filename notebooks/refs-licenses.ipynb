{
 "cells": [
  {
   "cell_type": "code",
   "execution_count": null,
   "id": "1937b851-b7a2-4b52-adae-a4f32552376b",
   "metadata": {},
   "outputs": [],
   "source": [
    "import os\n",
    "import json\n",
    "\n",
    "import numpy as np\n",
    "import pandas as pd\n",
    "\n",
    "import utils as ut"
   ]
  },
  {
   "cell_type": "code",
   "execution_count": null,
   "id": "af21738b-828d-4f9c-94fd-712f092dc766",
   "metadata": {},
   "outputs": [],
   "source": [
    "os.chdir(os.path.expanduser('~/github/Data-Provenance-Collection'))"
   ]
  },
  {
   "cell_type": "markdown",
   "id": "8c2c05ed-0cfd-42d8-82f4-79461080f91c",
   "metadata": {},
   "source": [
    "# Prepare data"
   ]
  },
  {
   "cell_type": "markdown",
   "id": "0784d801-73b6-4b53-8188-1e9fd496574f",
   "metadata": {},
   "source": [
    "## List of datasets"
   ]
  },
  {
   "cell_type": "code",
   "execution_count": null,
   "id": "56769fb1-1631-46e6-af15-5b1196ba4fa5",
   "metadata": {},
   "outputs": [],
   "source": [
    "dat = pd.read_csv('notebooks/papers.csv') \\\n",
    "    .rename({'collection': 'Collection', 'cites': 'Cite'}, axis=1) \\\n",
    "    .drop('modality', axis=1) \\\n",
    "    .set_index('Collection')\n",
    "\n",
    "dat['Cite'] = dat['Cite'].fillna('')"
   ]
  },
  {
   "cell_type": "code",
   "execution_count": null,
   "id": "7508391f-367d-4a26-ae00-fbe06fd5f699",
   "metadata": {},
   "outputs": [],
   "source": [
    "files = [y for x in dat['summary_keys'].str.split('|').tolist() for y in x]\n",
    "\n",
    "assert set(files) <= set([\n",
    "    os.path.splitext(f)[0]\n",
    "    for f in os.listdir('data_summaries')\n",
    "    if not f.startswith('_template')\n",
    "])"
   ]
  },
  {
   "cell_type": "code",
   "execution_count": null,
   "id": "949fe910-4d04-47ff-b215-a5a7f32d76ee",
   "metadata": {},
   "outputs": [],
   "source": [
    "tmp = []\n",
    "short_names = pd.DataFrame(dat['summary_keys'].str.split('|')).to_records().tolist()\n",
    "for short, keys in short_names:\n",
    "    for key in keys:\n",
    "        tmp += [(short, key)]\n",
    "short_names = pd.DataFrame(tmp, columns=['short_name', 'summary_key']).set_index('summary_key')"
   ]
  },
  {
   "cell_type": "markdown",
   "id": "6b9f63d4-8588-43c1-90af-dbe5bc65f2e8",
   "metadata": {},
   "source": [
    "## Dimension data"
   ]
  },
  {
   "cell_type": "code",
   "execution_count": null,
   "id": "ddabc229-c3cf-4e19-8257-9c7642c6f1c8",
   "metadata": {},
   "outputs": [],
   "source": [
    "summaries = {}\n",
    "for file in os.listdir('data_summaries'):\n",
    "    if file.startswith('_template'):\n",
    "        continue\n",
    "    \n",
    "    with open(os.path.join('data_summaries', file), 'rt') as f:\n",
    "        summaries[file.split('.')[0]] = json.load(f)"
   ]
  },
  {
   "cell_type": "markdown",
   "id": "42d2bce0-f790-42bd-a420-ed3fde6efd1d",
   "metadata": {},
   "source": [
    "# Make tables"
   ]
  },
  {
   "cell_type": "code",
   "execution_count": null,
   "id": "34659407-729b-4c53-87d3-efdce68c6e1d",
   "metadata": {},
   "outputs": [],
   "source": [
    "licenses = {}\n",
    "for k in summaries.keys():\n",
    "    for ds in summaries[k].keys():\n",
    "        for lic in summaries[k][ds]['Licenses']:\n",
    "            licenses[k] = licenses.get(k, []) + [lic['License']]\n",
    "licenses = pd.Series({k : list(set(v)) for k, v in licenses.items()})\n",
    "\n",
    "tmp = short_names.copy()\n",
    "tmp['licenses'] = licenses\n",
    "dat['License'] = tmp.groupby('short_name')['licenses'].apply(lambda s: list(set([y for x in s for y in x])))\n",
    "\n",
    "dat['License'] = dat['License'].apply(lambda s: [v for v in s if v != 'OpenAI' and v != 'OANC'])\n",
    "license_table = dat[['License', 'Cite']].copy()\n",
    "\n",
    "license_table['License'] = license_table['License'].apply(lambda s: [v for v in s if v != 'OpenAI'])\n",
    "license_table['License'] = license_table['License'].apply(lambda s: [v if v != 'Academic Research Purposes Only' else 'Academic Only' for v in s])\n",
    "license_table['License'] = license_table['License'].apply(lambda s: s if 'Various' not in s else ['Various'])\n",
    "license_table['License'] = license_table['License'].apply(lambda s: s if len(s) > 0 else ['Unspecified'])\n",
    "license_table['License'] = license_table['License'].apply(lambda s: s if len(s) <= 3 else ['Various'])\n",
    "license_table['License'] = license_table['License'].str.join(', ')\n",
    "license_table.rename({'License': 'Licenses'}, axis=1, inplace=True)\n",
    "\n",
    "license_table['Cite'] = license_table['Cite'].apply(lambda s: r'\\cite{' + s.replace('|', ',') + '}')\n",
    "license_table.loc[license_table['Cite'] == r'\\cite{}', 'Cite'] = '--'"
   ]
  },
  {
   "cell_type": "code",
   "execution_count": null,
   "id": "3abd2b9d-b83f-4c68-a24b-3787f13caec6",
   "metadata": {
    "scrolled": true
   },
   "outputs": [],
   "source": [
    "kwargs = {\n",
    "    'environment': 'longtable',\n",
    "    \n",
    "    'label': 'tab:licenses',\n",
    "    'column_format': 'l|p{5cm}|p{5cm}',\n",
    "    \n",
    "    'caption': (r'''\n",
    "    \\textbf{References and licenses} for the dataset collections presented in this paper. Collections containing material under more than three distinct licenses are marked as having ''Various`` licenses, and we refer readers to our raw data for the full details.\n",
    "    '''.strip(), r'\\textbf{References and licenses}'),\n",
    "    \n",
    "    'hrules': True,\n",
    "    'convert_css': True,\n",
    "}\n",
    "\n",
    "latex = license_table \\\n",
    "    .sort_index() \\\n",
    "    .reset_index() \\\n",
    "    .style \\\n",
    "    .hide() \\\n",
    "    .to_latex(**kwargs)\n",
    "\n",
    "print(latex)"
   ]
  },
  {
   "cell_type": "code",
   "execution_count": null,
   "id": "aa945fa4-75d7-4b50-aeb5-52e126e219e7",
   "metadata": {},
   "outputs": [],
   "source": []
  }
 ],
 "metadata": {
  "kernelspec": {
   "display_name": "DPC",
   "language": "python",
   "name": "pdc"
  },
  "language_info": {
   "codemirror_mode": {
    "name": "ipython",
    "version": 3
   },
   "file_extension": ".py",
   "mimetype": "text/x-python",
   "name": "python",
   "nbconvert_exporter": "python",
   "pygments_lexer": "ipython3",
   "version": "3.10.14"
  },
  "widgets": {
   "application/vnd.jupyter.widget-state+json": {
    "state": {},
    "version_major": 2,
    "version_minor": 0
   }
  }
 },
 "nbformat": 4,
 "nbformat_minor": 5
}
