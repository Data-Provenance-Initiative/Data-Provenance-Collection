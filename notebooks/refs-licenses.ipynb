{
 "cells": [
  {
   "cell_type": "markdown",
   "id": "8095d4af-c903-456e-8780-dc39917c963d",
   "metadata": {},
   "source": [
    "## After paste into doc\n",
    "Formatting tweaks still needed after pasting these tables into the LaTeX doc:\n",
    "* Edit the subsequent-pages captions. Pandas defaults to the full caption, which is too long, and doesn't let you change it."
   ]
  },
  {
   "cell_type": "code",
   "execution_count": 1,
   "id": "1937b851-b7a2-4b52-adae-a4f32552376b",
   "metadata": {},
   "outputs": [],
   "source": [
    "import os\n",
    "import json\n",
    "\n",
    "import numpy as np\n",
    "import pandas as pd\n",
    "\n",
    "import utils as ut"
   ]
  },
  {
   "cell_type": "code",
   "execution_count": 2,
   "id": "af21738b-828d-4f9c-94fd-712f092dc766",
   "metadata": {},
   "outputs": [],
   "source": [
    "os.chdir(os.path.expanduser('~/github/Data-Provenance-Collection'))"
   ]
  },
  {
   "cell_type": "markdown",
   "id": "8c2c05ed-0cfd-42d8-82f4-79461080f91c",
   "metadata": {},
   "source": [
    "# Prepare data"
   ]
  },
  {
   "cell_type": "markdown",
   "id": "0784d801-73b6-4b53-8188-1e9fd496574f",
   "metadata": {},
   "source": [
    "## List of datasets"
   ]
  },
  {
   "cell_type": "code",
   "execution_count": 3,
   "id": "56769fb1-1631-46e6-af15-5b1196ba4fa5",
   "metadata": {},
   "outputs": [],
   "source": [
    "dat = pd.read_csv('notebooks/papers.csv') \\\n",
    "    .rename({'collection': 'Collection', 'cites': 'Cite'}, axis=1) \\\n",
    "    .drop('modality', axis=1) \\\n",
    "    .set_index('Collection')\n",
    "\n",
    "dat['Cite'] = dat['Cite'].fillna('')"
   ]
  },
  {
   "cell_type": "code",
   "execution_count": 4,
   "id": "7508391f-367d-4a26-ae00-fbe06fd5f699",
   "metadata": {},
   "outputs": [],
   "source": [
    "files = [y for x in dat['summary_keys'].str.split('|').tolist() for y in x]\n",
    "\n",
    "assert set(files) <= set([\n",
    "    os.path.splitext(f)[0]\n",
    "    for f in os.listdir('data_summaries')\n",
    "    if not f.startswith('_template')\n",
    "])"
   ]
  },
  {
   "cell_type": "code",
   "execution_count": 5,
   "id": "949fe910-4d04-47ff-b215-a5a7f32d76ee",
   "metadata": {},
   "outputs": [],
   "source": [
    "tmp = []\n",
    "short_names = pd.DataFrame(dat['summary_keys'].str.split('|')).to_records().tolist()\n",
    "for short, keys in short_names:\n",
    "    for key in keys:\n",
    "        tmp += [(short, key)]\n",
    "short_names = pd.DataFrame(tmp, columns=['short_name', 'summary_key']).set_index('summary_key')"
   ]
  },
  {
   "cell_type": "markdown",
   "id": "6b9f63d4-8588-43c1-90af-dbe5bc65f2e8",
   "metadata": {},
   "source": [
    "## Dimension data"
   ]
  },
  {
   "cell_type": "code",
   "execution_count": 6,
   "id": "87523fb2-3c74-4f78-ab1e-972b0332c3a3",
   "metadata": {},
   "outputs": [],
   "source": [
    "with open('constants/license_classes.json', 'rt') as f:\n",
    "    license_classes = json.load(f)\n",
    "    license_classes = {k : v[0] for k, v in license_classes.items()}\n",
    "    license_classes['Custom'] = 'Unspecified'"
   ]
  },
  {
   "cell_type": "code",
   "execution_count": 7,
   "id": "ddabc229-c3cf-4e19-8257-9c7642c6f1c8",
   "metadata": {},
   "outputs": [],
   "source": [
    "summaries = {}\n",
    "for file in os.listdir('data_summaries'):\n",
    "    if file.startswith('_template'):\n",
    "        continue\n",
    "    \n",
    "    with open(os.path.join('data_summaries', file), 'rt') as f:\n",
    "        summaries[file.split('.')[0]] = json.load(f)"
   ]
  },
  {
   "cell_type": "markdown",
   "id": "42d2bce0-f790-42bd-a420-ed3fde6efd1d",
   "metadata": {},
   "source": [
    "# Make tables"
   ]
  },
  {
   "cell_type": "code",
   "execution_count": 8,
   "id": "34659407-729b-4c53-87d3-efdce68c6e1d",
   "metadata": {},
   "outputs": [],
   "source": [
    "licenses = {}\n",
    "for k in summaries.keys():\n",
    "    for ds in summaries[k].keys():\n",
    "        for lic in summaries[k][ds]['Licenses']:\n",
    "            licenses[k] = licenses.get(k, []) + [lic['License']]\n",
    "licenses = pd.Series({k : list(set(v)) for k, v in licenses.items()})\n",
    "\n",
    "tmp = short_names.copy()\n",
    "tmp['licenses'] = licenses\n",
    "dat['License'] = tmp.groupby('short_name')['licenses'].apply(lambda s: list(set([y for x in s for y in x])))\n",
    "\n",
    "dat['License'] = dat['License'].apply(lambda s: [v for v in s if v != 'OpenAI' and v != 'OANC'])\n",
    "license_table = dat[['License', 'Cite']].copy()\n",
    "\n",
    "license_table['License'] = license_table['License'].apply(lambda s: [v for v in s if v != 'OpenAI'])\n",
    "license_table['License'] = license_table['License'].apply(lambda s: [v if v != 'Academic Research Purposes Only' else 'Academic Only' for v in s])\n",
    "license_table['License'] = license_table['License'].apply(lambda s: s if 'Various' not in s else ['Various'])\n",
    "license_table['License'] = license_table['License'].apply(lambda s: s if len(s) > 0 else ['Unspecified'])\n",
    "license_table['License'] = license_table['License'].apply(lambda s: s if len(s) <= 3 else ['Various'])\n",
    "license_table['License'] = license_table['License'].str.join(', ')\n",
    "license_table.rename({'License': 'Licenses'}, axis=1, inplace=True)\n",
    "\n",
    "license_table['Cite'] = license_table['Cite'].apply(lambda s: r'\\cite{' + s.replace('|', ',') + '}')\n",
    "license_table.loc[license_table['Cite'] == r'\\cite{}', 'Cite'] = '--'"
   ]
  },
  {
   "cell_type": "code",
   "execution_count": 9,
   "id": "3abd2b9d-b83f-4c68-a24b-3787f13caec6",
   "metadata": {
    "scrolled": true
   },
   "outputs": [
    {
     "name": "stdout",
     "output_type": "stream",
     "text": [
      "\\begin{longtable}{l|p{5cm}|p{5cm}}\n",
      "\\caption[\\textbf{References and licenses}]{\\textbf{References and licenses} for the dataset collections presented in this paper. Collections containing material under more than three distinct licenses are marked as having ''Various`` licenses, and we refer readers to our raw data for the full details.} \\label{tab:licenses} \\\\\n",
      "\\toprule\n",
      "Collection & Licenses & Cite \\\\\n",
      "\\midrule\n",
      "\\endfirsthead\n",
      "\\caption[]{\\textbf{References and licenses} for the dataset collections presented in this paper. Collections containing material under more than three distinct licenses are marked as having ''Various`` licenses, and we refer readers to our raw data for the full details.} \\\\\n",
      "\\toprule\n",
      "Collection & Licenses & Cite \\\\\n",
      "\\midrule\n",
      "\\endhead\n",
      "\\midrule\n",
      "\\multicolumn{3}{r}{Continued on next page} \\\\\n",
      "\\midrule\n",
      "\\endfoot\n",
      "\\bottomrule\n",
      "\\endlastfoot\n",
      "10k Prompt Ranked & Unspecified & -- \\\\\n",
      "AgentInstr. & Unspecified, MIT License, CC BY 4.0 & \\cite{shridharALFWorldAligningText2021,yaoWebShopScalableRealWorld2023,liuAgentBenchEvaluatingLLMs2023,zengAgentTuningEnablingGeneralized2023,dengMind2WebGeneralistAgent2023} \\\\\n",
      "Aya & Apache License 2.0 & \\cite{singhAyaDatasetOpenAccess2024} \\\\\n",
      "Bactrian-X & CC BY-SA 3.0, CC BY-NC 4.0 & \\cite{liBactrianXMultilingualReplicable2023} \\\\\n",
      "COBRA Frames & BigScience OpenRAIL-M & \\cite{zhouCOBRAFramesContextual2023} \\\\\n",
      "COIG & Various & \\cite{zhangChineseOpenInstruction2023,baiCOIGCQIAQualityAll2024} \\\\\n",
      "Capybara & Various & -- \\\\\n",
      "ChatDoctor & Unspecified & \\cite{liChatDoctorMedicalChat2023} \\\\\n",
      "ChatbotArena & CC BY 4.0, CC BY-NC 4.0 & \\cite{zhengJudgingLLMasaJudgeMTBench2023} \\\\\n",
      "Cidar & CC BY-NC 4.0 & \\cite{alyafeaiCIDARCulturallyRelevant2024} \\\\\n",
      "CollectiveCognition & MIT License & -- \\\\\n",
      "Conifer & Apache License 2.0 & \\cite{sunConiferImprovingComplex2024} \\\\\n",
      "Deita 10K & Apache License 2.0, CC BY-NC 4.0 & \\cite{liuWhatMakesGood2024} \\\\\n",
      "DialogStudio & Various & \\cite{chenActionBasedConversationsDataset2021,weiAirDialogueEnvironmentGoalOriented2018,linBiToDBilingualMultiDomain2021,chawlaCaSiNoCorpusCampsite2021,heDecouplingStrategyGeneration2018,mrksicNeuralBeliefTracker2017,qianDatabaseSearchResults2022,liuDuRecDialBilingualParallel2021,elasriFramesCorpusAdding2017,quanGECOREndtoEndGenerative2019,chenSemanticallyConditionedDialog2019a,chenKETODKnowledgeEnrichedTaskOriented2022,ericKeyValueRetrievalNetworks2017,zangMultiWOZDialogueDataset2020,shalyminovFewShotDialogueGeneration2019,martinMuDoCoCorpusMultidomain2020,peskovMultiDomainGoalOrientedDialogues2019,ericMultiWOZConsolidatedMultiDomain2019,moonOpenDialKGExplainableConversational2019,rastogiScalableMultidomainConversational2020,mosigSTARSchemaGuidedDialog2020,chiuSalesBotTransitioningChitChat2022,shahBuildingConversationalAgent2018,byrneTaskmaster1RealisticDiverse2019,mrksicFullyStatisticalNeural2018,shangUnsupervisedAbstractiveMeeting2018,rameshkumarStorytellingDialogueCritical2020,fabbriConvoSummConversationSummarization2021,chenDialogSumRealLifeScenario2021,mukherjeeECTSumNewBenchmark2022,shangUnsupervisedAbstractiveMeeting2018,zhuMediaSumLargescaleMedia2021,zhongQMSumNewBenchmark2021,gliwaSAMSumCorpusHumanannotated2019,chenSummScreenDatasetAbstractive2022,feigenblatTWEETSUMMDialogSummarization2021,liEndtoEndTrainableNonCollaborative2019,dinanSecondConversationalIntelligence2019,rashkinEmpatheticOpendomainConversation2019,baiTrainingHelpfulHarmless2022,chenPLACESPromptingLanguage2023,kimProsocialDialogProsocialBackbone2022,myersConversationalScaffoldingAnalogybased2020,reddyCoQAConversationalQuestion2019,yuCoSQLConversationalTexttoSQL2019,talmorWebKnowledgeBaseAnswering2018,nanDARTOpenDomainStructured2021,nanFeTaQAFreeformTable2022,guThreeLevelsGeneralization2021,chenHybridQADatasetMultiHop2020,guptaMMQAMultidomainMultilingual2018,liMTOPComprehensiveMultilingual2021,talmorMultiModalQAComplexQuestion2021,yuSParCCrossDomainSemantic2019,iyyerSearchbasedNeuralStructured2017,yuSpiderLargeScaleHumanLabeled2019,parikhToTToControlledTableToText2020,yihValueSemanticParse2016,zhongSeq2SQLGeneratingStructured2017,pasupatCompositionalSemanticParsing2015,komeiliInternetAugmentedDialogueGeneration2022,dinanWizardWikipediaKnowledgePowered2019,hemphillATISSpokenLanguage1990,casanuevaEfficientIntentDetection2020,zhangArePretrainedTransformers2022,larsonEvaluationDatasetIntent2019,rastogiScalableMultidomainConversational2020,liuBenchmarkingNaturalLanguage2019,liuAsgardPortableArchitecture2013,coopeSpanConveRTFewshotSpan2020,couckeSnipsVoicePlatform2018,guptaSemanticParsingTask2018} \\\\\n",
      "EverythingLM & MIT License & -- \\\\\n",
      "ExpertQA & MIT License & \\cite{malaviyaExpertQAExpertCuratedQuestions2024} \\\\\n",
      "Feedback Coll. & MIT License & \\cite{kimPrometheusInducingFinegrained2024} \\\\\n",
      "Glaive Code Asst. & Apache License 2.0 & -- \\\\\n",
      "Gretel Text-to-SQL & Apache License 2.0 & -- \\\\\n",
      "HelpSteer & CC BY 4.0 & \\cite{wangHelpSteerMultiattributeHelpfulness2023} \\\\\n",
      "Indic-Instr. & Various & \\cite{galaAiravataIntroducingHindi2024} \\\\\n",
      "KIWI & CC BY-SA 4.0 & \\cite{xuKIWIDatasetKnowledgeIntensive2024} \\\\\n",
      "LMSYS-Chat-1M & LMSYS-Chat-1M Dataset License, Anthropic, Llama 2 & \\cite{zhengLMSYSChat1MLargeScaleRealWorld2024} \\\\\n",
      "Llama2-MedTuned-Instr. & CC BY-NC 4.0 & \\cite{rohanianExploringEffectivenessInstruction2023} \\\\\n",
      "LongAlign-10k & Apache License 2.0, Anthropic & \\cite{baiLongAlignRecipeLong2024} \\\\\n",
      "MathDial & CC BY-SA 4.0, MIT License & \\cite{macinaMathDialDialogueTutoring2023} \\\\\n",
      "MathInstr. & MIT License & \\cite{yueMAmmoTHBuildingMath2023} \\\\\n",
      "MedInstr. & Unspecified & \\cite{zhangAlpaCareInstructiontunedLarge2024} \\\\\n",
      "Medical Meadow & Various & \\cite{hanMedAlpacaOpenSourceCollection2023,wangCORD19COVID19Open2020,jinWhatDiseaseDoes2020,saveryQuestionDrivenSummarizationAnswers2020} \\\\\n",
      "MegaWika & CC BY-SA 4.0 & \\cite{barhamMegaWikaMillionsReports2023} \\\\\n",
      "MetaMathQA & MIT License & \\cite{yuMetaMathBootstrapYour2023} \\\\\n",
      "Nectar & Various & -- \\\\\n",
      "No Robots & CC BY-NC 4.0 & -- \\\\\n",
      "Open Asst. v2 & Apache License 2.0 & \\cite{kopfOpenAssistantConversationsDemocratizing2023} \\\\\n",
      "Open-Platypus & Various & \\cite{sawadaARBAdvancedReasoning2023,dettmersQLoRAEfficientFinetuning2023,lightmanLetVerifyStep2023a,yuReClorReadingComprehension2020,wangSciBenchEvaluatingCollegeLevel2024,luLearnExplainMultimodal2022,chenTheoremQATheoremdrivenQuestion2023} \\\\\n",
      "OpenGPT Healthcare & Unspecified, OGL 3.0 & -- \\\\\n",
      "OpenMathInstr.-1 & Apache License 2.0, Custom, MIT License & \\cite{toshniwalOpenMathInstruct1MillionMath2024} \\\\\n",
      "Orca-Math & Various & \\cite{mitraOrcaMathUnlockingPotential2024} \\\\\n",
      "PII-Masking-200k & Non Commercial & -- \\\\\n",
      "PMC-LLaMA Instr. & Unspecified, Apache License 2.0 & \\cite{wuPMCLLaMABuildingOpensource2023,jinPubMedQADatasetBiomedical2019} \\\\\n",
      "Pure-Dove & Apache License 2.0 & -- \\\\\n",
      "PygmalionAI-PIPPA & Apache License 2.0 & \\cite{goslingPIPPAPartiallySynthetic2023} \\\\\n",
      "RiddleSense & MIT License & \\cite{linRiddleSenseReasoningRiddle2021} \\\\\n",
      "SeaBench & Apache License 2.0 & \\cite{nguyenSeaLLMsLargeLanguage2023} \\\\\n",
      "SelFee & MIT License & \\cite{yeSelFeeIterativeSelfRevising2023} \\\\\n",
      "Thai Gen AI & Various & -- \\\\\n",
      "UltraChat-200k & CC BY-NC 4.0 & \\cite{dingEnhancingChatLanguage2023} \\\\\n",
      "UltraFeedback Argilla & Various & -- \\\\\n",
      "WildChat & AI2 ImpACT License - Low Risk & \\cite{zhaoWildChat1MChatGPT2023} \\\\\n",
      "\\end{longtable}\n",
      "\n"
     ]
    }
   ],
   "source": [
    "kwargs = {\n",
    "    'environment': 'longtable',\n",
    "    \n",
    "    'label': 'tab:licenses',\n",
    "    'column_format': 'l|p{5cm}|p{5cm}',\n",
    "    \n",
    "    'caption': (r'''\n",
    "    \\textbf{References and licenses} for the dataset collections presented in this paper. Collections containing material under more than three distinct licenses are marked as having ''Various`` licenses, and we refer readers to our raw data for the full details.\n",
    "    '''.strip(), r'\\textbf{References and licenses}'),\n",
    "    \n",
    "    'hrules': True,\n",
    "    'convert_css': True,\n",
    "}\n",
    "\n",
    "latex = license_table \\\n",
    "    .sort_index() \\\n",
    "    .reset_index() \\\n",
    "    .style \\\n",
    "    .hide() \\\n",
    "    .to_latex(**kwargs)\n",
    "\n",
    "print(latex)"
   ]
  },
  {
   "cell_type": "code",
   "execution_count": null,
   "id": "aa945fa4-75d7-4b50-aeb5-52e126e219e7",
   "metadata": {},
   "outputs": [],
   "source": []
  }
 ],
 "metadata": {
  "kernelspec": {
   "display_name": "DPC",
   "language": "python",
   "name": "pdc"
  },
  "language_info": {
   "codemirror_mode": {
    "name": "ipython",
    "version": 3
   },
   "file_extension": ".py",
   "mimetype": "text/x-python",
   "name": "python",
   "nbconvert_exporter": "python",
   "pygments_lexer": "ipython3",
   "version": "3.10.14"
  },
  "widgets": {
   "application/vnd.jupyter.widget-state+json": {
    "state": {},
    "version_major": 2,
    "version_minor": 0
   }
  }
 },
 "nbformat": 4,
 "nbformat_minor": 5
}
